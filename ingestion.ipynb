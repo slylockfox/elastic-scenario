{
 "cells": [
  {
   "cell_type": "code",
   "execution_count": 1,
   "id": "1d2e2456",
   "metadata": {
    "_cell_guid": "b1076dfc-b9ad-4769-8c92-a6c4dae69d19",
    "_uuid": "8f2839f25d086af736a60e9eeb907d3b93b6e0e5",
    "papermill": {
     "duration": 2.050165,
     "end_time": "2024-06-04T03:11:25.487165",
     "exception": false,
     "start_time": "2024-06-04T03:11:23.437000",
     "status": "completed"
    },
    "tags": []
   },
   "outputs": [],
   "source": [
    "import pandas as pd\n",
    "from sklearn.feature_extraction.text import TfidfVectorizer\n",
    "from sklearn.neighbors import NearestNeighbors"
   ]
  },
  {
   "cell_type": "code",
   "execution_count": 8,
   "id": "da0c3ca0-07db-4376-9ca7-cc4112c0841d",
   "metadata": {},
   "outputs": [
    {
     "name": "stdout",
     "output_type": "stream",
     "text": [
      "Category\n",
      "A    Apple, Banana, Grape\n",
      "B            Carrot, Date\n",
      "Name: Item, dtype: object\n"
     ]
    }
   ],
   "source": [
    "# Sample DataFrame\n",
    "data = {'Category': ['A', 'A', 'B', 'B', 'A'],\n",
    "        'Item': ['Apple', 'Banana', 'Carrot', 'Date', 'Grape']}\n",
    "df = pd.DataFrame(data)\n",
    "\n",
    "# String aggregation by 'Category'\n",
    "result = df.groupby('Category')['Item'].agg(lambda x: ', '.join(x))\n",
    "\n",
    "print(result)"
   ]
  },
  {
   "cell_type": "code",
   "execution_count": 29,
   "id": "c0561179",
   "metadata": {
    "papermill": {
     "duration": 11.153745,
     "end_time": "2024-06-04T03:11:36.646371",
     "exception": false,
     "start_time": "2024-06-04T03:11:25.492626",
     "status": "completed"
    },
    "tags": []
   },
   "outputs": [],
   "source": [
    "products_df = pd.read_json('meta_Sports_and_Outdoors.jsonl', lines=True, nrows=10000)\n",
    "reviews_df = pd.read_json('Sports_and_Outdoors.jsonl', lines=True, nrows=10000)\n"
   ]
  },
  {
   "cell_type": "code",
   "execution_count": 9,
   "id": "a4e4dc93-223c-4049-b5d7-0f687b96d6ea",
   "metadata": {},
   "outputs": [
    {
     "name": "stdout",
     "output_type": "stream",
     "text": [
      "Index(['main_category', 'title', 'average_rating', 'rating_number', 'features',\n",
      "       'description', 'price', 'images', 'videos', 'store', 'categories',\n",
      "       'details', 'parent_asin', 'bought_together'],\n",
      "      dtype='object')\n",
      "Index(['rating', 'title', 'text', 'images', 'asin', 'parent_asin', 'user_id',\n",
      "       'timestamp', 'helpful_vote', 'verified_purchase'],\n",
      "      dtype='object')\n"
     ]
    }
   ],
   "source": [
    "print(products_df.columns)\n",
    "print(reviews_df.columns)"
   ]
  },
  {
   "cell_type": "code",
   "execution_count": 30,
   "id": "437cc8d3",
   "metadata": {
    "papermill": {
     "duration": 0.450527,
     "end_time": "2024-06-04T03:11:37.102660",
     "exception": false,
     "start_time": "2024-06-04T03:11:36.652133",
     "status": "completed"
    },
    "tags": []
   },
   "outputs": [],
   "source": [
    "# Kết hợp dữ liệu từ hai DataFrame bằng cột category_id và id\n",
    "merged_df = pd.merge(products_df, reviews_df, left_on='parent_asin', right_on='parent_asin')\n",
    "\n",
    "# Xóa cột 'category_id' cuối cùng\n",
    "#merged_df.drop(columns=['category_id'], inplace=True)"
   ]
  },
  {
   "cell_type": "code",
   "execution_count": 34,
   "id": "e61e63fc",
   "metadata": {
    "papermill": {
     "duration": 0.013028,
     "end_time": "2024-06-04T03:11:37.120943",
     "exception": false,
     "start_time": "2024-06-04T03:11:37.107915",
     "status": "completed"
    },
    "tags": []
   },
   "outputs": [
    {
     "name": "stdout",
     "output_type": "stream",
     "text": [
      "Index(['main_category', 'title_x', 'average_rating', 'rating_number',\n",
      "       'features', 'description', 'price', 'images_x', 'videos', 'store',\n",
      "       'categories', 'details', 'parent_asin', 'bought_together', 'subtitle',\n",
      "       'author', 'rating', 'title_y', 'text', 'images_y', 'asin', 'user_id',\n",
      "       'timestamp', 'helpful_vote', 'verified_purchase'],\n",
      "      dtype='object')\n"
     ]
    }
   ],
   "source": [
    "print(merged_df.columns)\n"
   ]
  },
  {
   "cell_type": "code",
   "execution_count": 32,
   "id": "a72d5ff4",
   "metadata": {
    "collapsed": true,
    "jupyter": {
     "outputs_hidden": true
    },
    "papermill": {
     "duration": 0.020255,
     "end_time": "2024-06-04T03:11:37.146249",
     "exception": false,
     "start_time": "2024-06-04T03:11:37.125994",
     "status": "completed"
    },
    "tags": []
   },
   "outputs": [
    {
     "name": "stdout",
     "output_type": "stream",
     "text": [
      "    main_category                                            title_x  \\\n",
      "0  AMAZON FASHION  FOCO NFL Resin 11.5\" Team Logo Outdoor Garden ...   \n",
      "1     Amazon Home  Copco Freezeable Double Wall Insulated Tritan ...   \n",
      "2  AMAZON FASHION       FOCO Womens NFL Team Color Faux Fur Moccasin   \n",
      "3  AMAZON FASHION  90 Degree By Reflex High Waist Fleece Lined Le...   \n",
      "4  AMAZON FASHION  90 Degree By Reflex High Waist Fleece Lined Le...   \n",
      "\n",
      "   average_rating  rating_number  \\\n",
      "0             4.7            137   \n",
      "1             4.1            428   \n",
      "2             4.4           1236   \n",
      "3             4.4           7489   \n",
      "4             4.4           7489   \n",
      "\n",
      "                                            features  \\\n",
      "0  [11.5-Inch tall, Hand painted, Officially lice...   \n",
      "1  [GENEROUS CAPACITY: holds 18-fluid ounces of l...   \n",
      "2  [Gripped outsole, Embroidered logo, Material -...   \n",
      "3  [Pull On closure, Pocket Option. These brushed...   \n",
      "4  [Pull On closure, Pocket Option. These brushed...   \n",
      "\n",
      "                                         description  price  \\\n",
      "0                                                 []  29.99   \n",
      "1  [The Copco Double Wall Insulated Freezable Wat...  14.99   \n",
      "2                                                 []  14.03   \n",
      "3                                                 []  24.99   \n",
      "4                                                 []  24.99   \n",
      "\n",
      "                                            images_x  \\\n",
      "0  [{'thumb': 'https://m.media-amazon.com/images/...   \n",
      "1  [{'thumb': 'https://m.media-amazon.com/images/...   \n",
      "2  [{'thumb': 'https://m.media-amazon.com/images/...   \n",
      "3  [{'thumb': 'https://m.media-amazon.com/images/...   \n",
      "4  [{'thumb': 'https://m.media-amazon.com/images/...   \n",
      "\n",
      "                                              videos                store  \\\n",
      "0  [{'title': 'Close up look at this NFL team gno...                 FOCO   \n",
      "1  [{'title': 'Here's what I like & don't like: h...                Copco   \n",
      "2                                                 []                 FOCO   \n",
      "3  [{'title': '90 Degree By Reflex Squat Proof An...  90 Degree By Reflex   \n",
      "4  [{'title': '90 Degree By Reflex Squat Proof An...  90 Degree By Reflex   \n",
      "\n",
      "   ... author rating                                         title_y  \\\n",
      "0  ...    NaN      5                                             5 ☆   \n",
      "1  ...    NaN      3                                      Cold Water   \n",
      "2  ...    NaN      1                    WRONG manufacturer SIZING!!!   \n",
      "3  ...    NaN      4                                    Good Product   \n",
      "4  ...    NaN      2  Doesn't hold a candle to the CRZ Yoga leggings   \n",
      "\n",
      "                                                text images_y        asin  \\\n",
      "0                                       As described       []  B001VSFLVS   \n",
      "1  This water bottle has gel inside that you can ...       []  B07LCCDQSR   \n",
      "2  wrongly sized the large fits a size 8 foot!!! ...       []  B01MG3M1JD   \n",
      "3                 Good Product but is a little tight       []  B07QYP244Z   \n",
      "4  TLDR, the CRZ Yoga leggings are much, much bet...       []  B07R2QT49C   \n",
      "\n",
      "                        user_id               timestamp helpful_vote  \\\n",
      "0  AH7CYOTLQP66VONKM73LS3JKX7SQ 2018-11-21 19:39:26.935            0   \n",
      "1  AEICZD35OTDYVWA2KPYWN4PDZ2SA 2021-05-31 20:23:59.427            0   \n",
      "2  AEMJ2EG5ODOCYUTI54NBXZHDJGSQ 2018-01-05 07:07:17.985            4   \n",
      "3  AFDMZ4TRX3HXQQUGWAHJQTIF65BQ 2021-10-10 19:00:15.757            0   \n",
      "4  AEDTZCI4QCLKRFL5DA53JL47Z5UQ 2020-10-28 15:59:42.535            0   \n",
      "\n",
      "  verified_purchase  \n",
      "0              True  \n",
      "1             False  \n",
      "2              True  \n",
      "3              True  \n",
      "4              True  \n",
      "\n",
      "[5 rows x 25 columns]\n",
      "321\n"
     ]
    }
   ],
   "source": [
    "print(merged_df.head())\n",
    "print(len(merged_df))\n"
   ]
  },
  {
   "cell_type": "code",
   "execution_count": 36,
   "id": "169d9522-dd5a-4d25-a15f-ab584598cf72",
   "metadata": {},
   "outputs": [],
   "source": [
    "grouped_df = merged_df.groupby('parent_asin')"
   ]
  },
  {
   "cell_type": "code",
   "execution_count": null,
   "id": "14123d4a-b05e-4aa6-bf63-e3d6c422a736",
   "metadata": {
    "jupyter": {
     "source_hidden": true
    }
   },
   "outputs": [],
   "source": [
    "for parent_asin, frame in grouped_df:\n",
    "     print(f\"First 2 entries for {parent_asin!r}\")\n",
    "     print(\"------------------------\")\n",
    "     print(frame.head(2), end=\"\\n\\n\")"
   ]
  },
  {
   "cell_type": "code",
   "execution_count": 64,
   "id": "be655656-f9ac-4b84-874e-6766259c3424",
   "metadata": {
    "collapsed": true,
    "jupyter": {
     "outputs_hidden": true
    }
   },
   "outputs": [
    {
     "name": "stdout",
     "output_type": "stream",
     "text": [
      "B000069K78 B000069K78 Polar RC3 GPS Sports Watch\n",
      "[{\"user_id\":\"AEBYEWLSJLC7OEDDSRZEQWY5WAZA\",\"rating\":5}]\n",
      "B000HZGKVG B000HZGKVG Moultrie Universal Digital Timer Feeder, Pack of 1\n",
      "[{\"user_id\":\"AEK7VZMQTZU7BFZQQDYXNNJ2NMUA\",\"rating\":4}]\n",
      "B00142MD62 B00142MD62 SRAM Supercork Bicycle Bar Tape\n",
      "[{\"user_id\":\"AGCI7FAH4GL5FI65HYLKWTMFZ2CQ\",\"rating\":5}]\n",
      "B001Q3LTXC B001Q3LTXC Aquasphere Alpha Unisex Adult Swimming Fins - Lightweight Foam Unparalleled Comfort, Improves Posture, Strength, Technique, & Flexibility in Traininng & Competition\n",
      "[{\"user_id\":\"AGDLD6R6Z6WB5KNG6Z2L6LNRMLZQ\",\"rating\":4}]\n",
      "B0029VOR0M B0029VOR0M Champion Sports Exercise Medicine Balls, 8 Sizes, Leather with No-Slip Grip - Weighted Med Ball Set for Weight Training, Stability, Plyometrics, Cross Training, Core Strength - Heavy Workout Ball\n",
      "[{\"user_id\":\"AEU47A5R7NFWXCQLJMZA34AM63EA\",\"rating\":5}]\n",
      "B002BK4YJ0 B002BK4YJ0 Hunter Manufacturers Philadelphia Phillies Dog Collar & Leash Set\n",
      "[{\"user_id\":\"AEVMPQORMKIMWMBQJRKJJVXI3FIA\",\"rating\":3}]\n",
      "B0031T82NO B0031T82NO DuPont Teflon Snow and Ice Repellant, 10-Ounce\n",
      "[{\"user_id\":\"AHM2MM7EVW2A2MMLPQYA7VVKX46A\",\"rating\":4}]\n",
      "B00363PRK6 B00363PRK6 Coleman Biscayne Big & Tall Warm-Weather Sleeping Bag, 40°F Camping Sleeping Bag for Adults, No-Snag 2-Way Zipper for Ventilation with Stuff Sack Included, Fits Adults up to 6ft 4in Tall\n",
      "[{\"user_id\":\"AHS7BGK4AGICKGM7MC3LFN7MHFPA\",\"rating\":5},{\"user_id\":\"AH7CYOTLQP66VONKM73LS3JKX7SQ\",\"rating\":5}]\n",
      "B003JBK3UO B003JBK3UO Fun Express Cheerleader Pom Pom Assortment (12 Colors one of Each) School Spirit Supplies\n",
      "[{\"user_id\":\"AHTX7RVI3UUEM3ZYAOSV7POOYZBA\",\"rating\":4}]\n",
      "B003U3XLJ6 B003U3XLJ6 SHIMANO Solora 2 Piece Spinning Rod\n",
      "[{\"user_id\":\"AHSWBB6FZBEA7W7PMSO4L5SC7ERQ\",\"rating\":5}]\n",
      "B003V9XYNW B003V9XYNW Slime 10056W Bike Tube Puncture Repair Sealant, Prevent and Repair, Suitable for All Bicycles, Non-Toxic, Eco-Friendly, 16oz Bottle\n",
      "[{\"user_id\":\"AELR73N6JFQCFA77VU3S5LQAKBXQ\",\"rating\":5},{\"user_id\":\"AE5GHFQZ6IXM4QNYTLTYJO24KQZQ\",\"rating\":5}]\n",
      "B004290P7I B004290P7I MLB Chicago Cubs Silver Cubs Logo Jewelry Set\n",
      "[{\"user_id\":\"AEMYDA6DVBKCCE7ZO2ARRFGKG3LQ\",\"rating\":5}]\n",
      "B005JER2EO B005JER2EO Weaver Leather Draft Bit Tom Thumb Snaffle Mouth Stainless Steel, 6-1/2\"\n",
      "[{\"user_id\":\"AHPOHKN4PU4W3V5PGFL7AGTAD2AA\",\"rating\":5}]\n",
      "B007SRTG7G B007SRTG7G Best Husband - Hollywood Award with Gift Box\n",
      "[{\"user_id\":\"AFZBGY4GPO7VY4RWVCTDXGSSONFA\",\"rating\":5}]\n",
      "B00C6OUDX2 B00C6OUDX2 KastKing SuperPower Braided Fishing Line - Abrasion Resistant Braided Lines – Incredible Superline – Zero Stretch – Smaller Diameter – A Must-Have!\n",
      "[{\"user_id\":\"AHKDPUXQINJKOFGZRGV3CJP6GPLQ\",\"rating\":5}]\n",
      "B00EI8I4ZS B00EI8I4ZS Under Armour Dominate 24 Ounce Vacuum Insulated Stainless Steel Bottle with Flip Top Lid\n",
      "[{\"user_id\":\"AH5PMD2AOZMSO6JFWPRL44NR44EA\",\"rating\":5}]\n",
      "B00JULWJNQ B00JULWJNQ Hanes Men’s Ultimate Cotton Heavyweight Pullover Hoodie Sweatshirt\n",
      "[{\"user_id\":\"AHY55PORR7VYL72JBUYNSO6KCA5A\",\"rating\":5},{\"user_id\":\"AEUECZFYVQCQ7OFZ2SQWYAP64GJA\",\"rating\":5},{\"user_id\":\"AGV2VDBD7VXO54YXNQS4DYXBD6BA\",\"rating\":2}]\n",
      "B00KHSN08Y B00KHSN08Y Megaware - Self-Adhesive DIY Keel Guard for Fiberglass and Specific Aluminum Boats - Protects from Rocks and Oyster Beds - 9 Kit Sizes - 5 Inches Wide (12 Assorted Colors)\n",
      "[{\"user_id\":\"AGUO64P7C4QQ3NVBLJAHCGLLUCQA\",\"rating\":5}]\n",
      "B00NIGVNI6 B00NIGVNI6 Harbinger Recyclable Foam Eco Fit Exercise Mat 3/8-Inch\n",
      "[{\"user_id\":\"AHPOHKN4PU4W3V5PGFL7AGTAD2AA\",\"rating\":5}]\n",
      "B00NV6AWK8 B00NV6AWK8 Best Durability Set of 10\" Exercise Bands / Resistance Loop Bands / Fitness Bands / Leg Resistance Bands / Stretch Bands ?100% Natural Eco-Friendly Elastic Latex Band The Perfect Band for Yoga Pilates & Physical Therapy Arm Exercisers ? Resistance Band Carrying Bag? 100% Risk-Free Lifetime\n",
      "[{\"user_id\":\"AHV6QCNBJNSGLATP56JAWJ3C4G2A\",\"rating\":4}]\n",
      "B00U2T894I B00U2T894I Black Metal Strongest Motorcycle Dirt Bike Helmet Quick Release Helmets Chin Strap Buckle\n",
      "[{\"user_id\":\"AER4C2C6NBH2W6JACHHDS4EGAFAA\",\"rating\":5}]\n",
      "B00VATO7WW B00VATO7WW US Army - Regimental Insignia of the Special Forces SSI Patch Reflective Decal - Five Inch Tall Full Color Decal On 3M Reflective Material, Sticker\n",
      "[{\"user_id\":\"AE2MIK6YBTBRNZZGI5O5Z6VCMEPA\",\"rating\":5}]\n",
      "B00WHZ2VYO B00WHZ2VYO Ringside Pro Style IMF Tech Boxing Training Sparring Gloves\n",
      "[{\"user_id\":\"AG7JSIKUQPSL5AAPRDRKDNWM4U2A\",\"rating\":5}]\n",
      "B00WOKIQW8 B00WOKIQW8 Game Room Guys Set of 10 Pool Table Spots - 9 Colors…\n",
      "[{\"user_id\":\"AEXVNABLVTHK6EJVTY55T75OG2BQ\",\"rating\":5}]\n",
      "B00XLGKT10 B00XLGKT10 PRO BIKE TOOL Bike Pump with Gauge Fits Presta and Schrader - Accurate Inflation - Mini Bicycle Tire Pump for Road, Mountain and BMX Bikes, High Pressure 100 PSI, Includes Mount Kit\n",
      "[{\"user_id\":\"AFRKVKLMCTJGCLALZIHEJSZ326SA\",\"rating\":5}]\n",
      "B00XRFNMK0 B00XRFNMK0 Heritage Fortress Pistol Box\n",
      "[{\"user_id\":\"AGCF2BW7HHRCU2VLR7WDKJV5SMZA\",\"rating\":5}]\n",
      "B00YVGNF06 B00YVGNF06 Top Glides Precut Walker Tennis Ball Glides (Red)\n",
      "[{\"user_id\":\"AFS5TQHRDNYDFD7ONWOVFWTCGAKQ\",\"rating\":5}]\n",
      "B010LSTBWI B010LSTBWI Piscifun Onyx Braided Fishing Line, Superline Abrasion Resistant Braided Lines, Zero Stretch Super Strong, Low Memory, Fast Water Cutting PE Fishing Lines, 6lb-150lb\n",
      "[{\"user_id\":\"AFV22L7AEKI2LW6HMLRLUKNYVBGQ\",\"rating\":4}]\n",
      "B010V2UXAI B010V2UXAI Franklin Sports MLB Shok-Sorb Neo Batting Gloves (Pair)\n",
      "[{\"user_id\":\"AFEUJGH6HN52IP6H7ZD26KYZGEWQ\",\"rating\":5}]\n",
      "B015NPJ70U B015NPJ70U Heavy Duty Silicone Wedding Ring THICKEST & Strongest Wedding Bands w/Unique Designs- for Our Toughest Customers- Easy Exchanges\n",
      "[{\"user_id\":\"AFZUK3MTBIBEDQOPAK3OATUOUKLA\",\"rating\":3}]\n",
      "B016F1V7EK B016F1V7EK New Era MLB Black with White 59FIFTY Fitted Cap\n",
      "[{\"user_id\":\"AFC7EE4DVV3XQKMOI74ZA4CP24SQ\",\"rating\":2},{\"user_id\":\"AEULQGRRIYAEMQL4QJIABL6JCHQQ\",\"rating\":5}]\n",
      "B016IPDT08 B016IPDT08 MLS Men's Primary Logo Tee\n",
      "[{\"user_id\":\"AFTC6ZR5IKNRDG5JCPVNVMU3XV2Q\",\"rating\":5}]\n",
      "B016L2C1UM B016L2C1UM Johnson Enterprises, LLC 8 All Weather Cornhole Bags! Regulation Size and Weight! Resin Filled! 17 Colors You Pick! Handmade\n",
      "[{\"user_id\":\"AEULQGRRIYAEMQL4QJIABL6JCHQQ\",\"rating\":5}]\n",
      "B016MWUVGC B016MWUVGC NFL Molded Auto Emblem\n",
      "[{\"user_id\":\"AE6ZACCQOGZIDDWM4TZPAEKUJRHA\",\"rating\":3}]\n",
      "B016P7A4S4 B016P7A4S4 WinCraft NCAA Lanyard Key Strap\n",
      "[{\"user_id\":\"AH6LSFADKK56ZXNWKN32R2HPR2FA\",\"rating\":5}]\n",
      "B017JC4T7Q B017JC4T7Q Rico Industries NHL Spirit Watch\n",
      "[{\"user_id\":\"AHIPBTOT2RCSOLJVMU454CT4KUBQ\",\"rating\":3}]\n",
      "B019WXK6NQ B019WXK6NQ LPGmuscle EZ SQUAT Plate load\n",
      "[{\"user_id\":\"AHRBQRFH57ZCZQIDJVP2UPF3RYYA\",\"rating\":3}]\n",
      "B01BW2YYWY B01BW2YYWY Foam Roller, LuxFit Speckled Foam Rollers for Muscles 3 Year Warranty High Density Foam Roller for Physical Therapy Exercise Deep Tissue Muscle Massage. Back Leg and Body Roller (Blue, 12 Inch)\n",
      "[{\"user_id\":\"AGWL3SAUWG5YLVWHHSG57DKTGGDA\",\"rating\":4},{\"user_id\":\"AHNQS77OY2P2K353P7VOFG6W2BXA\",\"rating\":5}]\n",
      "B01CYZZEIG B01CYZZEIG Fitbit Alta Fitness Wristband\n",
      "[{\"user_id\":\"AHC4YDJ5WS3MDCNSKMJTOZRKZWPA\",\"rating\":5},{\"user_id\":\"AHESEVBKET4S4GMESHM4WDDI2GVQ\",\"rating\":4},{\"user_id\":\"AEUECZFYVQCQ7OFZ2SQWYAP64GJA\",\"rating\":5}]\n",
      "B01E3CQ9QE B01E3CQ9QE RitFit Knee Wraps (Pair) - Ideal for Squats, Powerlifting, Weightlifting, Cross Training WODs - Compression & Elastic Support - for Men & Women - Bonus Carry Case\n",
      "[{\"user_id\":\"AFJOCZGYW6QFTYEYBZXCFZNWONKQ\",\"rating\":5}]\n",
      "B01FT14T74 B01FT14T74 Tube 26 x 1.95-2.125 Schrader Valve\n",
      "[{\"user_id\":\"AFSJGCYOYHJGG2VBYGB7WLKHQ37A\",\"rating\":5}]\n",
      "B01G37LZRA B01G37LZRA Torege Men's Sports Style Polarized Sunglasses For Cycling Running Fishing Driving Golf Unbreakable Al-Mg Metal Frame Glasses M291 (Black)\n",
      "[{\"user_id\":\"AE6ZACCQOGZIDDWM4TZPAEKUJRHA\",\"rating\":2}]\n",
      "B01GL2Q29S B01GL2Q29S Tough 1 Adjustable Suckling Halter\n",
      "[{\"user_id\":\"AHUX7LYUKBTCPVVALKMMPH6JYCGQ\",\"rating\":5}]\n",
      "B01L6RE7Z4 B01L6RE7Z4 Fitbit Charge 2 Heart Rate + Fitness Wristband, Teal, Small (US Version)\n",
      "[{\"user_id\":\"AFGUPTDFAWOHHL4LZDV27ERDNOYQ\",\"rating\":4},{\"user_id\":\"AGEFLX2M37K7NSODGTH4XTOFNCVA\",\"rating\":2},{\"user_id\":\"AER5A2LR25ZV3SYFCYUWBRGRKBBA\",\"rating\":2},{\"user_id\":\"AGIYSA62BZULHNSJTMPAT5IC3MLQ\",\"rating\":5},{\"user_id\":\"AH57UQ3IE2TH2COG2LKAIHVE6OKQ\",\"rating\":1},{\"user_id\":\"AG6BHIA2AB2KECMHCYZJ7PKGDP6A\",\"rating\":5},{\"user_id\":\"AFEZH43XDG42KHOX4ZDOISHOJJMQ\",\"rating\":5},{\"user_id\":\"AHQWK4NKFDKGBECSGREIYM2F3INA\",\"rating\":5},{\"user_id\":\"AH7CYOTLQP66VONKM73LS3JKX7SQ\",\"rating\":5}]\n",
      "B01LE9N8EK B01LE9N8EK CleverMade Collapsible Cooler Bag: Insulated Leakproof 50 Can Soft Sided Portable Cooler Bag for Lunch, Grocery Shopping, Camping and Road Trips, Olive/Navy\n",
      "[{\"user_id\":\"AH3OI7WBHXTTEFBGVNBBWACDD77A\",\"rating\":5}]\n",
      "B01LZDHZYH B01LZDHZYH Nathan BigShot Water Bottle. BPA and Odor Free. 32oz / 1 Liter Water Bottle.\n",
      "[{\"user_id\":\"AHRGTIMQO47C2VLJILIDU53BQKSA\",\"rating\":5}]\n",
      "B01LZN0HUW B01LZN0HUW Swiss Safe Emergency Mylar Thermal Blankets + Bonus Gold Foil Space Blanket. Designed for NASA, Outdoors, Survival, First Aid, Orange, 4 Pack\n",
      "[{\"user_id\":\"AGWX2VRM6GYPGQM3XNL2NEYY7JAQ\",\"rating\":5},{\"user_id\":\"AHIXHVS6KVFHUFZNJXAZKMJME73Q\",\"rating\":5}]\n",
      "B01MG29K89 B01MG29K89 Allen Company Knit Gun Sock for Rifle/Shotguns with or without Scope Storage, Anti-Rust, Silicone Treated, Drawstring Closure, 52 Inches (1 & 3-pack)\n",
      "[{\"user_id\":\"AHPOHKN4PU4W3V5PGFL7AGTAD2AA\",\"rating\":5}]\n",
      "B01MYEXCHE B01MYEXCHE Kansas City Chiefs NFL Mens Legacy Sport Slide - M\n",
      "[{\"user_id\":\"AF4XAUOI5XPGWHCPOTORKBIJSRDA\",\"rating\":5},{\"user_id\":\"AE3WO256WI55XKKXTQP4VMBHTNGA\",\"rating\":5}]\n",
      "B01N06J8L7 B01N06J8L7 Innova GStar Shryke Distance Driver Golf Disc [Colors may vary]\n",
      "[{\"user_id\":\"AEDWRRZADBQDUTW7HBIWH4QSMUPQ\",\"rating\":5}]\n",
      "B01N0VSZ8W B01N0VSZ8W kuugear Pair, 6\" Plastic Cheerleading Pom Pom with Baton Handle\n",
      "[{\"user_id\":\"AF4WLLHTQLRPEZ33OJDYG23MFLKQ\",\"rating\":2}]\n",
      "B01N2YY1LA B01N2YY1LA Ringside Tsunami Water Heavy Bag\n",
      "[{\"user_id\":\"AG7JSIKUQPSL5AAPRDRKDNWM4U2A\",\"rating\":5}]\n",
      "B01N36TZNK B01N36TZNK NCAA Chrome Automobile Emblem\n",
      "[{\"user_id\":\"AET6XQ5CVN6E4N7VV2NSX6RRNQ5Q\",\"rating\":5}]\n",
      "B01NBNA6YQ B01NBNA6YQ NFL Poly-Suede Steering Wheel Cover\n",
      "[{\"user_id\":\"AENDQ4AHOGXOBTTJMOW73BUESQKA\",\"rating\":5}]\n",
      "B06ZZDC5FN B06ZZDC5FN Splatterburst Targets - 2 inch Stick & Splatter Self Adhesive Shooting Targets - Gun - Rifle - Pistol - Airsoft - BB Gun - Pellet Gun - Air Rifle - Made in USA\n",
      "[{\"user_id\":\"AG3VXRJ5OUQDF3UAEOEIIZ6Z5Z3A\",\"rating\":5}]\n",
      "B071DX6QV3 B071DX6QV3 Cestyle Womens Sleeveless Scoop Neck Flowy Loose Fit Workout Shirts Racerback Long Tank Tops\n",
      "[{\"user_id\":\"AHWQB2G7YBMTA4BHD74EWQOJHZGA\",\"rating\":1}]\n",
      "B072229QZW B072229QZW NFL Playing Cards\n",
      "[{\"user_id\":\"AFIM5RAUX2YR3UFV6LBGEXGGDXTA\",\"rating\":5},{\"user_id\":\"AGELMF4ZNSXCEWNUH6L2RDYE3XRQ\",\"rating\":5}]\n",
      "B073CRCDFS B073CRCDFS Amazon Basics Battle Exercise Training Rope - 30/40/50 Foot Lengths, 1.5/2 Inch Widths\n",
      "[{\"user_id\":\"AEKX4SZQMLFZZ7YX5YY425HHMQAA\",\"rating\":5}]\n",
      "B073JD2D7Q B073JD2D7Q adidas Adult Women Logo Driven 2.5 Heathered Quarter Zip\n",
      "[{\"user_id\":\"AG3D23KNXZKTXGW2BNP6IXS6YDQQ\",\"rating\":5}]\n",
      "B074MYFK42 B074MYFK42 NHL Pet Jersey\n",
      "[{\"user_id\":\"AH3DJI7RY347ABOHLTAP6ASLY4XQ\",\"rating\":5}]\n",
      "B074RZCDQ5 B074RZCDQ5 MalloMe 2-in-1 LED Camping Lantern & Flashlight with 12 AA Batteries - Survival Kit Gear for Emergency, Hurricane, Storm, Outage (Black, Collapsible), 4 Pack\n",
      "[{\"user_id\":\"AFPTVMYVXZNH3U4FFDNSSUXSDPNA\",\"rating\":5}]\n",
      "B076Q7CXZ6 B076Q7CXZ6 adidas NBA Mens T-Shirt\n",
      "[{\"user_id\":\"AFKZDUEVDYUJV2PYLIMFKWIW2CZQ\",\"rating\":5}]\n",
      "B0773PHPYH B0773PHPYH Louisville Slugger 18\" Mini Bat\n",
      "[{\"user_id\":\"AHEJ5LC7BSEADCIZQQQPZPVWOLCA\",\"rating\":3}]\n",
      "B077MJRJDY B077MJRJDY YETI Rambler Vacuum Insulated Tumbler with Lid\n",
      "[{\"user_id\":\"AGTITI6OKWPN2AVELIAJALJFX6NA\",\"rating\":5},{\"user_id\":\"AFKZDUEVDYUJV2PYLIMFKWIW2CZQ\",\"rating\":5},{\"user_id\":\"AGWT2JKKZFMS3PUJA2AYDDYB7A6A\",\"rating\":5}]\n",
      "B077N6RZNH B077N6RZNH CLAM Quick-Set Wind and Sun Panel Attachment for Traveler and Escape Screen Shelter Canopy Tent, Accessory Only, Green (2 Pack)\n",
      "[{\"user_id\":\"AFZUK3MTBIBEDQOPAK3OATUOUKLA\",\"rating\":5}]\n",
      "B077TMVXTF B077TMVXTF Howstar Pet Shirt, Puppy Clothes Sweater Soft Dog Vest Sweatshirt for Small Dog (Black, S)\n",
      "[{\"user_id\":\"AFMM5RQLG7N45RORJJF3TBJL3QKA\",\"rating\":1}]\n",
      "B078JXRRRF B078JXRRRF HUGE SPORTS Wildling Series UV Protection Quick Dry Compression Rash Guard\n",
      "[{\"user_id\":\"AH7FU6QA6VMJTUSWZVQCTUS7226A\",\"rating\":5}]\n",
      "B07BTCGCSF B07BTCGCSF Contraband Black Label 5050 Mens Basic Leather Fingerless Weight Lifting Gloves - Durable Light - Medium Padded Split Leather Gym Gloves - Perfect Classic Lifting Gloves (Pair)\n",
      "[{\"user_id\":\"AHEDBTRSVQITLCUHR4MKNRTYOYRQ\",\"rating\":5},{\"user_id\":\"AFIWEGRPMNE5PHSL7J3TLJPQW7DA\",\"rating\":4}]\n",
      "B07C2XMRY7 B07C2XMRY7 FlexzFitness Lever Buckle Powerlifting Belt Weight Lifting\n",
      "[{\"user_id\":\"AFV22L7AEKI2LW6HMLRLUKNYVBGQ\",\"rating\":5}]\n",
      "B07C3YDSK4 B07C3YDSK4 Valeo Competition Wrist Wrap Lifting Gloves with Durable Leather Construction, Reinforced Stitching, and Double Leather Padded Palms\n",
      "[{\"user_id\":\"AEBYEWLSJLC7OEDDSRZEQWY5WAZA\",\"rating\":5}]\n",
      "B07CGBL77B B07CGBL77B Women's Sun Hat Outdoor UV Protection Bucket Mesh Boonie Hat Adjustable Fishing Safari Cap Waterproof\n",
      "[{\"user_id\":\"AGTCQ5BFDIDZMCCPIMYC3TLKLSGQ\",\"rating\":5}]\n",
      "B07CLG9294 B07CLG9294 Activ Life Kid’s Flying Rings [2 Pack] They Fly Straight & Don’t Hurt! 80% Lighter Than Standard Frisbees - Replace Screen Time with Healthy Family Fun - Get Outside & Play! Proudly Made in The USA\n",
      "[{\"user_id\":\"AEJ33R64CS46LK4ZN3RHTLTBO4ZQ\",\"rating\":5}]\n",
      "B07CR658TY B07CR658TY Seavenger SeaSnugs Low-Cut Beach Volleyball Socks\n",
      "[{\"user_id\":\"AFHZAI5WNVWT4SFFY2EZ2SGSCIAQ\",\"rating\":4}]\n",
      "B07D7V8MT7 B07D7V8MT7 GSI Outdoors Enamel Coffee Pot to Store Hot Coffee, Tea for Camping & Farmhouse - 6 Cup\n",
      "[{\"user_id\":\"AG57CQ6P4QWYMWUV6MTAOETUKHTA\",\"rating\":5},{\"user_id\":\"AFCV25KA7XSAJGTZRDML5B7UYOVQ\",\"rating\":5}]\n",
      "B07D8CTXS7 B07D8CTXS7 GSI Outdoors Percolator Coffee Pot | Enamelware Campfire Coffee Boiler Kettle for Outdoor Camping Cookware, Cabin, RV, Kitchen, Hunting & Backpacking\n",
      "[{\"user_id\":\"AFAMOLAPKR3M2NPTMB362T2Q5RBQ\",\"rating\":3},{\"user_id\":\"AFEYY6TB5DOF2U4WCL7GRMNZREJA\",\"rating\":4}]\n",
      "B07FFTPH7B B07FFTPH7B Amazon Essentials Women's Studio Sculpt Mid-Rise Capri Yoga Legging\n",
      "[{\"user_id\":\"AHPFHP43AXWRYZZ4HPNCW7I7J3ZQ\",\"rating\":5}]\n",
      "B07FMSXZ7C B07FMSXZ7C J America NCAA Adult Women Make A Move Tee\n",
      "[{\"user_id\":\"AHV6QCNBJNSGLATP56JAWJ3C4G2A\",\"rating\":4}]\n",
      "B07FZVRYY8 B07FZVRYY8 Jumpers Knee Strap (EA)\n",
      "[{\"user_id\":\"AHPFHP43AXWRYZZ4HPNCW7I7J3ZQ\",\"rating\":5},{\"user_id\":\"AG25ZASYXSIF666IYOAOXJTTX2WQ\",\"rating\":5}]\n",
      "B07GKCMXY3 B07GKCMXY3 Gaiam Restore Adjustable Muscle Massage Stick Roller\n",
      "[{\"user_id\":\"AF2VY4YXMAB6YCYO3WDBR3DL5XSA\",\"rating\":4}]\n",
      "B07GYW6M1D B07GYW6M1D Wepro Bands Compatible with Fitbit Charge 2 HR, 3-Pack Adjustable Wrist Replacement Band for Women Men\n",
      "[{\"user_id\":\"AHWNAKYPAX5HIN6ZW3GYLCNIXTJQ\",\"rating\":5}]\n",
      "B07GZDRC6F B07GZDRC6F NFL Men's OTS Start Line Center Stretch Fit Hat\n",
      "[{\"user_id\":\"AEPWU76ZBAV7QMQQIPAUU75BS3ZA\",\"rating\":5}]\n",
      "B07H5ZVJMV B07H5ZVJMV AO Coolers Original Soft Cooler with High-Density Insulation, Royal Blue, 24-Can\n",
      "[{\"user_id\":\"AFZUK3MTBIBEDQOPAK3OATUOUKLA\",\"rating\":5},{\"user_id\":\"AFZUK3MTBIBEDQOPAK3OATUOUKLA\",\"rating\":5}]\n",
      "B07HFTQRP1 B07HFTQRP1 TRX Training Kettlebell, Gravity Cast with a Comfortable Ergo Handle\n",
      "[{\"user_id\":\"AEICZD35OTDYVWA2KPYWN4PDZ2SA\",\"rating\":5}]\n",
      "B07HN5T3WB B07HN5T3WB aminco NCAA Unisex Adult NCAA Logo Dangler Earrings\n",
      "[{\"user_id\":\"AGMBLP4JLQK6M3UZQY655VZP73XA\",\"rating\":4}]\n",
      "B07HPHKKD2 B07HPHKKD2 Daiwa Tatula 200 TWS Baitcasting Reel\n",
      "[{\"user_id\":\"AGI3NP2BITY3AKTLUJP2FLMDW3FA\",\"rating\":5}]\n",
      "B07HZ1TS2R B07HZ1TS2R OTS NBA Men's Comer Center Stretch Fit Hat\n",
      "[{\"user_id\":\"AGZLRPAZ3MUCZTSSFFCMTNFGDNWQ\",\"rating\":5}]\n",
      "B07KFPRDZ3 B07KFPRDZ3 Liberty Imports Pack of 5 Men's Athletic Basketball Shorts Mesh Quick Dry Activewear with Pockets\n",
      "[{\"user_id\":\"AFCV25KA7XSAJGTZRDML5B7UYOVQ\",\"rating\":4}]\n",
      "B07KG41NCD B07KG41NCD NFL Men's OTS Raised Cuff Knit Cap\n",
      "[{\"user_id\":\"AER7BPYAMW5CAICYIJX7QW64MBIA\",\"rating\":5}]\n",
      "B07KGT1MLN B07KGT1MLN Magpul MOE 1911 TSP Grip Panels\n",
      "[{\"user_id\":\"AGRJTJRP53Y2BUZLRF3EUTF65RSQ\",\"rating\":5}]\n",
      "B07KLSNCPR B07KLSNCPR Outerstuff Men's Chicago Bears #52 Khalil Mack Navy Embroidered Name & Number Jersey\n",
      "[{\"user_id\":\"AHKDPUXQINJKOFGZRGV3CJP6GPLQ\",\"rating\":5}]\n",
      "B07L93CTL6 B07L93CTL6 NFL Pillow Pet (Mini and Large)\n",
      "[{\"user_id\":\"AH5PMD2AOZMSO6JFWPRL44NR44EA\",\"rating\":5}]\n",
      "B07LBKPBGD B07LBKPBGD MLBPA PET Gear for Dogs & Cats. Biggest Selection of Sports Baseball Pet Apparel & Accessories Licensed by The MLBPA. 10+ MLB Teams Available!\n",
      "[{\"user_id\":\"AGMBLP4JLQK6M3UZQY655VZP73XA\",\"rating\":4},{\"user_id\":\"AEZHVVKEZAY6MAP5WA62MAYTMHWQ\",\"rating\":5},{\"user_id\":\"AHKUHEIUY7WUAMGKHAXC45LCRHZA\",\"rating\":5},{\"user_id\":\"AHIPBTOT2RCSOLJVMU454CT4KUBQ\",\"rating\":4},{\"user_id\":\"AE5BOUB3JEW4YH5WH6D7XKK6CTEA\",\"rating\":2},{\"user_id\":\"AEV2AM5IEUVKSKLEJTWGMW3VB7RQ\",\"rating\":5},{\"user_id\":\"AHYFWPEQEO72LEEMM6E3WDYX4BZA\",\"rating\":5}]\n",
      "B07LBN1Y5T B07LBN1Y5T Ultimate Body Press 4350143414 Exercise and Yoga Mat - 6’4” x 3’ x 2” - Four Panel Folding Mat with Premium Materials and Foam - Sized Right for Your Fitness by , Black\n",
      "[{\"user_id\":\"AHATA6X6MYTC3VNBFJ3WIYVK257A\",\"rating\":4}]\n",
      "B07LF4K4WS B07LF4K4WS aisswzber Mens Sports Polarized Sunglasses Driving Metal Frame UV Protection Sunglasses For Men 8177\n",
      "[{\"user_id\":\"AHPOHKN4PU4W3V5PGFL7AGTAD2AA\",\"rating\":4}]\n",
      "B07MQLDJLW B07MQLDJLW LifePro Waver Vibration Plate Exercise Machine - Whole Body Workout Vibration Fitness Platform w/ Loop Bands - Home Training Equipment for Weight Loss & Toning\n",
      "[{\"user_id\":\"AE7N4WK7OYMAXKXODT2MSG7H4FPA\",\"rating\":5}]\n",
      "B07MV527KR B07MV527KR Copco Freezeable Double Wall Insulated Tritan Water Bottle with Crackle Gel, 18-Ounce, Purple\n",
      "[{\"user_id\":\"AEICZD35OTDYVWA2KPYWN4PDZ2SA\",\"rating\":3}]\n",
      "B07MY3KPKW B07MY3KPKW NCAA Arkansas Razorbacks Dog T-Shirt, Medium\n",
      "[{\"user_id\":\"AHITBJSS7KYUBVZPX7M2WJCOIVKQ\",\"rating\":5}]\n",
      "B07N29QLTD B07N29QLTD Bell Standard and Self Sealing Bike Tubes\n",
      "[{\"user_id\":\"AG5YNREZVJP6XATLCKEM4NTGLICA\",\"rating\":5},{\"user_id\":\"AHKG6MSLGC4WR5W5MSLUSPZ6BL6Q\",\"rating\":5}]\n",
      "B07N3WQ1KG B07N3WQ1KG Toes&Feet Men's Anti-Odor Quick-Dry Quarter Crew Athletic and Dress Socks\n",
      "[{\"user_id\":\"AHJQPUQLSQZE6LMIUMY7WNRXCQQQ\",\"rating\":4},{\"user_id\":\"AFXF3EGQTQDXMRLDWFU7UBFQZB7Q\",\"rating\":5}]\n",
      "B07Q6TG443 B07Q6TG443 Teentumn 30oz Sport Water Bottle with Time Markers, Large Durable Gym Plastic Bottle Tritan BPA Free for Fitness, Outdoor Enthusiasts, Leakproof Clear Gray\n",
      "[{\"user_id\":\"AFRNBENNOMCCDWRULV7T45LU3MXQ\",\"rating\":5}]\n",
      "B07QGDSRH5 B07QGDSRH5 WTACTFUL Rubber Guard Protective Full Finger Tactical Gloves for Airsoft Hunting Cycling Motorbike\n",
      "[{\"user_id\":\"AGL3NDIOMDLE2BS7WPF6GHLE77ZQ\",\"rating\":5},{\"user_id\":\"AHR4BEXIRURKL3POXW5RJFJLJDQQ\",\"rating\":5}]\n",
      "B07R3J5SYG B07R3J5SYG TREKOLOGY Ultralight Inflatable Camping Travel Pillow - ALUFT 2.0 Compressible, Compact, Comfortable, Ergonomic Inflating Pillows for Neck & Lumbar Support While Camp, Hiking, Backpacking\n",
      "[{\"user_id\":\"AH5N3DZ2SJRF2G4H4KLLGGUCTQRQ\",\"rating\":5}]\n",
      "B07S1YCPCJ B07S1YCPCJ Fremont Die NFL Arizona Cardinals Stop Sign\n",
      "[{\"user_id\":\"AEMJ2EG5ODOCYUTI54NBXZHDJGSQ\",\"rating\":5},{\"user_id\":\"AHVOQ4CBGSXUQKOR2A3BPCV53YMA\",\"rating\":5}]\n",
      "B07S2Q7ZJ5 B07S2Q7ZJ5 icyzone Athletic Running Yoga Shorts for Women - Women's Workout Active Lounge Bermuda Shorts with Pockets\n",
      "[{\"user_id\":\"AF7MRXMT5BZFOEQY7X3F6D4QDEOQ\",\"rating\":4}]\n",
      "B07SJNLNSM B07SJNLNSM BASSDASH Fishing Tackle Backpack Water Resistant Lightweight Tactical Bag Soft Tackle Box with Rod Holder and Protective Rain Cover\n",
      "[{\"user_id\":\"AGYZB6ENUOE64CG2C6QLX47V4RTA\",\"rating\":3}]\n",
      "B07SKWVX69 B07SKWVX69 ROQ Silicone Rubber Wedding Ring for Women, Dome Duo Collection, Breathable Silicone Wedding Band, Anniversary Rings, Promise Ring, 5.5mm Wide 2mm Thick, Multi Packs, Multi Colors\n",
      "[{\"user_id\":\"AGFUJ3EGB7VTLV3ZMKEZVRJHPA5Q\",\"rating\":3}]\n",
      "B07SSHCTW7 B07SSHCTW7 Army Universe Chocolate Brown Nylon Paracord 550 lbs Type III 7 Strand USA Made Utility Cord Rope 100 Feet\n",
      "[{\"user_id\":\"AFOU3KAJIZ7YQCXJ3CJOYJ3J7GSQ\",\"rating\":2}]\n",
      "B07TL6CTHQ B07TL6CTHQ Fizik Performance Bicycle Bar Tape - Soft, Tacky & Classic Professional Bike Handlebar Tape (2mm, 2.7mm, 3mm)\n",
      "[{\"user_id\":\"AGWSEISP3NKF47Q2CG45DBOYURYA\",\"rating\":4},{\"user_id\":\"AFNL6B7KCS3NN3K5ADRPXO7EINUQ\",\"rating\":5}]\n",
      "B07VXV6CDH B07VXV6CDH Vmini Half Gallon Water Bottle, 64 oz Water Bottle with Straw, Wide Mouth Vacuum Insulated Stainless Steel Water Bottle, Wide Rotating Handle Straw Lid, Gradient Yellow+Pink\n",
      "[{\"user_id\":\"AEUKI4ODTWQPOMX6TEHZNBFWAMHQ\",\"rating\":5}]\n",
      "B07VYVCPF1 B07VYVCPF1 Ultra Game NBA Women's Jogger Pants Active Fleece Sweatpants\n",
      "[{\"user_id\":\"AHK7C45XWDCKJBAS5LZYTGD3FWJA\",\"rating\":5}]\n",
      "B07WFCGK92 B07WFCGK92 BASSDASH UPF 50+ UV Sun Protection Neck Gaiter Fishing Mask Hunting Kayaking Hiking Cycling Ski Sports\n",
      "[{\"user_id\":\"AFAA7WD5EOAHFKGTWFRBP6YCE46A\",\"rating\":5}]\n",
      "B07WYJBBTJ B07WYJBBTJ Shock Doctor Max Airflow 2.0 Lip Guard / Mouth Guard. Football Mouthguard 3500. For Youth and Adults OSFA. Breathable Wide Opening Mouthpiece. Helmet Strap Included\n",
      "[{\"user_id\":\"AHWNAKYPAX5HIN6ZW3GYLCNIXTJQ\",\"rating\":5}]\n",
      "B07X84RQMR B07X84RQMR YIMI Polarized Photochromic Outdoor Sports Driving Sunglasses for Men Women AntiGlare Eyewear Ultra-Light Sun Glasses\n",
      "[{\"user_id\":\"AEMJ2EG5ODOCYUTI54NBXZHDJGSQ\",\"rating\":1}]\n",
      "B07YBFCFMT B07YBFCFMT Goodthreads Women's Heritage Fleece Blouson Short-Sleeve Shirt\n",
      "[{\"user_id\":\"AFJBKPK5W56XWSNPQU2WW66ISWYQ\",\"rating\":5},{\"user_id\":\"AFQQQ5LGNSQUEBGDCYBAZZE5T3DA\",\"rating\":5}]\n",
      "B07Z756PBR B07Z756PBR Tumaz Stretching Strap - 10 Loops & Non-Elastic Yoga Strap - The Perfect Home Workout Stretch Strap for Physical Therapy, Yoga, Pilates, Flexibility - [Extra Thick, Durable, Soft]\n",
      "[{\"user_id\":\"AGN4KJUBTK7LCNXU6JIGRLANAHJQ\",\"rating\":5}]\n",
      "B07ZJ8HXQ6 B07ZJ8HXQ6 Mens Headbands - Sweat Head Bands for Workout, Cycling, Baseball, Football, Gym, Exercise, Running, Basketball, Yoga, Tennis - Moisture Wicking Sports Athletic Stretch Performance Sweatband & Hairband\n",
      "[{\"user_id\":\"AEDTZCI4QCLKRFL5DA53JL47Z5UQ\",\"rating\":3}]\n",
      "B07ZM8C38M B07ZM8C38M G Gradual Men's Sweatpants with Zipper Pockets Tapered Track Athletic Pants for Men Running, Exercise, Workout\n",
      "[{\"user_id\":\"AFG7N7YAFN5JNRB5PTBKSENW6QAA\",\"rating\":5}]\n",
      "B08192NHBG B08192NHBG SHIMANO SL-M315-8R 8-Speed RapidFire Plus Bicycle Shift Lever - Right, with Optical Gear Display - ESLM3158RA\n",
      "[{\"user_id\":\"AG3FTHHO5QTHJ3ABN5WVXOTID3NQ\",\"rating\":5}]\n",
      "B081VVHG4L B081VVHG4L SureFire G2X Tactical 600 Lumen EDC Flashlight Bundle with 2x Extra SureFire CR123A and Lightjunction Battery Case (Black)\n",
      "[{\"user_id\":\"AE63QWJX2YH2MYOW5UE7WO3DEGTA\",\"rating\":5}]\n",
      "B082MQ9ZX6 B082MQ9ZX6 NRS Ninja Kayak Lifejacket (PFD)\n",
      "[{\"user_id\":\"AFGUPTDFAWOHHL4LZDV27ERDNOYQ\",\"rating\":5}]\n",
      "B083BPBR2N B083BPBR2N Therm-a-Rest Compressible Travel Pillow for Camping, Backpacking, Airplanes and Road Trips, Amethyst\n",
      "[{\"user_id\":\"AFWTME2ROGUQI5J5FB3DWCLKZNBA\",\"rating\":5},{\"user_id\":\"AH3VYDJ2W7WFOLKOLJHPPD46FK2A\",\"rating\":5},{\"user_id\":\"AEU47A5R7NFWXCQLJMZA34AM63EA\",\"rating\":5}]\n",
      "B083F3JJ4X B083F3JJ4X NatureWorks HydroMATE Half Gallon Water Bottle with Time Markers BPA Free Reusable Leak Proof Jug with Straw and Handle 64 oz\n",
      "[{\"user_id\":\"AFFO2TXPGQVHVTIMFRGT5YZ7M4OA\",\"rating\":4}]\n",
      "B0845YM9BW B0845YM9BW Sweat Shaper Waist Trimmer for Women, Waist Trainer Sauna Belt, Neoprene-free Waist Cincher, Sauna Slimming Belt\n",
      "[{\"user_id\":\"AHPBIP5JNVD4ZDTULYEAAX2PBDGQ\",\"rating\":2},{\"user_id\":\"AFGPS4FSO3WD43EIV6XSFDRIZXKA\",\"rating\":5}]\n",
      "B08465YM9L B08465YM9L Gonex 45L Packable Travel Backpack, Lightweight Dackpack for Hiking, Camping & Travelling Azure Blue\n",
      "[{\"user_id\":\"AFJBKPK5W56XWSNPQU2WW66ISWYQ\",\"rating\":5},{\"user_id\":\"AEICZD35OTDYVWA2KPYWN4PDZ2SA\",\"rating\":4}]\n",
      "B0849PJ4GT B0849PJ4GT Northwest NCAA Unisex-Adult Raschel Throw Blanket\n",
      "[{\"user_id\":\"AHUOZU4UFPRZZZVHDIS65TMHIHSQ\",\"rating\":4}]\n",
      "B0858ZGFRQ B0858ZGFRQ RedSwing 4 Gallon/15L Portable Water Container with Spigot, Water Storage Carrier for Camping Outdoor Hiking, BPA Free\n",
      "[{\"user_id\":\"AE4AJJ4CAB2FP57XZ7VLBZQKK4GQ\",\"rating\":5}]\n",
      "B085HB6BTL B085HB6BTL Logo Brands Officially Licensed NCAA Unisex Round Table, One Size, Team Color\n",
      "[{\"user_id\":\"AH5AW5PRJIYE4CFJOEHAMKTQGVYQ\",\"rating\":5}]\n",
      "B085ZNLW1R B085ZNLW1R HUGE SPORTS Men's Splice UV Sun Protection UPF 50+ Skins Rash Guard Long Sleeves\n",
      "[{\"user_id\":\"AF3D3R7EJKCATWRQYAJPKAOGNAXA\",\"rating\":5}]\n",
      "B086HFNRJD B086HFNRJD OTS NFL Women's Singleback Fleece Pullover\n",
      "[{\"user_id\":\"AHPOHKN4PU4W3V5PGFL7AGTAD2AA\",\"rating\":5}]\n",
      "B0871HPPK7 B0871HPPK7 CompressionZ Compression Capri Leggings for Women - Yoga Capris, Running Tights, Gym Pants\n",
      "[{\"user_id\":\"AF4XOFLFHZQIGX73U6AEE3IVT6FA\",\"rating\":5}]\n",
      "B087LV5DCJ B087LV5DCJ KALILY 12pcs/9pcs/6pcs Headband Bandana - Face Mask Headwear Neck Gaiter Shield Scarf\n",
      "[{\"user_id\":\"AG7WKTZINOFIXMZJYIPKIB7PV7NQ\",\"rating\":3}]\n",
      "B088H1LK3J B088H1LK3J WWahuayuan 10M Premium Aerial Silks Equipment Yoga Pilates Swing Aerial Yoga Antigravity Hammock Trapeze for Acrobatic Dance,Air Yoga, Aerial Yoga Hammock\n",
      "[{\"user_id\":\"AFTX5XGVRRUV7H7LJ6MP5LVDX5PQ\",\"rating\":2}]\n",
      "B088X4DPJB B088X4DPJB Core Prodigy Fusion Grip Tape - Silicone Rubber Wrap for Pull Up Bars, Barbells, Dumbbells, Sports and Gym Equipment, and Tools\n",
      "[{\"user_id\":\"AGEP2CC2QIJU5IHQZXCC7BE5JSDQ\",\"rating\":5}]\n",
      "B0893BGL1T B0893BGL1T SKTYEE Carbon Fiber Inline Speed Skates Adult for Women and Mens, Professional Fitness Skating Roller Skates, High Performance Racing Skates, Unisex Black\n",
      "[{\"user_id\":\"AFA5B5IBMHM5XZKSSA5MP3PBEGPA\",\"rating\":5}]\n",
      "B0899N1ZV8 B0899N1ZV8 ROQ Silicone Rubber Wedding Ring for Women, Rubber Silicone Wedding Band, Bridal Jewelry Set, Anniversary Rings, Promise Ring, 5.5mm Wide 2mm Thick, Multi Packs, Multi Colors\n",
      "[{\"user_id\":\"AEICZD35OTDYVWA2KPYWN4PDZ2SA\",\"rating\":4}]\n",
      "B089F8QQHK B089F8QQHK BOOYAH Pond Magic Small-Water Spinner-Bait Bass Fishing Lure\n",
      "[{\"user_id\":\"AF2JSZ5GQ5R4XASOJQWHZKV7P6YA\",\"rating\":5}]\n",
      "B08BHQBK5G B08BHQBK5G AiRunTech Adjustable Running Belt Waist Pack with 3 Pockets for All Phones, No-Bounce, Slim, Lightweight and Secure, Suitable for Men and Women\n",
      "[{\"user_id\":\"AECIBNSEFCIDJ5TLCTF6EABM55PQ\",\"rating\":4}]\n",
      "B08D7G6NJJ B08D7G6NJJ Champion Kids Clothes Sweatshirts Youth Heritage Fleece Pull On Hoody Sweatshirt with Hood\n",
      "[{\"user_id\":\"AFLRC4EB3O4FNS4VCICJ4S22TQNQ\",\"rating\":5},{\"user_id\":\"AH6LSFADKK56ZXNWKN32R2HPR2FA\",\"rating\":5}]\n",
      "B08D96JYTG B08D96JYTG OMID Swim Goggles, P2 Comfortable Polarized Anti-Fog Swimming Goggles for Adult\n",
      "[{\"user_id\":\"AH4FT75HQYRS36JB6KL2JJNWSP2Q\",\"rating\":5}]\n",
      "B08D9FWVJD B08D9FWVJD IRON °FLASK Sports Water Bottle - 32oz, 3 Lids (Straw Lid), Leak Proof - Stainless Steel Gym & Sport Bottles for Men, Women & Kids - Double Walled, Insulated Thermos, Metal Canteen\n",
      "[{\"user_id\":\"AHFZFJJ7RWRX6RCUSCFFXX3QK73Q\",\"rating\":5},{\"user_id\":\"AH4NK6BLCCREBTG6B6OQM2KABDDA\",\"rating\":2}]\n",
      "B08DLBZJ8K B08DLBZJ8K X XBEN Outdoor Climbing Rope 10M(32ft) 20M(64ft) 30M(96ft) 50M(160ft) 70M(230ft) 152M(500FT) 352M(1000FT) Static Rock Climbing Rope for Escape Rope Ice Climbing Equipment Fire Rescue Parachute\n",
      "[{\"user_id\":\"AE2TYMULXRZTZHKHIRX4I5VKDNIQ\",\"rating\":5}]\n",
      "B08DW97QWC B08DW97QWC Booyah Shad Blade-Bait Fishing Lure, Pearl Shiner, Mini Shad (3/16 oz)\n",
      "[{\"user_id\":\"AG6OZNFZE6P52PW2PA5WF2IAHKLA\",\"rating\":5}]\n",
      "B08F8QPQWB B08F8QPQWB CAP Barbell 60-Pound Adjustable Dumbbell Weight Set\n",
      "[{\"user_id\":\"AFAIJYOUO3NAWLBDIKTQSC3DASWA\",\"rating\":5}]\n",
      "B08FD2WHRW B08FD2WHRW AIKOTOO Nearsighted Swim Goggles, Shortsighted Swimming Goggles\n",
      "[{\"user_id\":\"AFJBKPK5W56XWSNPQU2WW66ISWYQ\",\"rating\":5}]\n",
      "B08FTDK6T4 B08FTDK6T4 W WSTOO Snorkel Mask with Latest Dry Top Breathing System,Fold 180 Degree Panoramic View Full Face Snorkel Mask Anti-Fog Anti-Leak with Camera Mount,Snorkeling Gear for Adults and Kids\n",
      "[{\"user_id\":\"AFJBKPK5W56XWSNPQU2WW66ISWYQ\",\"rating\":5},{\"user_id\":\"AGLQQCIS5V6EGUCS5SSNHWZHQM6Q\",\"rating\":4}]\n",
      "B08GHC3M3J B08GHC3M3J Mountain House Beef Stroganoff | Freeze Dried Backpacking & Camping Food | Survival & Emergency Food\n",
      "[{\"user_id\":\"AFJBKPK5W56XWSNPQU2WW66ISWYQ\",\"rating\":5}]\n",
      "B08JKQL6Y8 B08JKQL6Y8 MaiuFun Oversized Camping Chair Folding Heavy Duty Quad Outdoor Large Lawn Chairs Portable Support 400 lbs Padded Thicken Oxford with Armrests, Storage Bag, Cup Holder, Carry Bag for Outside(Blue)\n",
      "[{\"user_id\":\"AFTIM4OKTMFNKK4BRL4GNDHMPFSA\",\"rating\":5}]\n",
      "B08K4JVG1H B08K4JVG1H Day 1 Fitness Stainless Steel Water Bottle Narrow Mouth with Screw Lid (12, 17, or 25 oz) - 3 Size and 8 Color Options - Vacuum Insulated, Double Wall, Powder Coated Sweat Proof Thermos\n",
      "[{\"user_id\":\"AEIPJBAN7A55Q5DFFPZSR2UV3OKA\",\"rating\":4}]\n",
      "B08LN9S95N B08LN9S95N URBNFit Exercise Ball - Yoga Ball for Workout Pregnancy Stability - AntiBurst Swiss Balance Ball w/ Pump - Fitness Ball Chair for Office, Home Gym\n",
      "[{\"user_id\":\"AGV5IAI7ELBBT327V7EUBECMW6MQ\",\"rating\":5},{\"user_id\":\"AGEOKZZXTQQJSQYNLGNIOHJG25PQ\",\"rating\":4}]\n",
      "B08N64NRS3 B08N64NRS3 Gintenco Swim Fins, Kids Swim Training Fins for Lap Swimming, Travel Size Flippers with Mesh Bag, Silicone Swimming Fins for Kids Teens Adults Women Men\n",
      "[{\"user_id\":\"AE73SQJO4UU5DT7JN6KY2LDG4MUQ\",\"rating\":5}]\n",
      "B08NC79TYP B08NC79TYP LIGHTBAR | LED Headlamp, 300 to 500 Lumens, Spot Light Mode and Red Light Modes Available On Select Models - Perfect for Camping Running Biking Fishing Construction\n",
      "[{\"user_id\":\"AE6TGLIT6A4PW6JXKALF4SKJPX2Q\",\"rating\":2}]\n",
      "B08NWXQZ37 B08NWXQZ37 OTS Men's Rival Long Sleeve Tee\n",
      "[{\"user_id\":\"AHPOHKN4PU4W3V5PGFL7AGTAD2AA\",\"rating\":5}]\n",
      "B08PDR6R7F B08PDR6R7F FOCO Womens NFL Team Color Faux Fur Moccasin\n",
      "[{\"user_id\":\"AEMJ2EG5ODOCYUTI54NBXZHDJGSQ\",\"rating\":1}]\n",
      "B08PFTJXJJ B08PFTJXJJ FOCO NFL Busy Block Ugly Sweater\n",
      "[{\"user_id\":\"AESVPEV7SP57RQWLVV2J5KKFEOCA\",\"rating\":5}]\n",
      "B08R8PZX6D B08R8PZX6D Ultra Game NFL Womens Active Soft Fleece Jogger Sweatpants\n",
      "[{\"user_id\":\"AECABX3OO3GK7FCPZLFM3LT2E6UA\",\"rating\":5}]\n",
      "B08SQS211M B08SQS211M Renegade GK Talon Goalie Gloves with Microbe-Guard (Sizes 5-11, 5 Styles, Level 3) Pro-Tek Fingersaves & 3.5+3MM Hyper Grip XD | Durable Goalkeeper Glove for All-Around Play | Based in The USA\n",
      "[{\"user_id\":\"AHO6GNOJYGFCOEDIVYE7BNLSFXBA\",\"rating\":5}]\n",
      "B08VWBD32N B08VWBD32N Wolf Tooth Precision Anodized Water Bottle Cage Bolts\n",
      "[{\"user_id\":\"AGUO64P7C4QQ3NVBLJAHCGLLUCQA\",\"rating\":5}]\n",
      "B08W8Z11VP B08W8Z11VP Zebco 33 Approach Spincast Reel and 2-Piece Fishing Rod Combo, Durable Fiberglass Rod with Comfortable Split-Grip EVA Handle, QuickSet Anti-Reverse Fishing Reel with Bite Alert, Camo\n",
      "[{\"user_id\":\"AFLX66DKF6R3H6OEOC3TIVAYXZIQ\",\"rating\":5}]\n",
      "B08WNGR1K2 B08WNGR1K2 Yocaher Longboard Skateboard Trucks Wheels Combo Set 71mm Wheels + 7\"/180mm Heavy Duty Aluminum Polished Trucks, Bearing, Riser Pad, and Skateboard Longboard Cruiser Hardware\n",
      "[{\"user_id\":\"AHAIZU37TG52IYGSQ4RY4QD3TV7A\",\"rating\":3}]\n",
      "B08X6WYFXF B08X6WYFXF AmazonCommercial Rotomolded Coolers, 45 Quart Towable, White\n",
      "[{\"user_id\":\"AGR6OAOR3JTMYLRJCEGHFBI24HYA\",\"rating\":4},{\"user_id\":\"AFKMX6JZ655VPVYHBTATZQS4IBOQ\",\"rating\":5},{\"user_id\":\"AE7YYSYFEWAYIUCAK4W33CHPP4JQ\",\"rating\":5}]\n",
      "B08YDLLN6J B08YDLLN6J HYDRO CELL Wide Mouth Water Bottle - Accessory Caps - 64oz, 40oz, 32oz, 24oz, 18oz, 14oz. Sports Cap - Coffee Cap - Stainless Steel Cap\n",
      "[{\"user_id\":\"AEGI7QR7J6VJCEZ7INIHIVQ3277A\",\"rating\":5}]\n",
      "B08YFLVDMJ B08YFLVDMJ Berkley Trilene Big Game Monofilament Fishing Line\n",
      "[{\"user_id\":\"AG6OZNFZE6P52PW2PA5WF2IAHKLA\",\"rating\":5}]\n",
      "B08YFM79F9 B08YFM79F9 Spiderwire EZ Fishing Line (Braid/Fluorocarbon/Monofilament)\n",
      "[{\"user_id\":\"AGWWTJ2WJXCTXGD3TFDWUUBYOAXQ\",\"rating\":5}]\n",
      "B08YFM7QVH B08YFM7QVH Berkley Trilene XL Monofilament Fishing Line\n",
      "[{\"user_id\":\"AEWT7EGPCHKQGTNXN5BHQ5CTLK7A\",\"rating\":5}]\n",
      "B08YYJRNQ4 B08YYJRNQ4 Gonex 54/62/68 Inch Extra Large Golf Umbrella, Automatic Open Travel Rain Umbrella with Windproof Water Resistant Double Canopy, Oversize Vented Umbrellas for 2-3 Men and UV Protection, Multiple Colors\n",
      "[{\"user_id\":\"AFV22L7AEKI2LW6HMLRLUKNYVBGQ\",\"rating\":5}]\n",
      "B0914WNBNM B0914WNBNM Champion Sports Official Heavy Duty Rubber Cover Nylon Basketballs\n",
      "[{\"user_id\":\"AHZ6XMOLEWA67S3TX7IWEXXGWSOA\",\"rating\":5}]\n",
      "B09198D73Z B09198D73Z GOFLYSHINE Exercise Bikes Stationary,Exercise Bike for Home Indoor Cycling Bike for Home Cardio Gym,Workout Bike with 35 LBS Flywheel\n",
      "[{\"user_id\":\"AFKMX6JZ655VPVYHBTATZQS4IBOQ\",\"rating\":5}]\n",
      "B092RTFJJV B092RTFJJV NEEKFOX Water Bottle, 34oz Gallon Water Bottles with Large Wide Mouth, Leakproof Anti-slip Durable BPA Free Tritan Water Jug, hydro jug with Removable Strainer for Fitness, Gym, Outdoor Sport\n",
      "[{\"user_id\":\"AFJBKPK5W56XWSNPQU2WW66ISWYQ\",\"rating\":5}]\n",
      "B094GSNHG5 B094GSNHG5 ERNAN Inline Roller Skates,Adjustable Inline Skate for Kids and Adults with Full Light Up Wheels,Outdoor Roller Blades for Boys and Girls, Men and Women\n",
      "[{\"user_id\":\"AFJBKPK5W56XWSNPQU2WW66ISWYQ\",\"rating\":5}]\n",
      "B096FQ8ND7 B096FQ8ND7 ATERCEL Weight Lifting Gloves Breathable Workout Gloves with Wrist Support for Gym, Exercise, Pull ups, Super Lightweight for Mens and Women, Full Palm Protection\n",
      "[{\"user_id\":\"AEAW3I4OQJJNGEUOTWPSTNF4NQYQ\",\"rating\":5}]\n",
      "B0994FNNNN B0994FNNNN ODODOS Women's High Waisted Yoga Capris with Pockets,Tummy Control Non See Through Workout Sports Running Capri Leggings\n",
      "[{\"user_id\":\"AEDB2WFGSUHI7BUWXNHS45KI6X2A\",\"rating\":3},{\"user_id\":\"AEHOUKDUSHPOEDHAISNAVI7ANZHA\",\"rating\":5},{\"user_id\":\"AE6YLEEPJ47WLVVHEJ4CSBONBVBA\",\"rating\":5},{\"user_id\":\"AHKQL6PGHDMRL2GNIE2RPRNK7MIQ\",\"rating\":5}]\n",
      "B09BJRBT4W B09BJRBT4W ZOMAKE Golf Umbrella 54/62/68 Inch, Large Windproof Umbrellas Automatic Open Oversize Rain Umbrella with Double Canopy for Men - Vented Stick Umbrellas\n",
      "[{\"user_id\":\"AHUPSSURLQ34LP2NWLZHML566WIA\",\"rating\":5}]\n",
      "B09BYRMVNB B09BYRMVNB Eco Sports Beach Volleyball - Vegan Volleyballs - Non-Toxic Outdoor Volley Ball or Indoor Volleyball\n",
      "[{\"user_id\":\"AFNL6B7KCS3NN3K5ADRPXO7EINUQ\",\"rating\":5}]\n",
      "B09C1C1SHD B09C1C1SHD Birchwood Casey Truoil Gun Stock Finish, Professional Choice\n",
      "[{\"user_id\":\"AFSDTNTR5DVFLBWC4Q4Y5SNG4TFQ\",\"rating\":5}]\n",
      "B09CH8W31W B09CH8W31W Nalgene Wide Mouth Water Bottle\n",
      "[{\"user_id\":\"AFAD6IGTLID7GW3T6WVNVBGUNQVA\",\"rating\":5},{\"user_id\":\"AHMHKNDYS5D3HHZTNRFYIL27DYNQ\",\"rating\":5}]\n",
      "B09D6WTRP2 B09D6WTRP2 METROLLER Inline Skates for Girls and Boys, Women, Men 4 Sizes Adjustable Roller Blades with Light Up Wheels, Illuminating Beginner Rollerblades for Kids & Adult Youth\n",
      "[{\"user_id\":\"AFJBKPK5W56XWSNPQU2WW66ISWYQ\",\"rating\":5}]\n",
      "B09DCK8TY3 B09DCK8TY3 LENPABY Soft Plastic Soft Lures Soft Fishing Lures for Bass, Paddle Tail Swimbaits, Jig Heads\n",
      "[{\"user_id\":\"AGAM2CCKV52HI4YZU7ASZTSXA7YQ\",\"rating\":5}]\n",
      "B09HCP37PR B09HCP37PR ALPS Mountaineering King Kong Chair, Green, Regular-38\" W x 20\" D x 38\" H\n",
      "[{\"user_id\":\"AFZUK3MTBIBEDQOPAK3OATUOUKLA\",\"rating\":5},{\"user_id\":\"AH3VYDJ2W7WFOLKOLJHPPD46FK2A\",\"rating\":5}]\n",
      "B09K34T7DP B09K34T7DP FOCO Mens NFL Team Logo Moccasin Slippers\n",
      "[{\"user_id\":\"AFJF43RWPYXPI7RP7WDT5I3NIC6A\",\"rating\":5},{\"user_id\":\"AFZEVJIUV62VQINN7P72BAUSJI7A\",\"rating\":4}]\n",
      "B09KY141GK B09KY141GK REEHUT Ankle Weights Set (1 Pair) for Women, Men and Kids, Wrist Arm Leg Weight for Fitness, Exercise, Walking, Jogging, Gymnastics, Aerobics, Gym (2lbs 3lbs 4lbs 6lbs 8lbs 10lbs)\n",
      "[{\"user_id\":\"AGWMCY5TZ5HNYJSFQ5CD5Z3QRZAA\",\"rating\":5}]\n",
      "B09L8H35CZ B09L8H35CZ Survival Kit 72 in 1, Gifts for Men, Professional Survival Gear Equipment Tools First Aid Supplies for SOS Emergency Tactical Hiking Hunting Disaster Camping Adventures\n",
      "[{\"user_id\":\"AHT3NNPRGAN65K6ESCJNKI7TPWPA\",\"rating\":5}]\n",
      "B09LHRV96L B09LHRV96L FBSPORT 8ft/9ft/10ft Balance Beam: Folding Floor Gymnastics Equipment for Kids Adults,Non Slip Rubber Base, Gymnastics Beam for Training, Practice, Physical Therapy and Professional Home Training\n",
      "[{\"user_id\":\"AEUQBHXM4A2DF5EWD3OUBUTCWXOA\",\"rating\":5}]\n",
      "B09LSDN942 B09LSDN942 JUANANIUG Hand Warmers Rechargeable, 5200mAh Electric Portable Pocket Hand Warmer/Power Bank, Great for Outdoor Sports, Hunting,Camping, Hiking, Golf, Warm Gifts for Women, Men Winter Gifts\n",
      "[{\"user_id\":\"AHUX7LYUKBTCPVVALKMMPH6JYCGQ\",\"rating\":5}]\n",
      "B09M5SF9W6 B09M5SF9W6 Puppy Face Dog Shirts Tank Top with Wide Strips Doggie Costumes T-Shirt Pet Clothes Vest Apparel for Small Extra Small Medium Large Extra Large Dog or Cat (XXSmall, Black and White)\n",
      "[{\"user_id\":\"AE2NGWVCCAOFRLRNPIP3F5YZIXAQ\",\"rating\":5}]\n",
      "B09M7CH4BD B09M7CH4BD Adult Arch & Logo Soft Style Gameday T-Shirt\n",
      "[{\"user_id\":\"AEWBQMOHOUFV6TMO4VUT2PZ7URZQ\",\"rating\":5},{\"user_id\":\"AED5CY57L474C37AHNRMT3BTS5LA\",\"rating\":5}]\n",
      "B09M7MWG49 B09M7MWG49 ALONG FIT Waist Trainer Vest for Women Plus Size Sweat Sauna Vest Neoprene Body Shaper\n",
      "[{\"user_id\":\"AGO7QYK2UBACAGSBAV3XHELRCA3A\",\"rating\":3}]\n",
      "B09MJPN7T1 B09MJPN7T1 Tarp Cover Brown/Silver Heavy Duty Thick Material Water Proof Tear Proof UV Resistant Reinforced Edges Boat Tent RV or Pool Cover 6x8\n",
      "[{\"user_id\":\"AEJFGVOJDY43M34SKOQ73MR5LDOQ\",\"rating\":5}]\n",
      "B09MK6WGMD B09MK6WGMD BALEAF Women's Fleece Lined Leggings Cold Weather Snow Pants Running Cycling Tights Winter Thermal Hiking Pants\n",
      "[{\"user_id\":\"AGBFYI2DDIKXC5Y4FARTYDTQBMFQ\",\"rating\":5},{\"user_id\":\"AFCSIDWSKICZ5UH26NREKPW25X4A\",\"rating\":5}]\n",
      "B09N6VLM45 B09N6VLM45 VeeFine Insulated Water Bottle with Straw Dishwasher Safe Metal Water Bottle BPA-Free Stainless Steel Water Bottles 20/32/40oz for Hiking Camping and School\n",
      "[{\"user_id\":\"AEIPJBAN7A55Q5DFFPZSR2UV3OKA\",\"rating\":5},{\"user_id\":\"AFWVN52MRBWOTIK7UGXBWGOY4HBA\",\"rating\":5},{\"user_id\":\"AHRAZJJ6MO5PHB772QRCVTHY5B7Q\",\"rating\":5}]\n",
      "B09RNT4WDK B09RNT4WDK Ultra Game NFL Men's Active Soft Fleece Jogger Sweatpants\n",
      "[{\"user_id\":\"AGVSXZIFJQRBGUJ6WCAKAI7L4YUQ\",\"rating\":5},{\"user_id\":\"AGVSXZIFJQRBGUJ6WCAKAI7L4YUQ\",\"rating\":5}]\n",
      "B09SHK7ZGH B09SHK7ZGH Rose Kuli Fishing Lures for Bass Trout Topwater Multi Jointed Swimbaits Slow Sinking Bionic Swimming Lures Bass Freshwater Saltwater Bass Lifelike Fishing Lures Kit\n",
      "[{\"user_id\":\"AH7CYOTLQP66VONKM73LS3JKX7SQ\",\"rating\":4}]\n",
      "B09SS1NK1B B09SS1NK1B Sweet Sweat Waist Trimmer for Women and Men - Sweat Band Waist Trainer for High-Intensity Training & Workouts, 5 Sizes\n",
      "[{\"user_id\":\"AHPBIP5JNVD4ZDTULYEAAX2PBDGQ\",\"rating\":5},{\"user_id\":\"AGGA3YUIO4JFSOOEWSHU5LB5C2TA\",\"rating\":4}]\n",
      "B09TD9HLYY B09TD9HLYY Get Out! Wooden Bowling Set - 12pc Lawn Bowling and Skittle Ball Games for Children and Adult Fun\n",
      "[{\"user_id\":\"AGOWLR52GJKEQ6ARUX5V6TJP7QLA\",\"rating\":5}]\n",
      "B09TSV8QFJ B09TSV8QFJ Bafeil Swim Vest Jacket for Unisex Adult,Floation Swimsuit Swimwear with Adjustable Safety Strap for Fishing Surfing Boating Kayaking Water Sports\n",
      "[{\"user_id\":\"AHV6QCNBJNSGLATP56JAWJ3C4G2A\",\"rating\":4},{\"user_id\":\"AFNL6B7KCS3NN3K5ADRPXO7EINUQ\",\"rating\":5}]\n",
      "B09W5GD1JT B09W5GD1JT TUDEQU Sling Bag Crossbody Sling Backpack with USB Charging Port, Water Resistant Shoulder Bag Outdoor Travel Hiking Daypack with WET Pocket Men Women Christmas Gifts (DARK BLUE)\n",
      "[{\"user_id\":\"AHJ62DSO6B7RJWVUVGYZJ4I5VDJA\",\"rating\":2}]\n",
      "B09WDMS1S2 B09WDMS1S2 Coleman SPORTFLEX Soft Cooler with 4-Way Stretch Mesh Pockets, Expandable Active Stretch Side Pockets, Cooler Bag, Soft Sided Cooler, Insulated Lunch Bag, Camping Cooler\n",
      "[{\"user_id\":\"AHV6QCNBJNSGLATP56JAWJ3C4G2A\",\"rating\":4}]\n",
      "B09WDRFZ6Q B09WDRFZ6Q KEEPTO 64 oz Water Bottles with Times to Drink,BPA Free Motivational Gallon Water Jug with Straw,Orange/Sky Blue Ombre\n",
      "[{\"user_id\":\"AEKBJYBZJEJPZUWDV7T6XXGP5NBA\",\"rating\":5},{\"user_id\":\"AFFO2TXPGQVHVTIMFRGT5YZ7M4OA\",\"rating\":5}]\n",
      "B09X5X9VYD B09X5X9VYD Retrospec Bike-Helmets Retrospec Remi Adult Bike Helmet for Men & Women - Bicycle Helmet for Commuting, Road Biking, Skating\n",
      "[{\"user_id\":\"AFKVV256MLQAVNB6TW7EJDZLYH7A\",\"rating\":5}]\n",
      "B09YSNSLNQ B09YSNSLNQ Franklin Sports Baseball + Softball Gloves - Field Master Adult + Youth Baseball + Softball Gloves - Right Hand + Left Hand Gloves - Infield + Outfield Mitts - Multiple Sizes + Colors\n",
      "[{\"user_id\":\"AFJBKPK5W56XWSNPQU2WW66ISWYQ\",\"rating\":4},{\"user_id\":\"AEOPDVB5QU2QUT5PM2DYD4HMJ3FA\",\"rating\":5}]\n",
      "B09YZ7HRDC B09YZ7HRDC FOCO NFL Resin 11.5\" Team Logo Outdoor Garden Statue Gnome\n",
      "[{\"user_id\":\"AH7CYOTLQP66VONKM73LS3JKX7SQ\",\"rating\":5}]\n",
      "B09Z6LCXRY B09Z6LCXRY Ski Goggles - Zeepoch OTG Snowboard Goggles with UV Protection Anti Fog for Men Women Adult Teenagers - Detachable Lens\n",
      "[{\"user_id\":\"AHSAUHUTLVNKJ72GUIPGI5XZH6ZA\",\"rating\":4}]\n",
      "B0B1CMF6SZ B0B1CMF6SZ Lady Classic Women's Soft Flex Golf Gloves with Magnetic Ball Marker with Removable Golf Ball Marker- Left Hand\n",
      "[{\"user_id\":\"AGOBXBFD53ALA3F6W62XJPLZQG2A\",\"rating\":5}]\n",
      "B0B2R8LC1R B0B2R8LC1R PSKOOK Survival Paracord Parachute Fire Cord Survival Ropes Red Tinder Cord PE Fishing Line Cotton Thread 7 Strands Outdoor 20, 25, 100 Feet\n",
      "[{\"user_id\":\"AFKACPZLPON4JTXLI3H7UCWAU3FA\",\"rating\":5}]\n",
      "B0B3X94CZZ B0B3X94CZZ Sukeen 12 Pack Cooling Towel (40\"x12\"), Ice Towel Sets,Soft Breathable Chilly Towel,Microfiber Towel for Yoga,Sport,Running,Gym,Workout,Camping,Fitness,Workout\n",
      "[{\"user_id\":\"AHLRW7X4WVLZJDS6BM6J3YP3NNSA\",\"rating\":5}]\n",
      "B0B41GGTTW B0B41GGTTW humangear GoToob Refillable Silicone\n",
      "[{\"user_id\":\"AECTH3EXV4XHY73DFU5ZZ5RWLB7A\",\"rating\":5}]\n",
      "B0B5WR9Z2C B0B5WR9Z2C Braided Fishing Line, 4 Strands & 8 Strands 20lb-200lb,Abrasion Resistant Superline Zero Stretch&Low Memory  PE Fishing Lines for Saltwater & Freshwater Fishing\n",
      "[{\"user_id\":\"AG5G4JJOBDKQSOQSMBRVR6MJ3VGA\",\"rating\":5}]\n",
      "B0B63FLRKV B0B63FLRKV Ebifin Women's Solid Suit Pants Business Casual Trousers Straight Leg Dress Pants with Pockets Work Slacks\n",
      "[{\"user_id\":\"AEIPJBAN7A55Q5DFFPZSR2UV3OKA\",\"rating\":4}]\n",
      "B0B8GHRPJ1 B0B8GHRPJ1 VAENAIT BABY Kids Unisex Sun Hat UPF 50+ Breathable Bucket Sun Protection Play Hat with Adjustable Chin Strap Mesh Lining\n",
      "[{\"user_id\":\"AGZMKHWSCB3UXDGFUPFRZSL4EAWQ\",\"rating\":5}]\n",
      "B0BBBWR2H6 B0BBBWR2H6 Earth Pak -Waterproof Dry Bag - Roll Top Dry Compression Sack Keeps Gear Dry for Kayaking, Beach, Rafting, Boating, Hiking, Camping and Fishing with Waterproof Phone Case\n",
      "[{\"user_id\":\"AESULNPZBFLN6DV425S2BPMGN76A\",\"rating\":5}]\n",
      "B0BFGW2QGW B0BFGW2QGW BEIFENG Heavy Duty Lightweight Locking Carabiner Clips D Ring for Camping Hiking Outdoor Gym etc, Carabiner with Lock Small Carabiners for Dog Leash & Harness\n",
      "[{\"user_id\":\"AHR4BEXIRURKL3POXW5RJFJLJDQQ\",\"rating\":5}]\n",
      "B0BGM8TW2T B0BGM8TW2T Healthy Human Stainless Steel Water Bottle | 100% BPA Free & Double Walled Vacuum Insulated Water Bottles | Eco-Friendly Stein Bottle with Carabiner & Leak Proof Lid\n",
      "[{\"user_id\":\"AHUYNN727VWY5ARFWDUKLWP36NSQ\",\"rating\":5},{\"user_id\":\"AGRJTJRP53Y2BUZLRF3EUTF65RSQ\",\"rating\":4}]\n",
      "B0BGQZ7H8L B0BGQZ7H8L Ultra Game NFL Mens Raglan Baseball 3/4 Long Sleeve T-Shirt\n",
      "[{\"user_id\":\"AGCJVVZDESTE3YFYJMQ7X3TXPOGQ\",\"rating\":5}]\n",
      "B0BGT9FQ9K B0BGT9FQ9K Emergency Blankets for Survival Gear and Equipment x4, Mylar Blankets, Space Blanket, Thermal Blanket, Emergency Blanket Car, Emergency Thermal Blankets for Survival Blanket Foil Blanket Solar Blanket\n",
      "[{\"user_id\":\"AGS47C3SO62X375JL7RWNBKCFXXA\",\"rating\":5}]\n",
      "B0BGVGG3NW B0BGVGG3NW 625lb Fishing Magnet Bundle Pack - Includes 6mm 100ft High Strength Nylon Rope with Carabiner, Non-Slip Rubber Gloves, Threadlocker & Super Strong Pulling Force Rare (Complete Kit)\n",
      "[{\"user_id\":\"AE7YYSYFEWAYIUCAK4W33CHPP4JQ\",\"rating\":5}]\n",
      "B0BL6SZ6JD B0BL6SZ6JD Orange Seal - Endurance Formula Tubeless Bike Tire Sealant | Long Lasting, Fast Sealing | for MTB, Road, CX and Gravel Bicycle Tires\n",
      "[{\"user_id\":\"AH5ZV3CIP4XOMHK45KM4DS2H3ZIQ\",\"rating\":5}]\n",
      "B0BLL7QVLN B0BLL7QVLN Franklin Sports MLB Baseball Batting Gloves - CFX Pro Adult + Youth Batting Glove Pairs - Baseball + Softball Batting Gloves Colors\n",
      "[{\"user_id\":\"AHF2OTODCQC4BETX7CHZMOHUBODQ\",\"rating\":5}]\n",
      "B0BM54836L B0BM54836L M MOYOOGA Camo Seamless Legging for Women High Waist Tummy Control Workout Gym Sport Active Yoga Fitness Pants\n",
      "[{\"user_id\":\"AFQQQ5LGNSQUEBGDCYBAZZE5T3DA\",\"rating\":5},{\"user_id\":\"AGZMKHWSCB3UXDGFUPFRZSL4EAWQ\",\"rating\":4}]\n",
      "B0BM8VRT75 B0BM8VRT75 Exercise Bands Resistance Bands Set Strength Training Fitness Bands Workout Bands Resistance Elastic Bands for Exercise\n",
      "[{\"user_id\":\"AH2KRJCMDPAGIOGC4MOAQEIHGE2A\",\"rating\":1}]\n",
      "B0BM9LLNGP B0BM9LLNGP Zeato All-in-One Skate Tools Multi-Function Portable Skateboard T Tool Accessory with T-Type Allen Key and L-Type Phillips Head Wrench Screwdriver\n",
      "[{\"user_id\":\"AGF42GID7QWDCNFTJRCTMKAITJJA\",\"rating\":5}]\n",
      "B0BMTBWZV2 B0BMTBWZV2 Tommy Bahama 5-Position Classic Lay Flat Folding Backpack Beach Chair, Polyester, Navy\n",
      "[{\"user_id\":\"AEUAL3EJKUSTNB4YY6STLYGTJALA\",\"rating\":5}]\n",
      "B0BMTZ412L B0BMTZ412L FOCO Men's NCAA College Team Logo Athletic Sport Shower Flip Flop Sandals Gel Slides\n",
      "[{\"user_id\":\"AE5GHFQZ6IXM4QNYTLTYJO24KQZQ\",\"rating\":5}]\n",
      "B0BNBJ2BTP B0BNBJ2BTP FOCO NFL Team Logo Metal Hanging Wall Bottle Cap Sign\n",
      "[{\"user_id\":\"AHTRY6YXVNYOGRTUYANAI2M7DUEA\",\"rating\":5}]\n",
      "B0BPW2F5T4 B0BPW2F5T4 Ultra Game NBA Men’s Super Soft Team Joggers Sweatpants\n",
      "[{\"user_id\":\"AGXFNB4LAEFSU3XCAJPZWQDUTB4Q\",\"rating\":5}]\n",
      "B0BR8F7B5X B0BR8F7B5X Hidrate Spark PRO Smart Water Bottle – Tracks Water Intake with Bluetooth, LED Glow Reminder When You Need to Drink – Chug Lid, 21oz, Black\n",
      "[{\"user_id\":\"AEXMLRVAL7A237OJGJFVBR4ZTU4Q\",\"rating\":5}]\n",
      "B0BRZ9B94J B0BRZ9B94J Siskiyou Sports NFL Unisex Logo Magnets\n",
      "[{\"user_id\":\"AHQWK4NKFDKGBECSGREIYM2F3INA\",\"rating\":4}]\n",
      "B0BTD6KRJC B0BTD6KRJC Hotdot Hand Warmers Rechargeable,Electric Hand Warmer Reusable,1 Pack 5200mAh Portable Charger,Hot Hands Pocket Heater,Gadgets for Men Outdoor Camping and Hunting,The Best Winter Gifts for Women\n",
      "[{\"user_id\":\"AFMVQ37GSDGMU3JVG6AGL5SAATLQ\",\"rating\":4}]\n",
      "B0BTHXPZWZ B0BTHXPZWZ Contigo Autoseal Chill Stainless Steel Water Bottles, 24 Oz, SS/Monaco & Monaco, 2 Pack\n",
      "[{\"user_id\":\"AEYGPUCRKH7G4VM22FM3VAKSQ23Q\",\"rating\":5},{\"user_id\":\"AEV6OL4GLSYMDNUHS4Y4DNVFDRHQ\",\"rating\":5},{\"user_id\":\"AEICZD35OTDYVWA2KPYWN4PDZ2SA\",\"rating\":4},{\"user_id\":\"AEDTQ5BNJM7GIYAO7C7QPTXSEZKA\",\"rating\":5},{\"user_id\":\"AG2OMQZ5ZSYVFM2D4OGZB3F2SQVQ\",\"rating\":5}]\n",
      "B0BTNC6XYL B0BTNC6XYL Champion Men's Powerblend Crewneck Sweatshirt,Best Crew Sweatshirts for Men(Reg. or Big & Tall)\n",
      "[{\"user_id\":\"AFZEVJIUV62VQINN7P72BAUSJI7A\",\"rating\":4}]\n",
      "B0BV2N47DV B0BV2N47DV FOCO Men's NCAA College Team Logo Floral Lifeguard Beach Straw Sun Hat\n",
      "[{\"user_id\":\"AH6LSFADKK56ZXNWKN32R2HPR2FA\",\"rating\":5}]\n",
      "B0BVC7RVTP B0BVC7RVTP 90 Degree By Reflex High Waist Fleece Lined Leggings - Yoga Pants\n",
      "[{\"user_id\":\"AEEZXJJJZMYYUHBQJ3E6Y5GYLD5Q\",\"rating\":5}]\n",
      "B0BVCKS4M3 B0BVCKS4M3 90 Degree By Reflex High Waist Fleece Lined Leggings with Side Pocket - Yoga Pants\n",
      "[{\"user_id\":\"AFDMZ4TRX3HXQQUGWAHJQTIF65BQ\",\"rating\":4},{\"user_id\":\"AEDTZCI4QCLKRFL5DA53JL47Z5UQ\",\"rating\":2}]\n",
      "B0BVNXXKZY B0BVNXXKZY Airhead Water Otter Elite Life Jacket | Flotation Devices for Kids | Multiple Colors Available\n",
      "[{\"user_id\":\"AEICZD35OTDYVWA2KPYWN4PDZ2SA\",\"rating\":4}]\n",
      "B0BX7CN9HC B0BX7CN9HC EAR BAND-IT Ultra Swimming Headband - Best Swimmer's Headband - Keep Water Out, Hold Earplugs in - Doctor Recommended - Secure Ear Plugs - Invented by ENT Physician - Small (See Size Chart)\n",
      "[{\"user_id\":\"AHOYOL27CCQ3YNONLAYGU2U7HM3A\",\"rating\":1},{\"user_id\":\"AHOYOL27CCQ3YNONLAYGU2U7HM3A\",\"rating\":1}]\n",
      "B0BXM64MQ4 B0BXM64MQ4 YouTheFan NFL Buffalo Bills Boasters\n",
      "[{\"user_id\":\"AGXRCFQ6CDA7ZSATOJHLJRZFPEYQ\",\"rating\":5},{\"user_id\":\"AFAEB5DJ54EJSKH4FNYRFEFJP4TQ\",\"rating\":5}]\n",
      "B0BXPRMHHM B0BXPRMHHM Modvel Ankle Brace for Women & Men - 1 Pair of Ankle Support Sleeve & Ankle Wrap - Compression Ankle Brace for Sprained Ankle, Achilles Tendonitis, Plantar Fasciitis, & Injured Foot\n",
      "[{\"user_id\":\"AHP72JXZGI7BXLCNOMT4G23YW6HQ\",\"rating\":1}]\n",
      "B0BYFLBC89 B0BYFLBC89 Reaction Tackle Braided Fishing Line - Pro Grade Power Performance for Saltwater or Freshwater - Colored Diamond Braid for Extra Visibility\n",
      "[{\"user_id\":\"AEDWRRZADBQDUTW7HBIWH4QSMUPQ\",\"rating\":5}]\n",
      "B0BYLNYZJX B0BYLNYZJX Nite Ize S-Biner Dual Carabiner\n",
      "[{\"user_id\":\"AE3VSUJHP2KB42ZW6RYEL2ZL2Z4Q\",\"rating\":5}]\n",
      "B0C15J77JL B0C15J77JL Champion Men's T-Shirt, Classic Tee for Men, Men's T-Shirt, Men's Tee (Reg. Or Big & Tall)\n",
      "[{\"user_id\":\"AFB7U3WZKWVHVRMROW6IJT4ZOLMQ\",\"rating\":2},{\"user_id\":\"AF25UMM5L3RFKFFJCQWFYH4DWM7A\",\"rating\":5},{\"user_id\":\"AFWRGOGF4AI2IHRX7KZ2IYL63RXA\",\"rating\":1},{\"user_id\":\"AFNVK27QX4RCTYKRFMLSGGCRAIIA\",\"rating\":5}]\n",
      "B0C1HN2MP3 B0C1HN2MP3 Schwinn Cruiser-Bicycles Mikko Huron Adult Beach Cruiser Bike\n",
      "[{\"user_id\":\"AFAIJYOUO3NAWLBDIKTQSC3DASWA\",\"rating\":5},{\"user_id\":\"AFPTVMYVXZNH3U4FFDNSSUXSDPNA\",\"rating\":2}]\n",
      "B0C51VB7X3 B0C51VB7X3 Speedo\n",
      "[{\"user_id\":\"AFCV25KA7XSAJGTZRDML5B7UYOVQ\",\"rating\":5},{\"user_id\":\"AFRFWDOOO3YXIEPZU5MMKSOK422A\",\"rating\":5}]\n",
      "B0C5MD619H B0C5MD619H XDX Kids Swim Goggles, 4/2 Pack Kids Goggles With UV Protection, Anti Fog Swimming Goggles for Boys Girls Teens 4-14\n",
      "[{\"user_id\":\"AFJBKPK5W56XWSNPQU2WW66ISWYQ\",\"rating\":5}]\n",
      "B0C5NR1ZB6 B0C5NR1ZB6 Polar Bottle Breakaway Insulated Bike Water Bottle - BPA Free, Cycling & Sports Squeeze Bottle (Bolt - Charcoal & Silver, 20 oz), Black Bolt\n",
      "[{\"user_id\":\"AHPFHP43AXWRYZZ4HPNCW7I7J3ZQ\",\"rating\":4},{\"user_id\":\"AEUAL3EJKUSTNB4YY6STLYGTJALA\",\"rating\":4}]\n",
      "B0C655KXW4 B0C655KXW4 Skateboard Bike Helmet Kids Teenagers CPSC Certified with Knee Pads Elbow Pads Wrist Guards Protective Gear Set Adjustable Helmet for Bicycle Helmet Scooter Roller\n",
      "[{\"user_id\":\"AGZMKHWSCB3UXDGFUPFRZSL4EAWQ\",\"rating\":5}]\n"
     ]
    }
   ],
   "source": [
    "# import json\n",
    "# from json import JSONEncoder\n",
    "# import numpy\n",
    "# class NumpyArrayEncoder(JSONEncoder):\n",
    "#     def default(self, obj):\n",
    "#         if isinstance(obj, numpy.ndarray):\n",
    "#             return obj.tolist()\n",
    "#         return JSONEncoder.default(self, obj)\n",
    "        \n",
    "for parent_asin, frame in grouped_df:\n",
    "    print(parent_asin, frame.iloc[0, frame.columns.get_loc('parent_asin')], frame.iloc[0, frame.columns.get_loc('title_x')], )\n",
    "    print(frame[['user_id', 'rating']].to_json(orient='records'))"
   ]
  },
  {
   "cell_type": "code",
   "execution_count": 56,
   "id": "7e7146ca-fbaf-44ef-90bd-7030b6ae6bb7",
   "metadata": {},
   "outputs": [],
   "source": [
    "import json\n",
    "import yaml\n",
    "from elasticsearch import Elasticsearch, helpers\n",
    "from sentence_transformers import SentenceTransformer"
   ]
  },
  {
   "cell_type": "code",
   "execution_count": 80,
   "id": "316724a3-5a3d-4b11-8947-b1229dcc2e71",
   "metadata": {},
   "outputs": [],
   "source": [
    "def get_client_es():\n",
    "    \"\"\"\n",
    "    Initializes Elasticsearch client using cloud_id and api_key from config.yml\n",
    "    \"\"\"\n",
    "    with open(\"config.yml\", \"r\") as file:\n",
    "        config = yaml.safe_load(file)\n",
    "    return Elasticsearch(config[\"cloud_url\"], api_key=config[\"api_key\"])"
   ]
  },
  {
   "cell_type": "code",
   "execution_count": 216,
   "id": "404c5db6-a5e0-4117-a3fa-e1dd18abf0c8",
   "metadata": {},
   "outputs": [],
   "source": [
    "def generate_bulk_actions(index_name, grouped_df, batch_start, batch_end):\n",
    "    \"\"\"\n",
    "    Generates bulk actions for Elasticsearch from data batches.\n",
    "    Adds 'description_embeddings' by encoding the 'description' field.\n",
    "    \"\"\"\n",
    "    # bad_range = range (101, 151)\n",
    "    # skip_list = set(bad_range)\n",
    "    index = 0\n",
    "    for parent_asin, frame in grouped_df:\n",
    "        if index >= batch_start and index <= batch_end: # and not index in skip_list:\n",
    "            document_id = parent_asin\n",
    "            item_record = frame.iloc[0][['main_category', 'title_x', 'average_rating', 'rating_number', 'features', 'description', 'price', 'categories', 'details', 'parent_asin', 'bought_together']]\n",
    "            item_record['ratings'] = frame[['user_id', 'rating']]#.to_json(orient='records')\n",
    "            item_text = item_record.to_json(orient='columns')\n",
    "            #item = {'parent_asin': parent_asin}\n",
    "            # item[\"description_embeddings\"] = get_text_vector(item[\"description\"])\n",
    "            yield {\"_index\": index_name, \"_id\": document_id, \"_source\": item_text}\n",
    "        index += 1"
   ]
  },
  {
   "cell_type": "code",
   "execution_count": 224,
   "id": "acfe838d-5c24-4181-ad05-ad1897b9798e",
   "metadata": {
    "collapsed": true,
    "jupyter": {
     "outputs_hidden": true
    }
   },
   "outputs": [
    {
     "name": "stdout",
     "output_type": "stream",
     "text": [
      "{\"_index\":\"gear_products\",\"_id\":\"B087LV5DCJ\",\"_source\":\"{\\\"main_category\\\":\\\"AMAZON FASHION\\\",\\\"title_x\\\":\\\"KALILY 12pcs\\\\\\/9pcs\\\\\\/6pcs Headband Bandana - Face Mask Headwear Neck Gaiter Shield Scarf\\\",\\\"average_rating\\\":4.4,\\\"rating_number\\\":4716,\\\"features\\\":[\\\"Microfiber\\\",\\\"\\\\u2605 FEATURES & CUSTOM SERVICE - 100% premium Microfiber.25x48cm\\\\\\/9.5x19inch (WidexLong). We have more than 200 designs for you to choose from. If you want to select designs that you like, just Click \\\\u201cSold by KALILY\\\\u201d to email us for custom order!\\\",\\\"\\\\u2605 COMFY TO WEAR, SAY GOODBYE TO HEADWEAR HEADACHES - Our headbands are very soft and stretchy, it fits head circumference from 21.25 to 25 Inch(54 to 64cm). It\\\\u2019s breathable & seamless, resulting in ultimate comfort and fewer bad hair days.\\\",\\\"\\\\u2605 12 DIFFERENT WAYS TO WEAR - Why buy a headband, neck gaiter, bandana, headwear and cap when you have it all in one here? In the summer, rock your headband to wick away sweat and protect yourself from the sun. Our headbands are worn by weekend warriors & buff athletes, stylish urbanites, and even cancer chemo patients. In the winter, rock it as a lightweight neck gaiter, face mask, beanie or balaclava, adding one of these as an extra layer of warmth for my ears, head, and neck.\\\",\\\"\\\\u2605 SUN PROTECTION, DUST PROOF & KEEP YOU DRY- Wear it as a face mask to protect your face get burned from sun rays directly. They keep the perspiration off your face when you work out in the gym or mow lawn in the garden. Also they help keep your nose and mouth clean from breathing dust. You also can keep one in your hair to prevent mud build up.\\\",\\\"\\\\u2605 ORDER WITH RISK FREE - All of our products pass international quality tests, such as Intertek and SGS, to ensure it dose no harm to your health. If there\\\\u2019s any problem when you receive the item, please feel free to let us know, we will be more than happy to resolve any issue for you.\\\"],\\\"description\\\":[\\\"Why choose KALILY headbands? Here're 4 reasons telling you why: Quality made from 100% premium microfiber, KALILY headbands have passed international quality organization Intertek & sgs tests to assure there??S no chemical leftover. It's very comfy to wear and not causing any allergies for your skin. Designs fashion designs makes you look great in any occasion. We have hundreds of different designs available. We believe you definitely can find those you like. You can wear this for daily out, fishing, hunting, hiking, running, working in the yard, walking the dog, mowing the garden or even chemo treatment in the hospital. It's great to wear for 24\\\\\\/7 price our price is the best for the same quality headbands on amazon. With this price, you even can't buy 1 headband from other brand ones, while here, you can get 6pcs or 9pcs. And you can share it with your friends or families it's not a simple cloth there're than 16 ways to wear it. You can use it as headband, face mask, balaclava, bandana and so on. It protects your skin from the harsh sun and uv rays, absorbs sweat and keep you cool in hot weather and keep your head, face, ear and neck warm in cold days. Note the headband edge is not sewn so that it will be slightly rolled up on the edges after using. But the unsewn edges won't inhibit it's effectiveness in performance, because it is made of 100% polyester microfiber, it's very normal that happens.\\\"],\\\"price\\\":15.99,\\\"categories\\\":[\\\"Sports & Outdoors\\\",\\\"Fan Shop\\\",\\\"Clothing Accessories\\\",\\\"Headbands\\\"],\\\"details\\\":{\\\"Is Discontinued By Manufacturer\\\":\\\"No\\\",\\\"Item Weight\\\":\\\"10.58 Ounces\\\",\\\"Item model number\\\":\\\"TIAN-53\\\",\\\"Department\\\":\\\"Mens\\\",\\\"Date First Available\\\":\\\"April 23, 2020\\\",\\\"Manufacturer\\\":\\\"Kalily\\\"},\\\"parent_asin\\\":\\\"B087LV5DCJ\\\",\\\"bought_together\\\":null,\\\"ratings\\\":{\\\"user_id\\\":{\\\"88\\\":\\\"AG7WKTZINOFIXMZJYIPKIB7PV7NQ\\\"},\\\"rating\\\":{\\\"88\\\":3}}}\"}\n"
     ]
    }
   ],
   "source": [
    "df = pd.DataFrame(list(generate_bulk_actions(\"gear_products\", grouped_df, 0, 200)))\n",
    "#print(df.iloc[150]['_source'])\n",
    "print(df.iloc[130].to_json())"
   ]
  },
  {
   "cell_type": "code",
   "execution_count": 199,
   "id": "7e0defd7-95bd-43ee-96aa-88d74183bd9e",
   "metadata": {},
   "outputs": [],
   "source": [
    "def index_grouped_df(grouped_df, index_name, batch_size):\n",
    "    \"\"\"\n",
    "    Indexes data from the JSON file in batches using Elasticsearch helpers.bulk.\n",
    "    \"\"\"\n",
    "    batch_start = 0\n",
    "    for batch_end in range (min(batch_size,len(grouped_df)), len(grouped_df), batch_size):\n",
    "        print(f\"Beginning batch {batch_start}..{batch_end}\")\n",
    "        try:\n",
    "            actions = generate_bulk_actions(index_name, grouped_df, batch_start, batch_end)\n",
    "            success, failed = helpers.bulk(get_client_es(), actions)\n",
    "            print(f\"Batch {batch_start}..{batch_end} indexed: {success} successful, {failed} failed\")\n",
    "        except Exception as e:\n",
    "            print(f\"An unexpected error occurred: {e}\")\n",
    "            #print(\"An unexpected error occurred\")\n",
    "        batch_start = batch_end + 1"
   ]
  },
  {
   "cell_type": "code",
   "execution_count": 289,
   "id": "640ba1cc-3901-453b-a666-c1c7cc354556",
   "metadata": {},
   "outputs": [
    {
     "name": "stdout",
     "output_type": "stream",
     "text": [
      "Beginning batch 0..30\n",
      "Batch 0..30 indexed: 31 successful, [] failed\n",
      "Beginning batch 31..60\n",
      "Batch 31..60 indexed: 30 successful, [] failed\n",
      "Beginning batch 61..90\n",
      "Batch 61..90 indexed: 30 successful, [] failed\n",
      "Beginning batch 91..120\n",
      "Batch 91..120 indexed: 30 successful, [] failed\n",
      "Beginning batch 121..150\n",
      "An unexpected error occurred: 5 document(s) failed to index.\n",
      "Beginning batch 151..180\n",
      "An unexpected error occurred: 30 document(s) failed to index.\n",
      "Beginning batch 181..210\n",
      "An unexpected error occurred: 30 document(s) failed to index.\n",
      "Beginning batch 211..240\n",
      "An unexpected error occurred: 30 document(s) failed to index.\n"
     ]
    }
   ],
   "source": [
    "index_grouped_df(grouped_df, \"gear_products\", 30)"
   ]
  },
  {
   "cell_type": "code",
   "execution_count": 35,
   "id": "8e288583-e04e-4f8d-bb58-a17047ecaaf0",
   "metadata": {
    "collapsed": true,
    "jupyter": {
     "outputs_hidden": true,
     "source_hidden": true
    },
    "scrolled": true
   },
   "outputs": [
    {
     "name": "stdout",
     "output_type": "stream",
     "text": [
      "parent_asin\n",
      "B000069K78                         AEBYEWLSJLC7OEDDSRZEQWY5WAZA\n",
      "B000HZGKVG                         AEK7VZMQTZU7BFZQQDYXNNJ2NMUA\n",
      "B00142MD62                         AGCI7FAH4GL5FI65HYLKWTMFZ2CQ\n",
      "B001Q3LTXC                         AGDLD6R6Z6WB5KNG6Z2L6LNRMLZQ\n",
      "B0029VOR0M                         AEU47A5R7NFWXCQLJMZA34AM63EA\n",
      "                                    ...                        \n",
      "B0C1HN2MP3    AFAIJYOUO3NAWLBDIKTQSC3DASWA, AFPTVMYVXZNH3U4F...\n",
      "B0C51VB7X3    AFCV25KA7XSAJGTZRDML5B7UYOVQ, AFRFWDOOO3YXIEPZ...\n",
      "B0C5MD619H                         AFJBKPK5W56XWSNPQU2WW66ISWYQ\n",
      "B0C5NR1ZB6    AHPFHP43AXWRYZZ4HPNCW7I7J3ZQ, AEUAL3EJKUSTNB4Y...\n",
      "B0C655KXW4                         AGZMKHWSCB3UXDGFUPFRZSL4EAWQ\n",
      "Name: user_id, Length: 243, dtype: object\n"
     ]
    }
   ],
   "source": [
    "denorm_df = merged_df.groupby('parent_asin')['user_id'].agg(lambda x: ', '.join(x))\n",
    "print(denorm_df)"
   ]
  },
  {
   "cell_type": "code",
   "execution_count": 6,
   "id": "3376ea61",
   "metadata": {
    "jupyter": {
     "source_hidden": true
    },
    "papermill": {
     "duration": 0.439343,
     "end_time": "2024-06-04T03:11:37.590831",
     "exception": false,
     "start_time": "2024-06-04T03:11:37.151488",
     "status": "completed"
    },
    "tags": []
   },
   "outputs": [],
   "source": [
    "# Loại bỏ các hàng có giá trị NaN trong cột 'title'\n",
    "merged_df.dropna(subset=['title'], inplace=True)"
   ]
  },
  {
   "cell_type": "code",
   "execution_count": 253,
   "id": "6f84edb5-c224-4fcc-846f-d108387b2093",
   "metadata": {
    "collapsed": true,
    "jupyter": {
     "outputs_hidden": true
    },
    "scrolled": true
   },
   "outputs": [
    {
     "name": "stdout",
     "output_type": "stream",
     "text": [
      "['Sports & Outdoors', 'AMAZON FASHION', 'Automotive', 'Books', 'Health & Personal Care', 'Amazon Home', 'Toys & Games', 'All Electronics', 'Tools & Home Improvement', 'Pet Supplies', 'Camera & Photo', 'Cell Phones & Accessories', 'Arts, Crafts & Sewing', 'Sports Collectibles', 'Industrial & Scientific', 'Grocery', 'Computers', 'Office Products', 'Collectible Coins', 'Baby', 'All Beauty', 'Portable Audio & Accessories', 'Musical Instruments', 'Appliances', 'GPS & Navigation']\n"
     ]
    }
   ],
   "source": [
    "unique_values = products_df['main_category'].unique().tolist()\n",
    "print(unique_values[1:])"
   ]
  },
  {
   "cell_type": "code",
   "execution_count": 236,
   "id": "44c50816-8cfc-4423-9457-02838a51f541",
   "metadata": {
    "collapsed": true,
    "jupyter": {
     "outputs_hidden": true
    }
   },
   "outputs": [
    {
     "name": "stdout",
     "output_type": "stream",
     "text": [
      "1389\n",
      "['Sports & Outdoors', 'Sports', 'Skates, Skateboards & Scooters', 'Skateboarding', 'Skateboard Parts', 'Wheels', 'Boating & Sailing', 'Boating', 'Dry Bags', 'Fan Shop', 'Jewelry & Watches', 'Earrings', 'Inline & Roller Skating', 'Roller Skates', 'Outdoor Skates', 'Sports Equipment', 'Golf Equipment', 'Golf Bag Towels', 'Clothing', 'T-Shirts', 'Winter Sports', 'Winter Sports Accessories', 'Goggles & Lenses', 'Goggles', nan, 'Hunting & Fishing', 'Fishing', 'Fly Fishing', 'Accessories', 'Fly Tying Materials', 'Water Sports', 'Diving & Snorkeling', 'Rash Guards', 'Men', 'Sweatshirts & Hoodies', 'Lures, Baits & Attractants', 'Plugs', 'Exercise & Fitness', 'Strength Training Equipment', 'Weights & Accessories', 'Weight Belts', 'Cycling', 'Bikes', 'Mountain Bikes', 'Collars', 'Auto Accessories', 'Decals & Bumper Stickers', 'Decals', 'Bags, Packs & Accessories', 'Wallets', 'Golf', 'Grip Repair Kits', 'Snowboarding', 'Boots', 'Other Sports', 'Equestrian Sports', 'Tack', 'Saddles & Accessories', 'Saddle Blankets & Pads', 'Saddle Pads', 'Sports & Outdoor Recreation Accessories', 'Sports Sunglasses', 'Fishing Hats', 'Leisure Sports & Game Room', 'Billiards & Pool', 'Cue Chalk', 'Water Sports Accessories', 'Gloves', 'Women', 'Shorts & Pants', 'Tights & Leggings', 'Head Covers', 'Rings', 'Terminal Tackle & Accessories', 'Hooks', 'Outdoor Recreation', 'Camping & Hiking', 'Backpacks, Bags & Accessories', 'Backpacking Packs', 'Hiking Daypacks', 'Parts & Components', 'Suspension', 'Rear Shocks', 'Hydration Packs', 'Backpacks', 'Jerseys', 'Roller Derby Skates', 'Bike Racks & Bags', 'Cargo Racks', 'Toys & Game Room', 'Games', 'Archery', 'Arrows & Parts', 'Points', 'Team Sports', 'Ice Hockey', 'Grips & Tapes', 'Camp Kitchen', 'Coolers', 'Bike Pumps', 'CO2 Pumps', 'Home & Kitchen', 'Décor', 'Area Rugs', 'Kayaking', 'Paddles', 'Clothing Accessories', 'Headbands', 'Soft Lures', 'Racks & Cages', 'Power Cages', 'Bars', 'Airsoft', 'Guns & Rifles', 'Pistols', 'Jigs', 'Kitchen & Dining', 'Cups & Glasses', 'Tumblers', 'Handbags & Purses', 'Scooters & Equipment', 'Scooters', 'Kick Scooters', 'Bike Mirrors', 'Helmets', 'Breastplates, Breast Collars & Martingales', 'Breast Collars', 'Other Team Sports', 'Roller Hockey', 'Balls & Pucks', 'Handlebars, Headsets & Stems', 'Grips', 'Cardio Training', 'Rowers', 'Boat Trailer Accessories', 'Guides & Rollers', 'Yoga', 'Mat Bags', 'Trophies, Medals & Awards', 'Plaques', 'Patio, Lawn & Garden', 'Outdoor Statues', 'Sports Medicine', 'Mouthguards', 'Water Helmets', 'On-Course Accessories', 'Umbrellas', 'Straps', 'Benches', 'Adjustable Benches', 'Roller Skate Parts', 'Sports Water Bottles', 'Riding Gloves', 'Boat Cabin Products', 'Storage', 'Bushings', 'Golf Gift Sets', 'Seats & Saddles', 'Seat Clamps', 'Boxing', 'Punching Bags', 'Speed Bags', 'Dance', 'Tap Dancing Equipment', 'Darts & Equipment', 'Darts', 'Sailing', 'Hardware', 'Shooting', 'Gun Accessories, Maintenance & Storage', 'Gun Holsters, Cases & Bags', 'Gun Slings', 'Caps & Hats', 'Baseball Caps', 'Diving Suits', 'Wetsuits', 'Full Suits', 'Bridles & Accessories', 'Headstalls', 'Waterskiing & Towsports', 'Towables', 'Gun Holsters', 'Hunting', 'Game Handling', 'Game Belts & Bags', 'Forks', 'Rigid Forks', 'Footwear', 'Slippers', 'Hunting Bags & Belts', 'Hunting Bags', 'Wall Clocks', 'Safety & Survival', 'Survival Kits', 'Trophies', 'Resistance Bands', 'Pistol Cases', 'Hard Pistol Cases', 'Electronics', 'Tablet Accessories', 'Spoons', 'Swimming', 'Golf Balls', 'Standard Balls', 'Stove Accessories', 'Fire Starters', 'Knives & Tools', 'Fixed-Blade Knives', 'Gun Maintenance', 'Gun Lubrication', 'Charms', 'Electric Bicycles', 'Gun Parts & Accessories', 'Balance Trainers', 'Foam Rollers', 'Shorts', 'Helmets & Accessories', 'Adult Helmets', 'Training Equipment', 'Training Fins', 'Inline Skates', \"Children's Inline Skates\", 'Fishing Line', 'Braided Line', 'Sports Water Bottle Accessories', 'Climbing', 'Carabiners & Quickdraws', 'Locking Carabiners', 'Skullies & Beanies', 'Martial Arts', 'Weapons', 'Knives', 'Rangefinders', 'Bouldering & Wall Equipment', 'Chalk Bags', 'Gun & Ammunition Storage & Safes', 'Ammunition & Magazine Boxes, Cans & Cases', 'Dumbbells', 'Strength Training Devices', 'Grip Strengtheners', 'Fly Line', 'Bait Rigs', 'Jackets', 'Outdoor Games & Activities', 'Disc Sports', 'Disc Golf', 'Discs', 'Drivers', 'Handlebars', 'Tailgating Toss Games', 'Outdoor Flags', 'Car Magnets', 'Inline Skate Parts', 'Football', 'Alarm Clocks', 'Electronics & Gadgets', \"Kids' Bikes & Accessories\", \"Kids' Protective Gear\", 'Rope, Cord & Webbing', 'Utility Cord', 'Running', 'Waist Packs', 'Bike Baskets', 'Baseball', 'Baseball Bats', 'Pet Gear', 'Pet Clothing', 'Pet Dresses', 'Paintball', 'Tanks, Regulators & Parts', 'Tanks', 'Wheels & Accessories', 'Basketball', 'Shooter Sleeves', 'License Plate Frames', 'Tires & Tubes', 'Valve Caps', 'Seat Posts', 'Dry Boxes', 'Fitness Wall Charts', 'Artwork', 'Prints & Posters', 'Boat Engine Parts', 'Boxing Gloves', 'Training Gloves', 'Decks', 'Golf Cart Accessories', 'Pet Bandanas', 'Soft Pistol Cases', 'Mats', 'Bike Brakes & Parts', 'Brake Parts', 'Mounts & Adapters', 'Pickleball', 'Lights & Reflectors', 'Lighting Parts & Accessories', 'Bracelets', 'Electrical Equipment', 'Navigation Lights', 'Baits & Accessories', 'Bait Traps', 'Camping Furniture', 'Chairs', 'Heavy Bags', 'Fishing Boot & Wader Bags', 'Tennis & Racquet Sports', 'Tennis', 'Balls', 'Toss Games', 'Ring Toss', 'Sleeping Bags & Camp Bedding', 'Blankets', 'Socks', 'Ammunition & Magazine Pouches', 'Reins', 'Swivels', 'Hydration', 'Water Bottle Cages', 'Tree Stands, Blinds & Accessories', 'Tree Stand Accessories', 'New Fall & Winter Arrivals', 'Bedding', 'Throw Blankets', 'Golf Clubs', 'Putters', 'Treadmills', 'Cue Sticks & Accessories', 'Rims & Parts', 'Rim Tape', 'Cell Phone Accessories', 'Exercise Balls & Accessories', 'Exercise Balls', 'Brakes', 'Towels', 'Paddling Clothing', 'Tactical & Personal Defense', 'Tactical Bags & Packs', 'Tactical Pouches', 'Bike Pack Accessories', 'Plates', 'Lights & Lanterns', 'Lanterns', 'Electric Lanterns', 'Bath', 'Beach Towels', 'Tires', 'Bowling', 'Bowling Balls', 'Hunting Dog Equipment', 'Wrist & Ankle Weights', 'Complete Sets', 'Reels & Accessories', 'Reels', 'Waist Trimmers', 'Shafts', 'Bumper Stickers', 'Air Mattresses', 'Speed & Agility Training', 'Necklaces & Pendants', 'Stunt Scooters', 'Air Guns & Accessories', 'Air Guns', 'Air Pistols', 'Swim Vests', 'Handlebar Tape', 'Starter Balls & Bats', 'Plastic Balls', 'Protective Gear', 'Replacement Mask Lenses', 'Top Golf Picks', 'Tents & Shelters', 'Camping Shelters', 'Sun Shelters', 'Kettlebells', 'Bike Brake Cables & Housing', 'Picture Frames', 'Docking & Anchoring Equipment', 'Dock Lines & Rope', 'Ice Fishing', 'Shelters', 'Bowls', 'Nocks', 'Locks', 'Fitness Technology', 'Activity & Fitness Trackers', 'Watches', 'Soccer', 'Player Equipment', 'Shin Guards', 'Folding Knives', 'Snowboards', 'Freestyle Boards', 'Baseball Mitts', \"Outfielder's Mitts\", 'Volleyball', 'Volleyballs', 'Outdoor Volleyballs', 'Hitting Nets', 'Gymnastics', 'Mats & Flooring', 'Training Mats', 'Hunting Knives', 'Fixed Blade Hunting Knives', 'Ball Racks', 'Racquets', 'Boys', 'Targets & Accessories', 'Sleeping Bag Accessories', 'Stuff Sacks', 'Baits & Attractants', 'Halters & Leads', 'Halters', 'Pants', 'Hydration & Filtration', 'Canteens', 'Optics', 'Night Vision', 'Night Vision Binoculars & Goggles', 'Sports Souvenirs', 'Mini Helmets', 'Bath Accessories', 'Jumping Trainers', 'Stirrups', 'Olympic Weight Benches', 'Bags', 'Bowling Roller Bags', 'Trampolines & Accessories', 'Parts & Accessories', 'Parts', 'Hand Wraps', 'Diploma Frames', 'Personal Defense Equipment', 'Tactical Flashlights', 'Equipment Bags', 'BMX', 'Hunting Sales & Deals', 'Scarves', 'Memorabilia Display & Storage', 'Display Cases', 'Bike Tools & Maintenance', 'Shop Tools', 'Cooler Accessories', 'Derailleurs & Shifters', 'Shifters & Parts', 'Shift Cables & Housing', 'Rifles', 'Panniers & Rack Trunks', 'Hand & Foot Warmers', 'Hand Warmers', 'Sunglasses', 'Outdoor Pennants', 'Batting Gloves', 'Skate Accessories', 'Under Armour Outlet', 'Enclosures', 'Cots & Hammocks', 'Hammocks', 'Glasses & Goggles', 'Pilates', 'Fitness Circles', 'Stoves & Grills', 'Camping Stoves', 'Rods & Accessories', 'Rods', 'Masks', 'Blinds', 'Personal Care', 'Hygiene & Sanitation', 'Field, Court & Rink Equipment', 'Soccer Field Equipment', 'Deck Hardware', 'Outerwear', 'Sweaters & Vests', 'Surfing', 'Water Booties & Socks', 'Kayak Accessories', 'Racquet Accessories', 'Racquet Strings', 'Car Racks & Carriers', 'Bike Racks', 'Steering Wheel Covers', 'Trading Cards', 'Joint Wraps', 'Balance Boards', 'Snowmobiling', 'Safety & Flotation Devices', 'Life Jackets & Vests', 'Exercise Equipment Mats', 'Arcade & Table Games', 'Drinking Games', 'Corks, Floats & Bobbers', 'Brake Pads', 'Swimwear', 'Gym & Competition Equipment', 'Laces', 'Tool Kits', 'Flies', 'Dry Flies', 'Field Equipment', 'Bases & Pitching Rubbers', 'Pitching Rubbers', 'Cornhole', 'Cornhole Bags', 'Vents & Deck Plates', 'Putters & Clubs', 'Cabinet Hardware & Hinges', 'Racquet Grips', 'Wrestling', 'Tables & Accessories', 'Tables', 'Sights & Optics', 'Gun Scope Mounts', 'Lead Core & Wire Line', 'Rod & Reel Combos', \"Infielder's Mitts\", 'Novelty Headwear', 'Tennis & Racket', 'Kayak Hardware', \"Children's Roller Skates\", 'Pedals & Cleats', 'Replacement Cleats', 'Skateboards & Caster Boards', 'Standard Skateboards', 'Hubs', 'Ties', 'Stabilizers', 'Balance Beams & Bases', 'Headphones', 'Golf Club Parts', 'Pet Collars & Harnesses', 'Pet Harnesses', 'Spokes & Parts', 'Spokes', 'Indoor Volleyballs', 'Table Tennis', 'Table Tennis Sets', 'Tactical Knives', 'Sleeping Bags', 'Hunting Accessories', 'Camouflage Accessories', 'Snorkeling Packages', 'Cooking Utensils', 'Saddles', 'Battery Chargers', 'Training Putters', 'Flag Football Belts', 'Pet Jerseys', 'Tubes', 'Boat Fenders', 'Bearings, Hubs & Springs', 'Action Figures & Toy Figurines', 'Cheerleading', 'Poms', 'Topwater Lures', 'Climbing Holds', 'Video Games & Accessories', 'Skiing', 'Cross-Country Skiing', 'Bindings', 'Optics Mounts & Rings', 'Optics Mounts', 'Baseballs', \"Kids' Helmets\", 'Foosball', 'Foosball Accessories', 'Roller Bags', 'Monopods & Bipods', 'Sweaters', 'Tents', 'Gun Scopes', 'Handgun Scopes', 'Duffels', 'Longboards', 'Emergency Fire Starters', 'Midrange Discs', 'Shot Glasses', 'Sinkers & Weights', 'Golf Club Head Covers', 'Diving Packages', 'Gunsmithing Tools', 'Self-Inflating Sleeping Mats', 'Diving Fins', 'Paracord', 'Webbing', 'Foam Sleeping Mats', 'Polo Shirts', 'Boat Covers', 'Trucks', 'Practice Balls', 'Components & Parts', 'Replacement Wheels', 'Ladder Ball', 'Tactical Backpacks', 'Rocker Switches', 'Wire Terminals', 'Batteries & Battery Chargers', 'Eyewear', 'Ice Skating', 'Ice Skates', 'Figure Skates', 'Dip Stands', 'Gun Sights', 'Leashes', 'Tent Accessories', 'Tent Stakes', 'Swim Caps', 'Surfboards', 'Shortboards', 'Outdoors Outlet', 'Pet Collars', 'Furniture', 'Folding Chairs', 'Lines', 'Anchors', 'Pull-Up Bars', 'Heads', 'Boat Motors', 'Outboard Motors', 'Daypacks & Casual Bags', 'Singlets', 'Rifle Scopes', 'Shirts & Polos', 'Softball', 'Bats', 'Slow-Pitch Softball Bats', 'Sauna Suits', 'Handlebar Bags', 'Regulator Accessories', 'Car Flags', 'Thigh & Hip Strengtheners', 'Cornhole Sets', 'Drivetrain Components', 'Cassettes & Freewheels', \"Kids' Accessories\", 'Bike Covers', 'NFLShop: Seller Storefront', 'Triathlon', 'Skinsuits & Wetsuits', 'Pet Bowls', 'Trolling Motors', 'Shift Levers', 'Broadheads', 'Spoke Decorations', 'Self Balancing Scooters', 'Cranksets', 'License Plate Covers', 'Coach & Referee Gear', 'Whistles', 'Kayaks', 'Whitewater Kayaks', 'Ornaments', 'Headgear', 'Board Bags', 'Arm Guards', 'Sandals', 'Air Rifles', 'Dartboards', 'Ice Spearing Equipment', 'Girls', 'Finish Line Sale', 'Pet T-Shirts', 'Pennants', 'Jump Ropes', 'Targets', 'Chains', 'Washers', 'Leader Rigging', 'Bike Trainers & Accessories', 'Resistance Trainers', 'Accessory & Keychain Carabiners', 'Headlight-Taillight Combinations', 'Attractants', 'Catcher Chest Protectors', 'Fuel Tanks', 'Gauges', 'Digital Gauges', 'Fast-Pitch Softball Bats', 'Batting Trainers', 'Bag Gloves', 'Liners', 'Photos', 'Weight Storage Racks', 'Dumbbell Racks', 'Key Chains', 'Air Hockey', 'Finger Tabs', 'Punching Bag Accessories', 'Hangers', 'Fight Gloves', 'Padded Shorts', 'Ski Bags', 'Tank Tops', 'Poker', 'Poker Sets', 'Hybrid & Utility Clubs', 'Aprons', 'Compasses', 'Tools', 'Fish Scales', 'Dishes & Utensils', 'Swords', \"Kids' Bikes\", 'Tires & Wheels', 'Skis', 'Exercise Machine Parts & Accessories', 'Exercise Machine Attachments', 'Baby Clothing', 'Creepers & Rompers', 'Catcher Leg Guards', 'Tackle Storage Bags & Wraps', 'Scents & Scent Eliminators', 'Scents', 'Blades', 'Quivers', 'Ball Markers', 'Arrows & Shafts', 'Hunting Arrows', 'Vibration Platform Machines', 'Fishing Gloves', 'Footwear & Accessories', 'Gaiters', 'Food Processing', 'Knives, Axes & Saws', 'Thermocoolers', 'Swivels & Snaps', 'Internal Frame Backpacks', 'Office Products', 'Waste Baskets', 'Lacrosse', 'Chest Protectors', 'Headlights', 'Cornhole Boards', 'Gyroscopic Hand Exercise Balls', 'Pedals', 'Rope', 'Weather Monitors', 'Cue Sticks', 'Safety Belts & Harnesses', 'Fitness Planners', 'Track & Field', 'Meet Equipment', 'Coffee Mugs', 'Propellers', 'Spring into Sports | Amazon.com', 'Divot Tools', 'Car Racks, Transportation & Storage', 'Indoor Bike Storage', 'Seating', 'Derailleurs', 'Front Derailleurs', 'Stilts', 'Crops, Whips & Spurs', 'Whips', 'Wall Decals', 'Field Dressing Accessories', 'Rod Holders', 'Uniforms & Apparel', 'Training Aids', 'Belt Displays', 'Heart Rate Monitors', 'Freeze-Dried Food', 'Magnets', 'Vibration Dampeners', 'Wakeboarding', 'Flatware', 'Irons', 'Single Clubs', 'Taillights', 'Coffee & Tea Pots', 'Seat Covers', 'Bowstrings', 'Emblems', 'Sets', 'Backstops', 'Knee Pads', 'Tent Tarps', 'Billiard Cloth', 'Child Seats & Cargo Trailers', 'Child Seats', 'Fairway Woods', 'Toe Stops & Plugs', 'Protective Body Equipment', 'Diving Lights', 'Blocks', 'Chainrings', 'Charts & Maps', 'Camping Pillows', 'Skinsuits', 'Footprints', 'Reformers', 'Pushup Stands', 'Fungo & Training Bats', 'Road Bikes', 'Monofilament Line', 'Foot Warmers', 'Bows', 'Recurve Bows', 'Wrist Wraps', 'Game Calls', 'Deer', 'Street Signs', 'Gun Racks', 'Indoor Gun Racks', 'Brake Levers', 'Golf Club Bags', 'Cart Bags', 'Exercise Bikes', 'Snowshoeing', 'Snowshoes', 'Shore Power Adapters', 'Nets & Posts', 'Grip Tape', 'Downhill Skiing', 'Clips', 'Mitt Accessories', 'Mitt Treatments', 'Travel Mugs', 'Pads', 'Bike Locks', 'Cable Locks', 'Soccer Equipment', 'Turkey', 'Tactical Bag Accessories', 'Mat Straps', 'Inflation Devices & Accessories', 'Step Platforms', 'Cue Tips', 'Bits', 'Billiard Balls', 'Fishing Kayaks', 'Spotting Scopes', 'Net Systems', 'First Aid Kits', 'Kickboards', 'Fuel Lanterns', 'Bat Accessories', 'Tees', 'Electronic Basketball', 'Slingshots', 'Swing Trainers', 'Ski & Snowboard Racks', 'Pepper Spray', 'Elbow Pads', 'Backpack Accessories', 'Pack Covers', 'Beer Glasses', 'Treadmill Replacement Parts', 'Treadmill Motors', 'Boxing Pads', 'Pet Leashes', 'Suspension Trainers', 'Weight Vests', 'Indoor Surfboard Storage', 'Drawstring Bags', 'Fletches', 'Covers', 'Gun Belts', 'Exercise Wheels', 'Bodyboards', 'Fishing Rods & Reels', 'Laser Rangefinders', 'Hitting Mats', 'Tactical Vests', 'Fan Shop Spend More, Save More Deal', 'Stand-Up Paddleboarding', 'Stand-Up Paddleboards', 'Horizontal Bars', 'Adult Bikes', 'Game & Trail Cameras', 'Dresses & Skirts', 'Handball', 'Protective Padding', 'Hand & Arm Pads', 'Spinners & Spinnerbaits', 'Trekking Poles', 'Clothing Sets', 'Carry Bags', 'Flags', 'Ski & Snowboard Tuning Equipment', 'Bottom Brackets', 'Bike Bells', 'Boats', 'Pontoon Boats', 'Court Equipment', 'BBs', 'Folding Hunting Knives', 'Batteries', 'Hunting & Fishing Promotion', 'Sledding', 'Gun Stocks', 'Camping Grills', 'Diving Masks', 'Rubbers', 'Emergency Blankets', 'Racing Skates', 'Weight Machines', 'Leg Machines', 'Gameday & Tailgating', 'Stadium Seats & Cushions', 'Compound Bows', 'Shoe Covers', 'Tote Bags', 'Stand Bags', 'Camping Cookware', 'Pots, Pans & Griddles', 'Motor Flushers', 'Trampolines', 'Thermoses', 'Rests', 'Fly Tying Equipment', 'Poles', 'Golf Club Bag Accessories', 'Trailer Winches', 'Boot Bags', 'Brake Hoses', 'Boat Plumbing', 'Plumbing Fittings', 'Free-Weight Racks', 'Corner Flags', 'Fabric', 'Stems', 'Reflective Gear', 'Fencing', 'Chest Guards', 'Open Fire Cookware', 'Baseball Equipment', 'Harnesses', 'Batting Helmets', 'Grips & Grip Tape', 'Climbing Gloves', 'Line Spooling Accessories', 'Standard Weight Benches', 'Skates', 'Nets & Accessories', 'Nets', 'Scorebooks', 'Ball Retrievers', 'Stun Guns', 'Treadmill Belts', 'Ultimate', 'Hybrid Bikes', 'Bed Pillows', 'Lunch Boxes', 'Snow Tubes', 'Batting Cages', 'Eyewear & Hearing Protection', 'Earmuffs', 'Spray Skirts', 'Boat Compasses', 'Coasters', 'Mitt Padding', 'Squash', 'Kneeboarding', 'Bike Lube', 'Elliptical Trainers', 'Trailer Hitch Covers', 'Gun Snakes', 'Comforters', 'Gun Cleaning Kits', 'Tire Repair Kits', 'Suspension Forks', 'Nonlocking Carabiners', 'Cricket', 'Fenders', 'Bearings', 'Speed Skates', 'Softballs', 'Slow-Pitch Softballs', 'Racquetball', 'New Arrivals in Athletic & Outdoor Clothing', 'Cups & Mugs', 'Rigging', 'Axes & Hatchets', 'Inversion Equipment', 'Air Gun Pellets', 'Boxing Gym Equipment', 'Leaders', 'Seat Packs', 'Sheets', 'Safety Gear', 'Headlamps', 'Sneakers', 'Badge Holders', 'Targets & Baskets', 'Remotes', 'Diving Boots', 'Football Equipment', 'Snow Sleds', 'Snorkel Vests', 'Workstands', 'Interior Lights', 'Traction Pads', 'Cones & Pylons', 'Bed-in-a-Bag', 'Floormats', 'New Orleans Saints', 'Padding Supplies', 'Bear Protection', 'Trailers', 'Child Carrier Trailers', 'Duffel Bags', 'Leg Exercisers', 'Reflectors', 'Rackets', 'U-Locks', 'Rear Derailleurs', 'Jerseys & Shirts', 'Bathroom Towels', 'Releases & Aids', 'Release Aids', 'Maintenance Supplies', 'Safety Glasses', 'Bridges & Bridge Heads', 'Inflatable Rafts', 'Golf Tees', \"First Baseman's Mitts\", 'Wire', 'Seating Accessories', 'Rim Strips', 'Cases', 'Sleeve Patches', 'Tree Stands', 'Mountaineering & Ice Equipment', 'Ice Tools', 'Tops', 'Earplugs', 'Sights', 'Flexbands', 'Reservoirs', 'Spotlights', 'Fitness Trampolines', 'Bow Cases', 'Sports and Apparel for Back to School | Amazon.com', 'Goalkeeper Gloves', 'Dock Guards', 'Helmet Accessories', 'Luggage Tags', 'Belay & Rigging', 'Ascenders', 'Medals', 'Eggs', 'Drysuits', 'Face Guards', 'Canoeing', 'Canoe Seats & Thwarts', 'Tackle Boxes', 'Starter Sets', 'Hockey Equipment', 'Hockey Pucks', 'Skate Bags', 'Horns', 'Rifle Cases', 'Soft Rifle Cases', 'Cleaners', 'Lamps', 'Shovels', 'Sticks', 'Insert Tape', 'Magazines', 'Stringing Machines & Tools', 'Bilge Pumps', 'Football Machines', 'Double-End Bags', 'Loaders & Accessories', 'Loaders', 'Table Covers', 'Stopwatches', 'Hard Hats', 'Paddle Accessories', 'Crossbows', 'Pedometers', 'Hand Targets & Focus Mitts', 'Disc Brake Sets', 'Optics Accessories', 'Diving Gloves', 'Battle Ropes', 'Ice Augers', 'Bobbleheads', 'Photomints', 'Cots', 'Brake Calipers', 'Dresses', 'Backpacking Stoves', 'Game Feeders & Accessories', 'Game Feeders', 'Panels', 'Steering Equipment', 'Rib Protectors', 'Standard Bases', 'Aquatic Fitness Equipment', 'Control Cables', 'Wall Banners', 'Pliers & Hook Removers', 'Teasers', 'Exercise Mats', 'Paddleboard Accessories', 'Cleat Covers', 'Entry Mats', 'Kicking Targets', 'Pegs', 'Indoor Kayak Storage', 'Cruiser Bikes', 'Basketball Court Equipment', 'Basketball Hoops & Goals', 'Portable', 'Shorty Suits', 'Training Wheels', 'Step Machines', 'Badminton', 'Megaphones', 'Outdoor Thermometers', 'Golf Umbrellas', 'Stools', 'Wet Flies', 'Upper Body Machines', 'Protective Pants', 'Santa App 2012 - Sports & Outdoors', 'Rod Racks', 'Agility Ladders', 'Combination Tables', 'Frame-Mounted Pumps', 'Comfort Bikes', 'Spoke Tools', 'Fluorocarbon Line', 'Skimboards', 'Jackets & Coats', 'Scoreboards & Timers', 'Compression Sacks', 'Game Carts', 'Optics Rings', 'Diving Valves', 'Grills & Accessories', 'Grill Accessories', 'Tree Steps', 'Pins', 'Tire Covers', 'Outdoor Spring New Arrivals', 'Boresighters', 'Car Rack Accessories', 'Tie-Downs', 'Saws', 'Foosball Tables', 'Tank Covers', 'Swim Belts', 'Cue Shaft Cleaning & Maintenance', 'Dock Cleats', 'Horseshoes', 'Throwing Equipment', 'Shot Puts', 'Shoulder Pads', 'Cuff Links', 'Tetherball', 'Focus Bags', 'Ski & Snowboard Wax', 'Headset Spacers', 'Girths', 'Hoodies & Sweaters', 'Basketball Equipment', 'Backboards', 'Protective Screens', 'Water Polo', 'Cleats & Chocks', 'Waterskis', 'Wedges', 'Lob Wedges', 'Dive Skins', 'Booties & Socks', 'Goals', 'Crampons', 'Scent Eliminators', 'Stomp Pads', 'Rotors', 'Gun Jags', 'Chemical Water Treaters', 'Horse Driving Equipment', \"Divers' Knives & Shears\", 'Shotguns', 'Tools & Home Improvement', 'Night Lights', 'Bridles', 'Save 15% on G-Form Products', 'Antenna Toppers', 'Wrist Guards', 'Goalkeeper Equipment', 'Blockers', 'Shuffleboard', 'Shuffleboard Tables', 'Seats', 'Targeting Arrows', 'Basketballs', 'Chalk', 'Snorkels', 'Kayak, Canoe & SUP Racks', 'Rooftop Racks', 'Spurs', 'Decoys', 'Reel Care Accessories', 'Foam Wedges', 'Rod Cases & Tubes', 'Holsters', 'Goal Targets', 'Punch Mitts', 'Wax', 'Footballs', 'Showers', 'Gun Stock Accessories', 'Breastplates', 'Hard Rifle Cases', 'Tumbling Mats', 'Recoil Pads', 'Toy Vehicles', 'Great Outdoors Savings Event', 'Wrapping Paper', 'Throw Pillows', 'Ballet Equipment', 'Replacement Fuel', 'Sliding Pads', 'Chippers', 'Fins', 'Surfboard & Windsurfing Racks', 'Trailer Lights', 'Pockets', 'Mitts', 'Batting Tees', 'Privacy Shelters', 'Golf Carts', 'Fishing Belts', 'Car Rack Parts & Accessories', 'Headsets', 'Touring Kayaks', 'Gear Repair Equipment', 'Hardware & Accessories', 'Putting Mats', 'Impact Vests', 'Fly Boxes', 'Air Fresheners', 'Chain Locks', 'Computer Mice', 'Diving Weights & Belts', 'Throw Rings', 'Lithographs', 'Kayak Carts', 'Plate Storage Racks', 'Body Armor', 'Computer Mouse Pads', 'Saddle Blankets', 'Pulleys', 'Multifunction Tools', 'Field Marking Equipment', 'Hand Grips', 'Lighters', 'Tank Accessories', 'Flying Discs', 'Replacement Blades', 'Complete Paintball Sets', 'Cycling Computers', 'Bat Racks', 'Water Bottles', 'Floor Pumps', 'Suspension Service Parts', 'Gun Cases', 'Sand Wedges', 'Wristbands', 'Sleepwear', 'Battery Switches', 'Girdles', 'Cue Racks', \"Children's Ice Skates\", 'Flights', 'Slim Flights', 'Freeride Boards', 'Gap Wedges', 'Speedometers', 'Painting Supplies', 'Bicep Supports', 'Water Purifiers', 'Standard Flights', 'Hockey Sticks', 'Ladders', 'Water Filters', 'Yoga & Studio', 'Pet ID Tags', 'Shackles', 'Climbing Protection', 'Pitons & Aid Gear', 'Barstools', 'T-Ball Bats', 'Nipples', 'Disposable Cups & Plates', 'Disposable Cups', 'Football Helmets', 'Gun Cloths', 'Slap Straps', 'Pitching Trainers', 'Rainwear', 'Shuttlecocks', 'Covers & Storage', 'Luggage', 'Underwear', 'Exercise Ball Chairs', 'Laptop & Messenger Bags', 'Laptop Bags', 'Tactical Anniversary Event -- Crimson Trace', 'Fly Fishing Leaders & Tippets', 'Disposable Plates', 'MP3 Player Accessories', 'Staplers', 'Ball Polishers', 'Bean Bag Chairs', 'Attacker Shafts', 'Chest & Rib Guards', 'Foot Gear', 'Pants & Shorts', 'Chain Guards', 'New Year, New You Savings from Merrithew', 'Screen Houses & Rooms', 'Folding Bikes', 'Push & Pull Carts', 'Markdowns on Athletic & Outdoor Clothing', 'Bowling Sets', 'Ankle Guards', 'Dodgers & Flashers', 'Ball Storage', 'Blowers', 'Rim Brake Sets', 'Pens', 'Athletic Socks', 'Buoyancy Compensators', 'Backboard Components', 'Rims', 'Start Exploring', 'Fuel Filters', 'Leads', 'Bowling Totes', 'Discuses', 'Year End Deals: Sports & Outdoors', 'Soap & Shampoo', 'Filet & Bait Knives', 'Visors', 'Dallas Cowboys Products', 'Belts', 'Downriggers', 'Bow Slings', 'Under Armour HQP', 'Slacklines', 'Forearm Guards', 'Marker Buoys', 'Pack Equipment', 'Strobe & Safety Lights', 'Sports Outlet', 'Shuffleboard Accessories', 'Canopies', 'Goose', 'Regulators', 'Spend More, Save More(old)', 'Full Sized Helmets', 'Game Hoists & Gambrels', 'Jacks', 'Bow Maintenance Accessories', 'Save on Zippo', 'Optics Covers', 'Paddleboard Bags', 'Shoe Bags', 'Desk Caddies', 'Risers', 'Diving Hoods', 'Lantern Accessories', 'Kayak & Canoe Trailers', 'Magazine Loaders', 'Hunting Knife Sharpeners', 'Lap Counters', 'Mirrors', 'Elk', 'Anti-Chafing Products', 'Martingales', 'Plate Trees', 'Medicine Balls', 'Hip & Tail Pads', 'Buckles', 'Billiards', 'Catcher Masks', 'Rugby', 'Hats', 'Thigh & Knee Pads', 'Computer Accessories', 'Indoor Ski Storage', 'Gun Brushes', 'Steering Wheels', 'Sandbags']\n"
     ]
    }
   ],
   "source": [
    "exploded_cats_df = products_df['categories'].explode()\n",
    "unique_cats = exploded_cats_df.unique().tolist()\n",
    "print(len(unique_cats))\n",
    "print(unique_cats)"
   ]
  },
  {
   "cell_type": "code",
   "execution_count": 15,
   "id": "30e5bb5d-16ec-4790-bf7f-7e97ea123e02",
   "metadata": {
    "collapsed": true,
    "jupyter": {
     "outputs_hidden": true,
     "source_hidden": true
    }
   },
   "outputs": [
    {
     "name": "stdout",
     "output_type": "stream",
     "text": [
      "Boys' Clothing\n"
     ]
    }
   ],
   "source": [
    "cats_to_filter = [\n",
    "\"Boys' Clothing\",\n",
    "\"Boys' Shoes\",\n",
    "\"Boys' Watches\",\n",
    "\"Girls' Clothing\",\n",
    "\"Girls' Shoes\",\n",
    "\"Girls' Watches\",\n",
    "\"Men's Shoes\",\n",
    "\"Women's Shoes\",\n",
    "'Backpacks',\n",
    "'Electrical Equipment',\n",
    "'Electronic Components',\n",
    "'Gift Cards',\n",
    "'Headphones & Earbuds',\n",
    "'Luggage',\n",
    "'Outdoor Recreation',\n",
    "'Portable Audio & Video',\n",
    "'Safety & Security',\n",
    "'Sports & Fitness',\n",
    "'Sports & Outdoor Play Toys',\n",
    "'Sports & Outdoors',\n",
    "'Sports Nutrition Products',\n",
    "'Travel Accessories',\n",
    "'Travel Duffel Bags',\n",
    "'Travel Tote Bags',\n",
    "'Vehicle Electronics',\n",
    "'Wearable Technology',\n",
    "'Wellness & Relaxation Products'\n",
    "]\n",
    "print(cats_to_filter[0])"
   ]
  },
  {
   "cell_type": "code",
   "execution_count": 16,
   "id": "46dd9701-660f-40ef-8148-c50ad9e9a7bb",
   "metadata": {
    "collapsed": true,
    "jupyter": {
     "outputs_hidden": true,
     "source_hidden": true
    }
   },
   "outputs": [
    {
     "name": "stdout",
     "output_type": "stream",
     "text": [
      "             asin                                              title  \\\n",
      "21427  B01NCNMEV6  American Heritage 8” Moc Toe Work Boots For Me...   \n",
      "21428  B07CZ221PW             Men's Speedcross 5 Trail Running Shoes   \n",
      "21429  B09VCJ7PGR           Women's Terrex AX4 Sneaker - Hiking Shoe   \n",
      "21430  B01BPL5UAM                                           mens Hvc   \n",
      "21431  B091ZGPRCW            Unisex-Adult Adilette Clog Slide Sandal   \n",
      "\n",
      "                                                  imgUrl  \\\n",
      "21427  https://m.media-amazon.com/images/I/71fCpf+5k0...   \n",
      "21428  https://m.media-amazon.com/images/I/71nJ48O6aF...   \n",
      "21429  https://m.media-amazon.com/images/I/81IusNGNYB...   \n",
      "21430  https://m.media-amazon.com/images/I/51R8w-Wqxj...   \n",
      "21431  https://m.media-amazon.com/images/I/61DouGlK6m...   \n",
      "\n",
      "                                 productURL  stars  reviews   price  \\\n",
      "21427  https://www.amazon.com/dp/B01NCNMEV6    4.4        0  253.85   \n",
      "21428  https://www.amazon.com/dp/B07CZ221PW    4.7        0  139.95   \n",
      "21429  https://www.amazon.com/dp/B09VCJ7PGR    4.3        0   49.93   \n",
      "21430  https://www.amazon.com/dp/B01BPL5UAM    4.6        0   57.99   \n",
      "21431  https://www.amazon.com/dp/B091ZGPRCW    4.6        0   49.99   \n",
      "\n",
      "       listPrice  isBestSeller  boughtInLastMonth   id category_name  \n",
      "21427        0.0         False                  0  114   Men's Shoes  \n",
      "21428        0.0         False                 50  114   Men's Shoes  \n",
      "21429      120.0         False                100  114   Men's Shoes  \n",
      "21430        0.0         False                200  114   Men's Shoes  \n",
      "21431        0.0         False                400  114   Men's Shoes  \n"
     ]
    }
   ],
   "source": [
    "filtered_df = merged_df.loc[merged_df['category_name'].isin(cats_to_filter)]\n",
    "print(filtered_df.head())"
   ]
  },
  {
   "cell_type": "code",
   "execution_count": 7,
   "id": "c01f08e0",
   "metadata": {
    "execution": {
     "iopub.execute_input": "2024-06-04T03:11:37.603087Z",
     "iopub.status.busy": "2024-06-04T03:11:37.602759Z",
     "iopub.status.idle": "2024-06-04T03:11:37.606914Z",
     "shell.execute_reply": "2024-06-04T03:11:37.606077Z"
    },
    "jupyter": {
     "source_hidden": true
    },
    "papermill": {
     "duration": 0.012519,
     "end_time": "2024-06-04T03:11:37.608843",
     "exception": false,
     "start_time": "2024-06-04T03:11:37.596324",
     "status": "completed"
    },
    "tags": []
   },
   "outputs": [],
   "source": [
    "# Chọn các cột cần thiết cho mô hình\n",
    "product_titles = merged_df['title']"
   ]
  },
  {
   "cell_type": "code",
   "execution_count": 8,
   "id": "f7f28f2a",
   "metadata": {
    "execution": {
     "iopub.execute_input": "2024-06-04T03:11:37.620535Z",
     "iopub.status.busy": "2024-06-04T03:11:37.620251Z",
     "iopub.status.idle": "2024-06-04T03:12:15.784585Z",
     "shell.execute_reply": "2024-06-04T03:12:15.783706Z"
    },
    "jupyter": {
     "source_hidden": true
    },
    "papermill": {
     "duration": 38.172857,
     "end_time": "2024-06-04T03:12:15.786982",
     "exception": false,
     "start_time": "2024-06-04T03:11:37.614125",
     "status": "completed"
    },
    "tags": []
   },
   "outputs": [],
   "source": [
    "# Bước 1: Chuẩn bị dữ liệu với TF-IDF\n",
    "vectorizer = TfidfVectorizer(stop_words='english')\n",
    "tfidf_matrix = vectorizer.fit_transform(product_titles)\n"
   ]
  },
  {
   "cell_type": "code",
   "execution_count": 9,
   "id": "5c3dd638",
   "metadata": {
    "collapsed": true,
    "execution": {
     "iopub.execute_input": "2024-06-04T03:12:15.799253Z",
     "iopub.status.busy": "2024-06-04T03:12:15.798970Z",
     "iopub.status.idle": "2024-06-04T03:12:15.803274Z",
     "shell.execute_reply": "2024-06-04T03:12:15.802464Z"
    },
    "jupyter": {
     "outputs_hidden": true,
     "source_hidden": true
    },
    "papermill": {
     "duration": 0.012838,
     "end_time": "2024-06-04T03:12:15.805549",
     "exception": false,
     "start_time": "2024-06-04T03:12:15.792711",
     "status": "completed"
    },
    "tags": []
   },
   "outputs": [
    {
     "name": "stdout",
     "output_type": "stream",
     "text": [
      "TF-IDF matrix shape: (1426336, 428801)\n"
     ]
    }
   ],
   "source": [
    "print(\"TF-IDF matrix shape:\", tfidf_matrix.shape)\n"
   ]
  },
  {
   "cell_type": "code",
   "execution_count": 10,
   "id": "75262a65",
   "metadata": {
    "collapsed": true,
    "execution": {
     "iopub.execute_input": "2024-06-04T03:12:15.816959Z",
     "iopub.status.busy": "2024-06-04T03:12:15.816725Z",
     "iopub.status.idle": "2024-06-04T03:12:15.931691Z",
     "shell.execute_reply": "2024-06-04T03:12:15.930818Z"
    },
    "jupyter": {
     "outputs_hidden": true,
     "source_hidden": true
    },
    "papermill": {
     "duration": 0.123073,
     "end_time": "2024-06-04T03:12:15.933782",
     "exception": false,
     "start_time": "2024-06-04T03:12:15.810709",
     "status": "completed"
    },
    "tags": []
   },
   "outputs": [
    {
     "data": {
      "text/html": [
       "<style>#sk-container-id-1 {color: black;background-color: white;}#sk-container-id-1 pre{padding: 0;}#sk-container-id-1 div.sk-toggleable {background-color: white;}#sk-container-id-1 label.sk-toggleable__label {cursor: pointer;display: block;width: 100%;margin-bottom: 0;padding: 0.3em;box-sizing: border-box;text-align: center;}#sk-container-id-1 label.sk-toggleable__label-arrow:before {content: \"▸\";float: left;margin-right: 0.25em;color: #696969;}#sk-container-id-1 label.sk-toggleable__label-arrow:hover:before {color: black;}#sk-container-id-1 div.sk-estimator:hover label.sk-toggleable__label-arrow:before {color: black;}#sk-container-id-1 div.sk-toggleable__content {max-height: 0;max-width: 0;overflow: hidden;text-align: left;background-color: #f0f8ff;}#sk-container-id-1 div.sk-toggleable__content pre {margin: 0.2em;color: black;border-radius: 0.25em;background-color: #f0f8ff;}#sk-container-id-1 input.sk-toggleable__control:checked~div.sk-toggleable__content {max-height: 200px;max-width: 100%;overflow: auto;}#sk-container-id-1 input.sk-toggleable__control:checked~label.sk-toggleable__label-arrow:before {content: \"▾\";}#sk-container-id-1 div.sk-estimator input.sk-toggleable__control:checked~label.sk-toggleable__label {background-color: #d4ebff;}#sk-container-id-1 div.sk-label input.sk-toggleable__control:checked~label.sk-toggleable__label {background-color: #d4ebff;}#sk-container-id-1 input.sk-hidden--visually {border: 0;clip: rect(1px 1px 1px 1px);clip: rect(1px, 1px, 1px, 1px);height: 1px;margin: -1px;overflow: hidden;padding: 0;position: absolute;width: 1px;}#sk-container-id-1 div.sk-estimator {font-family: monospace;background-color: #f0f8ff;border: 1px dotted black;border-radius: 0.25em;box-sizing: border-box;margin-bottom: 0.5em;}#sk-container-id-1 div.sk-estimator:hover {background-color: #d4ebff;}#sk-container-id-1 div.sk-parallel-item::after {content: \"\";width: 100%;border-bottom: 1px solid gray;flex-grow: 1;}#sk-container-id-1 div.sk-label:hover label.sk-toggleable__label {background-color: #d4ebff;}#sk-container-id-1 div.sk-serial::before {content: \"\";position: absolute;border-left: 1px solid gray;box-sizing: border-box;top: 0;bottom: 0;left: 50%;z-index: 0;}#sk-container-id-1 div.sk-serial {display: flex;flex-direction: column;align-items: center;background-color: white;padding-right: 0.2em;padding-left: 0.2em;position: relative;}#sk-container-id-1 div.sk-item {position: relative;z-index: 1;}#sk-container-id-1 div.sk-parallel {display: flex;align-items: stretch;justify-content: center;background-color: white;position: relative;}#sk-container-id-1 div.sk-item::before, #sk-container-id-1 div.sk-parallel-item::before {content: \"\";position: absolute;border-left: 1px solid gray;box-sizing: border-box;top: 0;bottom: 0;left: 50%;z-index: -1;}#sk-container-id-1 div.sk-parallel-item {display: flex;flex-direction: column;z-index: 1;position: relative;background-color: white;}#sk-container-id-1 div.sk-parallel-item:first-child::after {align-self: flex-end;width: 50%;}#sk-container-id-1 div.sk-parallel-item:last-child::after {align-self: flex-start;width: 50%;}#sk-container-id-1 div.sk-parallel-item:only-child::after {width: 0;}#sk-container-id-1 div.sk-dashed-wrapped {border: 1px dashed gray;margin: 0 0.4em 0.5em 0.4em;box-sizing: border-box;padding-bottom: 0.4em;background-color: white;}#sk-container-id-1 div.sk-label label {font-family: monospace;font-weight: bold;display: inline-block;line-height: 1.2em;}#sk-container-id-1 div.sk-label-container {text-align: center;}#sk-container-id-1 div.sk-container {/* jupyter's `normalize.less` sets `[hidden] { display: none; }` but bootstrap.min.css set `[hidden] { display: none !important; }` so we also need the `!important` here to be able to override the default hidden behavior on the sphinx rendered scikit-learn.org. See: https://github.com/scikit-learn/scikit-learn/issues/21755 */display: inline-block !important;position: relative;}#sk-container-id-1 div.sk-text-repr-fallback {display: none;}</style><div id=\"sk-container-id-1\" class=\"sk-top-container\"><div class=\"sk-text-repr-fallback\"><pre>NearestNeighbors(algorithm=&#x27;brute&#x27;, metric=&#x27;cosine&#x27;)</pre><b>In a Jupyter environment, please rerun this cell to show the HTML representation or trust the notebook. <br />On GitHub, the HTML representation is unable to render, please try loading this page with nbviewer.org.</b></div><div class=\"sk-container\" hidden><div class=\"sk-item\"><div class=\"sk-estimator sk-toggleable\"><input class=\"sk-toggleable__control sk-hidden--visually\" id=\"sk-estimator-id-1\" type=\"checkbox\" checked><label for=\"sk-estimator-id-1\" class=\"sk-toggleable__label sk-toggleable__label-arrow\">NearestNeighbors</label><div class=\"sk-toggleable__content\"><pre>NearestNeighbors(algorithm=&#x27;brute&#x27;, metric=&#x27;cosine&#x27;)</pre></div></div></div></div></div>"
      ],
      "text/plain": [
       "NearestNeighbors(algorithm='brute', metric='cosine')"
      ]
     },
     "execution_count": 10,
     "metadata": {},
     "output_type": "execute_result"
    }
   ],
   "source": [
    "# Bước 2: Huấn luyện mô hình NearestNeighbors\n",
    "nn_model = NearestNeighbors(metric='cosine', algorithm='brute')\n",
    "nn_model.fit(tfidf_matrix)"
   ]
  },
  {
   "cell_type": "code",
   "execution_count": 11,
   "id": "8b3f0845",
   "metadata": {
    "execution": {
     "iopub.execute_input": "2024-06-04T03:12:15.946565Z",
     "iopub.status.busy": "2024-06-04T03:12:15.946293Z",
     "iopub.status.idle": "2024-06-04T03:12:15.951841Z",
     "shell.execute_reply": "2024-06-04T03:12:15.950983Z"
    },
    "jupyter": {
     "source_hidden": true
    },
    "papermill": {
     "duration": 0.014235,
     "end_time": "2024-06-04T03:12:15.953843",
     "exception": false,
     "start_time": "2024-06-04T03:12:15.939608",
     "status": "completed"
    },
    "tags": []
   },
   "outputs": [],
   "source": [
    "# Bước 3: Tạo hàm gợi ý sản phẩm\n",
    "def recommend_products(product_name, num_recommendations=5):\n",
    "    # Chuyển đổi tên sản phẩm sang vector TF-IDF\n",
    "    query_vector = vectorizer.transform([product_name])\n",
    "    \n",
    "    # Tìm kiếm các sản phẩm tương tự\n",
    "    distances, indices = nn_model.kneighbors(query_vector, n_neighbors=num_recommendations)\n",
    "    \n",
    "    # Lấy thông tin các sản phẩm được gợi ý\n",
    "    recommendations = merged_df.iloc[indices[0]].copy()\n",
    "    recommendations['distance'] = distances[0]\n",
    "    \n",
    "    return recommendations[['title', 'stars', 'price', 'category_name', 'distance']]\n"
   ]
  },
  {
   "cell_type": "code",
   "execution_count": 12,
   "id": "c7ead154",
   "metadata": {
    "collapsed": true,
    "execution": {
     "iopub.execute_input": "2024-06-04T03:12:15.966666Z",
     "iopub.status.busy": "2024-06-04T03:12:15.965869Z",
     "iopub.status.idle": "2024-06-04T03:12:16.577512Z",
     "shell.execute_reply": "2024-06-04T03:12:16.576223Z"
    },
    "jupyter": {
     "outputs_hidden": true,
     "source_hidden": true
    },
    "papermill": {
     "duration": 0.620091,
     "end_time": "2024-06-04T03:12:16.579533",
     "exception": false,
     "start_time": "2024-06-04T03:12:15.959442",
     "status": "completed"
    },
    "tags": []
   },
   "outputs": [
    {
     "name": "stdout",
     "output_type": "stream",
     "text": [
      "                                                    title  stars  price  \\\n",
      "373016  Xpedition 30 Inch Multi-Pocket Upright Rolling...    4.3  31.84   \n",
      "14      Xpedition 30 Inch Multi-Pocket Upright Rolling...    4.3  42.00   \n",
      "373208        8 Pocket Rolling Duffel Bag, Black, 22 inch    4.5  64.09   \n",
      "373299              Rolling Duffel Bag, Charcoal, 30-Inch    4.0  35.49   \n",
      "372997                                 Rolling Duffel Bag    4.2  20.49   \n",
      "\n",
      "             category_name  distance  \n",
      "373016  Travel Duffel Bags  0.000000  \n",
      "14               Suitcases  0.000000  \n",
      "373208  Travel Duffel Bags  0.441438  \n",
      "373299  Travel Duffel Bags  0.450364  \n",
      "372997  Travel Duffel Bags  0.452113  \n"
     ]
    }
   ],
   "source": [
    "# Thử nghiệm hàm gợi ý sản phẩm\n",
    "product_name = \"Xpedition 30 Inch Multi-Pocket Upright Rolling Duffel Bag \"\n",
    "recommended_products = recommend_products(product_name, num_recommendations=5)\n",
    "print(recommended_products)"
   ]
  },
  {
   "cell_type": "code",
   "execution_count": 13,
   "id": "7edabcb9",
   "metadata": {
    "execution": {
     "iopub.execute_input": "2024-06-04T03:12:16.593793Z",
     "iopub.status.busy": "2024-06-04T03:12:16.593493Z",
     "iopub.status.idle": "2024-06-04T03:12:16.599786Z",
     "shell.execute_reply": "2024-06-04T03:12:16.598932Z"
    },
    "jupyter": {
     "source_hidden": true
    },
    "papermill": {
     "duration": 0.014848,
     "end_time": "2024-06-04T03:12:16.601683",
     "exception": false,
     "start_time": "2024-06-04T03:12:16.586835",
     "status": "completed"
    },
    "tags": []
   },
   "outputs": [],
   "source": [
    "# Bước 3: Tạo hàm gợi ý sản phẩm theo ID và kèm theo hình ảnh\n",
    "def recommend_products_by_id(product_id, num_recommendations=5):\n",
    "    # Lấy tên sản phẩm từ ID\n",
    "    product_name = merged_df.loc[merged_df['asin'] == product_id, 'title'].values[0]\n",
    "    \n",
    "    # Chuyển đổi tên sản phẩm sang vector TF-IDF\n",
    "    query_vector = vectorizer.transform([product_name])\n",
    "    \n",
    "    # Tìm kiếm các sản phẩm tương tự\n",
    "    distances, indices = nn_model.kneighbors(query_vector, n_neighbors=num_recommendations)\n",
    "    \n",
    "    # Lấy thông tin các sản phẩm được gợi ý\n",
    "    recommendations = merged_df.iloc[indices[0]].copy()\n",
    "    recommendations['distance'] = distances[0]\n",
    "    \n",
    "    return recommendations[['title', 'stars', 'price', 'category_name', 'imgUrl', 'distance']]\n",
    "\n"
   ]
  },
  {
   "cell_type": "code",
   "execution_count": 14,
   "id": "a19aea40",
   "metadata": {
    "execution": {
     "iopub.execute_input": "2024-06-04T03:12:16.614385Z",
     "iopub.status.busy": "2024-06-04T03:12:16.614108Z",
     "iopub.status.idle": "2024-06-04T03:12:16.621709Z",
     "shell.execute_reply": "2024-06-04T03:12:16.620888Z"
    },
    "jupyter": {
     "source_hidden": true
    },
    "papermill": {
     "duration": 0.016187,
     "end_time": "2024-06-04T03:12:16.623628",
     "exception": false,
     "start_time": "2024-06-04T03:12:16.607441",
     "status": "completed"
    },
    "tags": []
   },
   "outputs": [],
   "source": [
    "from IPython.display import display, HTML\n",
    "\n",
    "def recommend_products_by_id(product_id, num_recommendations=5):\n",
    "    # Lấy tên sản phẩm từ ID\n",
    "    product_name = merged_df.loc[merged_df['asin'] == product_id, 'title'].values[0]\n",
    "    \n",
    "    # Chuyển đổi tên sản phẩm sang vector TF-IDF\n",
    "    query_vector = vectorizer.transform([product_name])\n",
    "    \n",
    "    # Tìm kiếm các sản phẩm tương tự\n",
    "    distances, indices = nn_model.kneighbors(query_vector, n_neighbors=num_recommendations)\n",
    "    \n",
    "    # Lấy thông tin các sản phẩm được gợi ý\n",
    "    recommendations = merged_df.iloc[indices[0]].copy()\n",
    "    recommendations['distance'] = distances[0]\n",
    "    \n",
    "    # Hiển thị thông tin sản phẩm và hình ảnh\n",
    "    for index, row in recommendations.iterrows():\n",
    "        display(HTML(f\"<div style='border: 1px solid #ccc; border-radius: 5px; padding: 10px; margin-bottom: 20px;'>\"))\n",
    "        display(HTML(f\"<h3>{row['title']}</h3>\"))\n",
    "        display(HTML(f\"<p><b>Stars:</b> {row['stars']}</p>\"))\n",
    "        display(HTML(f\"<p><b>Price:</b> ${row['price']}</p>\"))\n",
    "        display(HTML(f\"<p><b>Category:</b> {row['category_name']}</p>\"))\n",
    "        display(HTML(f'<img src=\"{row[\"imgUrl\"]}\" alt=\"{row[\"title\"]}\" style=\"width:200px;height:200px; margin-top: 10px;\">'))\n",
    "        display(HTML(f\"<p style='margin-top: 10px;'><b>Distance:</b> {row['distance']}</p>\"))\n",
    "        display(HTML(\"</div>\"))\n"
   ]
  },
  {
   "cell_type": "code",
   "execution_count": 15,
   "id": "ec39c2fb",
   "metadata": {
    "collapsed": true,
    "execution": {
     "iopub.execute_input": "2024-06-04T03:12:16.636395Z",
     "iopub.status.busy": "2024-06-04T03:12:16.636118Z",
     "iopub.status.idle": "2024-06-04T03:12:17.573776Z",
     "shell.execute_reply": "2024-06-04T03:12:17.571580Z"
    },
    "jupyter": {
     "outputs_hidden": true,
     "source_hidden": true
    },
    "papermill": {
     "duration": 0.947025,
     "end_time": "2024-06-04T03:12:17.576396",
     "exception": false,
     "start_time": "2024-06-04T03:12:16.629371",
     "status": "completed"
    },
    "scrolled": true,
    "tags": []
   },
   "outputs": [
    {
     "data": {
      "text/html": [
       "<div style='border: 1px solid #ccc; border-radius: 5px; padding: 10px; margin-bottom: 20px;'>"
      ],
      "text/plain": [
       "<IPython.core.display.HTML object>"
      ]
     },
     "metadata": {},
     "output_type": "display_data"
    },
    {
     "data": {
      "text/html": [
       "<h3>Winfield 2 Hardside Expandable Luggage with Spinner Wheels, Checked-Large 28-Inch, Deep Blue</h3>"
      ],
      "text/plain": [
       "<IPython.core.display.HTML object>"
      ]
     },
     "metadata": {},
     "output_type": "display_data"
    },
    {
     "data": {
      "text/html": [
       "<p><b>Stars:</b> 4.5</p>"
      ],
      "text/plain": [
       "<IPython.core.display.HTML object>"
      ]
     },
     "metadata": {},
     "output_type": "display_data"
    },
    {
     "data": {
      "text/html": [
       "<p><b>Price:</b> $174.99</p>"
      ],
      "text/plain": [
       "<IPython.core.display.HTML object>"
      ]
     },
     "metadata": {},
     "output_type": "display_data"
    },
    {
     "data": {
      "text/html": [
       "<p><b>Category:</b> Suitcases</p>"
      ],
      "text/plain": [
       "<IPython.core.display.HTML object>"
      ]
     },
     "metadata": {},
     "output_type": "display_data"
    },
    {
     "data": {
      "text/html": [
       "<img src=\"https://m.media-amazon.com/images/I/61NJoaZcP9L._AC_UL320_.jpg\" alt=\"Winfield 2 Hardside Expandable Luggage with Spinner Wheels, Checked-Large 28-Inch, Deep Blue\" style=\"width:200px;height:200px; margin-top: 10px;\">"
      ],
      "text/plain": [
       "<IPython.core.display.HTML object>"
      ]
     },
     "metadata": {},
     "output_type": "display_data"
    },
    {
     "data": {
      "text/html": [
       "<p style='margin-top: 10px;'><b>Distance:</b> 0.0</p>"
      ],
      "text/plain": [
       "<IPython.core.display.HTML object>"
      ]
     },
     "metadata": {},
     "output_type": "display_data"
    },
    {
     "data": {
      "text/html": [
       "</div>"
      ],
      "text/plain": [
       "<IPython.core.display.HTML object>"
      ]
     },
     "metadata": {},
     "output_type": "display_data"
    },
    {
     "data": {
      "text/html": [
       "<div style='border: 1px solid #ccc; border-radius: 5px; padding: 10px; margin-bottom: 20px;'>"
      ],
      "text/plain": [
       "<IPython.core.display.HTML object>"
      ]
     },
     "metadata": {},
     "output_type": "display_data"
    },
    {
     "data": {
      "text/html": [
       "<h3>Winfield 2 Hardside Expandable Luggage with Spinner Wheels (Teal, 2-Piece Set (20/28))</h3>"
      ],
      "text/plain": [
       "<IPython.core.display.HTML object>"
      ]
     },
     "metadata": {},
     "output_type": "display_data"
    },
    {
     "data": {
      "text/html": [
       "<p><b>Stars:</b> 4.3</p>"
      ],
      "text/plain": [
       "<IPython.core.display.HTML object>"
      ]
     },
     "metadata": {},
     "output_type": "display_data"
    },
    {
     "data": {
      "text/html": [
       "<p><b>Price:</b> $349.99</p>"
      ],
      "text/plain": [
       "<IPython.core.display.HTML object>"
      ]
     },
     "metadata": {},
     "output_type": "display_data"
    },
    {
     "data": {
      "text/html": [
       "<p><b>Category:</b> Luggage</p>"
      ],
      "text/plain": [
       "<IPython.core.display.HTML object>"
      ]
     },
     "metadata": {},
     "output_type": "display_data"
    },
    {
     "data": {
      "text/html": [
       "<img src=\"https://m.media-amazon.com/images/I/71EuU16FC-L._AC_UL320_.jpg\" alt=\"Winfield 2 Hardside Expandable Luggage with Spinner Wheels (Teal, 2-Piece Set (20/28))\" style=\"width:200px;height:200px; margin-top: 10px;\">"
      ],
      "text/plain": [
       "<IPython.core.display.HTML object>"
      ]
     },
     "metadata": {},
     "output_type": "display_data"
    },
    {
     "data": {
      "text/html": [
       "<p style='margin-top: 10px;'><b>Distance:</b> 0.24254115924454323</p>"
      ],
      "text/plain": [
       "<IPython.core.display.HTML object>"
      ]
     },
     "metadata": {},
     "output_type": "display_data"
    },
    {
     "data": {
      "text/html": [
       "</div>"
      ],
      "text/plain": [
       "<IPython.core.display.HTML object>"
      ]
     },
     "metadata": {},
     "output_type": "display_data"
    },
    {
     "data": {
      "text/html": [
       "<div style='border: 1px solid #ccc; border-radius: 5px; padding: 10px; margin-bottom: 20px;'>"
      ],
      "text/plain": [
       "<IPython.core.display.HTML object>"
      ]
     },
     "metadata": {},
     "output_type": "display_data"
    },
    {
     "data": {
      "text/html": [
       "<h3>Centric Hardside Expandable Luggage with Spinner Wheels, Black, Checked-Large 28-Inch</h3>"
      ],
      "text/plain": [
       "<IPython.core.display.HTML object>"
      ]
     },
     "metadata": {},
     "output_type": "display_data"
    },
    {
     "data": {
      "text/html": [
       "<p><b>Stars:</b> 4.5</p>"
      ],
      "text/plain": [
       "<IPython.core.display.HTML object>"
      ]
     },
     "metadata": {},
     "output_type": "display_data"
    },
    {
     "data": {
      "text/html": [
       "<p><b>Price:</b> $169.99</p>"
      ],
      "text/plain": [
       "<IPython.core.display.HTML object>"
      ]
     },
     "metadata": {},
     "output_type": "display_data"
    },
    {
     "data": {
      "text/html": [
       "<p><b>Category:</b> Luggage</p>"
      ],
      "text/plain": [
       "<IPython.core.display.HTML object>"
      ]
     },
     "metadata": {},
     "output_type": "display_data"
    },
    {
     "data": {
      "text/html": [
       "<img src=\"https://m.media-amazon.com/images/I/71ngO-fIn2L._AC_UL320_.jpg\" alt=\"Centric Hardside Expandable Luggage with Spinner Wheels, Black, Checked-Large 28-Inch\" style=\"width:200px;height:200px; margin-top: 10px;\">"
      ],
      "text/plain": [
       "<IPython.core.display.HTML object>"
      ]
     },
     "metadata": {},
     "output_type": "display_data"
    },
    {
     "data": {
      "text/html": [
       "<p style='margin-top: 10px;'><b>Distance:</b> 0.287622678748336</p>"
      ],
      "text/plain": [
       "<IPython.core.display.HTML object>"
      ]
     },
     "metadata": {},
     "output_type": "display_data"
    },
    {
     "data": {
      "text/html": [
       "</div>"
      ],
      "text/plain": [
       "<IPython.core.display.HTML object>"
      ]
     },
     "metadata": {},
     "output_type": "display_data"
    },
    {
     "data": {
      "text/html": [
       "<div style='border: 1px solid #ccc; border-radius: 5px; padding: 10px; margin-bottom: 20px;'>"
      ],
      "text/plain": [
       "<IPython.core.display.HTML object>"
      ]
     },
     "metadata": {},
     "output_type": "display_data"
    },
    {
     "data": {
      "text/html": [
       "<h3>Margot Hardside Expandable Luggage with Spinner Wheels, Black, Checked Large 28 Inch</h3>"
      ],
      "text/plain": [
       "<IPython.core.display.HTML object>"
      ]
     },
     "metadata": {},
     "output_type": "display_data"
    },
    {
     "data": {
      "text/html": [
       "<p><b>Stars:</b> 3.0</p>"
      ],
      "text/plain": [
       "<IPython.core.display.HTML object>"
      ]
     },
     "metadata": {},
     "output_type": "display_data"
    },
    {
     "data": {
      "text/html": [
       "<p><b>Price:</b> $169.99</p>"
      ],
      "text/plain": [
       "<IPython.core.display.HTML object>"
      ]
     },
     "metadata": {},
     "output_type": "display_data"
    },
    {
     "data": {
      "text/html": [
       "<p><b>Category:</b> Suitcases</p>"
      ],
      "text/plain": [
       "<IPython.core.display.HTML object>"
      ]
     },
     "metadata": {},
     "output_type": "display_data"
    },
    {
     "data": {
      "text/html": [
       "<img src=\"https://m.media-amazon.com/images/I/81hTnu9aQkL._AC_UL320_.jpg\" alt=\"Margot Hardside Expandable Luggage with Spinner Wheels, Black, Checked Large 28 Inch\" style=\"width:200px;height:200px; margin-top: 10px;\">"
      ],
      "text/plain": [
       "<IPython.core.display.HTML object>"
      ]
     },
     "metadata": {},
     "output_type": "display_data"
    },
    {
     "data": {
      "text/html": [
       "<p style='margin-top: 10px;'><b>Distance:</b> 0.3157184309103498</p>"
      ],
      "text/plain": [
       "<IPython.core.display.HTML object>"
      ]
     },
     "metadata": {},
     "output_type": "display_data"
    },
    {
     "data": {
      "text/html": [
       "</div>"
      ],
      "text/plain": [
       "<IPython.core.display.HTML object>"
      ]
     },
     "metadata": {},
     "output_type": "display_data"
    },
    {
     "data": {
      "text/html": [
       "<div style='border: 1px solid #ccc; border-radius: 5px; padding: 10px; margin-bottom: 20px;'>"
      ],
      "text/plain": [
       "<IPython.core.display.HTML object>"
      ]
     },
     "metadata": {},
     "output_type": "display_data"
    },
    {
     "data": {
      "text/html": [
       "<h3>Moonlight Hardside Expandable Luggage with Spinner Wheels, Black Marble, Checked-Large 28-Inch</h3>"
      ],
      "text/plain": [
       "<IPython.core.display.HTML object>"
      ]
     },
     "metadata": {},
     "output_type": "display_data"
    },
    {
     "data": {
      "text/html": [
       "<p><b>Stars:</b> 4.5</p>"
      ],
      "text/plain": [
       "<IPython.core.display.HTML object>"
      ]
     },
     "metadata": {},
     "output_type": "display_data"
    },
    {
     "data": {
      "text/html": [
       "<p><b>Price:</b> $139.99</p>"
      ],
      "text/plain": [
       "<IPython.core.display.HTML object>"
      ]
     },
     "metadata": {},
     "output_type": "display_data"
    },
    {
     "data": {
      "text/html": [
       "<p><b>Category:</b> Suitcases</p>"
      ],
      "text/plain": [
       "<IPython.core.display.HTML object>"
      ]
     },
     "metadata": {},
     "output_type": "display_data"
    },
    {
     "data": {
      "text/html": [
       "<img src=\"https://m.media-amazon.com/images/I/71kmLlCMzWL._AC_UL320_.jpg\" alt=\"Moonlight Hardside Expandable Luggage with Spinner Wheels, Black Marble, Checked-Large 28-Inch\" style=\"width:200px;height:200px; margin-top: 10px;\">"
      ],
      "text/plain": [
       "<IPython.core.display.HTML object>"
      ]
     },
     "metadata": {},
     "output_type": "display_data"
    },
    {
     "data": {
      "text/html": [
       "<p style='margin-top: 10px;'><b>Distance:</b> 0.3261613831700547</p>"
      ],
      "text/plain": [
       "<IPython.core.display.HTML object>"
      ]
     },
     "metadata": {},
     "output_type": "display_data"
    },
    {
     "data": {
      "text/html": [
       "</div>"
      ],
      "text/plain": [
       "<IPython.core.display.HTML object>"
      ]
     },
     "metadata": {},
     "output_type": "display_data"
    }
   ],
   "source": [
    "\n",
    "# Thử nghiệm hàm gợi ý sản phẩm theo ID\n",
    "product_id = \"B01DJLKZBA\"  # Thay thế bằng ID sản phẩm cụ thể\n",
    "recommend_products_by_id(product_id, num_recommendations=5)\n"
   ]
  },
  {
   "cell_type": "code",
   "execution_count": 16,
   "id": "b7f60120",
   "metadata": {
    "execution": {
     "iopub.execute_input": "2024-06-04T03:12:17.603210Z",
     "iopub.status.busy": "2024-06-04T03:12:17.602917Z",
     "iopub.status.idle": "2024-06-04T03:12:17.610484Z",
     "shell.execute_reply": "2024-06-04T03:12:17.609666Z"
    },
    "jupyter": {
     "source_hidden": true
    },
    "papermill": {
     "duration": 0.021377,
     "end_time": "2024-06-04T03:12:17.612393",
     "exception": false,
     "start_time": "2024-06-04T03:12:17.591016",
     "status": "completed"
    },
    "tags": []
   },
   "outputs": [],
   "source": [
    "from IPython.display import display, HTML\n",
    "\n",
    "def recommend_products_by_name(product_name, num_recommendations=5):\n",
    "    # Chuyển đổi tên sản phẩm sang vector TF-IDF\n",
    "    query_vector = vectorizer.transform([product_name])\n",
    "    \n",
    "    # Tìm kiếm các sản phẩm tương tự\n",
    "    distances, indices = nn_model.kneighbors(query_vector, n_neighbors=num_recommendations)\n",
    "    \n",
    "    # Lấy thông tin các sản phẩm được gợi ý\n",
    "    recommendations = merged_df.iloc[indices[0]].copy()\n",
    "    recommendations['distance'] = distances[0]\n",
    "    \n",
    "    # Hiển thị thông tin sản phẩm và hình ảnh\n",
    "    for index, row in recommendations.iterrows():\n",
    "        display(HTML(f\"<div style='border: 1px solid #ccc; border-radius: 5px; padding: 10px; margin-bottom: 20px;'>\"))\n",
    "        display(HTML(f\"<h3>{row['title']}</h3>\"))\n",
    "        display(HTML(f\"<p><b>Stars:</b> {row['stars']}</p>\"))\n",
    "        display(HTML(f\"<p><b>Price:</b> ${row['price']}</p>\"))\n",
    "        display(HTML(f\"<p><b>Category:</b> {row['category_name']}</p>\"))\n",
    "        display(HTML(f'<img src=\"{row[\"imgUrl\"]}\" alt=\"{row[\"title\"]}\" style=\"width:200px;height:200px; margin-top: 10px;\">'))\n",
    "        display(HTML(f\"<p style='margin-top: 10px;'><b>Distance:</b> {row['distance']}</p>\"))\n",
    "        display(HTML(\"</div>\"))\n",
    "\n"
   ]
  },
  {
   "cell_type": "code",
   "execution_count": 17,
   "id": "b23fdce9",
   "metadata": {
    "collapsed": true,
    "execution": {
     "iopub.execute_input": "2024-06-04T03:12:17.635505Z",
     "iopub.status.busy": "2024-06-04T03:12:17.635253Z",
     "iopub.status.idle": "2024-06-04T03:12:18.307980Z",
     "shell.execute_reply": "2024-06-04T03:12:18.307143Z"
    },
    "jupyter": {
     "outputs_hidden": true,
     "source_hidden": true
    },
    "papermill": {
     "duration": 0.68824,
     "end_time": "2024-06-04T03:12:18.311638",
     "exception": false,
     "start_time": "2024-06-04T03:12:17.623398",
     "status": "completed"
    },
    "tags": []
   },
   "outputs": [
    {
     "data": {
      "text/html": [
       "<div style='border: 1px solid #ccc; border-radius: 5px; padding: 10px; margin-bottom: 20px;'>"
      ],
      "text/plain": [
       "<IPython.core.display.HTML object>"
      ]
     },
     "metadata": {},
     "output_type": "display_data"
    },
    {
     "data": {
      "text/html": [
       "<h3>Xpedition 30 Inch Multi-Pocket Upright Rolling Duffel Bag</h3>"
      ],
      "text/plain": [
       "<IPython.core.display.HTML object>"
      ]
     },
     "metadata": {},
     "output_type": "display_data"
    },
    {
     "data": {
      "text/html": [
       "<p><b>Stars:</b> 4.3</p>"
      ],
      "text/plain": [
       "<IPython.core.display.HTML object>"
      ]
     },
     "metadata": {},
     "output_type": "display_data"
    },
    {
     "data": {
      "text/html": [
       "<p><b>Price:</b> $31.84</p>"
      ],
      "text/plain": [
       "<IPython.core.display.HTML object>"
      ]
     },
     "metadata": {},
     "output_type": "display_data"
    },
    {
     "data": {
      "text/html": [
       "<p><b>Category:</b> Travel Duffel Bags</p>"
      ],
      "text/plain": [
       "<IPython.core.display.HTML object>"
      ]
     },
     "metadata": {},
     "output_type": "display_data"
    },
    {
     "data": {
      "text/html": [
       "<img src=\"https://m.media-amazon.com/images/I/71cr0xT-TaL._AC_UL320_.jpg\" alt=\"Xpedition 30 Inch Multi-Pocket Upright Rolling Duffel Bag\" style=\"width:200px;height:200px; margin-top: 10px;\">"
      ],
      "text/plain": [
       "<IPython.core.display.HTML object>"
      ]
     },
     "metadata": {},
     "output_type": "display_data"
    },
    {
     "data": {
      "text/html": [
       "<p style='margin-top: 10px;'><b>Distance:</b> 0.0</p>"
      ],
      "text/plain": [
       "<IPython.core.display.HTML object>"
      ]
     },
     "metadata": {},
     "output_type": "display_data"
    },
    {
     "data": {
      "text/html": [
       "</div>"
      ],
      "text/plain": [
       "<IPython.core.display.HTML object>"
      ]
     },
     "metadata": {},
     "output_type": "display_data"
    },
    {
     "data": {
      "text/html": [
       "<div style='border: 1px solid #ccc; border-radius: 5px; padding: 10px; margin-bottom: 20px;'>"
      ],
      "text/plain": [
       "<IPython.core.display.HTML object>"
      ]
     },
     "metadata": {},
     "output_type": "display_data"
    },
    {
     "data": {
      "text/html": [
       "<h3>Xpedition 30 Inch Multi-Pocket Upright Rolling Duffel Bag</h3>"
      ],
      "text/plain": [
       "<IPython.core.display.HTML object>"
      ]
     },
     "metadata": {},
     "output_type": "display_data"
    },
    {
     "data": {
      "text/html": [
       "<p><b>Stars:</b> 4.3</p>"
      ],
      "text/plain": [
       "<IPython.core.display.HTML object>"
      ]
     },
     "metadata": {},
     "output_type": "display_data"
    },
    {
     "data": {
      "text/html": [
       "<p><b>Price:</b> $42.0</p>"
      ],
      "text/plain": [
       "<IPython.core.display.HTML object>"
      ]
     },
     "metadata": {},
     "output_type": "display_data"
    },
    {
     "data": {
      "text/html": [
       "<p><b>Category:</b> Suitcases</p>"
      ],
      "text/plain": [
       "<IPython.core.display.HTML object>"
      ]
     },
     "metadata": {},
     "output_type": "display_data"
    },
    {
     "data": {
      "text/html": [
       "<img src=\"https://m.media-amazon.com/images/I/81QKjgbsq4L._AC_UL320_.jpg\" alt=\"Xpedition 30 Inch Multi-Pocket Upright Rolling Duffel Bag\" style=\"width:200px;height:200px; margin-top: 10px;\">"
      ],
      "text/plain": [
       "<IPython.core.display.HTML object>"
      ]
     },
     "metadata": {},
     "output_type": "display_data"
    },
    {
     "data": {
      "text/html": [
       "<p style='margin-top: 10px;'><b>Distance:</b> 0.0</p>"
      ],
      "text/plain": [
       "<IPython.core.display.HTML object>"
      ]
     },
     "metadata": {},
     "output_type": "display_data"
    },
    {
     "data": {
      "text/html": [
       "</div>"
      ],
      "text/plain": [
       "<IPython.core.display.HTML object>"
      ]
     },
     "metadata": {},
     "output_type": "display_data"
    },
    {
     "data": {
      "text/html": [
       "<div style='border: 1px solid #ccc; border-radius: 5px; padding: 10px; margin-bottom: 20px;'>"
      ],
      "text/plain": [
       "<IPython.core.display.HTML object>"
      ]
     },
     "metadata": {},
     "output_type": "display_data"
    },
    {
     "data": {
      "text/html": [
       "<h3>8 Pocket Rolling Duffel Bag, Black, 22 inch</h3>"
      ],
      "text/plain": [
       "<IPython.core.display.HTML object>"
      ]
     },
     "metadata": {},
     "output_type": "display_data"
    },
    {
     "data": {
      "text/html": [
       "<p><b>Stars:</b> 4.5</p>"
      ],
      "text/plain": [
       "<IPython.core.display.HTML object>"
      ]
     },
     "metadata": {},
     "output_type": "display_data"
    },
    {
     "data": {
      "text/html": [
       "<p><b>Price:</b> $64.09</p>"
      ],
      "text/plain": [
       "<IPython.core.display.HTML object>"
      ]
     },
     "metadata": {},
     "output_type": "display_data"
    },
    {
     "data": {
      "text/html": [
       "<p><b>Category:</b> Travel Duffel Bags</p>"
      ],
      "text/plain": [
       "<IPython.core.display.HTML object>"
      ]
     },
     "metadata": {},
     "output_type": "display_data"
    },
    {
     "data": {
      "text/html": [
       "<img src=\"https://m.media-amazon.com/images/I/61bj7FT9C5L._AC_UL320_.jpg\" alt=\"8 Pocket Rolling Duffel Bag, Black, 22 inch\" style=\"width:200px;height:200px; margin-top: 10px;\">"
      ],
      "text/plain": [
       "<IPython.core.display.HTML object>"
      ]
     },
     "metadata": {},
     "output_type": "display_data"
    },
    {
     "data": {
      "text/html": [
       "<p style='margin-top: 10px;'><b>Distance:</b> 0.4414375259077685</p>"
      ],
      "text/plain": [
       "<IPython.core.display.HTML object>"
      ]
     },
     "metadata": {},
     "output_type": "display_data"
    },
    {
     "data": {
      "text/html": [
       "</div>"
      ],
      "text/plain": [
       "<IPython.core.display.HTML object>"
      ]
     },
     "metadata": {},
     "output_type": "display_data"
    },
    {
     "data": {
      "text/html": [
       "<div style='border: 1px solid #ccc; border-radius: 5px; padding: 10px; margin-bottom: 20px;'>"
      ],
      "text/plain": [
       "<IPython.core.display.HTML object>"
      ]
     },
     "metadata": {},
     "output_type": "display_data"
    },
    {
     "data": {
      "text/html": [
       "<h3>Rolling Duffel Bag, Charcoal, 30-Inch</h3>"
      ],
      "text/plain": [
       "<IPython.core.display.HTML object>"
      ]
     },
     "metadata": {},
     "output_type": "display_data"
    },
    {
     "data": {
      "text/html": [
       "<p><b>Stars:</b> 4.0</p>"
      ],
      "text/plain": [
       "<IPython.core.display.HTML object>"
      ]
     },
     "metadata": {},
     "output_type": "display_data"
    },
    {
     "data": {
      "text/html": [
       "<p><b>Price:</b> $35.49</p>"
      ],
      "text/plain": [
       "<IPython.core.display.HTML object>"
      ]
     },
     "metadata": {},
     "output_type": "display_data"
    },
    {
     "data": {
      "text/html": [
       "<p><b>Category:</b> Travel Duffel Bags</p>"
      ],
      "text/plain": [
       "<IPython.core.display.HTML object>"
      ]
     },
     "metadata": {},
     "output_type": "display_data"
    },
    {
     "data": {
      "text/html": [
       "<img src=\"https://m.media-amazon.com/images/I/81ZUsE7ctOL._AC_UL320_.jpg\" alt=\"Rolling Duffel Bag, Charcoal, 30-Inch\" style=\"width:200px;height:200px; margin-top: 10px;\">"
      ],
      "text/plain": [
       "<IPython.core.display.HTML object>"
      ]
     },
     "metadata": {},
     "output_type": "display_data"
    },
    {
     "data": {
      "text/html": [
       "<p style='margin-top: 10px;'><b>Distance:</b> 0.45036372007615766</p>"
      ],
      "text/plain": [
       "<IPython.core.display.HTML object>"
      ]
     },
     "metadata": {},
     "output_type": "display_data"
    },
    {
     "data": {
      "text/html": [
       "</div>"
      ],
      "text/plain": [
       "<IPython.core.display.HTML object>"
      ]
     },
     "metadata": {},
     "output_type": "display_data"
    },
    {
     "data": {
      "text/html": [
       "<div style='border: 1px solid #ccc; border-radius: 5px; padding: 10px; margin-bottom: 20px;'>"
      ],
      "text/plain": [
       "<IPython.core.display.HTML object>"
      ]
     },
     "metadata": {},
     "output_type": "display_data"
    },
    {
     "data": {
      "text/html": [
       "<h3>Rolling Duffel Bag</h3>"
      ],
      "text/plain": [
       "<IPython.core.display.HTML object>"
      ]
     },
     "metadata": {},
     "output_type": "display_data"
    },
    {
     "data": {
      "text/html": [
       "<p><b>Stars:</b> 4.2</p>"
      ],
      "text/plain": [
       "<IPython.core.display.HTML object>"
      ]
     },
     "metadata": {},
     "output_type": "display_data"
    },
    {
     "data": {
      "text/html": [
       "<p><b>Price:</b> $20.49</p>"
      ],
      "text/plain": [
       "<IPython.core.display.HTML object>"
      ]
     },
     "metadata": {},
     "output_type": "display_data"
    },
    {
     "data": {
      "text/html": [
       "<p><b>Category:</b> Travel Duffel Bags</p>"
      ],
      "text/plain": [
       "<IPython.core.display.HTML object>"
      ]
     },
     "metadata": {},
     "output_type": "display_data"
    },
    {
     "data": {
      "text/html": [
       "<img src=\"https://m.media-amazon.com/images/I/71P6GKzNS6L._AC_UL320_.jpg\" alt=\"Rolling Duffel Bag\" style=\"width:200px;height:200px; margin-top: 10px;\">"
      ],
      "text/plain": [
       "<IPython.core.display.HTML object>"
      ]
     },
     "metadata": {},
     "output_type": "display_data"
    },
    {
     "data": {
      "text/html": [
       "<p style='margin-top: 10px;'><b>Distance:</b> 0.4521129239862657</p>"
      ],
      "text/plain": [
       "<IPython.core.display.HTML object>"
      ]
     },
     "metadata": {},
     "output_type": "display_data"
    },
    {
     "data": {
      "text/html": [
       "</div>"
      ],
      "text/plain": [
       "<IPython.core.display.HTML object>"
      ]
     },
     "metadata": {},
     "output_type": "display_data"
    }
   ],
   "source": [
    "# Sử dụng hàm với tên sản phẩm cụ thể\n",
    "product_name = \"Xpedition 30 Inch Multi-Pocket Upright Rolling Duffel Bag\"  # Thay thế bằng tên sản phẩm cụ thể\n",
    "recommend_products_by_name(product_name, num_recommendations=5)\n"
   ]
  },
  {
   "cell_type": "code",
   "execution_count": 227,
   "id": "69097fdb-26b4-4fc2-b5d6-14c600eb191e",
   "metadata": {},
   "outputs": [
    {
     "name": "stdout",
     "output_type": "stream",
     "text": [
      "Synonyms for 'gear': ['train', 'gear', 'gear_wheel', 'appurtenance', 'geartrain', 'paraphernalia', 'cogwheel', 'gear_mechanism', 'gearing', 'geared_wheel', 'pitch', 'power_train']\n"
     ]
    },
    {
     "name": "stderr",
     "output_type": "stream",
     "text": [
      "[nltk_data] Downloading package wordnet to\n",
      "[nltk_data]     C:\\Users\\msnyd\\AppData\\Roaming\\nltk_data...\n",
      "[nltk_data]   Package wordnet is already up-to-date!\n"
     ]
    }
   ],
   "source": [
    "import nltk\n",
    "from nltk.corpus import wordnet\n",
    "\n",
    "nltk.download('wordnet')"
   ]
  },
  {
   "cell_type": "code",
   "execution_count": 237,
   "id": "cddd892a-f2fa-4fcc-b8ff-7cbe8d697087",
   "metadata": {},
   "outputs": [
    {
     "name": "stdout",
     "output_type": "stream",
     "text": [
      "Synonyms for 'gear': ['train', 'gear', 'gear_wheel', 'appurtenance', 'geartrain', 'paraphernalia', 'cogwheel', 'gear_mechanism', 'gearing', 'geared_wheel', 'pitch', 'power_train']\n"
     ]
    }
   ],
   "source": [
    "word = \"gear\"\n",
    "synonyms = set()\n",
    "\n",
    "for ss in wordnet.synsets(word):\n",
    "    for lemma in ss.lemma_names():\n",
    "        synonyms.add(lemma)\n",
    "\n",
    "print(f\"Synonyms for '{word}': {list(synonyms)}\")"
   ]
  },
  {
   "cell_type": "code",
   "execution_count": 269,
   "id": "e58e8194-3d02-4e8f-b736-c98428893f77",
   "metadata": {},
   "outputs": [
    {
     "name": "stdout",
     "output_type": "stream",
     "text": [
      "Synset('gear.n.01')\n",
      "Synset('gearing.n.01')\n",
      "Synset('gear.n.03')\n",
      "Synset('gear.n.04')\n",
      "Synset('gear.v.01')\n"
     ]
    }
   ],
   "source": [
    "word = \"gear\"\n",
    "for ss in wordnet.synsets(word):\n",
    "    print(ss)"
   ]
  },
  {
   "cell_type": "code",
   "execution_count": 248,
   "id": "c5186de2-ab71-4125-878b-5b50ebb1bdce",
   "metadata": {},
   "outputs": [
    {
     "data": {
      "text/plain": [
       "'{\"id\": \"gear\", \"synonyms\": \"train,gear,gear_wheel,appurtenance,geartrain,paraphernalia,cogwheel,gear_mechanism,gearing,geared_wheel,pitch,power_train\"}'"
      ]
     },
     "execution_count": 248,
     "metadata": {},
     "output_type": "execute_result"
    }
   ],
   "source": [
    "#json.dumps(list(synonyms))\n",
    "syn = {'id': word, 'synonyms' : ','.join(list(synonyms))}\n",
    "json.dumps(syn)"
   ]
  },
  {
   "cell_type": "code",
   "execution_count": 251,
   "id": "7c940ea1-02b8-4727-81d7-711e919ce2bc",
   "metadata": {},
   "outputs": [
    {
     "data": {
      "text/plain": [
       "'[\"train\", \"gear\", \"gear wheel\", \"appurtenance\", \"geartrain\", \"paraphernalia\", \"cogwheel\", \"gear mechanism\", \"gearing\", \"geared wheel\", \"pitch\", \"power train\"]'"
      ]
     },
     "execution_count": 251,
     "metadata": {},
     "output_type": "execute_result"
    }
   ],
   "source": [
    "syn_struct = list(map(lambda x: x.replace('_', ' '), list(synonyms)))\n",
    "json.dumps(syn_struct)"
   ]
  },
  {
   "cell_type": "code",
   "execution_count": 252,
   "id": "aed838e7-d619-4a4a-8204-2a9dad356539",
   "metadata": {},
   "outputs": [
    {
     "data": {
      "text/plain": [
       "'{\"id\": \"gear\", \"synonyms\": \"train,gear,gear wheel,appurtenance,geartrain,paraphernalia,cogwheel,gear mechanism,gearing,geared wheel,pitch,power train\"}'"
      ]
     },
     "execution_count": 252,
     "metadata": {},
     "output_type": "execute_result"
    }
   ],
   "source": [
    "syn_list = list(map(lambda x: x.replace('_', ' '), list(synonyms)))\n",
    "syn = {'id': word, 'synonyms' : ','.join(syn_list)}\n",
    "json.dumps(syn)"
   ]
  },
  {
   "cell_type": "code",
   "execution_count": 296,
   "id": "ec366519-253d-4ac2-a85d-3913b36409af",
   "metadata": {},
   "outputs": [],
   "source": [
    "syn_set = []\n",
    "for word in unique_cats:\n",
    "    try:\n",
    "        if word.find(' ') < 0:\n",
    "            synonyms = set()\n",
    "            for ss in wordnet.synsets(word):\n",
    "                for lemma in ss.lemma_names()[:4]:\n",
    "                    # if word.lower().find(lemma) < 0: # don't add lemmas that are just stems of the word\n",
    "                    synonyms.add(lemma)\n",
    "            if len(synonyms) > 0:\n",
    "                syn_list = list(map(lambda x: x.replace('_', ' ').replace(\"'s\", ''), list(synonyms)))\n",
    "                syn_list.append(word.lower())\n",
    "                syn_struct = {'id': word, 'synonyms' : ','.join(syn_list)}\n",
    "                syn_set.append(syn_struct)\n",
    "    except:\n",
    "        pass"
   ]
  },
  {
   "cell_type": "code",
   "execution_count": 297,
   "id": "fcaec27b-7753-45c0-bf28-71cc3c421018",
   "metadata": {},
   "outputs": [
    {
     "data": {
      "text/plain": [
       "'[{\"id\": \"Sports\", \"synonyms\": \"fun,lark,feature,frolic,skylark,rollick,summercater,sportswoman,mutant,athletics,mutation,variation,play,sportsman,sport,boast,sports\"}, {\"id\": \"Skateboarding\", \"synonyms\": \"skateboarding,skateboard,skateboarding\"}, {\"id\": \"Wheels\", \"synonyms\": \"rack,bike,roll,wheel,roulette wheel,steering wheel,wheel around,bicycle,pedal,cycle,wheels\"}, {\"id\": \"Boating\", \"synonyms\": \"yachting,boat,boating,boating\"}, {\"id\": \"Earrings\", \"synonyms\": \"earring,earrings\"}, {\"id\": \"Clothing\", \"synonyms\": \"wear,robe,article of clothing,clothe,cloak,garb,dress,vesture,clothing,enclothe,adorn,drape,invest,clothing\"}, {\"id\": \"T-Shirts\", \"synonyms\": \"T-shirt,jersey,tee shirt,t-shirts\"}, {\"id\": \"Goggles\", \"synonyms\": \"gawp,gawk,gape,goggles,goggle,goggles\"}, {\"id\": \"Fishing\", \"synonyms\": \"fishing,fish,sportfishing,angle,fishing\"}, {\"id\": \"Accessories\", \"synonyms\": \"appurtenance,supplement,accouterment,add-on,accessory,accessary,accoutrement,accessories\"}, {\"id\": \"Men\", \"synonyms\": \"homo,gentleman,humankind,military man,Isle of Man,valet de chambre,gentleman gentleman,human,man,piece,military personnel,human race,work force,manpower,hands,workforce,Man,human being,valet,humanity,world,adult male,serviceman,men\"}, {\"id\": \"Plugs\", \"synonyms\": \"plug,male plug,sparking plug,punch,jade,nag,stop up,chew,stopper,hack,secure,plug away,fire hydrant,chaw,fireplug,hype,stopple,ballyhoo,hoopla,quid,spark plug,cud,plugs\"}, {\"id\": \"Cycling\", \"synonyms\": \"bike,cycle,motorcycle,cycling,bicycle,pedal,motorbike,cycling\"}, {\"id\": \"Bikes\", \"synonyms\": \"bike,wheel,motorcycle,bicycle,pedal,cycle,bikes\"}, {\"id\": \"Collars\", \"synonyms\": \"neckband,shoe collar,dog collar,catch,apprehension,nail,choker,apprehend,arrest,leash,collar,collars\"}, {\"id\": \"Decals\", \"synonyms\": \"decal,decalcomania,decals\"}, {\"id\": \"Wallets\", \"synonyms\": \"pocketbook,billfold,wallet,notecase,wallets\"}, {\"id\": \"Golf\", \"synonyms\": \"golf,golf game,golf\"}, {\"id\": \"Snowboarding\", \"synonyms\": \"snowboard,snowboarding,snowboarding\"}, {\"id\": \"Boots\", \"synonyms\": \"charge,iron heel,reboot,bring up,kicking,rush,boot,iron boot,the boot,bang,kick,boots\"}, {\"id\": \"Tack\", \"synonyms\": \"stable gear,alternate,saddlery,wear round,put together,tack,sheet,tacking,switch,interchange,weather sheet,baste,piece,mainsheet,set up,assemble,tack on,append,tag on,tack\"}, {\"id\": \"Gloves\", \"synonyms\": \"glove,baseball glove,baseball mitt,mitt,boxing glove,gloves\"}, {\"id\": \"Women\", \"synonyms\": \"adult female,cleaning woman,char,cleaning lady,womanhood,fair sex,charwoman,woman,women\"}, {\"id\": \"Rings\", \"synonyms\": \"ringing,annulus,closed chain,phone,pack,skirt,call up,knell,gang,surround,doughnut,peal,rings,environ,mob,ring,band,telephone,call,halo,echo,resound,tintinnabulation,reverberate,hoop,rings\"}, {\"id\": \"Hooks\", \"synonyms\": \"claw,crotchet,surcharge,snitch,snare,pinch,bait,come-on,cop,addict,purloin,cabbage,gazump,pilfer,soak,thieve,hook,maulers,draw,lure,hooking,hook shot,solicit,accost,crochet,meat hooks,hooks,overcharge,hooks\"}, {\"id\": \"Suspension\", \"synonyms\": \"dangling,respite,abeyance,pause,suspension,hiatus,hanging,intermission,suspension system,temporary removal,reprieve,interruption,break,suspension\"}, {\"id\": \"Backpacks\", \"synonyms\": \"back pack,pack,knapsack,backpack,packsack,backpacks\"}, {\"id\": \"Jerseys\", \"synonyms\": \"NJ,tee shirt,New Jersey,island of Jersey,T-shirt,jersey,Jersey,Garden State,jerseys\"}, {\"id\": \"Games\", \"synonyms\": \"plot,secret plan,gage,biz,game,stake,back,bet on,games\"}, {\"id\": \"Archery\", \"synonyms\": \"archery,archery\"}, {\"id\": \"Points\", \"synonyms\": \"dot,maneuver,direct,gunpoint,full stop,power point,distributor point,spot,luff,aim,sharpen,stage,point,stop,taper,target,level,designate,indicate,item,charge,steer,percentage point,pointedness,tip,head,breaker point,place,show,peak,bespeak,repoint,decimal point,point in time,manoeuvre,manoeuver,detail,betoken,period,compass point,orient,degree,points\"}, {\"id\": \"Coolers\", \"synonyms\": \"ice chest,cooler,tank,coolers\"}, {\"id\": \"Kayaking\", \"synonyms\": \"kayak,kayaking\"}, {\"id\": \"Paddles\", \"synonyms\": \"dodder,toddle,coggle,larrup,splash around,paddle,spank,totter,dabble,boat paddle,paddles\"}, {\"id\": \"Headbands\", \"synonyms\": \"headband,headbands\"}, {\"id\": \"Bars\", \"synonyms\": \"cake,measure,streak,legal profession,block,barricade,saloon,banish,stop,ginmill,parallel bars,bar,debar,Browning automatic rifle,BAR,bars,barroom,blockade,relegate,stripe,prevention,exclude,legal community,bars\"}, {\"id\": \"Pistols\", \"synonyms\": \"pistol,side arm,shooting iron,handgun,pistols\"}, {\"id\": \"Jigs\", \"synonyms\": \"gigue,jig,jigs\"}, {\"id\": \"Tumblers\", \"synonyms\": \"roller,tumbler,tumbler pigeon,tumblers\"}, {\"id\": \"Scooters\", \"synonyms\": \"iceboat,scooter,scoter,ice yacht,water scooter,motor scooter,sea scooter,scooters\"}, {\"id\": \"Helmets\", \"synonyms\": \"helmet,helmets\"}, {\"id\": \"Grips\", \"synonyms\": \"grip,clasp,bobby pin,adhesive friction,traveling bag,hairgrip,clench,handgrip,spellbind,bag,grasp,grapple,fascinate,handle,traction,clutch,hold,travelling bag,transfix,clutches,grips\"}, {\"id\": \"Rowers\", \"synonyms\": \"rower,oarsman,rowers\"}, {\"id\": \"Yoga\", \"synonyms\": \"yoga,yoga\"}, {\"id\": \"Plaques\", \"synonyms\": \"memorial tablet,brass,plaque,plaques\"}, {\"id\": \"Umbrellas\", \"synonyms\": \"umbrella,umbrellas\"}, {\"id\": \"Straps\", \"synonyms\": \"welt,lather,shoulder strap,flog,whip,strap,straps\"}, {\"id\": \"Benches\", \"synonyms\": \"judiciary,Bench,work bench,bench,workbench,terrace,benches\"}, {\"id\": \"Storage\", \"synonyms\": \"computer storage,storehouse,warehousing,repositing,storage,entrepot,memory,depot,reposition,computer memory,storage\"}, {\"id\": \"Bushings\", \"synonyms\": \"bushing,cylindrical lining,bushings\"}, {\"id\": \"Boxing\", \"synonyms\": \"packing,boxing,pugilism,fisticuffs,box,package,boxing\"}, {\"id\": \"Dance\", \"synonyms\": \"trip the light fantastic,dancing,terpsichore,dance,saltation,trip the light fantastic toe,dance\"}, {\"id\": \"Darts\", \"synonyms\": \"darts,fleet,dart,dash,flutter,scoot,flit,scud,darts\"}, {\"id\": \"Sailing\", \"synonyms\": \"soaring,navigation,sailplaning,navigate,voyage,seafaring,sail,sailing,gliding,glide,sweep,sailing\"}, {\"id\": \"Hardware\", \"synonyms\": \"ironware,hardware,computer hardware,hardware\"}, {\"id\": \"Shooting\", \"synonyms\": \"hit,shooting,blast,inject,snap,dash,film,fritter,spud,shot,frivol away,dissipate,germinate,take,scud,charge,tear,scoot,pullulate,shoot,shoot down,photograph,dart,pip,shooting\"}, {\"id\": \"Headstalls\", \"synonyms\": \"headstall,headpiece,headstalls\"}, {\"id\": \"Hunting\", \"synonyms\": \"track down,trace,search,run,hunting,hound,hunt,hunt down,hunting\"}, {\"id\": \"Forks\", \"synonyms\": \"forking,branch,branching,pitchfork,furcate,ramification,crotch,ramify,fork,forks\"}, {\"id\": \"Footwear\", \"synonyms\": \"footwear,footgear,footwear\"}, {\"id\": \"Slippers\", \"synonyms\": \"carpet slipper,slider,skidder,slipper,slippers\"}, {\"id\": \"Trophies\", \"synonyms\": \"trophy,prize,trophies\"}, {\"id\": \"Electronics\", \"synonyms\": \"electronics,electronics\"}, {\"id\": \"Spoons\", \"synonyms\": \"spoon,spoonful,smooch,spoons\"}, {\"id\": \"Swimming\", \"synonyms\": \"swim,drown,float,naiant,swimming,liquid,swimming\"}, {\"id\": \"Charms\", \"synonyms\": \"enamour,catch,magical spell,appeal,spell,tempt,magic spell,charm,good luck charm,becharm,trance,influence,capture,appealingness,charms\"}, {\"id\": \"Shorts\", \"synonyms\": \"drawers,boxers,short,short circuit,short-change,shorts,trunks,short pants,shortstop,short-circuit,underdrawers,shorts\"}, {\"id\": \"Climbing\", \"synonyms\": \"mounting,wax,climb,climbing,mount,rise,go up,climb up,climbing\"}, {\"id\": \"Weapons\", \"synonyms\": \"arm,weapon system,weapon,artillery,weapons\"}, {\"id\": \"Knives\", \"synonyms\": \"knife,tongue,knives\"}, {\"id\": \"Rangefinders\", \"synonyms\": \"rangefinder,range finder,rangefinders\"}, {\"id\": \"Dumbbells\", \"synonyms\": \"dummy,dumbbell,boob,dope,dumbbells\"}, {\"id\": \"Jackets\", \"synonyms\": \"crown,crownwork,jacket crown,jacket,jackets\"}, {\"id\": \"Discs\", \"synonyms\": \"magnetic disc,disk,record,saucer,phonograph recording,phonograph record,magnetic disk,disc,discs\"}, {\"id\": \"Drivers\", \"synonyms\": \"device driver,driver,number one wood,drivers\"}, {\"id\": \"Handlebars\", \"synonyms\": \"handlebar,handlebars\"}, {\"id\": \"Football\", \"synonyms\": \"football game,football,football\"}, {\"id\": \"Running\", \"synonyms\": \"scarper,die hard,track down,feed,scat,run for,ply,melt,campaign,lead,unravel,running game,carry,consort,running play,be given,range,operate,black market,pass,hunt,tend,track,prevail,move,persist,linear,execute,run,flow,lean,running,go,incline,play,draw,race,function,work,hunt down,ladder,working,course,functional,turn tail,bleed,guide,operative,melt down,running\"}, {\"id\": \"Baseball\", \"synonyms\": \"baseball game,baseball,baseball\"}, {\"id\": \"Paintball\", \"synonyms\": \"paintball,paintball\"}, {\"id\": \"Tanks\", \"synonyms\": \"cooler,storage tank,tank,army tank,armored combat vehicle,tank car,tankful,armoured combat vehicle,tanks\"}, {\"id\": \"Basketball\", \"synonyms\": \"basketball,basketball game,hoops,basketball\"}, {\"id\": \"Artwork\", \"synonyms\": \"graphics,nontextual matter,artwork,art,artwork\"}, {\"id\": \"Decks\", \"synonyms\": \"dump,deck,coldcock,grace,decorate,bedeck,knock down,deck of cards,adorn,bedight,pack of cards,decks\"}, {\"id\": \"Mats\", \"synonyms\": \"felt up,matt-up,gym mat,mat,lusterlessness,entangle,snarl,mat up,Master of Arts in Teaching,felt,flatness,matting,tangle,lustrelessness,MAT,mats\"}, {\"id\": \"Bracelets\", \"synonyms\": \"watchstrap,watch bracelet,wristband,bracelet,bangle,watchband,bracelets\"}, {\"id\": \"Chairs\", \"synonyms\": \"chairwoman,president,chair,professorship,hot seat,electric chair,lead,moderate,death chair,chairman,chairs\"}, {\"id\": \"Tennis\", \"synonyms\": \"tennis,lawn tennis,tennis\"}, {\"id\": \"Balls\", \"synonyms\": \"musket ball,testis,orchis,clod,glob,orb,Ball,ball,lump,testicle,globe,formal,Lucille Ball,balls\"}, {\"id\": \"Blankets\", \"synonyms\": \"cover,blanket,mantle,blankets\"}, {\"id\": \"Socks\", \"synonyms\": \"whap,sock,windsock,wind sock,air sock,bop,whop,socks\"}, {\"id\": \"Reins\", \"synonyms\": \"rule,rein in,harness,draw rein,rein,reins\"}, {\"id\": \"Swivels\", \"synonyms\": \"pivot,swivel,swivels\"}, {\"id\": \"Hydration\", \"synonyms\": \"hydration,hydration\"}, {\"id\": \"Bedding\", \"synonyms\": \"sleep together,bedding,love,make out,crawl in,bedclothes,roll in the hay,go to bed,bedding material,bed,turn in,bed clothing,litter,bedding\"}, {\"id\": \"Putters\", \"synonyms\": \"potter around,putting iron,tinker,putter,putter around,mess around,potter,putters\"}, {\"id\": \"Treadmills\", \"synonyms\": \"treadwheel,salt mine,treadmill,tread-wheel,treadmills\"}, {\"id\": \"Brakes\", \"synonyms\": \"brake system,brake,Pteridium aquilinum,pasture brake,brakes,bracken,brakes\"}, {\"id\": \"Towels\", \"synonyms\": \"towel,towels\"}, {\"id\": \"Plates\", \"synonyms\": \"plot,home plate,plate,home base,home,dental plate,denture,plat,crustal plate,photographic plate,shell,plateful,collection plate,scale,plates\"}, {\"id\": \"Lanterns\", \"synonyms\": \"lantern,lanterns\"}, {\"id\": \"Bath\", \"synonyms\": \"Bath,bathing tub,tub,bathtub,bathroom,bathe,bath,bath\"}, {\"id\": \"Tires\", \"synonyms\": \"wear,pall,wear upon,tire out,sap,bore,exhaust,weary,tire,play out,run down,tyre,fatigue,tires\"}, {\"id\": \"Bowling\", \"synonyms\": \"bowling,bowl,bowling\"}, {\"id\": \"Reels\", \"synonyms\": \"Virginia reel,bobbin,keel,spin around,reel,stagger,lurch,Scottish reel,whirl,spool,spin,reels\"}, {\"id\": \"Shafts\", \"synonyms\": \"shaft,calamus,diaphysis,chouse,spear,cock,light beam,dig,rotating shaft,shot,screw,slam,prick,beam,scape,cheat,beam of light,lance,dick,ray,quill,shafts\"}, {\"id\": \"Shelters\", \"synonyms\": \"tax shelter,protection,shelter,shelters\"}, {\"id\": \"Bowls\", \"synonyms\": \"bowl,roll,bowls,bowling ball,trough,bowlful,lawn bowling,arena,sports stadium,stadium,pipe bowl,bowls\"}, {\"id\": \"Nocks\", \"synonyms\": \"score,nock,mark,nocks\"}, {\"id\": \"Locks\", \"synonyms\": \"curl,lock away,lock chamber,lock in,put away,ignition lock,operate,interlace,lock,interlock,whorl,engage,mesh,ringlet,locks\"}, {\"id\": \"Watches\", \"synonyms\": \"catch,find out,follow,determine,check,vigil,look on,watch,sentry,ticker,lookout,lookout man,observe,watch out,sentinel,see,look out,watch over,view,watches\"}, {\"id\": \"Soccer\", \"synonyms\": \"soccer,association football,soccer\"}, {\"id\": \"Snowboards\", \"synonyms\": \"snowboard,snowboards\"}, {\"id\": \"Volleyball\", \"synonyms\": \"volleyball,volleyball game,volleyball\"}, {\"id\": \"Volleyballs\", \"synonyms\": \"volleyball,volleyball game,volleyballs\"}, {\"id\": \"Gymnastics\", \"synonyms\": \"gymnastics,gymnastic exercise,gymnastics\"}, {\"id\": \"Racquets\", \"synonyms\": \"racket,racquet,racquets\"}, {\"id\": \"Boys\", \"synonyms\": \"male child,son,boy,boys\"}, {\"id\": \"Halters\", \"synonyms\": \"hackamore,strangle,haltere,hangman rope,cramp,balancer,hamper,hangman halter,hemp,halter,halters\"}, {\"id\": \"Pants\", \"synonyms\": \"knickers,gasp,drawers,puff,trouser,pant,bloomers,heave,pants,pants\"}, {\"id\": \"Canteens\", \"synonyms\": \"mobile canteen,canteen,canteens\"}, {\"id\": \"Optics\", \"synonyms\": \"eye,oculus,optic,optics,optics\"}, {\"id\": \"Stirrups\", \"synonyms\": \"stapes,stirrup,stirrup iron,stirrups\"}, {\"id\": \"Bags\", \"synonyms\": \"grip,bulge,traveling bag,old bag,bag,bagful,purse,base,pocketbook,travelling bag,pocket,handbag,udder,cup of tea,dish,bags\"}, {\"id\": \"Parts\", \"synonyms\": \"divide,split,component,theatrical role,separate,start,disunite,component part,piece,percentage,split up,part,character,start out,parting,section,voice,parts,share,function,depart,portion,region,office,contribution,role,division,parts\"}, {\"id\": \"Scarves\", \"synonyms\": \"scarf joint,scarf,scarves\"}, {\"id\": \"Rifles\", \"synonyms\": \"go,reave,despoil,plunder,rifle,loot,rifles\"}, {\"id\": \"Sunglasses\", \"synonyms\": \"sunglasses,shades,dark glasses,sunglass,sunglasses\"}, {\"id\": \"Enclosures\", \"synonyms\": \"enclosure,inclosure,enclosing,natural enclosure,envelopment,enclosures\"}, {\"id\": \"Hammocks\", \"synonyms\": \"hummock,mound,knoll,hillock,sack,hammock,hammocks\"}, {\"id\": \"Pilates\", \"synonyms\": \"Pontius Pilate,Pilate,pilates\"}, {\"id\": \"Rods\", \"synonyms\": \"perch,retinal rod,rod,gat,pole,rod cell,rods\"}, {\"id\": \"Masks\", \"synonyms\": \"masque,cloak,masquerade party,disguise,dissemble,mask,block out,masquerade,masks\"}, {\"id\": \"Blinds\", \"synonyms\": \"subterfuge,dim,blind,screen,blinds\"}, {\"id\": \"Outerwear\", \"synonyms\": \"overclothes,outerwear,outerwear\"}, {\"id\": \"Surfing\", \"synonyms\": \"browse,channel-surf,surfing,surfriding,surf,surfboarding,surfboard,surfing\"}, {\"id\": \"Snowmobiling\", \"synonyms\": \"snowmobile,snowmobiling\"}, {\"id\": \"Swimwear\", \"synonyms\": \"swimsuit,bathing suit,swimwear,swimming costume,swimwear\"}, {\"id\": \"Laces\", \"synonyms\": \"spike,enlace,plait,fortify,entwine,lace,braid,lacing,twine,lace up,intertwine,laces\"}, {\"id\": \"Flies\", \"synonyms\": \"wing,tent-fly,fly ball,take flight,vanish,fell,flies,flee,aviate,vaporize,fly front,rainfly,pilot,fly sheet,fly,flies\"}, {\"id\": \"Wrestling\", \"synonyms\": \"rassling,wriggle,writhe,worm,wrestling,grapple,wrestle,grappling,wrestling\"}, {\"id\": \"Tables\", \"synonyms\": \"hold over,tabularise,mesa,postpone,prorogue,board,put over,tabularize,table,tabular array,tabulate,tables\"}, {\"id\": \"Hubs\", \"synonyms\": \"hub,hubs\"}, {\"id\": \"Ties\", \"synonyms\": \"standoff,sleeper,splice,bind,connect,tie-up,linkup,wed,necktie,marry,tie-in,draw,bond,link,tie,railroad tie,association,affiliation,attach,link up,crosstie,tie beam,ties\"}, {\"id\": \"Stabilizers\", \"synonyms\": \"stabilizer,stabiliser,stabilizers\"}, {\"id\": \"Headphones\", \"synonyms\": \"phone,headphone,earphone,earpiece,headphones\"}, {\"id\": \"Spokes\", \"synonyms\": \"radius,wheel spoke,spoke,rung,rundle,spokes\"}, {\"id\": \"Saddles\", \"synonyms\": \"bicycle seat,charge,saddleback,saddle,burden,saddles\"}, {\"id\": \"Tubes\", \"synonyms\": \"thermionic tube,metro,thermionic vacuum tube,tubing,tube-shaped structure,subway system,tube,vacuum tube,pipe,underground,tubes\"}, {\"id\": \"Cheerleading\", \"synonyms\": \"cheerlead,cheerleading\"}, {\"id\": \"Poms\", \"synonyms\": \"pom,pommy,poms\"}, {\"id\": \"Skiing\", \"synonyms\": \"ski,skiing,skiing\"}, {\"id\": \"Bindings\", \"synonyms\": \"book binding,dressing,bandaging,cover,binding,ski binding,back,bindings\"}, {\"id\": \"Baseballs\", \"synonyms\": \"baseball game,baseball,baseballs\"}, {\"id\": \"Sweaters\", \"synonyms\": \"perspirer,sweater,jumper,sweaters\"}, {\"id\": \"Tents\", \"synonyms\": \"camp out,camp,encamp,collapsible shelter,tent,bivouac,tents\"}, {\"id\": \"Duffels\", \"synonyms\": \"duffel bag,duffle bag,duffle,duffel,duffels\"}, {\"id\": \"Webbing\", \"synonyms\": \"webbing,net,web,webbing\"}, {\"id\": \"Trucks\", \"synonyms\": \"hand truck,truck,motortruck,trucks\"}, {\"id\": \"Leashes\", \"synonyms\": \"3,three,tether,trio,leash,lead,rope,III,collar,leashes\"}, {\"id\": \"Surfboards\", \"synonyms\": \"surf,surfboard,surfboards\"}, {\"id\": \"Furniture\", \"synonyms\": \"furniture,piece of furniture,article of furniture,furniture\"}, {\"id\": \"Lines\", \"synonyms\": \"dividing line,product line,rail line,subscriber line,line of descent,channel,descent,phone line,communication channel,cable,logical argument,line of credit,crease,air,transmission line,telephone circuit,furrow,describe,line of work,credit line,demarcation,job,bank line,trace,strain,line of products,lineage,crinkle,agate line,pipeline,production line,argumentation,wrinkle,line,draw,railway line,billet,occupation,line of merchandise,note,tune,run along,short letter,argument,telephone line,course,contrast,business,line of reasoning,melody,assembly line,lines\"}, {\"id\": \"Anchors\", \"synonyms\": \"anchor,mainstay,cast anchor,ground,ground tackle,anchorman,drop anchor,keystone,anchorperson,backbone,anchors\"}, {\"id\": \"Heads\", \"synonyms\": \"header,school principal,promontory,top dog,maneuver,psyche,question,headland,heading,lead,chief,fountainhead,pass,straits,point,head teacher,foreland,headway,forefront,oral sex,brain,capitulum,principal,steer,head word,head,caput,drumhead,read/write head,headspring,head up,manoeuvre,manoeuver,mind,heads\"}, {\"id\": \"Singlets\", \"synonyms\": \"vest,singlet,undershirt,singlets\"}, {\"id\": \"Softball\", \"synonyms\": \"softball game,playground ball,softball,softball\"}, {\"id\": \"Bats\", \"synonyms\": \"bat,cricket bat,barmy,chiropteran,flutter,clobber,drub,squash racquet,bats,at-bat,cream,balmy,batty,squash racket,bats\"}, {\"id\": \"Whistles\", \"synonyms\": \"whistle,tin whistle,whistling,pennywhistle,sing,whistles\"}, {\"id\": \"Kayaks\", \"synonyms\": \"kayak,kayaks\"}, {\"id\": \"Ornaments\", \"synonyms\": \"ornament,decoration,grace,decorate,ornamentation,adorn,ornaments\"}, {\"id\": \"Headgear\", \"synonyms\": \"headgear,headdress,headgear\"}, {\"id\": \"Sandals\", \"synonyms\": \"sandal,sandals\"}, {\"id\": \"Dartboards\", \"synonyms\": \"dart board,dartboard,dartboards\"}, {\"id\": \"Girls\", \"synonyms\": \"little girl,miss,young lady,female child,daughter,girl,girlfriend,lady friend,missy,girls\"}, {\"id\": \"Pennants\", \"synonyms\": \"crown,streamer,pennon,pennant,waft,pennants\"}, {\"id\": \"Targets\", \"synonyms\": \"aim,object,prey,quarry,objective,fair game,direct,target,target area,place,butt,mark,targets\"}, {\"id\": \"Chains\", \"synonyms\": \"chain,chains,string,irons,Ernst Boris Chain,Sir Ernst Boris Chain,range,concatenation,Chain,mountain range,chemical chain,strand,range of mountains,chains\"}, {\"id\": \"Washers\", \"synonyms\": \"automatic washer,washing machine,washer,washers\"}, {\"id\": \"Gauges\", \"synonyms\": \"bore,calibre,estimate,caliber,gage,guess,approximate,standard of measurement,gauge,gauges\"}, {\"id\": \"Liners\", \"synonyms\": \"lining,line drive,liner,ocean liner,liners\"}, {\"id\": \"Photos\", \"synonyms\": \"picture,photo,photograph,exposure,photos\"}, {\"id\": \"Hangers\", \"synonyms\": \"hanger,hangers\"}, {\"id\": \"Poker\", \"synonyms\": \"salamander,poker,stove poker,poker game,fire hook,poker\"}, {\"id\": \"Aprons\", \"synonyms\": \"apron,proscenium,forestage,aprons\"}, {\"id\": \"Compasses\", \"synonyms\": \"get the picture,range,grok,comprehend,grasp,circumnavigate,scope,compass,orbit,savvy,reach,compasses\"}, {\"id\": \"Tools\", \"synonyms\": \"shaft,tool around,prick,puppet,creature,tool,cock,joyride,dick,instrument,tools\"}, {\"id\": \"Swords\", \"synonyms\": \"blade,steel,sword,brand,swords\"}, {\"id\": \"Skis\", \"synonyms\": \"ski,skis\"}, {\"id\": \"Scents\", \"synonyms\": \"perfume,odourise,scent,wind,fragrance,olfactory property,aroma,odorize,odor,smell,nose,scents\"}, {\"id\": \"Blades\", \"synonyms\": \"brand,leaf blade,vane,blade,steel,sword,blades\"}, {\"id\": \"Quivers\", \"synonyms\": \"trembling,shaking,frisson,quiver,quivering,palpitate,shakiness,vibration,quake,flutter,pulsate,beat,chill,waver,flitter,flicker,shiver,quivers\"}, {\"id\": \"Gaiters\", \"synonyms\": \"spat,gaiter,gaiters\"}, {\"id\": \"Lacrosse\", \"synonyms\": \"lacrosse,lacrosse\"}, {\"id\": \"Headlights\", \"synonyms\": \"headlamp,headlight,headlights\"}, {\"id\": \"Pedals\", \"synonyms\": \"foot pedal,bike,pedal point,foot lever,treadle,bicycle,pedal,cycle,pedals\"}, {\"id\": \"Rope\", \"synonyms\": \"R-2,Mexican valium,rophy,leash,lasso,rope,rope\"}, {\"id\": \"Propellers\", \"synonyms\": \"propellor,propeller,propellers\"}, {\"id\": \"Seating\", \"synonyms\": \"sit down,induct,seating area,seating,seats,seat,sit,invest,seating room,seating\"}, {\"id\": \"Stilts\", \"synonyms\": \"long-legs,stiltbird,pile,Australian stilt,spile,stilt,longlegs,piling,stilts\"}, {\"id\": \"Whips\", \"synonyms\": \"whisk,welt,lather,lash,whiplash,party whip,scald,blister,flog,whip,worst,pip,mop up,whips\"}, {\"id\": \"Magnets\", \"synonyms\": \"attractive feature,attracter,attraction,magnet,attractor,magnets\"}, {\"id\": \"Flatware\", \"synonyms\": \"silver,flatware,flatware\"}, {\"id\": \"Irons\", \"synonyms\": \"atomic number 26,chains,press,irons,iron out,iron,smoothing iron,branding iron,Fe,irons\"}, {\"id\": \"Taillights\", \"synonyms\": \"rear light,rear lamp,taillight,tail lamp,taillights\"}, {\"id\": \"Bowstrings\", \"synonyms\": \"bowstring,bowstrings\"}, {\"id\": \"Emblems\", \"synonyms\": \"allegory,emblem,emblems\"}, {\"id\": \"Sets\", \"synonyms\": \"put,fix,exercise set,localize,determine,localise,do,rig,hardening,Set,sic,define,congeal,set up,solidification,correct,countersink,go down,bent,band,lay out,solidifying,adjust,ready,specify,place,circle,arrange,set,Seth,go under,prepare,readiness,pose,typeset,dress,plant,stage set,jell,mark,fructify,lot,sets\"}, {\"id\": \"Backstops\", \"synonyms\": \"backstop,catcher,backstops\"}, {\"id\": \"Blocks\", \"synonyms\": \"pulley-block,blockage,forget,deflect,occlusion,auction block,immobilize,lug,block,barricade,immobilise,blocking,pulley block,stop,mental block,kibosh,blank out,city block,parry,cube,jam,pulley,hinder,blockade,impede,occlude,halt,engine block,stuff,cylinder block,obstruct,obturate,draw a blank,choke up,closure,freeze,blocks\"}, {\"id\": \"Footprints\", \"synonyms\": \"footmark,footprint,step,footprints\"}, {\"id\": \"Reformers\", \"synonyms\": \"reformist,crusader,reformer,social reformer,reformers\"}, {\"id\": \"Bows\", \"synonyms\": \"prow,arc,accede,bowing,stoop,bowknot,stem,bend,curtain call,submit,bow,bow down,crouch,defer,fore,obeisance,bows\"}, {\"id\": \"Deer\", \"synonyms\": \"deer,cervid,deer\"}, {\"id\": \"Snowshoeing\", \"synonyms\": \"snowshoe,snowshoeing\"}, {\"id\": \"Snowshoes\", \"synonyms\": \"snowshoe,snowshoes\"}, {\"id\": \"Clips\", \"synonyms\": \"magazine,trot,clip,cartridge holder,nip off,trim,time,clipping,crop,curtail,jog,snip,cartridge clip,cut short,nip,clips\"}, {\"id\": \"Pads\", \"synonyms\": \"domiciliation,tablet,pad of paper,stamp pad,embroider,launchpad,trudge,fill out,launch pad,plod,launch area,bolster,footslog,launching pad,slog,pad,lodgings,digs,lard,inking pad,embellish,diggings,inkpad,pads\"}, {\"id\": \"Turkey\", \"synonyms\": \"dud,Meleagris gallopavo,turkey,joker,Turkey,bomb,Republic of Turkey,turkey\"}, {\"id\": \"Bits\", \"synonyms\": \"morsel,turn,act,minute,mo,snatch,fleck,routine,second,piece,bite,moment,number,flake,spot,chip,bit,bits\"}, {\"id\": \"Tees\", \"synonyms\": \"tee up,football tee,teeing ground,golf tee,tee,tees\"}, {\"id\": \"Slingshots\", \"synonyms\": \"sling,catapult,slingshot,slingshots\"}, {\"id\": \"Covers\", \"synonyms\": \"encompass,natural covering,extend,hatch,continue,concealment,cross,brood,back,traverse,incubate,shroud,binding,hide,top,track,screening,underwrite,compensate,blanket,spread over,cover up,enshroud,covering,embrace,handle,report,wrap up,covering fire,cover version,insure,plow,overlay,book binding,cover song,cover,covert,comprehend,screen,masking,overcompensate,breed,cover charge,treat,covers\"}, {\"id\": \"Handball\", \"synonyms\": \"handball,handball\"}, {\"id\": \"Flags\", \"synonyms\": \"sag,pin,masthead,flagstone,signal flag,ease up,flag,fleur-de-lis,iris,slacken off,droop,ease off,sword lily,swag,flags\"}, {\"id\": \"Boats\", \"synonyms\": \"gravy holder,gravy boat,boat,sauceboat,boats\"}, {\"id\": \"BBs\", \"synonyms\": \"BB,electronic bulletin board,bbs,BB shot,bulletin board system,bulletin board,bbs\"}, {\"id\": \"Batteries\", \"synonyms\": \"barrage,barrage fire,stamp battery,battery,bombardment,electric battery,assault and battery,batteries\"}, {\"id\": \"Sledding\", \"synonyms\": \"sled,sledding,going,sleigh,sledding\"}, {\"id\": \"Rubbers\", \"synonyms\": \"pencil eraser,condom,golosh,synthetic rubber,rubber eraser,arctic,rubber,natural rubber,India rubber,gum elastic,galosh,safe,safety,rubberize,rubberise,rubbers\"}, {\"id\": \"Trampolines\", \"synonyms\": \"trampoline,trampolines\"}, {\"id\": \"Thermoses\", \"synonyms\": \"thermos flask,thermos,thermos bottle,thermoses\"}, {\"id\": \"Rests\", \"synonyms\": \"pillow,take a breather,remain,residual,stay,rest,roost,residue,respite,perch,rest period,lie,sleep,eternal rest,eternal sleep,relief,relaxation,catch one breath,ease,reside,remainder,balance,repose,breathe,rests\"}, {\"id\": \"Poles\", \"synonyms\": \"perch,Pole,celestial pole,rod,punt,pole,terminal,magnetic pole,poles\"}, {\"id\": \"Fabric\", \"synonyms\": \"textile,fabric,cloth,framework,material,fabric\"}, {\"id\": \"Stems\", \"synonyms\": \"prow,root word,root,stanch,base,staunch,stem,stalk,shank,bow,stem turn,halt,fore,stems\"}, {\"id\": \"Fencing\", \"synonyms\": \"debate,fencing,contend,argue,fence,wall,fence in,palisade,fencing material,fencing\"}, {\"id\": \"Harnesses\", \"synonyms\": \"rule,rein in,draw rein,harness,tackle,rein,harnesses\"}, {\"id\": \"Skates\", \"synonyms\": \"skate,skates\"}, {\"id\": \"Nets\", \"synonyms\": \"internet,net,lucre,clear,net income,web,cyberspace,meshing,network,nett,sack,mesh,net profit,sack up,nets\"}, {\"id\": \"Ultimate\", \"synonyms\": \"ultimate,ultimate\"}, {\"id\": \"Earmuffs\", \"synonyms\": \"earmuff,earmuffs\"}, {\"id\": \"Coasters\", \"synonyms\": \"coaster,coasters\"}, {\"id\": \"Squash\", \"synonyms\": \"mash,squash vine,squelch,crush,squash rackets,squash,squash racquets,squash\"}, {\"id\": \"Comforters\", \"synonyms\": \"puff,teething ring,sympathiser,pacifier,allayer,quilt,comforter,reliever,comfort,baby dummy,sympathizer,comforters\"}, {\"id\": \"Cricket\", \"synonyms\": \"cricket,cricket\"}, {\"id\": \"Fenders\", \"synonyms\": \"wing,buffer,fender,cowcatcher,pilot,fenders\"}, {\"id\": \"Bearings\", \"synonyms\": \"carriage,aim,presence,charge,armorial bearing,bearing,heraldic bearing,heading,comportment,mien,posture,bearings\"}, {\"id\": \"Softballs\", \"synonyms\": \"softball game,playground ball,softball,softballs\"}, {\"id\": \"Racquetball\", \"synonyms\": \"racquetball,racquetball\"}, {\"id\": \"Rigging\", \"synonyms\": \"rig,rigging,set up,tackle,set,manipulate,rigging\"}, {\"id\": \"Leaders\", \"synonyms\": \"leadership,loss leader,leaders,leader,drawing card,leaders\"}, {\"id\": \"Sheets\", \"synonyms\": \"tabloid,bed sheet,sheet of paper,canvass,piece of paper,flat solid,tack,weather sheet,sail,sheet,plane,canvas,mainsheet,rag,sheets\"}, {\"id\": \"Headlamps\", \"synonyms\": \"headlamp,headlight,headlamps\"}, {\"id\": \"Sneakers\", \"synonyms\": \"gym shoe,stoolpigeon,snitcher,snitch,fink,tennis shoe,sneaker,sneakers\"}, {\"id\": \"Remotes\", \"synonyms\": \"remote,remote control,remotes\"}, {\"id\": \"Trailers\", \"synonyms\": \"laggard,preview,lagger,drone,dawdler,prevue,trailer,house trailer,trailers\"}, {\"id\": \"Reflectors\", \"synonyms\": \"reflecting telescope,reflector,reflectors\"}, {\"id\": \"Rackets\", \"synonyms\": \"racket,racquet,make merry,illegitimate enterprise,revel,noise,make whoopie,fraudulent scheme,dissonance,rackets\"}, {\"id\": \"Wire\", \"synonyms\": \"wire,telegram,cable,electrify,telegraph,conducting wire,wire\"}, {\"id\": \"Cases\", \"synonyms\": \"instance,compositor case,encase,type,case,face,shell,cause,fount,example,incase,casing,suit,lawsuit,caseful,display case,vitrine,subject,grammatical case,character,font,pillow slip,pillowcase,event,slip,sheath,showcase,typeface,guinea pig,typesetter case,eccentric,cases\"}, {\"id\": \"Tops\", \"synonyms\": \"big top,crown,clear,transcend,pinch,lead,overstep,upper side,crest,pass,whirligig,top,acme,top out,spinning top,round top,circus tent,first-rate,elevation,top side,ace,height,upside,peak,top off,cover,top of the inning,A-one,exceed,crack,teetotum,tops\"}, {\"id\": \"Earplugs\", \"synonyms\": \"earplug,earplugs\"}, {\"id\": \"Sights\", \"synonyms\": \"good deal,visual modality,flock,view,ken,deal,visual sense,batch,spy,vision,survey,sights,sight,sights\"}, {\"id\": \"Reservoirs\", \"synonyms\": \"source,reservoir,man-made lake,artificial lake,reservoirs\"}, {\"id\": \"Spotlights\", \"synonyms\": \"public eye,play up,foreground,highlight,spotlight,glare,spot,limelight,spotlights\"}, {\"id\": \"Ascenders\", \"synonyms\": \"ascender,ascenders\"}, {\"id\": \"Medals\", \"synonyms\": \"medallion,medal,laurel wreath,decoration,medals\"}, {\"id\": \"Eggs\", \"synonyms\": \"egg,eggs,orchis,testis,ball,testicle,eggs\"}, {\"id\": \"Canoeing\", \"synonyms\": \"canoe,canoeing\"}, {\"id\": \"Horns\", \"synonyms\": \"tusk,trumpet,cornet,French horn,trump,automobile horn,saddle horn,horn,car horn,motor horn,horns\"}, {\"id\": \"Cleaners\", \"synonyms\": \"cleanser,cleaners,cleaner,dry cleaners,cleansing agent,dry cleaner,cleaners\"}, {\"id\": \"Lamps\", \"synonyms\": \"lamp,lamps\"}, {\"id\": \"Shovels\", \"synonyms\": \"shovel,excavator,power shovel,spadeful,shovelful,digger,shovels\"}, {\"id\": \"Sticks\", \"synonyms\": \"stay put,bind,pin,joint,stand by,stick by,cleave,wedge,peg,reefer,lodge,stay,stick,vex,perplex,deposit,hold fast,sting,cling,control stick,adhere,bond,joystick,get,marijuana cigarette,stick around,sticks\"}, {\"id\": \"Magazines\", \"synonyms\": \"cartridge clip,magazine publisher,magazine,cartridge holder,clip,powder store,mag,cartridge,powder magazine,magazines\"}, {\"id\": \"Loaders\", \"synonyms\": \"docker,stevedore,longshoreman,loader,loaders\"}, {\"id\": \"Stopwatches\", \"synonyms\": \"stopwatch,stop watch,stopwatches\"}, {\"id\": \"Crossbows\", \"synonyms\": \"crossbow,crossbows\"}, {\"id\": \"Pedometers\", \"synonyms\": \"pedometer,pedometers\"}, {\"id\": \"Cots\", \"synonyms\": \"cot,camp bed,fingerstall,crib,cots\"}, {\"id\": \"Dresses\", \"synonyms\": \"garnish,garb,decorate,attire,get dressed,curry,crop,enclothe,do,dress out,plume,frock,dress up,clothes,line up,wearing apparel,groom,snip,arrange,set,clothe,clip,dress,trim,apparel,primp,preen,dresses\"}, {\"id\": \"Panels\", \"synonyms\": \"gore,instrument panel,control board,empanel,panel,control panel,board,venire,impanel,jury,dialog box,panels\"}, {\"id\": \"Teasers\", \"synonyms\": \"tormentor,teaser,puzzler,tormenter,tease,vexer,puzzle,annoyer,mystifier,teasers\"}, {\"id\": \"Pegs\", \"synonyms\": \"thole,nail,pegleg,pin,tholepin,nail down,peg down,stick,peg,wooden leg,leg,nog,pegs\"}, {\"id\": \"Portable\", \"synonyms\": \"portable,portable\"}, {\"id\": \"Badminton\", \"synonyms\": \"badminton,badminton\"}, {\"id\": \"Megaphones\", \"synonyms\": \"megaphone,megaphones\"}, {\"id\": \"Stools\", \"synonyms\": \"feces,defecate,fecal matter,shit,stool,toilet,tiller,faecal matter,commode,take a shit,can,crapper,faeces,stools\"}, {\"id\": \"Pins\", \"synonyms\": \"fall,PIN,thole,personal identification number,pin,PIN number,tholepin,trap,stick,flag,bowling pin,immobilize,peg,pivot,pin tumbler,immobilise,pins\"}, {\"id\": \"Saws\", \"synonyms\": \"adage,sawing machine,byword,saw,power saw,proverb,saws\"}, {\"id\": \"Horseshoes\", \"synonyms\": \"shoe,horseshoe,quoits,horseshoes,horseshoes\"}, {\"id\": \"Tetherball\", \"synonyms\": \"tetherball,tetherball\"}, {\"id\": \"Girths\", \"synonyms\": \"cinch,girth,girths\"}, {\"id\": \"Backboards\", \"synonyms\": \"backboard,basketball backboard,backboards\"}, {\"id\": \"Wedges\", \"synonyms\": \"hacek,hero sandwich,grinder,chock,force,bomber,stick,hero,wedge,squeeze,wedge shape,cuneus,deposit,lodge,wedge heel,wedges\"}, {\"id\": \"Goals\", \"synonyms\": \"destination,end,finish,goal,goals\"}, {\"id\": \"Crampons\", \"synonyms\": \"crampon,crampoon,climbing iron,climber,crampons\"}, {\"id\": \"Rotors\", \"synonyms\": \"rotor,rotor coil,rotors\"}, {\"id\": \"Shotguns\", \"synonyms\": \"scattergun,shotgun,shotguns\"}, {\"id\": \"Bridles\", \"synonyms\": \"curb,bridle,check,bridles\"}, {\"id\": \"Blockers\", \"synonyms\": \"blocker,blocking agent,blockers\"}, {\"id\": \"Shuffleboard\", \"synonyms\": \"shovelboard,shuffleboard,shuffleboard\"}, {\"id\": \"Seats\", \"synonyms\": \"buttocks,sit down,invest,induct,seating area,seating,butt,place,seats,seat,sit,arse,nates,seating room,seats\"}, {\"id\": \"Basketballs\", \"synonyms\": \"basketball,basketball game,hoops,basketballs\"}, {\"id\": \"Chalk\", \"synonyms\": \"meth,chalk,methamphetamine,Methedrine,methamphetamine hydrochloride,chalk\"}, {\"id\": \"Snorkels\", \"synonyms\": \"snorkel,schnorkel,snorkel breather,schnorchel,snorkels\"}, {\"id\": \"Spurs\", \"synonyms\": \"prod,branch line,acantha,spine,prodding,spur track,goading,goad,gad,spur,spurs\"}, {\"id\": \"Decoys\", \"synonyms\": \"lure,decoy,bait,steerer,decoys\"}, {\"id\": \"Holsters\", \"synonyms\": \"holster,holsters\"}, {\"id\": \"Wax\", \"synonyms\": \"wax,climb,mount,rise,full,wax\"}, {\"id\": \"Footballs\", \"synonyms\": \"football game,football,footballs\"}, {\"id\": \"Showers\", \"synonyms\": \"exhibitor,rain shower,cascade,exhibitioner,shower,lavish,shower bath,shower down,showers\"}, {\"id\": \"Breastplates\", \"synonyms\": \"aegis,breastplate,egis,breastplates\"}, {\"id\": \"Fins\", \"synonyms\": \"tailfin,flipper,tail fin,louver,cinque,V,5,louvre,five,break water,fin,fins\"}, {\"id\": \"Pockets\", \"synonyms\": \"sac,air pocket,bag,pouch,pocket,sack,scoop,air hole,pockets\"}, {\"id\": \"Mitts\", \"synonyms\": \"glove,baseball glove,baseball mitt,mitt,paw,manus,hand,mitts\"}, {\"id\": \"Headsets\", \"synonyms\": \"headset,headsets\"}, {\"id\": \"Lithographs\", \"synonyms\": \"lithograph machine,lithograph,lithographs\"}, {\"id\": \"Pulleys\", \"synonyms\": \"pulley-block,block,pulley block,pulley,pulleys\"}, {\"id\": \"Lighters\", \"synonyms\": \"light,flatboat,lighter,igniter,ignitor,hoy,barge,lighters\"}, {\"id\": \"Wristbands\", \"synonyms\": \"wristband,watchstrap,watchband,watch bracelet,wristbands\"}, {\"id\": \"Sleepwear\", \"synonyms\": \"nightclothes,sleepwear,nightwear,sleepwear\"}, {\"id\": \"Girdles\", \"synonyms\": \"deaden,sash,corset,stays,girdle,waistband,cincture,gird,girdles\"}, {\"id\": \"Flights\", \"synonyms\": \"flight,trajectory,escape,flight of steps,flying,flight of stairs,fledge,flights\"}, {\"id\": \"Speedometers\", \"synonyms\": \"speed indicator,speedometer,speedometers\"}, {\"id\": \"Ladders\", \"synonyms\": \"ravel,ladder,run,ladders\"}, {\"id\": \"Shackles\", \"synonyms\": \"fetter,pinion,trammel,shackle,hamper,bond,shackles\"}, {\"id\": \"Nipples\", \"synonyms\": \"nipple,mamilla,pap,mammilla,nipples\"}, {\"id\": \"Shuttlecocks\", \"synonyms\": \"birdie,shuttle,bird,shuttlecock,shuttlecocks\"}, {\"id\": \"Luggage\", \"synonyms\": \"luggage,baggage,luggage\"}, {\"id\": \"Underwear\", \"synonyms\": \"underclothes,underwear,underclothing,underwear\"}, {\"id\": \"Staplers\", \"synonyms\": \"stapler,stapling machine,staplers\"}, {\"id\": \"Blowers\", \"synonyms\": \"electric fan,cetacean mammal,blower,cetacean,blowers\"}, {\"id\": \"Pens\", \"synonyms\": \"write,penitentiary,compose,indite,playpen,pen,pens\"}, {\"id\": \"Rims\", \"synonyms\": \"lip,brim,rim,flange,rims\"}, {\"id\": \"Leads\", \"synonyms\": \"chair,direct,lead,confidential information,leave,leading,pencil lead,pass,top,track,lead story,result,moderate,star,take,conduce,run,principal,steer,trail,spark advance,jumper lead,tether,go,contribute,lede,Pb,tip,head,precede,booster cable,conduct,jumper cable,atomic number 82,lead-in,leash,leads\"}, {\"id\": \"Discuses\", \"synonyms\": \"discus,saucer,discuses\"}, {\"id\": \"Visors\", \"synonyms\": \"eyeshade,bill,visor,vizor,peak,visors\"}, {\"id\": \"Belts\", \"synonyms\": \"belted ammunition,bash,smash,whack,rap,belt out,swath,belt ammunition,knock,belt,bang,belts\"}, {\"id\": \"Canopies\", \"synonyms\": \"canopy,canopies\"}, {\"id\": \"Goose\", \"synonyms\": \"fathead,goose,goof,goofball,bozo,goose\"}, {\"id\": \"Regulators\", \"synonyms\": \"regulator,governor,regulators\"}, {\"id\": \"Jacks\", \"synonyms\": \"seaman,tar,jacks,jackass,mariner,knave,knucklebones,jackstones,jack up,jak,doodly-squat,laborer,Jack-tar,diddly-squat,jackfruit,manual laborer,jack,diddlysquat,jacklight,labourer,jacks\"}, {\"id\": \"Risers\", \"synonyms\": \"riser main,riser,riser pipe,riser pipeline,risers\"}, {\"id\": \"Mirrors\", \"synonyms\": \"mirror,mirrors\"}, {\"id\": \"Elk\", \"synonyms\": \"European elk,wapiti,red deer,American elk,moose,Alces alces,Cervus elaphus canadensis,elk,elk\"}, {\"id\": \"Martingales\", \"synonyms\": \"dolphin striker,martingale,martingales\"}, {\"id\": \"Buckles\", \"synonyms\": \"buckle,clasp,warp,crumple,heave,buckles\"}, {\"id\": \"Billiards\", \"synonyms\": \"billiards,billiards\"}, {\"id\": \"Rugby\", \"synonyms\": \"rugby,rugby football,rugger,rugby\"}, {\"id\": \"Hats\", \"synonyms\": \"hat,chapeau,lid,hats\"}, {\"id\": \"Sandbags\", \"synonyms\": \"stun,sandbag,dragoon,railroad,sandbags\"}]'"
      ]
     },
     "execution_count": 297,
     "metadata": {},
     "output_type": "execute_result"
    }
   ],
   "source": [
    "json.dumps(syn_set)"
   ]
  }
 ],
 "metadata": {
  "kaggle": {
   "accelerator": "gpu",
   "dataSources": [
    {
     "datasetId": 3798081,
     "sourceId": 7643327,
     "sourceType": "datasetVersion"
    }
   ],
   "dockerImageVersionId": 30716,
   "isGpuEnabled": true,
   "isInternetEnabled": true,
   "language": "python",
   "sourceType": "notebook"
  },
  "kernelspec": {
   "display_name": "Python [conda env:base] *",
   "language": "python",
   "name": "conda-base-py"
  },
  "language_info": {
   "codemirror_mode": {
    "name": "ipython",
    "version": 3
   },
   "file_extension": ".py",
   "mimetype": "text/x-python",
   "name": "python",
   "nbconvert_exporter": "python",
   "pygments_lexer": "ipython3",
   "version": "3.12.7"
  },
  "papermill": {
   "default_parameters": {},
   "duration": 58.505176,
   "end_time": "2024-06-04T03:12:19.049927",
   "environment_variables": {},
   "exception": null,
   "input_path": "__notebook__.ipynb",
   "output_path": "__notebook__.ipynb",
   "parameters": {},
   "start_time": "2024-06-04T03:11:20.544751",
   "version": "2.5.0"
  }
 },
 "nbformat": 4,
 "nbformat_minor": 5
}
