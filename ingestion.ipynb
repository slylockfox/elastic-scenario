{
 "cells": [
  {
   "cell_type": "code",
   "execution_count": 1,
   "id": "1d2e2456",
   "metadata": {
    "_cell_guid": "b1076dfc-b9ad-4769-8c92-a6c4dae69d19",
    "_uuid": "8f2839f25d086af736a60e9eeb907d3b93b6e0e5",
    "papermill": {
     "duration": 2.050165,
     "end_time": "2024-06-04T03:11:25.487165",
     "exception": false,
     "start_time": "2024-06-04T03:11:23.437000",
     "status": "completed"
    },
    "tags": []
   },
   "outputs": [],
   "source": [
    "import pandas as pd\n",
    "from sklearn.feature_extraction.text import TfidfVectorizer\n",
    "from sklearn.neighbors import NearestNeighbors"
   ]
  },
  {
   "cell_type": "code",
   "execution_count": 8,
   "id": "da0c3ca0-07db-4376-9ca7-cc4112c0841d",
   "metadata": {},
   "outputs": [
    {
     "name": "stdout",
     "output_type": "stream",
     "text": [
      "Category\n",
      "A    Apple, Banana, Grape\n",
      "B            Carrot, Date\n",
      "Name: Item, dtype: object\n"
     ]
    }
   ],
   "source": [
    "# Sample DataFrame\n",
    "data = {'Category': ['A', 'A', 'B', 'B', 'A'],\n",
    "        'Item': ['Apple', 'Banana', 'Carrot', 'Date', 'Grape']}\n",
    "df = pd.DataFrame(data)\n",
    "\n",
    "# String aggregation by 'Category'\n",
    "result = df.groupby('Category')['Item'].agg(lambda x: ', '.join(x))\n",
    "\n",
    "print(result)"
   ]
  },
  {
   "cell_type": "code",
   "execution_count": 29,
   "id": "c0561179",
   "metadata": {
    "papermill": {
     "duration": 11.153745,
     "end_time": "2024-06-04T03:11:36.646371",
     "exception": false,
     "start_time": "2024-06-04T03:11:25.492626",
     "status": "completed"
    },
    "tags": []
   },
   "outputs": [],
   "source": [
    "products_df = pd.read_json('meta_Sports_and_Outdoors.jsonl', lines=True, nrows=10000)\n",
    "reviews_df = pd.read_json('Sports_and_Outdoors.jsonl', lines=True, nrows=10000)\n"
   ]
  },
  {
   "cell_type": "code",
   "execution_count": 9,
   "id": "a4e4dc93-223c-4049-b5d7-0f687b96d6ea",
   "metadata": {},
   "outputs": [
    {
     "name": "stdout",
     "output_type": "stream",
     "text": [
      "Index(['main_category', 'title', 'average_rating', 'rating_number', 'features',\n",
      "       'description', 'price', 'images', 'videos', 'store', 'categories',\n",
      "       'details', 'parent_asin', 'bought_together'],\n",
      "      dtype='object')\n",
      "Index(['rating', 'title', 'text', 'images', 'asin', 'parent_asin', 'user_id',\n",
      "       'timestamp', 'helpful_vote', 'verified_purchase'],\n",
      "      dtype='object')\n"
     ]
    }
   ],
   "source": [
    "print(products_df.columns)\n",
    "print(reviews_df.columns)"
   ]
  },
  {
   "cell_type": "code",
   "execution_count": 30,
   "id": "437cc8d3",
   "metadata": {
    "papermill": {
     "duration": 0.450527,
     "end_time": "2024-06-04T03:11:37.102660",
     "exception": false,
     "start_time": "2024-06-04T03:11:36.652133",
     "status": "completed"
    },
    "tags": []
   },
   "outputs": [],
   "source": [
    "# Kết hợp dữ liệu từ hai DataFrame bằng cột category_id và id\n",
    "merged_df = pd.merge(products_df, reviews_df, left_on='parent_asin', right_on='parent_asin')\n",
    "\n",
    "# Xóa cột 'category_id' cuối cùng\n",
    "#merged_df.drop(columns=['category_id'], inplace=True)"
   ]
  },
  {
   "cell_type": "code",
   "execution_count": 34,
   "id": "e61e63fc",
   "metadata": {
    "papermill": {
     "duration": 0.013028,
     "end_time": "2024-06-04T03:11:37.120943",
     "exception": false,
     "start_time": "2024-06-04T03:11:37.107915",
     "status": "completed"
    },
    "tags": []
   },
   "outputs": [
    {
     "name": "stdout",
     "output_type": "stream",
     "text": [
      "Index(['main_category', 'title_x', 'average_rating', 'rating_number',\n",
      "       'features', 'description', 'price', 'images_x', 'videos', 'store',\n",
      "       'categories', 'details', 'parent_asin', 'bought_together', 'subtitle',\n",
      "       'author', 'rating', 'title_y', 'text', 'images_y', 'asin', 'user_id',\n",
      "       'timestamp', 'helpful_vote', 'verified_purchase'],\n",
      "      dtype='object')\n"
     ]
    }
   ],
   "source": [
    "print(merged_df.columns)\n"
   ]
  },
  {
   "cell_type": "code",
   "execution_count": 32,
   "id": "a72d5ff4",
   "metadata": {
    "collapsed": true,
    "jupyter": {
     "outputs_hidden": true
    },
    "papermill": {
     "duration": 0.020255,
     "end_time": "2024-06-04T03:11:37.146249",
     "exception": false,
     "start_time": "2024-06-04T03:11:37.125994",
     "status": "completed"
    },
    "tags": []
   },
   "outputs": [
    {
     "name": "stdout",
     "output_type": "stream",
     "text": [
      "    main_category                                            title_x  \\\n",
      "0  AMAZON FASHION  FOCO NFL Resin 11.5\" Team Logo Outdoor Garden ...   \n",
      "1     Amazon Home  Copco Freezeable Double Wall Insulated Tritan ...   \n",
      "2  AMAZON FASHION       FOCO Womens NFL Team Color Faux Fur Moccasin   \n",
      "3  AMAZON FASHION  90 Degree By Reflex High Waist Fleece Lined Le...   \n",
      "4  AMAZON FASHION  90 Degree By Reflex High Waist Fleece Lined Le...   \n",
      "\n",
      "   average_rating  rating_number  \\\n",
      "0             4.7            137   \n",
      "1             4.1            428   \n",
      "2             4.4           1236   \n",
      "3             4.4           7489   \n",
      "4             4.4           7489   \n",
      "\n",
      "                                            features  \\\n",
      "0  [11.5-Inch tall, Hand painted, Officially lice...   \n",
      "1  [GENEROUS CAPACITY: holds 18-fluid ounces of l...   \n",
      "2  [Gripped outsole, Embroidered logo, Material -...   \n",
      "3  [Pull On closure, Pocket Option. These brushed...   \n",
      "4  [Pull On closure, Pocket Option. These brushed...   \n",
      "\n",
      "                                         description  price  \\\n",
      "0                                                 []  29.99   \n",
      "1  [The Copco Double Wall Insulated Freezable Wat...  14.99   \n",
      "2                                                 []  14.03   \n",
      "3                                                 []  24.99   \n",
      "4                                                 []  24.99   \n",
      "\n",
      "                                            images_x  \\\n",
      "0  [{'thumb': 'https://m.media-amazon.com/images/...   \n",
      "1  [{'thumb': 'https://m.media-amazon.com/images/...   \n",
      "2  [{'thumb': 'https://m.media-amazon.com/images/...   \n",
      "3  [{'thumb': 'https://m.media-amazon.com/images/...   \n",
      "4  [{'thumb': 'https://m.media-amazon.com/images/...   \n",
      "\n",
      "                                              videos                store  \\\n",
      "0  [{'title': 'Close up look at this NFL team gno...                 FOCO   \n",
      "1  [{'title': 'Here's what I like & don't like: h...                Copco   \n",
      "2                                                 []                 FOCO   \n",
      "3  [{'title': '90 Degree By Reflex Squat Proof An...  90 Degree By Reflex   \n",
      "4  [{'title': '90 Degree By Reflex Squat Proof An...  90 Degree By Reflex   \n",
      "\n",
      "   ... author rating                                         title_y  \\\n",
      "0  ...    NaN      5                                             5 ☆   \n",
      "1  ...    NaN      3                                      Cold Water   \n",
      "2  ...    NaN      1                    WRONG manufacturer SIZING!!!   \n",
      "3  ...    NaN      4                                    Good Product   \n",
      "4  ...    NaN      2  Doesn't hold a candle to the CRZ Yoga leggings   \n",
      "\n",
      "                                                text images_y        asin  \\\n",
      "0                                       As described       []  B001VSFLVS   \n",
      "1  This water bottle has gel inside that you can ...       []  B07LCCDQSR   \n",
      "2  wrongly sized the large fits a size 8 foot!!! ...       []  B01MG3M1JD   \n",
      "3                 Good Product but is a little tight       []  B07QYP244Z   \n",
      "4  TLDR, the CRZ Yoga leggings are much, much bet...       []  B07R2QT49C   \n",
      "\n",
      "                        user_id               timestamp helpful_vote  \\\n",
      "0  AH7CYOTLQP66VONKM73LS3JKX7SQ 2018-11-21 19:39:26.935            0   \n",
      "1  AEICZD35OTDYVWA2KPYWN4PDZ2SA 2021-05-31 20:23:59.427            0   \n",
      "2  AEMJ2EG5ODOCYUTI54NBXZHDJGSQ 2018-01-05 07:07:17.985            4   \n",
      "3  AFDMZ4TRX3HXQQUGWAHJQTIF65BQ 2021-10-10 19:00:15.757            0   \n",
      "4  AEDTZCI4QCLKRFL5DA53JL47Z5UQ 2020-10-28 15:59:42.535            0   \n",
      "\n",
      "  verified_purchase  \n",
      "0              True  \n",
      "1             False  \n",
      "2              True  \n",
      "3              True  \n",
      "4              True  \n",
      "\n",
      "[5 rows x 25 columns]\n",
      "321\n"
     ]
    }
   ],
   "source": [
    "print(merged_df.head())\n",
    "print(len(merged_df))\n"
   ]
  },
  {
   "cell_type": "code",
   "execution_count": 36,
   "id": "169d9522-dd5a-4d25-a15f-ab584598cf72",
   "metadata": {},
   "outputs": [],
   "source": [
    "grouped_df = merged_df.groupby('parent_asin')"
   ]
  },
  {
   "cell_type": "code",
   "execution_count": null,
   "id": "14123d4a-b05e-4aa6-bf63-e3d6c422a736",
   "metadata": {
    "jupyter": {
     "source_hidden": true
    }
   },
   "outputs": [],
   "source": [
    "for parent_asin, frame in grouped_df:\n",
    "     print(f\"First 2 entries for {parent_asin!r}\")\n",
    "     print(\"------------------------\")\n",
    "     print(frame.head(2), end=\"\\n\\n\")"
   ]
  },
  {
   "cell_type": "code",
   "execution_count": 64,
   "id": "be655656-f9ac-4b84-874e-6766259c3424",
   "metadata": {
    "collapsed": true,
    "jupyter": {
     "outputs_hidden": true
    }
   },
   "outputs": [
    {
     "name": "stdout",
     "output_type": "stream",
     "text": [
      "B000069K78 B000069K78 Polar RC3 GPS Sports Watch\n",
      "[{\"user_id\":\"AEBYEWLSJLC7OEDDSRZEQWY5WAZA\",\"rating\":5}]\n",
      "B000HZGKVG B000HZGKVG Moultrie Universal Digital Timer Feeder, Pack of 1\n",
      "[{\"user_id\":\"AEK7VZMQTZU7BFZQQDYXNNJ2NMUA\",\"rating\":4}]\n",
      "B00142MD62 B00142MD62 SRAM Supercork Bicycle Bar Tape\n",
      "[{\"user_id\":\"AGCI7FAH4GL5FI65HYLKWTMFZ2CQ\",\"rating\":5}]\n",
      "B001Q3LTXC B001Q3LTXC Aquasphere Alpha Unisex Adult Swimming Fins - Lightweight Foam Unparalleled Comfort, Improves Posture, Strength, Technique, & Flexibility in Traininng & Competition\n",
      "[{\"user_id\":\"AGDLD6R6Z6WB5KNG6Z2L6LNRMLZQ\",\"rating\":4}]\n",
      "B0029VOR0M B0029VOR0M Champion Sports Exercise Medicine Balls, 8 Sizes, Leather with No-Slip Grip - Weighted Med Ball Set for Weight Training, Stability, Plyometrics, Cross Training, Core Strength - Heavy Workout Ball\n",
      "[{\"user_id\":\"AEU47A5R7NFWXCQLJMZA34AM63EA\",\"rating\":5}]\n",
      "B002BK4YJ0 B002BK4YJ0 Hunter Manufacturers Philadelphia Phillies Dog Collar & Leash Set\n",
      "[{\"user_id\":\"AEVMPQORMKIMWMBQJRKJJVXI3FIA\",\"rating\":3}]\n",
      "B0031T82NO B0031T82NO DuPont Teflon Snow and Ice Repellant, 10-Ounce\n",
      "[{\"user_id\":\"AHM2MM7EVW2A2MMLPQYA7VVKX46A\",\"rating\":4}]\n",
      "B00363PRK6 B00363PRK6 Coleman Biscayne Big & Tall Warm-Weather Sleeping Bag, 40°F Camping Sleeping Bag for Adults, No-Snag 2-Way Zipper for Ventilation with Stuff Sack Included, Fits Adults up to 6ft 4in Tall\n",
      "[{\"user_id\":\"AHS7BGK4AGICKGM7MC3LFN7MHFPA\",\"rating\":5},{\"user_id\":\"AH7CYOTLQP66VONKM73LS3JKX7SQ\",\"rating\":5}]\n",
      "B003JBK3UO B003JBK3UO Fun Express Cheerleader Pom Pom Assortment (12 Colors one of Each) School Spirit Supplies\n",
      "[{\"user_id\":\"AHTX7RVI3UUEM3ZYAOSV7POOYZBA\",\"rating\":4}]\n",
      "B003U3XLJ6 B003U3XLJ6 SHIMANO Solora 2 Piece Spinning Rod\n",
      "[{\"user_id\":\"AHSWBB6FZBEA7W7PMSO4L5SC7ERQ\",\"rating\":5}]\n",
      "B003V9XYNW B003V9XYNW Slime 10056W Bike Tube Puncture Repair Sealant, Prevent and Repair, Suitable for All Bicycles, Non-Toxic, Eco-Friendly, 16oz Bottle\n",
      "[{\"user_id\":\"AELR73N6JFQCFA77VU3S5LQAKBXQ\",\"rating\":5},{\"user_id\":\"AE5GHFQZ6IXM4QNYTLTYJO24KQZQ\",\"rating\":5}]\n",
      "B004290P7I B004290P7I MLB Chicago Cubs Silver Cubs Logo Jewelry Set\n",
      "[{\"user_id\":\"AEMYDA6DVBKCCE7ZO2ARRFGKG3LQ\",\"rating\":5}]\n",
      "B005JER2EO B005JER2EO Weaver Leather Draft Bit Tom Thumb Snaffle Mouth Stainless Steel, 6-1/2\"\n",
      "[{\"user_id\":\"AHPOHKN4PU4W3V5PGFL7AGTAD2AA\",\"rating\":5}]\n",
      "B007SRTG7G B007SRTG7G Best Husband - Hollywood Award with Gift Box\n",
      "[{\"user_id\":\"AFZBGY4GPO7VY4RWVCTDXGSSONFA\",\"rating\":5}]\n",
      "B00C6OUDX2 B00C6OUDX2 KastKing SuperPower Braided Fishing Line - Abrasion Resistant Braided Lines – Incredible Superline – Zero Stretch – Smaller Diameter – A Must-Have!\n",
      "[{\"user_id\":\"AHKDPUXQINJKOFGZRGV3CJP6GPLQ\",\"rating\":5}]\n",
      "B00EI8I4ZS B00EI8I4ZS Under Armour Dominate 24 Ounce Vacuum Insulated Stainless Steel Bottle with Flip Top Lid\n",
      "[{\"user_id\":\"AH5PMD2AOZMSO6JFWPRL44NR44EA\",\"rating\":5}]\n",
      "B00JULWJNQ B00JULWJNQ Hanes Men’s Ultimate Cotton Heavyweight Pullover Hoodie Sweatshirt\n",
      "[{\"user_id\":\"AHY55PORR7VYL72JBUYNSO6KCA5A\",\"rating\":5},{\"user_id\":\"AEUECZFYVQCQ7OFZ2SQWYAP64GJA\",\"rating\":5},{\"user_id\":\"AGV2VDBD7VXO54YXNQS4DYXBD6BA\",\"rating\":2}]\n",
      "B00KHSN08Y B00KHSN08Y Megaware - Self-Adhesive DIY Keel Guard for Fiberglass and Specific Aluminum Boats - Protects from Rocks and Oyster Beds - 9 Kit Sizes - 5 Inches Wide (12 Assorted Colors)\n",
      "[{\"user_id\":\"AGUO64P7C4QQ3NVBLJAHCGLLUCQA\",\"rating\":5}]\n",
      "B00NIGVNI6 B00NIGVNI6 Harbinger Recyclable Foam Eco Fit Exercise Mat 3/8-Inch\n",
      "[{\"user_id\":\"AHPOHKN4PU4W3V5PGFL7AGTAD2AA\",\"rating\":5}]\n",
      "B00NV6AWK8 B00NV6AWK8 Best Durability Set of 10\" Exercise Bands / Resistance Loop Bands / Fitness Bands / Leg Resistance Bands / Stretch Bands ?100% Natural Eco-Friendly Elastic Latex Band The Perfect Band for Yoga Pilates & Physical Therapy Arm Exercisers ? Resistance Band Carrying Bag? 100% Risk-Free Lifetime\n",
      "[{\"user_id\":\"AHV6QCNBJNSGLATP56JAWJ3C4G2A\",\"rating\":4}]\n",
      "B00U2T894I B00U2T894I Black Metal Strongest Motorcycle Dirt Bike Helmet Quick Release Helmets Chin Strap Buckle\n",
      "[{\"user_id\":\"AER4C2C6NBH2W6JACHHDS4EGAFAA\",\"rating\":5}]\n",
      "B00VATO7WW B00VATO7WW US Army - Regimental Insignia of the Special Forces SSI Patch Reflective Decal - Five Inch Tall Full Color Decal On 3M Reflective Material, Sticker\n",
      "[{\"user_id\":\"AE2MIK6YBTBRNZZGI5O5Z6VCMEPA\",\"rating\":5}]\n",
      "B00WHZ2VYO B00WHZ2VYO Ringside Pro Style IMF Tech Boxing Training Sparring Gloves\n",
      "[{\"user_id\":\"AG7JSIKUQPSL5AAPRDRKDNWM4U2A\",\"rating\":5}]\n",
      "B00WOKIQW8 B00WOKIQW8 Game Room Guys Set of 10 Pool Table Spots - 9 Colors…\n",
      "[{\"user_id\":\"AEXVNABLVTHK6EJVTY55T75OG2BQ\",\"rating\":5}]\n",
      "B00XLGKT10 B00XLGKT10 PRO BIKE TOOL Bike Pump with Gauge Fits Presta and Schrader - Accurate Inflation - Mini Bicycle Tire Pump for Road, Mountain and BMX Bikes, High Pressure 100 PSI, Includes Mount Kit\n",
      "[{\"user_id\":\"AFRKVKLMCTJGCLALZIHEJSZ326SA\",\"rating\":5}]\n",
      "B00XRFNMK0 B00XRFNMK0 Heritage Fortress Pistol Box\n",
      "[{\"user_id\":\"AGCF2BW7HHRCU2VLR7WDKJV5SMZA\",\"rating\":5}]\n",
      "B00YVGNF06 B00YVGNF06 Top Glides Precut Walker Tennis Ball Glides (Red)\n",
      "[{\"user_id\":\"AFS5TQHRDNYDFD7ONWOVFWTCGAKQ\",\"rating\":5}]\n",
      "B010LSTBWI B010LSTBWI Piscifun Onyx Braided Fishing Line, Superline Abrasion Resistant Braided Lines, Zero Stretch Super Strong, Low Memory, Fast Water Cutting PE Fishing Lines, 6lb-150lb\n",
      "[{\"user_id\":\"AFV22L7AEKI2LW6HMLRLUKNYVBGQ\",\"rating\":4}]\n",
      "B010V2UXAI B010V2UXAI Franklin Sports MLB Shok-Sorb Neo Batting Gloves (Pair)\n",
      "[{\"user_id\":\"AFEUJGH6HN52IP6H7ZD26KYZGEWQ\",\"rating\":5}]\n",
      "B015NPJ70U B015NPJ70U Heavy Duty Silicone Wedding Ring THICKEST & Strongest Wedding Bands w/Unique Designs- for Our Toughest Customers- Easy Exchanges\n",
      "[{\"user_id\":\"AFZUK3MTBIBEDQOPAK3OATUOUKLA\",\"rating\":3}]\n",
      "B016F1V7EK B016F1V7EK New Era MLB Black with White 59FIFTY Fitted Cap\n",
      "[{\"user_id\":\"AFC7EE4DVV3XQKMOI74ZA4CP24SQ\",\"rating\":2},{\"user_id\":\"AEULQGRRIYAEMQL4QJIABL6JCHQQ\",\"rating\":5}]\n",
      "B016IPDT08 B016IPDT08 MLS Men's Primary Logo Tee\n",
      "[{\"user_id\":\"AFTC6ZR5IKNRDG5JCPVNVMU3XV2Q\",\"rating\":5}]\n",
      "B016L2C1UM B016L2C1UM Johnson Enterprises, LLC 8 All Weather Cornhole Bags! Regulation Size and Weight! Resin Filled! 17 Colors You Pick! Handmade\n",
      "[{\"user_id\":\"AEULQGRRIYAEMQL4QJIABL6JCHQQ\",\"rating\":5}]\n",
      "B016MWUVGC B016MWUVGC NFL Molded Auto Emblem\n",
      "[{\"user_id\":\"AE6ZACCQOGZIDDWM4TZPAEKUJRHA\",\"rating\":3}]\n",
      "B016P7A4S4 B016P7A4S4 WinCraft NCAA Lanyard Key Strap\n",
      "[{\"user_id\":\"AH6LSFADKK56ZXNWKN32R2HPR2FA\",\"rating\":5}]\n",
      "B017JC4T7Q B017JC4T7Q Rico Industries NHL Spirit Watch\n",
      "[{\"user_id\":\"AHIPBTOT2RCSOLJVMU454CT4KUBQ\",\"rating\":3}]\n",
      "B019WXK6NQ B019WXK6NQ LPGmuscle EZ SQUAT Plate load\n",
      "[{\"user_id\":\"AHRBQRFH57ZCZQIDJVP2UPF3RYYA\",\"rating\":3}]\n",
      "B01BW2YYWY B01BW2YYWY Foam Roller, LuxFit Speckled Foam Rollers for Muscles 3 Year Warranty High Density Foam Roller for Physical Therapy Exercise Deep Tissue Muscle Massage. Back Leg and Body Roller (Blue, 12 Inch)\n",
      "[{\"user_id\":\"AGWL3SAUWG5YLVWHHSG57DKTGGDA\",\"rating\":4},{\"user_id\":\"AHNQS77OY2P2K353P7VOFG6W2BXA\",\"rating\":5}]\n",
      "B01CYZZEIG B01CYZZEIG Fitbit Alta Fitness Wristband\n",
      "[{\"user_id\":\"AHC4YDJ5WS3MDCNSKMJTOZRKZWPA\",\"rating\":5},{\"user_id\":\"AHESEVBKET4S4GMESHM4WDDI2GVQ\",\"rating\":4},{\"user_id\":\"AEUECZFYVQCQ7OFZ2SQWYAP64GJA\",\"rating\":5}]\n",
      "B01E3CQ9QE B01E3CQ9QE RitFit Knee Wraps (Pair) - Ideal for Squats, Powerlifting, Weightlifting, Cross Training WODs - Compression & Elastic Support - for Men & Women - Bonus Carry Case\n",
      "[{\"user_id\":\"AFJOCZGYW6QFTYEYBZXCFZNWONKQ\",\"rating\":5}]\n",
      "B01FT14T74 B01FT14T74 Tube 26 x 1.95-2.125 Schrader Valve\n",
      "[{\"user_id\":\"AFSJGCYOYHJGG2VBYGB7WLKHQ37A\",\"rating\":5}]\n",
      "B01G37LZRA B01G37LZRA Torege Men's Sports Style Polarized Sunglasses For Cycling Running Fishing Driving Golf Unbreakable Al-Mg Metal Frame Glasses M291 (Black)\n",
      "[{\"user_id\":\"AE6ZACCQOGZIDDWM4TZPAEKUJRHA\",\"rating\":2}]\n",
      "B01GL2Q29S B01GL2Q29S Tough 1 Adjustable Suckling Halter\n",
      "[{\"user_id\":\"AHUX7LYUKBTCPVVALKMMPH6JYCGQ\",\"rating\":5}]\n",
      "B01L6RE7Z4 B01L6RE7Z4 Fitbit Charge 2 Heart Rate + Fitness Wristband, Teal, Small (US Version)\n",
      "[{\"user_id\":\"AFGUPTDFAWOHHL4LZDV27ERDNOYQ\",\"rating\":4},{\"user_id\":\"AGEFLX2M37K7NSODGTH4XTOFNCVA\",\"rating\":2},{\"user_id\":\"AER5A2LR25ZV3SYFCYUWBRGRKBBA\",\"rating\":2},{\"user_id\":\"AGIYSA62BZULHNSJTMPAT5IC3MLQ\",\"rating\":5},{\"user_id\":\"AH57UQ3IE2TH2COG2LKAIHVE6OKQ\",\"rating\":1},{\"user_id\":\"AG6BHIA2AB2KECMHCYZJ7PKGDP6A\",\"rating\":5},{\"user_id\":\"AFEZH43XDG42KHOX4ZDOISHOJJMQ\",\"rating\":5},{\"user_id\":\"AHQWK4NKFDKGBECSGREIYM2F3INA\",\"rating\":5},{\"user_id\":\"AH7CYOTLQP66VONKM73LS3JKX7SQ\",\"rating\":5}]\n",
      "B01LE9N8EK B01LE9N8EK CleverMade Collapsible Cooler Bag: Insulated Leakproof 50 Can Soft Sided Portable Cooler Bag for Lunch, Grocery Shopping, Camping and Road Trips, Olive/Navy\n",
      "[{\"user_id\":\"AH3OI7WBHXTTEFBGVNBBWACDD77A\",\"rating\":5}]\n",
      "B01LZDHZYH B01LZDHZYH Nathan BigShot Water Bottle. BPA and Odor Free. 32oz / 1 Liter Water Bottle.\n",
      "[{\"user_id\":\"AHRGTIMQO47C2VLJILIDU53BQKSA\",\"rating\":5}]\n",
      "B01LZN0HUW B01LZN0HUW Swiss Safe Emergency Mylar Thermal Blankets + Bonus Gold Foil Space Blanket. Designed for NASA, Outdoors, Survival, First Aid, Orange, 4 Pack\n",
      "[{\"user_id\":\"AGWX2VRM6GYPGQM3XNL2NEYY7JAQ\",\"rating\":5},{\"user_id\":\"AHIXHVS6KVFHUFZNJXAZKMJME73Q\",\"rating\":5}]\n",
      "B01MG29K89 B01MG29K89 Allen Company Knit Gun Sock for Rifle/Shotguns with or without Scope Storage, Anti-Rust, Silicone Treated, Drawstring Closure, 52 Inches (1 & 3-pack)\n",
      "[{\"user_id\":\"AHPOHKN4PU4W3V5PGFL7AGTAD2AA\",\"rating\":5}]\n",
      "B01MYEXCHE B01MYEXCHE Kansas City Chiefs NFL Mens Legacy Sport Slide - M\n",
      "[{\"user_id\":\"AF4XAUOI5XPGWHCPOTORKBIJSRDA\",\"rating\":5},{\"user_id\":\"AE3WO256WI55XKKXTQP4VMBHTNGA\",\"rating\":5}]\n",
      "B01N06J8L7 B01N06J8L7 Innova GStar Shryke Distance Driver Golf Disc [Colors may vary]\n",
      "[{\"user_id\":\"AEDWRRZADBQDUTW7HBIWH4QSMUPQ\",\"rating\":5}]\n",
      "B01N0VSZ8W B01N0VSZ8W kuugear Pair, 6\" Plastic Cheerleading Pom Pom with Baton Handle\n",
      "[{\"user_id\":\"AF4WLLHTQLRPEZ33OJDYG23MFLKQ\",\"rating\":2}]\n",
      "B01N2YY1LA B01N2YY1LA Ringside Tsunami Water Heavy Bag\n",
      "[{\"user_id\":\"AG7JSIKUQPSL5AAPRDRKDNWM4U2A\",\"rating\":5}]\n",
      "B01N36TZNK B01N36TZNK NCAA Chrome Automobile Emblem\n",
      "[{\"user_id\":\"AET6XQ5CVN6E4N7VV2NSX6RRNQ5Q\",\"rating\":5}]\n",
      "B01NBNA6YQ B01NBNA6YQ NFL Poly-Suede Steering Wheel Cover\n",
      "[{\"user_id\":\"AENDQ4AHOGXOBTTJMOW73BUESQKA\",\"rating\":5}]\n",
      "B06ZZDC5FN B06ZZDC5FN Splatterburst Targets - 2 inch Stick & Splatter Self Adhesive Shooting Targets - Gun - Rifle - Pistol - Airsoft - BB Gun - Pellet Gun - Air Rifle - Made in USA\n",
      "[{\"user_id\":\"AG3VXRJ5OUQDF3UAEOEIIZ6Z5Z3A\",\"rating\":5}]\n",
      "B071DX6QV3 B071DX6QV3 Cestyle Womens Sleeveless Scoop Neck Flowy Loose Fit Workout Shirts Racerback Long Tank Tops\n",
      "[{\"user_id\":\"AHWQB2G7YBMTA4BHD74EWQOJHZGA\",\"rating\":1}]\n",
      "B072229QZW B072229QZW NFL Playing Cards\n",
      "[{\"user_id\":\"AFIM5RAUX2YR3UFV6LBGEXGGDXTA\",\"rating\":5},{\"user_id\":\"AGELMF4ZNSXCEWNUH6L2RDYE3XRQ\",\"rating\":5}]\n",
      "B073CRCDFS B073CRCDFS Amazon Basics Battle Exercise Training Rope - 30/40/50 Foot Lengths, 1.5/2 Inch Widths\n",
      "[{\"user_id\":\"AEKX4SZQMLFZZ7YX5YY425HHMQAA\",\"rating\":5}]\n",
      "B073JD2D7Q B073JD2D7Q adidas Adult Women Logo Driven 2.5 Heathered Quarter Zip\n",
      "[{\"user_id\":\"AG3D23KNXZKTXGW2BNP6IXS6YDQQ\",\"rating\":5}]\n",
      "B074MYFK42 B074MYFK42 NHL Pet Jersey\n",
      "[{\"user_id\":\"AH3DJI7RY347ABOHLTAP6ASLY4XQ\",\"rating\":5}]\n",
      "B074RZCDQ5 B074RZCDQ5 MalloMe 2-in-1 LED Camping Lantern & Flashlight with 12 AA Batteries - Survival Kit Gear for Emergency, Hurricane, Storm, Outage (Black, Collapsible), 4 Pack\n",
      "[{\"user_id\":\"AFPTVMYVXZNH3U4FFDNSSUXSDPNA\",\"rating\":5}]\n",
      "B076Q7CXZ6 B076Q7CXZ6 adidas NBA Mens T-Shirt\n",
      "[{\"user_id\":\"AFKZDUEVDYUJV2PYLIMFKWIW2CZQ\",\"rating\":5}]\n",
      "B0773PHPYH B0773PHPYH Louisville Slugger 18\" Mini Bat\n",
      "[{\"user_id\":\"AHEJ5LC7BSEADCIZQQQPZPVWOLCA\",\"rating\":3}]\n",
      "B077MJRJDY B077MJRJDY YETI Rambler Vacuum Insulated Tumbler with Lid\n",
      "[{\"user_id\":\"AGTITI6OKWPN2AVELIAJALJFX6NA\",\"rating\":5},{\"user_id\":\"AFKZDUEVDYUJV2PYLIMFKWIW2CZQ\",\"rating\":5},{\"user_id\":\"AGWT2JKKZFMS3PUJA2AYDDYB7A6A\",\"rating\":5}]\n",
      "B077N6RZNH B077N6RZNH CLAM Quick-Set Wind and Sun Panel Attachment for Traveler and Escape Screen Shelter Canopy Tent, Accessory Only, Green (2 Pack)\n",
      "[{\"user_id\":\"AFZUK3MTBIBEDQOPAK3OATUOUKLA\",\"rating\":5}]\n",
      "B077TMVXTF B077TMVXTF Howstar Pet Shirt, Puppy Clothes Sweater Soft Dog Vest Sweatshirt for Small Dog (Black, S)\n",
      "[{\"user_id\":\"AFMM5RQLG7N45RORJJF3TBJL3QKA\",\"rating\":1}]\n",
      "B078JXRRRF B078JXRRRF HUGE SPORTS Wildling Series UV Protection Quick Dry Compression Rash Guard\n",
      "[{\"user_id\":\"AH7FU6QA6VMJTUSWZVQCTUS7226A\",\"rating\":5}]\n",
      "B07BTCGCSF B07BTCGCSF Contraband Black Label 5050 Mens Basic Leather Fingerless Weight Lifting Gloves - Durable Light - Medium Padded Split Leather Gym Gloves - Perfect Classic Lifting Gloves (Pair)\n",
      "[{\"user_id\":\"AHEDBTRSVQITLCUHR4MKNRTYOYRQ\",\"rating\":5},{\"user_id\":\"AFIWEGRPMNE5PHSL7J3TLJPQW7DA\",\"rating\":4}]\n",
      "B07C2XMRY7 B07C2XMRY7 FlexzFitness Lever Buckle Powerlifting Belt Weight Lifting\n",
      "[{\"user_id\":\"AFV22L7AEKI2LW6HMLRLUKNYVBGQ\",\"rating\":5}]\n",
      "B07C3YDSK4 B07C3YDSK4 Valeo Competition Wrist Wrap Lifting Gloves with Durable Leather Construction, Reinforced Stitching, and Double Leather Padded Palms\n",
      "[{\"user_id\":\"AEBYEWLSJLC7OEDDSRZEQWY5WAZA\",\"rating\":5}]\n",
      "B07CGBL77B B07CGBL77B Women's Sun Hat Outdoor UV Protection Bucket Mesh Boonie Hat Adjustable Fishing Safari Cap Waterproof\n",
      "[{\"user_id\":\"AGTCQ5BFDIDZMCCPIMYC3TLKLSGQ\",\"rating\":5}]\n",
      "B07CLG9294 B07CLG9294 Activ Life Kid’s Flying Rings [2 Pack] They Fly Straight & Don’t Hurt! 80% Lighter Than Standard Frisbees - Replace Screen Time with Healthy Family Fun - Get Outside & Play! Proudly Made in The USA\n",
      "[{\"user_id\":\"AEJ33R64CS46LK4ZN3RHTLTBO4ZQ\",\"rating\":5}]\n",
      "B07CR658TY B07CR658TY Seavenger SeaSnugs Low-Cut Beach Volleyball Socks\n",
      "[{\"user_id\":\"AFHZAI5WNVWT4SFFY2EZ2SGSCIAQ\",\"rating\":4}]\n",
      "B07D7V8MT7 B07D7V8MT7 GSI Outdoors Enamel Coffee Pot to Store Hot Coffee, Tea for Camping & Farmhouse - 6 Cup\n",
      "[{\"user_id\":\"AG57CQ6P4QWYMWUV6MTAOETUKHTA\",\"rating\":5},{\"user_id\":\"AFCV25KA7XSAJGTZRDML5B7UYOVQ\",\"rating\":5}]\n",
      "B07D8CTXS7 B07D8CTXS7 GSI Outdoors Percolator Coffee Pot | Enamelware Campfire Coffee Boiler Kettle for Outdoor Camping Cookware, Cabin, RV, Kitchen, Hunting & Backpacking\n",
      "[{\"user_id\":\"AFAMOLAPKR3M2NPTMB362T2Q5RBQ\",\"rating\":3},{\"user_id\":\"AFEYY6TB5DOF2U4WCL7GRMNZREJA\",\"rating\":4}]\n",
      "B07FFTPH7B B07FFTPH7B Amazon Essentials Women's Studio Sculpt Mid-Rise Capri Yoga Legging\n",
      "[{\"user_id\":\"AHPFHP43AXWRYZZ4HPNCW7I7J3ZQ\",\"rating\":5}]\n",
      "B07FMSXZ7C B07FMSXZ7C J America NCAA Adult Women Make A Move Tee\n",
      "[{\"user_id\":\"AHV6QCNBJNSGLATP56JAWJ3C4G2A\",\"rating\":4}]\n",
      "B07FZVRYY8 B07FZVRYY8 Jumpers Knee Strap (EA)\n",
      "[{\"user_id\":\"AHPFHP43AXWRYZZ4HPNCW7I7J3ZQ\",\"rating\":5},{\"user_id\":\"AG25ZASYXSIF666IYOAOXJTTX2WQ\",\"rating\":5}]\n",
      "B07GKCMXY3 B07GKCMXY3 Gaiam Restore Adjustable Muscle Massage Stick Roller\n",
      "[{\"user_id\":\"AF2VY4YXMAB6YCYO3WDBR3DL5XSA\",\"rating\":4}]\n",
      "B07GYW6M1D B07GYW6M1D Wepro Bands Compatible with Fitbit Charge 2 HR, 3-Pack Adjustable Wrist Replacement Band for Women Men\n",
      "[{\"user_id\":\"AHWNAKYPAX5HIN6ZW3GYLCNIXTJQ\",\"rating\":5}]\n",
      "B07GZDRC6F B07GZDRC6F NFL Men's OTS Start Line Center Stretch Fit Hat\n",
      "[{\"user_id\":\"AEPWU76ZBAV7QMQQIPAUU75BS3ZA\",\"rating\":5}]\n",
      "B07H5ZVJMV B07H5ZVJMV AO Coolers Original Soft Cooler with High-Density Insulation, Royal Blue, 24-Can\n",
      "[{\"user_id\":\"AFZUK3MTBIBEDQOPAK3OATUOUKLA\",\"rating\":5},{\"user_id\":\"AFZUK3MTBIBEDQOPAK3OATUOUKLA\",\"rating\":5}]\n",
      "B07HFTQRP1 B07HFTQRP1 TRX Training Kettlebell, Gravity Cast with a Comfortable Ergo Handle\n",
      "[{\"user_id\":\"AEICZD35OTDYVWA2KPYWN4PDZ2SA\",\"rating\":5}]\n",
      "B07HN5T3WB B07HN5T3WB aminco NCAA Unisex Adult NCAA Logo Dangler Earrings\n",
      "[{\"user_id\":\"AGMBLP4JLQK6M3UZQY655VZP73XA\",\"rating\":4}]\n",
      "B07HPHKKD2 B07HPHKKD2 Daiwa Tatula 200 TWS Baitcasting Reel\n",
      "[{\"user_id\":\"AGI3NP2BITY3AKTLUJP2FLMDW3FA\",\"rating\":5}]\n",
      "B07HZ1TS2R B07HZ1TS2R OTS NBA Men's Comer Center Stretch Fit Hat\n",
      "[{\"user_id\":\"AGZLRPAZ3MUCZTSSFFCMTNFGDNWQ\",\"rating\":5}]\n",
      "B07KFPRDZ3 B07KFPRDZ3 Liberty Imports Pack of 5 Men's Athletic Basketball Shorts Mesh Quick Dry Activewear with Pockets\n",
      "[{\"user_id\":\"AFCV25KA7XSAJGTZRDML5B7UYOVQ\",\"rating\":4}]\n",
      "B07KG41NCD B07KG41NCD NFL Men's OTS Raised Cuff Knit Cap\n",
      "[{\"user_id\":\"AER7BPYAMW5CAICYIJX7QW64MBIA\",\"rating\":5}]\n",
      "B07KGT1MLN B07KGT1MLN Magpul MOE 1911 TSP Grip Panels\n",
      "[{\"user_id\":\"AGRJTJRP53Y2BUZLRF3EUTF65RSQ\",\"rating\":5}]\n",
      "B07KLSNCPR B07KLSNCPR Outerstuff Men's Chicago Bears #52 Khalil Mack Navy Embroidered Name & Number Jersey\n",
      "[{\"user_id\":\"AHKDPUXQINJKOFGZRGV3CJP6GPLQ\",\"rating\":5}]\n",
      "B07L93CTL6 B07L93CTL6 NFL Pillow Pet (Mini and Large)\n",
      "[{\"user_id\":\"AH5PMD2AOZMSO6JFWPRL44NR44EA\",\"rating\":5}]\n",
      "B07LBKPBGD B07LBKPBGD MLBPA PET Gear for Dogs & Cats. Biggest Selection of Sports Baseball Pet Apparel & Accessories Licensed by The MLBPA. 10+ MLB Teams Available!\n",
      "[{\"user_id\":\"AGMBLP4JLQK6M3UZQY655VZP73XA\",\"rating\":4},{\"user_id\":\"AEZHVVKEZAY6MAP5WA62MAYTMHWQ\",\"rating\":5},{\"user_id\":\"AHKUHEIUY7WUAMGKHAXC45LCRHZA\",\"rating\":5},{\"user_id\":\"AHIPBTOT2RCSOLJVMU454CT4KUBQ\",\"rating\":4},{\"user_id\":\"AE5BOUB3JEW4YH5WH6D7XKK6CTEA\",\"rating\":2},{\"user_id\":\"AEV2AM5IEUVKSKLEJTWGMW3VB7RQ\",\"rating\":5},{\"user_id\":\"AHYFWPEQEO72LEEMM6E3WDYX4BZA\",\"rating\":5}]\n",
      "B07LBN1Y5T B07LBN1Y5T Ultimate Body Press 4350143414 Exercise and Yoga Mat - 6’4” x 3’ x 2” - Four Panel Folding Mat with Premium Materials and Foam - Sized Right for Your Fitness by , Black\n",
      "[{\"user_id\":\"AHATA6X6MYTC3VNBFJ3WIYVK257A\",\"rating\":4}]\n",
      "B07LF4K4WS B07LF4K4WS aisswzber Mens Sports Polarized Sunglasses Driving Metal Frame UV Protection Sunglasses For Men 8177\n",
      "[{\"user_id\":\"AHPOHKN4PU4W3V5PGFL7AGTAD2AA\",\"rating\":4}]\n",
      "B07MQLDJLW B07MQLDJLW LifePro Waver Vibration Plate Exercise Machine - Whole Body Workout Vibration Fitness Platform w/ Loop Bands - Home Training Equipment for Weight Loss & Toning\n",
      "[{\"user_id\":\"AE7N4WK7OYMAXKXODT2MSG7H4FPA\",\"rating\":5}]\n",
      "B07MV527KR B07MV527KR Copco Freezeable Double Wall Insulated Tritan Water Bottle with Crackle Gel, 18-Ounce, Purple\n",
      "[{\"user_id\":\"AEICZD35OTDYVWA2KPYWN4PDZ2SA\",\"rating\":3}]\n",
      "B07MY3KPKW B07MY3KPKW NCAA Arkansas Razorbacks Dog T-Shirt, Medium\n",
      "[{\"user_id\":\"AHITBJSS7KYUBVZPX7M2WJCOIVKQ\",\"rating\":5}]\n",
      "B07N29QLTD B07N29QLTD Bell Standard and Self Sealing Bike Tubes\n",
      "[{\"user_id\":\"AG5YNREZVJP6XATLCKEM4NTGLICA\",\"rating\":5},{\"user_id\":\"AHKG6MSLGC4WR5W5MSLUSPZ6BL6Q\",\"rating\":5}]\n",
      "B07N3WQ1KG B07N3WQ1KG Toes&Feet Men's Anti-Odor Quick-Dry Quarter Crew Athletic and Dress Socks\n",
      "[{\"user_id\":\"AHJQPUQLSQZE6LMIUMY7WNRXCQQQ\",\"rating\":4},{\"user_id\":\"AFXF3EGQTQDXMRLDWFU7UBFQZB7Q\",\"rating\":5}]\n",
      "B07Q6TG443 B07Q6TG443 Teentumn 30oz Sport Water Bottle with Time Markers, Large Durable Gym Plastic Bottle Tritan BPA Free for Fitness, Outdoor Enthusiasts, Leakproof Clear Gray\n",
      "[{\"user_id\":\"AFRNBENNOMCCDWRULV7T45LU3MXQ\",\"rating\":5}]\n",
      "B07QGDSRH5 B07QGDSRH5 WTACTFUL Rubber Guard Protective Full Finger Tactical Gloves for Airsoft Hunting Cycling Motorbike\n",
      "[{\"user_id\":\"AGL3NDIOMDLE2BS7WPF6GHLE77ZQ\",\"rating\":5},{\"user_id\":\"AHR4BEXIRURKL3POXW5RJFJLJDQQ\",\"rating\":5}]\n",
      "B07R3J5SYG B07R3J5SYG TREKOLOGY Ultralight Inflatable Camping Travel Pillow - ALUFT 2.0 Compressible, Compact, Comfortable, Ergonomic Inflating Pillows for Neck & Lumbar Support While Camp, Hiking, Backpacking\n",
      "[{\"user_id\":\"AH5N3DZ2SJRF2G4H4KLLGGUCTQRQ\",\"rating\":5}]\n",
      "B07S1YCPCJ B07S1YCPCJ Fremont Die NFL Arizona Cardinals Stop Sign\n",
      "[{\"user_id\":\"AEMJ2EG5ODOCYUTI54NBXZHDJGSQ\",\"rating\":5},{\"user_id\":\"AHVOQ4CBGSXUQKOR2A3BPCV53YMA\",\"rating\":5}]\n",
      "B07S2Q7ZJ5 B07S2Q7ZJ5 icyzone Athletic Running Yoga Shorts for Women - Women's Workout Active Lounge Bermuda Shorts with Pockets\n",
      "[{\"user_id\":\"AF7MRXMT5BZFOEQY7X3F6D4QDEOQ\",\"rating\":4}]\n",
      "B07SJNLNSM B07SJNLNSM BASSDASH Fishing Tackle Backpack Water Resistant Lightweight Tactical Bag Soft Tackle Box with Rod Holder and Protective Rain Cover\n",
      "[{\"user_id\":\"AGYZB6ENUOE64CG2C6QLX47V4RTA\",\"rating\":3}]\n",
      "B07SKWVX69 B07SKWVX69 ROQ Silicone Rubber Wedding Ring for Women, Dome Duo Collection, Breathable Silicone Wedding Band, Anniversary Rings, Promise Ring, 5.5mm Wide 2mm Thick, Multi Packs, Multi Colors\n",
      "[{\"user_id\":\"AGFUJ3EGB7VTLV3ZMKEZVRJHPA5Q\",\"rating\":3}]\n",
      "B07SSHCTW7 B07SSHCTW7 Army Universe Chocolate Brown Nylon Paracord 550 lbs Type III 7 Strand USA Made Utility Cord Rope 100 Feet\n",
      "[{\"user_id\":\"AFOU3KAJIZ7YQCXJ3CJOYJ3J7GSQ\",\"rating\":2}]\n",
      "B07TL6CTHQ B07TL6CTHQ Fizik Performance Bicycle Bar Tape - Soft, Tacky & Classic Professional Bike Handlebar Tape (2mm, 2.7mm, 3mm)\n",
      "[{\"user_id\":\"AGWSEISP3NKF47Q2CG45DBOYURYA\",\"rating\":4},{\"user_id\":\"AFNL6B7KCS3NN3K5ADRPXO7EINUQ\",\"rating\":5}]\n",
      "B07VXV6CDH B07VXV6CDH Vmini Half Gallon Water Bottle, 64 oz Water Bottle with Straw, Wide Mouth Vacuum Insulated Stainless Steel Water Bottle, Wide Rotating Handle Straw Lid, Gradient Yellow+Pink\n",
      "[{\"user_id\":\"AEUKI4ODTWQPOMX6TEHZNBFWAMHQ\",\"rating\":5}]\n",
      "B07VYVCPF1 B07VYVCPF1 Ultra Game NBA Women's Jogger Pants Active Fleece Sweatpants\n",
      "[{\"user_id\":\"AHK7C45XWDCKJBAS5LZYTGD3FWJA\",\"rating\":5}]\n",
      "B07WFCGK92 B07WFCGK92 BASSDASH UPF 50+ UV Sun Protection Neck Gaiter Fishing Mask Hunting Kayaking Hiking Cycling Ski Sports\n",
      "[{\"user_id\":\"AFAA7WD5EOAHFKGTWFRBP6YCE46A\",\"rating\":5}]\n",
      "B07WYJBBTJ B07WYJBBTJ Shock Doctor Max Airflow 2.0 Lip Guard / Mouth Guard. Football Mouthguard 3500. For Youth and Adults OSFA. Breathable Wide Opening Mouthpiece. Helmet Strap Included\n",
      "[{\"user_id\":\"AHWNAKYPAX5HIN6ZW3GYLCNIXTJQ\",\"rating\":5}]\n",
      "B07X84RQMR B07X84RQMR YIMI Polarized Photochromic Outdoor Sports Driving Sunglasses for Men Women AntiGlare Eyewear Ultra-Light Sun Glasses\n",
      "[{\"user_id\":\"AEMJ2EG5ODOCYUTI54NBXZHDJGSQ\",\"rating\":1}]\n",
      "B07YBFCFMT B07YBFCFMT Goodthreads Women's Heritage Fleece Blouson Short-Sleeve Shirt\n",
      "[{\"user_id\":\"AFJBKPK5W56XWSNPQU2WW66ISWYQ\",\"rating\":5},{\"user_id\":\"AFQQQ5LGNSQUEBGDCYBAZZE5T3DA\",\"rating\":5}]\n",
      "B07Z756PBR B07Z756PBR Tumaz Stretching Strap - 10 Loops & Non-Elastic Yoga Strap - The Perfect Home Workout Stretch Strap for Physical Therapy, Yoga, Pilates, Flexibility - [Extra Thick, Durable, Soft]\n",
      "[{\"user_id\":\"AGN4KJUBTK7LCNXU6JIGRLANAHJQ\",\"rating\":5}]\n",
      "B07ZJ8HXQ6 B07ZJ8HXQ6 Mens Headbands - Sweat Head Bands for Workout, Cycling, Baseball, Football, Gym, Exercise, Running, Basketball, Yoga, Tennis - Moisture Wicking Sports Athletic Stretch Performance Sweatband & Hairband\n",
      "[{\"user_id\":\"AEDTZCI4QCLKRFL5DA53JL47Z5UQ\",\"rating\":3}]\n",
      "B07ZM8C38M B07ZM8C38M G Gradual Men's Sweatpants with Zipper Pockets Tapered Track Athletic Pants for Men Running, Exercise, Workout\n",
      "[{\"user_id\":\"AFG7N7YAFN5JNRB5PTBKSENW6QAA\",\"rating\":5}]\n",
      "B08192NHBG B08192NHBG SHIMANO SL-M315-8R 8-Speed RapidFire Plus Bicycle Shift Lever - Right, with Optical Gear Display - ESLM3158RA\n",
      "[{\"user_id\":\"AG3FTHHO5QTHJ3ABN5WVXOTID3NQ\",\"rating\":5}]\n",
      "B081VVHG4L B081VVHG4L SureFire G2X Tactical 600 Lumen EDC Flashlight Bundle with 2x Extra SureFire CR123A and Lightjunction Battery Case (Black)\n",
      "[{\"user_id\":\"AE63QWJX2YH2MYOW5UE7WO3DEGTA\",\"rating\":5}]\n",
      "B082MQ9ZX6 B082MQ9ZX6 NRS Ninja Kayak Lifejacket (PFD)\n",
      "[{\"user_id\":\"AFGUPTDFAWOHHL4LZDV27ERDNOYQ\",\"rating\":5}]\n",
      "B083BPBR2N B083BPBR2N Therm-a-Rest Compressible Travel Pillow for Camping, Backpacking, Airplanes and Road Trips, Amethyst\n",
      "[{\"user_id\":\"AFWTME2ROGUQI5J5FB3DWCLKZNBA\",\"rating\":5},{\"user_id\":\"AH3VYDJ2W7WFOLKOLJHPPD46FK2A\",\"rating\":5},{\"user_id\":\"AEU47A5R7NFWXCQLJMZA34AM63EA\",\"rating\":5}]\n",
      "B083F3JJ4X B083F3JJ4X NatureWorks HydroMATE Half Gallon Water Bottle with Time Markers BPA Free Reusable Leak Proof Jug with Straw and Handle 64 oz\n",
      "[{\"user_id\":\"AFFO2TXPGQVHVTIMFRGT5YZ7M4OA\",\"rating\":4}]\n",
      "B0845YM9BW B0845YM9BW Sweat Shaper Waist Trimmer for Women, Waist Trainer Sauna Belt, Neoprene-free Waist Cincher, Sauna Slimming Belt\n",
      "[{\"user_id\":\"AHPBIP5JNVD4ZDTULYEAAX2PBDGQ\",\"rating\":2},{\"user_id\":\"AFGPS4FSO3WD43EIV6XSFDRIZXKA\",\"rating\":5}]\n",
      "B08465YM9L B08465YM9L Gonex 45L Packable Travel Backpack, Lightweight Dackpack for Hiking, Camping & Travelling Azure Blue\n",
      "[{\"user_id\":\"AFJBKPK5W56XWSNPQU2WW66ISWYQ\",\"rating\":5},{\"user_id\":\"AEICZD35OTDYVWA2KPYWN4PDZ2SA\",\"rating\":4}]\n",
      "B0849PJ4GT B0849PJ4GT Northwest NCAA Unisex-Adult Raschel Throw Blanket\n",
      "[{\"user_id\":\"AHUOZU4UFPRZZZVHDIS65TMHIHSQ\",\"rating\":4}]\n",
      "B0858ZGFRQ B0858ZGFRQ RedSwing 4 Gallon/15L Portable Water Container with Spigot, Water Storage Carrier for Camping Outdoor Hiking, BPA Free\n",
      "[{\"user_id\":\"AE4AJJ4CAB2FP57XZ7VLBZQKK4GQ\",\"rating\":5}]\n",
      "B085HB6BTL B085HB6BTL Logo Brands Officially Licensed NCAA Unisex Round Table, One Size, Team Color\n",
      "[{\"user_id\":\"AH5AW5PRJIYE4CFJOEHAMKTQGVYQ\",\"rating\":5}]\n",
      "B085ZNLW1R B085ZNLW1R HUGE SPORTS Men's Splice UV Sun Protection UPF 50+ Skins Rash Guard Long Sleeves\n",
      "[{\"user_id\":\"AF3D3R7EJKCATWRQYAJPKAOGNAXA\",\"rating\":5}]\n",
      "B086HFNRJD B086HFNRJD OTS NFL Women's Singleback Fleece Pullover\n",
      "[{\"user_id\":\"AHPOHKN4PU4W3V5PGFL7AGTAD2AA\",\"rating\":5}]\n",
      "B0871HPPK7 B0871HPPK7 CompressionZ Compression Capri Leggings for Women - Yoga Capris, Running Tights, Gym Pants\n",
      "[{\"user_id\":\"AF4XOFLFHZQIGX73U6AEE3IVT6FA\",\"rating\":5}]\n",
      "B087LV5DCJ B087LV5DCJ KALILY 12pcs/9pcs/6pcs Headband Bandana - Face Mask Headwear Neck Gaiter Shield Scarf\n",
      "[{\"user_id\":\"AG7WKTZINOFIXMZJYIPKIB7PV7NQ\",\"rating\":3}]\n",
      "B088H1LK3J B088H1LK3J WWahuayuan 10M Premium Aerial Silks Equipment Yoga Pilates Swing Aerial Yoga Antigravity Hammock Trapeze for Acrobatic Dance,Air Yoga, Aerial Yoga Hammock\n",
      "[{\"user_id\":\"AFTX5XGVRRUV7H7LJ6MP5LVDX5PQ\",\"rating\":2}]\n",
      "B088X4DPJB B088X4DPJB Core Prodigy Fusion Grip Tape - Silicone Rubber Wrap for Pull Up Bars, Barbells, Dumbbells, Sports and Gym Equipment, and Tools\n",
      "[{\"user_id\":\"AGEP2CC2QIJU5IHQZXCC7BE5JSDQ\",\"rating\":5}]\n",
      "B0893BGL1T B0893BGL1T SKTYEE Carbon Fiber Inline Speed Skates Adult for Women and Mens, Professional Fitness Skating Roller Skates, High Performance Racing Skates, Unisex Black\n",
      "[{\"user_id\":\"AFA5B5IBMHM5XZKSSA5MP3PBEGPA\",\"rating\":5}]\n",
      "B0899N1ZV8 B0899N1ZV8 ROQ Silicone Rubber Wedding Ring for Women, Rubber Silicone Wedding Band, Bridal Jewelry Set, Anniversary Rings, Promise Ring, 5.5mm Wide 2mm Thick, Multi Packs, Multi Colors\n",
      "[{\"user_id\":\"AEICZD35OTDYVWA2KPYWN4PDZ2SA\",\"rating\":4}]\n",
      "B089F8QQHK B089F8QQHK BOOYAH Pond Magic Small-Water Spinner-Bait Bass Fishing Lure\n",
      "[{\"user_id\":\"AF2JSZ5GQ5R4XASOJQWHZKV7P6YA\",\"rating\":5}]\n",
      "B08BHQBK5G B08BHQBK5G AiRunTech Adjustable Running Belt Waist Pack with 3 Pockets for All Phones, No-Bounce, Slim, Lightweight and Secure, Suitable for Men and Women\n",
      "[{\"user_id\":\"AECIBNSEFCIDJ5TLCTF6EABM55PQ\",\"rating\":4}]\n",
      "B08D7G6NJJ B08D7G6NJJ Champion Kids Clothes Sweatshirts Youth Heritage Fleece Pull On Hoody Sweatshirt with Hood\n",
      "[{\"user_id\":\"AFLRC4EB3O4FNS4VCICJ4S22TQNQ\",\"rating\":5},{\"user_id\":\"AH6LSFADKK56ZXNWKN32R2HPR2FA\",\"rating\":5}]\n",
      "B08D96JYTG B08D96JYTG OMID Swim Goggles, P2 Comfortable Polarized Anti-Fog Swimming Goggles for Adult\n",
      "[{\"user_id\":\"AH4FT75HQYRS36JB6KL2JJNWSP2Q\",\"rating\":5}]\n",
      "B08D9FWVJD B08D9FWVJD IRON °FLASK Sports Water Bottle - 32oz, 3 Lids (Straw Lid), Leak Proof - Stainless Steel Gym & Sport Bottles for Men, Women & Kids - Double Walled, Insulated Thermos, Metal Canteen\n",
      "[{\"user_id\":\"AHFZFJJ7RWRX6RCUSCFFXX3QK73Q\",\"rating\":5},{\"user_id\":\"AH4NK6BLCCREBTG6B6OQM2KABDDA\",\"rating\":2}]\n",
      "B08DLBZJ8K B08DLBZJ8K X XBEN Outdoor Climbing Rope 10M(32ft) 20M(64ft) 30M(96ft) 50M(160ft) 70M(230ft) 152M(500FT) 352M(1000FT) Static Rock Climbing Rope for Escape Rope Ice Climbing Equipment Fire Rescue Parachute\n",
      "[{\"user_id\":\"AE2TYMULXRZTZHKHIRX4I5VKDNIQ\",\"rating\":5}]\n",
      "B08DW97QWC B08DW97QWC Booyah Shad Blade-Bait Fishing Lure, Pearl Shiner, Mini Shad (3/16 oz)\n",
      "[{\"user_id\":\"AG6OZNFZE6P52PW2PA5WF2IAHKLA\",\"rating\":5}]\n",
      "B08F8QPQWB B08F8QPQWB CAP Barbell 60-Pound Adjustable Dumbbell Weight Set\n",
      "[{\"user_id\":\"AFAIJYOUO3NAWLBDIKTQSC3DASWA\",\"rating\":5}]\n",
      "B08FD2WHRW B08FD2WHRW AIKOTOO Nearsighted Swim Goggles, Shortsighted Swimming Goggles\n",
      "[{\"user_id\":\"AFJBKPK5W56XWSNPQU2WW66ISWYQ\",\"rating\":5}]\n",
      "B08FTDK6T4 B08FTDK6T4 W WSTOO Snorkel Mask with Latest Dry Top Breathing System,Fold 180 Degree Panoramic View Full Face Snorkel Mask Anti-Fog Anti-Leak with Camera Mount,Snorkeling Gear for Adults and Kids\n",
      "[{\"user_id\":\"AFJBKPK5W56XWSNPQU2WW66ISWYQ\",\"rating\":5},{\"user_id\":\"AGLQQCIS5V6EGUCS5SSNHWZHQM6Q\",\"rating\":4}]\n",
      "B08GHC3M3J B08GHC3M3J Mountain House Beef Stroganoff | Freeze Dried Backpacking & Camping Food | Survival & Emergency Food\n",
      "[{\"user_id\":\"AFJBKPK5W56XWSNPQU2WW66ISWYQ\",\"rating\":5}]\n",
      "B08JKQL6Y8 B08JKQL6Y8 MaiuFun Oversized Camping Chair Folding Heavy Duty Quad Outdoor Large Lawn Chairs Portable Support 400 lbs Padded Thicken Oxford with Armrests, Storage Bag, Cup Holder, Carry Bag for Outside(Blue)\n",
      "[{\"user_id\":\"AFTIM4OKTMFNKK4BRL4GNDHMPFSA\",\"rating\":5}]\n",
      "B08K4JVG1H B08K4JVG1H Day 1 Fitness Stainless Steel Water Bottle Narrow Mouth with Screw Lid (12, 17, or 25 oz) - 3 Size and 8 Color Options - Vacuum Insulated, Double Wall, Powder Coated Sweat Proof Thermos\n",
      "[{\"user_id\":\"AEIPJBAN7A55Q5DFFPZSR2UV3OKA\",\"rating\":4}]\n",
      "B08LN9S95N B08LN9S95N URBNFit Exercise Ball - Yoga Ball for Workout Pregnancy Stability - AntiBurst Swiss Balance Ball w/ Pump - Fitness Ball Chair for Office, Home Gym\n",
      "[{\"user_id\":\"AGV5IAI7ELBBT327V7EUBECMW6MQ\",\"rating\":5},{\"user_id\":\"AGEOKZZXTQQJSQYNLGNIOHJG25PQ\",\"rating\":4}]\n",
      "B08N64NRS3 B08N64NRS3 Gintenco Swim Fins, Kids Swim Training Fins for Lap Swimming, Travel Size Flippers with Mesh Bag, Silicone Swimming Fins for Kids Teens Adults Women Men\n",
      "[{\"user_id\":\"AE73SQJO4UU5DT7JN6KY2LDG4MUQ\",\"rating\":5}]\n",
      "B08NC79TYP B08NC79TYP LIGHTBAR | LED Headlamp, 300 to 500 Lumens, Spot Light Mode and Red Light Modes Available On Select Models - Perfect for Camping Running Biking Fishing Construction\n",
      "[{\"user_id\":\"AE6TGLIT6A4PW6JXKALF4SKJPX2Q\",\"rating\":2}]\n",
      "B08NWXQZ37 B08NWXQZ37 OTS Men's Rival Long Sleeve Tee\n",
      "[{\"user_id\":\"AHPOHKN4PU4W3V5PGFL7AGTAD2AA\",\"rating\":5}]\n",
      "B08PDR6R7F B08PDR6R7F FOCO Womens NFL Team Color Faux Fur Moccasin\n",
      "[{\"user_id\":\"AEMJ2EG5ODOCYUTI54NBXZHDJGSQ\",\"rating\":1}]\n",
      "B08PFTJXJJ B08PFTJXJJ FOCO NFL Busy Block Ugly Sweater\n",
      "[{\"user_id\":\"AESVPEV7SP57RQWLVV2J5KKFEOCA\",\"rating\":5}]\n",
      "B08R8PZX6D B08R8PZX6D Ultra Game NFL Womens Active Soft Fleece Jogger Sweatpants\n",
      "[{\"user_id\":\"AECABX3OO3GK7FCPZLFM3LT2E6UA\",\"rating\":5}]\n",
      "B08SQS211M B08SQS211M Renegade GK Talon Goalie Gloves with Microbe-Guard (Sizes 5-11, 5 Styles, Level 3) Pro-Tek Fingersaves & 3.5+3MM Hyper Grip XD | Durable Goalkeeper Glove for All-Around Play | Based in The USA\n",
      "[{\"user_id\":\"AHO6GNOJYGFCOEDIVYE7BNLSFXBA\",\"rating\":5}]\n",
      "B08VWBD32N B08VWBD32N Wolf Tooth Precision Anodized Water Bottle Cage Bolts\n",
      "[{\"user_id\":\"AGUO64P7C4QQ3NVBLJAHCGLLUCQA\",\"rating\":5}]\n",
      "B08W8Z11VP B08W8Z11VP Zebco 33 Approach Spincast Reel and 2-Piece Fishing Rod Combo, Durable Fiberglass Rod with Comfortable Split-Grip EVA Handle, QuickSet Anti-Reverse Fishing Reel with Bite Alert, Camo\n",
      "[{\"user_id\":\"AFLX66DKF6R3H6OEOC3TIVAYXZIQ\",\"rating\":5}]\n",
      "B08WNGR1K2 B08WNGR1K2 Yocaher Longboard Skateboard Trucks Wheels Combo Set 71mm Wheels + 7\"/180mm Heavy Duty Aluminum Polished Trucks, Bearing, Riser Pad, and Skateboard Longboard Cruiser Hardware\n",
      "[{\"user_id\":\"AHAIZU37TG52IYGSQ4RY4QD3TV7A\",\"rating\":3}]\n",
      "B08X6WYFXF B08X6WYFXF AmazonCommercial Rotomolded Coolers, 45 Quart Towable, White\n",
      "[{\"user_id\":\"AGR6OAOR3JTMYLRJCEGHFBI24HYA\",\"rating\":4},{\"user_id\":\"AFKMX6JZ655VPVYHBTATZQS4IBOQ\",\"rating\":5},{\"user_id\":\"AE7YYSYFEWAYIUCAK4W33CHPP4JQ\",\"rating\":5}]\n",
      "B08YDLLN6J B08YDLLN6J HYDRO CELL Wide Mouth Water Bottle - Accessory Caps - 64oz, 40oz, 32oz, 24oz, 18oz, 14oz. Sports Cap - Coffee Cap - Stainless Steel Cap\n",
      "[{\"user_id\":\"AEGI7QR7J6VJCEZ7INIHIVQ3277A\",\"rating\":5}]\n",
      "B08YFLVDMJ B08YFLVDMJ Berkley Trilene Big Game Monofilament Fishing Line\n",
      "[{\"user_id\":\"AG6OZNFZE6P52PW2PA5WF2IAHKLA\",\"rating\":5}]\n",
      "B08YFM79F9 B08YFM79F9 Spiderwire EZ Fishing Line (Braid/Fluorocarbon/Monofilament)\n",
      "[{\"user_id\":\"AGWWTJ2WJXCTXGD3TFDWUUBYOAXQ\",\"rating\":5}]\n",
      "B08YFM7QVH B08YFM7QVH Berkley Trilene XL Monofilament Fishing Line\n",
      "[{\"user_id\":\"AEWT7EGPCHKQGTNXN5BHQ5CTLK7A\",\"rating\":5}]\n",
      "B08YYJRNQ4 B08YYJRNQ4 Gonex 54/62/68 Inch Extra Large Golf Umbrella, Automatic Open Travel Rain Umbrella with Windproof Water Resistant Double Canopy, Oversize Vented Umbrellas for 2-3 Men and UV Protection, Multiple Colors\n",
      "[{\"user_id\":\"AFV22L7AEKI2LW6HMLRLUKNYVBGQ\",\"rating\":5}]\n",
      "B0914WNBNM B0914WNBNM Champion Sports Official Heavy Duty Rubber Cover Nylon Basketballs\n",
      "[{\"user_id\":\"AHZ6XMOLEWA67S3TX7IWEXXGWSOA\",\"rating\":5}]\n",
      "B09198D73Z B09198D73Z GOFLYSHINE Exercise Bikes Stationary,Exercise Bike for Home Indoor Cycling Bike for Home Cardio Gym,Workout Bike with 35 LBS Flywheel\n",
      "[{\"user_id\":\"AFKMX6JZ655VPVYHBTATZQS4IBOQ\",\"rating\":5}]\n",
      "B092RTFJJV B092RTFJJV NEEKFOX Water Bottle, 34oz Gallon Water Bottles with Large Wide Mouth, Leakproof Anti-slip Durable BPA Free Tritan Water Jug, hydro jug with Removable Strainer for Fitness, Gym, Outdoor Sport\n",
      "[{\"user_id\":\"AFJBKPK5W56XWSNPQU2WW66ISWYQ\",\"rating\":5}]\n",
      "B094GSNHG5 B094GSNHG5 ERNAN Inline Roller Skates,Adjustable Inline Skate for Kids and Adults with Full Light Up Wheels,Outdoor Roller Blades for Boys and Girls, Men and Women\n",
      "[{\"user_id\":\"AFJBKPK5W56XWSNPQU2WW66ISWYQ\",\"rating\":5}]\n",
      "B096FQ8ND7 B096FQ8ND7 ATERCEL Weight Lifting Gloves Breathable Workout Gloves with Wrist Support for Gym, Exercise, Pull ups, Super Lightweight for Mens and Women, Full Palm Protection\n",
      "[{\"user_id\":\"AEAW3I4OQJJNGEUOTWPSTNF4NQYQ\",\"rating\":5}]\n",
      "B0994FNNNN B0994FNNNN ODODOS Women's High Waisted Yoga Capris with Pockets,Tummy Control Non See Through Workout Sports Running Capri Leggings\n",
      "[{\"user_id\":\"AEDB2WFGSUHI7BUWXNHS45KI6X2A\",\"rating\":3},{\"user_id\":\"AEHOUKDUSHPOEDHAISNAVI7ANZHA\",\"rating\":5},{\"user_id\":\"AE6YLEEPJ47WLVVHEJ4CSBONBVBA\",\"rating\":5},{\"user_id\":\"AHKQL6PGHDMRL2GNIE2RPRNK7MIQ\",\"rating\":5}]\n",
      "B09BJRBT4W B09BJRBT4W ZOMAKE Golf Umbrella 54/62/68 Inch, Large Windproof Umbrellas Automatic Open Oversize Rain Umbrella with Double Canopy for Men - Vented Stick Umbrellas\n",
      "[{\"user_id\":\"AHUPSSURLQ34LP2NWLZHML566WIA\",\"rating\":5}]\n",
      "B09BYRMVNB B09BYRMVNB Eco Sports Beach Volleyball - Vegan Volleyballs - Non-Toxic Outdoor Volley Ball or Indoor Volleyball\n",
      "[{\"user_id\":\"AFNL6B7KCS3NN3K5ADRPXO7EINUQ\",\"rating\":5}]\n",
      "B09C1C1SHD B09C1C1SHD Birchwood Casey Truoil Gun Stock Finish, Professional Choice\n",
      "[{\"user_id\":\"AFSDTNTR5DVFLBWC4Q4Y5SNG4TFQ\",\"rating\":5}]\n",
      "B09CH8W31W B09CH8W31W Nalgene Wide Mouth Water Bottle\n",
      "[{\"user_id\":\"AFAD6IGTLID7GW3T6WVNVBGUNQVA\",\"rating\":5},{\"user_id\":\"AHMHKNDYS5D3HHZTNRFYIL27DYNQ\",\"rating\":5}]\n",
      "B09D6WTRP2 B09D6WTRP2 METROLLER Inline Skates for Girls and Boys, Women, Men 4 Sizes Adjustable Roller Blades with Light Up Wheels, Illuminating Beginner Rollerblades for Kids & Adult Youth\n",
      "[{\"user_id\":\"AFJBKPK5W56XWSNPQU2WW66ISWYQ\",\"rating\":5}]\n",
      "B09DCK8TY3 B09DCK8TY3 LENPABY Soft Plastic Soft Lures Soft Fishing Lures for Bass, Paddle Tail Swimbaits, Jig Heads\n",
      "[{\"user_id\":\"AGAM2CCKV52HI4YZU7ASZTSXA7YQ\",\"rating\":5}]\n",
      "B09HCP37PR B09HCP37PR ALPS Mountaineering King Kong Chair, Green, Regular-38\" W x 20\" D x 38\" H\n",
      "[{\"user_id\":\"AFZUK3MTBIBEDQOPAK3OATUOUKLA\",\"rating\":5},{\"user_id\":\"AH3VYDJ2W7WFOLKOLJHPPD46FK2A\",\"rating\":5}]\n",
      "B09K34T7DP B09K34T7DP FOCO Mens NFL Team Logo Moccasin Slippers\n",
      "[{\"user_id\":\"AFJF43RWPYXPI7RP7WDT5I3NIC6A\",\"rating\":5},{\"user_id\":\"AFZEVJIUV62VQINN7P72BAUSJI7A\",\"rating\":4}]\n",
      "B09KY141GK B09KY141GK REEHUT Ankle Weights Set (1 Pair) for Women, Men and Kids, Wrist Arm Leg Weight for Fitness, Exercise, Walking, Jogging, Gymnastics, Aerobics, Gym (2lbs 3lbs 4lbs 6lbs 8lbs 10lbs)\n",
      "[{\"user_id\":\"AGWMCY5TZ5HNYJSFQ5CD5Z3QRZAA\",\"rating\":5}]\n",
      "B09L8H35CZ B09L8H35CZ Survival Kit 72 in 1, Gifts for Men, Professional Survival Gear Equipment Tools First Aid Supplies for SOS Emergency Tactical Hiking Hunting Disaster Camping Adventures\n",
      "[{\"user_id\":\"AHT3NNPRGAN65K6ESCJNKI7TPWPA\",\"rating\":5}]\n",
      "B09LHRV96L B09LHRV96L FBSPORT 8ft/9ft/10ft Balance Beam: Folding Floor Gymnastics Equipment for Kids Adults,Non Slip Rubber Base, Gymnastics Beam for Training, Practice, Physical Therapy and Professional Home Training\n",
      "[{\"user_id\":\"AEUQBHXM4A2DF5EWD3OUBUTCWXOA\",\"rating\":5}]\n",
      "B09LSDN942 B09LSDN942 JUANANIUG Hand Warmers Rechargeable, 5200mAh Electric Portable Pocket Hand Warmer/Power Bank, Great for Outdoor Sports, Hunting,Camping, Hiking, Golf, Warm Gifts for Women, Men Winter Gifts\n",
      "[{\"user_id\":\"AHUX7LYUKBTCPVVALKMMPH6JYCGQ\",\"rating\":5}]\n",
      "B09M5SF9W6 B09M5SF9W6 Puppy Face Dog Shirts Tank Top with Wide Strips Doggie Costumes T-Shirt Pet Clothes Vest Apparel for Small Extra Small Medium Large Extra Large Dog or Cat (XXSmall, Black and White)\n",
      "[{\"user_id\":\"AE2NGWVCCAOFRLRNPIP3F5YZIXAQ\",\"rating\":5}]\n",
      "B09M7CH4BD B09M7CH4BD Adult Arch & Logo Soft Style Gameday T-Shirt\n",
      "[{\"user_id\":\"AEWBQMOHOUFV6TMO4VUT2PZ7URZQ\",\"rating\":5},{\"user_id\":\"AED5CY57L474C37AHNRMT3BTS5LA\",\"rating\":5}]\n",
      "B09M7MWG49 B09M7MWG49 ALONG FIT Waist Trainer Vest for Women Plus Size Sweat Sauna Vest Neoprene Body Shaper\n",
      "[{\"user_id\":\"AGO7QYK2UBACAGSBAV3XHELRCA3A\",\"rating\":3}]\n",
      "B09MJPN7T1 B09MJPN7T1 Tarp Cover Brown/Silver Heavy Duty Thick Material Water Proof Tear Proof UV Resistant Reinforced Edges Boat Tent RV or Pool Cover 6x8\n",
      "[{\"user_id\":\"AEJFGVOJDY43M34SKOQ73MR5LDOQ\",\"rating\":5}]\n",
      "B09MK6WGMD B09MK6WGMD BALEAF Women's Fleece Lined Leggings Cold Weather Snow Pants Running Cycling Tights Winter Thermal Hiking Pants\n",
      "[{\"user_id\":\"AGBFYI2DDIKXC5Y4FARTYDTQBMFQ\",\"rating\":5},{\"user_id\":\"AFCSIDWSKICZ5UH26NREKPW25X4A\",\"rating\":5}]\n",
      "B09N6VLM45 B09N6VLM45 VeeFine Insulated Water Bottle with Straw Dishwasher Safe Metal Water Bottle BPA-Free Stainless Steel Water Bottles 20/32/40oz for Hiking Camping and School\n",
      "[{\"user_id\":\"AEIPJBAN7A55Q5DFFPZSR2UV3OKA\",\"rating\":5},{\"user_id\":\"AFWVN52MRBWOTIK7UGXBWGOY4HBA\",\"rating\":5},{\"user_id\":\"AHRAZJJ6MO5PHB772QRCVTHY5B7Q\",\"rating\":5}]\n",
      "B09RNT4WDK B09RNT4WDK Ultra Game NFL Men's Active Soft Fleece Jogger Sweatpants\n",
      "[{\"user_id\":\"AGVSXZIFJQRBGUJ6WCAKAI7L4YUQ\",\"rating\":5},{\"user_id\":\"AGVSXZIFJQRBGUJ6WCAKAI7L4YUQ\",\"rating\":5}]\n",
      "B09SHK7ZGH B09SHK7ZGH Rose Kuli Fishing Lures for Bass Trout Topwater Multi Jointed Swimbaits Slow Sinking Bionic Swimming Lures Bass Freshwater Saltwater Bass Lifelike Fishing Lures Kit\n",
      "[{\"user_id\":\"AH7CYOTLQP66VONKM73LS3JKX7SQ\",\"rating\":4}]\n",
      "B09SS1NK1B B09SS1NK1B Sweet Sweat Waist Trimmer for Women and Men - Sweat Band Waist Trainer for High-Intensity Training & Workouts, 5 Sizes\n",
      "[{\"user_id\":\"AHPBIP5JNVD4ZDTULYEAAX2PBDGQ\",\"rating\":5},{\"user_id\":\"AGGA3YUIO4JFSOOEWSHU5LB5C2TA\",\"rating\":4}]\n",
      "B09TD9HLYY B09TD9HLYY Get Out! Wooden Bowling Set - 12pc Lawn Bowling and Skittle Ball Games for Children and Adult Fun\n",
      "[{\"user_id\":\"AGOWLR52GJKEQ6ARUX5V6TJP7QLA\",\"rating\":5}]\n",
      "B09TSV8QFJ B09TSV8QFJ Bafeil Swim Vest Jacket for Unisex Adult,Floation Swimsuit Swimwear with Adjustable Safety Strap for Fishing Surfing Boating Kayaking Water Sports\n",
      "[{\"user_id\":\"AHV6QCNBJNSGLATP56JAWJ3C4G2A\",\"rating\":4},{\"user_id\":\"AFNL6B7KCS3NN3K5ADRPXO7EINUQ\",\"rating\":5}]\n",
      "B09W5GD1JT B09W5GD1JT TUDEQU Sling Bag Crossbody Sling Backpack with USB Charging Port, Water Resistant Shoulder Bag Outdoor Travel Hiking Daypack with WET Pocket Men Women Christmas Gifts (DARK BLUE)\n",
      "[{\"user_id\":\"AHJ62DSO6B7RJWVUVGYZJ4I5VDJA\",\"rating\":2}]\n",
      "B09WDMS1S2 B09WDMS1S2 Coleman SPORTFLEX Soft Cooler with 4-Way Stretch Mesh Pockets, Expandable Active Stretch Side Pockets, Cooler Bag, Soft Sided Cooler, Insulated Lunch Bag, Camping Cooler\n",
      "[{\"user_id\":\"AHV6QCNBJNSGLATP56JAWJ3C4G2A\",\"rating\":4}]\n",
      "B09WDRFZ6Q B09WDRFZ6Q KEEPTO 64 oz Water Bottles with Times to Drink,BPA Free Motivational Gallon Water Jug with Straw,Orange/Sky Blue Ombre\n",
      "[{\"user_id\":\"AEKBJYBZJEJPZUWDV7T6XXGP5NBA\",\"rating\":5},{\"user_id\":\"AFFO2TXPGQVHVTIMFRGT5YZ7M4OA\",\"rating\":5}]\n",
      "B09X5X9VYD B09X5X9VYD Retrospec Bike-Helmets Retrospec Remi Adult Bike Helmet for Men & Women - Bicycle Helmet for Commuting, Road Biking, Skating\n",
      "[{\"user_id\":\"AFKVV256MLQAVNB6TW7EJDZLYH7A\",\"rating\":5}]\n",
      "B09YSNSLNQ B09YSNSLNQ Franklin Sports Baseball + Softball Gloves - Field Master Adult + Youth Baseball + Softball Gloves - Right Hand + Left Hand Gloves - Infield + Outfield Mitts - Multiple Sizes + Colors\n",
      "[{\"user_id\":\"AFJBKPK5W56XWSNPQU2WW66ISWYQ\",\"rating\":4},{\"user_id\":\"AEOPDVB5QU2QUT5PM2DYD4HMJ3FA\",\"rating\":5}]\n",
      "B09YZ7HRDC B09YZ7HRDC FOCO NFL Resin 11.5\" Team Logo Outdoor Garden Statue Gnome\n",
      "[{\"user_id\":\"AH7CYOTLQP66VONKM73LS3JKX7SQ\",\"rating\":5}]\n",
      "B09Z6LCXRY B09Z6LCXRY Ski Goggles - Zeepoch OTG Snowboard Goggles with UV Protection Anti Fog for Men Women Adult Teenagers - Detachable Lens\n",
      "[{\"user_id\":\"AHSAUHUTLVNKJ72GUIPGI5XZH6ZA\",\"rating\":4}]\n",
      "B0B1CMF6SZ B0B1CMF6SZ Lady Classic Women's Soft Flex Golf Gloves with Magnetic Ball Marker with Removable Golf Ball Marker- Left Hand\n",
      "[{\"user_id\":\"AGOBXBFD53ALA3F6W62XJPLZQG2A\",\"rating\":5}]\n",
      "B0B2R8LC1R B0B2R8LC1R PSKOOK Survival Paracord Parachute Fire Cord Survival Ropes Red Tinder Cord PE Fishing Line Cotton Thread 7 Strands Outdoor 20, 25, 100 Feet\n",
      "[{\"user_id\":\"AFKACPZLPON4JTXLI3H7UCWAU3FA\",\"rating\":5}]\n",
      "B0B3X94CZZ B0B3X94CZZ Sukeen 12 Pack Cooling Towel (40\"x12\"), Ice Towel Sets,Soft Breathable Chilly Towel,Microfiber Towel for Yoga,Sport,Running,Gym,Workout,Camping,Fitness,Workout\n",
      "[{\"user_id\":\"AHLRW7X4WVLZJDS6BM6J3YP3NNSA\",\"rating\":5}]\n",
      "B0B41GGTTW B0B41GGTTW humangear GoToob Refillable Silicone\n",
      "[{\"user_id\":\"AECTH3EXV4XHY73DFU5ZZ5RWLB7A\",\"rating\":5}]\n",
      "B0B5WR9Z2C B0B5WR9Z2C Braided Fishing Line, 4 Strands & 8 Strands 20lb-200lb,Abrasion Resistant Superline Zero Stretch&Low Memory  PE Fishing Lines for Saltwater & Freshwater Fishing\n",
      "[{\"user_id\":\"AG5G4JJOBDKQSOQSMBRVR6MJ3VGA\",\"rating\":5}]\n",
      "B0B63FLRKV B0B63FLRKV Ebifin Women's Solid Suit Pants Business Casual Trousers Straight Leg Dress Pants with Pockets Work Slacks\n",
      "[{\"user_id\":\"AEIPJBAN7A55Q5DFFPZSR2UV3OKA\",\"rating\":4}]\n",
      "B0B8GHRPJ1 B0B8GHRPJ1 VAENAIT BABY Kids Unisex Sun Hat UPF 50+ Breathable Bucket Sun Protection Play Hat with Adjustable Chin Strap Mesh Lining\n",
      "[{\"user_id\":\"AGZMKHWSCB3UXDGFUPFRZSL4EAWQ\",\"rating\":5}]\n",
      "B0BBBWR2H6 B0BBBWR2H6 Earth Pak -Waterproof Dry Bag - Roll Top Dry Compression Sack Keeps Gear Dry for Kayaking, Beach, Rafting, Boating, Hiking, Camping and Fishing with Waterproof Phone Case\n",
      "[{\"user_id\":\"AESULNPZBFLN6DV425S2BPMGN76A\",\"rating\":5}]\n",
      "B0BFGW2QGW B0BFGW2QGW BEIFENG Heavy Duty Lightweight Locking Carabiner Clips D Ring for Camping Hiking Outdoor Gym etc, Carabiner with Lock Small Carabiners for Dog Leash & Harness\n",
      "[{\"user_id\":\"AHR4BEXIRURKL3POXW5RJFJLJDQQ\",\"rating\":5}]\n",
      "B0BGM8TW2T B0BGM8TW2T Healthy Human Stainless Steel Water Bottle | 100% BPA Free & Double Walled Vacuum Insulated Water Bottles | Eco-Friendly Stein Bottle with Carabiner & Leak Proof Lid\n",
      "[{\"user_id\":\"AHUYNN727VWY5ARFWDUKLWP36NSQ\",\"rating\":5},{\"user_id\":\"AGRJTJRP53Y2BUZLRF3EUTF65RSQ\",\"rating\":4}]\n",
      "B0BGQZ7H8L B0BGQZ7H8L Ultra Game NFL Mens Raglan Baseball 3/4 Long Sleeve T-Shirt\n",
      "[{\"user_id\":\"AGCJVVZDESTE3YFYJMQ7X3TXPOGQ\",\"rating\":5}]\n",
      "B0BGT9FQ9K B0BGT9FQ9K Emergency Blankets for Survival Gear and Equipment x4, Mylar Blankets, Space Blanket, Thermal Blanket, Emergency Blanket Car, Emergency Thermal Blankets for Survival Blanket Foil Blanket Solar Blanket\n",
      "[{\"user_id\":\"AGS47C3SO62X375JL7RWNBKCFXXA\",\"rating\":5}]\n",
      "B0BGVGG3NW B0BGVGG3NW 625lb Fishing Magnet Bundle Pack - Includes 6mm 100ft High Strength Nylon Rope with Carabiner, Non-Slip Rubber Gloves, Threadlocker & Super Strong Pulling Force Rare (Complete Kit)\n",
      "[{\"user_id\":\"AE7YYSYFEWAYIUCAK4W33CHPP4JQ\",\"rating\":5}]\n",
      "B0BL6SZ6JD B0BL6SZ6JD Orange Seal - Endurance Formula Tubeless Bike Tire Sealant | Long Lasting, Fast Sealing | for MTB, Road, CX and Gravel Bicycle Tires\n",
      "[{\"user_id\":\"AH5ZV3CIP4XOMHK45KM4DS2H3ZIQ\",\"rating\":5}]\n",
      "B0BLL7QVLN B0BLL7QVLN Franklin Sports MLB Baseball Batting Gloves - CFX Pro Adult + Youth Batting Glove Pairs - Baseball + Softball Batting Gloves Colors\n",
      "[{\"user_id\":\"AHF2OTODCQC4BETX7CHZMOHUBODQ\",\"rating\":5}]\n",
      "B0BM54836L B0BM54836L M MOYOOGA Camo Seamless Legging for Women High Waist Tummy Control Workout Gym Sport Active Yoga Fitness Pants\n",
      "[{\"user_id\":\"AFQQQ5LGNSQUEBGDCYBAZZE5T3DA\",\"rating\":5},{\"user_id\":\"AGZMKHWSCB3UXDGFUPFRZSL4EAWQ\",\"rating\":4}]\n",
      "B0BM8VRT75 B0BM8VRT75 Exercise Bands Resistance Bands Set Strength Training Fitness Bands Workout Bands Resistance Elastic Bands for Exercise\n",
      "[{\"user_id\":\"AH2KRJCMDPAGIOGC4MOAQEIHGE2A\",\"rating\":1}]\n",
      "B0BM9LLNGP B0BM9LLNGP Zeato All-in-One Skate Tools Multi-Function Portable Skateboard T Tool Accessory with T-Type Allen Key and L-Type Phillips Head Wrench Screwdriver\n",
      "[{\"user_id\":\"AGF42GID7QWDCNFTJRCTMKAITJJA\",\"rating\":5}]\n",
      "B0BMTBWZV2 B0BMTBWZV2 Tommy Bahama 5-Position Classic Lay Flat Folding Backpack Beach Chair, Polyester, Navy\n",
      "[{\"user_id\":\"AEUAL3EJKUSTNB4YY6STLYGTJALA\",\"rating\":5}]\n",
      "B0BMTZ412L B0BMTZ412L FOCO Men's NCAA College Team Logo Athletic Sport Shower Flip Flop Sandals Gel Slides\n",
      "[{\"user_id\":\"AE5GHFQZ6IXM4QNYTLTYJO24KQZQ\",\"rating\":5}]\n",
      "B0BNBJ2BTP B0BNBJ2BTP FOCO NFL Team Logo Metal Hanging Wall Bottle Cap Sign\n",
      "[{\"user_id\":\"AHTRY6YXVNYOGRTUYANAI2M7DUEA\",\"rating\":5}]\n",
      "B0BPW2F5T4 B0BPW2F5T4 Ultra Game NBA Men’s Super Soft Team Joggers Sweatpants\n",
      "[{\"user_id\":\"AGXFNB4LAEFSU3XCAJPZWQDUTB4Q\",\"rating\":5}]\n",
      "B0BR8F7B5X B0BR8F7B5X Hidrate Spark PRO Smart Water Bottle – Tracks Water Intake with Bluetooth, LED Glow Reminder When You Need to Drink – Chug Lid, 21oz, Black\n",
      "[{\"user_id\":\"AEXMLRVAL7A237OJGJFVBR4ZTU4Q\",\"rating\":5}]\n",
      "B0BRZ9B94J B0BRZ9B94J Siskiyou Sports NFL Unisex Logo Magnets\n",
      "[{\"user_id\":\"AHQWK4NKFDKGBECSGREIYM2F3INA\",\"rating\":4}]\n",
      "B0BTD6KRJC B0BTD6KRJC Hotdot Hand Warmers Rechargeable,Electric Hand Warmer Reusable,1 Pack 5200mAh Portable Charger,Hot Hands Pocket Heater,Gadgets for Men Outdoor Camping and Hunting,The Best Winter Gifts for Women\n",
      "[{\"user_id\":\"AFMVQ37GSDGMU3JVG6AGL5SAATLQ\",\"rating\":4}]\n",
      "B0BTHXPZWZ B0BTHXPZWZ Contigo Autoseal Chill Stainless Steel Water Bottles, 24 Oz, SS/Monaco & Monaco, 2 Pack\n",
      "[{\"user_id\":\"AEYGPUCRKH7G4VM22FM3VAKSQ23Q\",\"rating\":5},{\"user_id\":\"AEV6OL4GLSYMDNUHS4Y4DNVFDRHQ\",\"rating\":5},{\"user_id\":\"AEICZD35OTDYVWA2KPYWN4PDZ2SA\",\"rating\":4},{\"user_id\":\"AEDTQ5BNJM7GIYAO7C7QPTXSEZKA\",\"rating\":5},{\"user_id\":\"AG2OMQZ5ZSYVFM2D4OGZB3F2SQVQ\",\"rating\":5}]\n",
      "B0BTNC6XYL B0BTNC6XYL Champion Men's Powerblend Crewneck Sweatshirt,Best Crew Sweatshirts for Men(Reg. or Big & Tall)\n",
      "[{\"user_id\":\"AFZEVJIUV62VQINN7P72BAUSJI7A\",\"rating\":4}]\n",
      "B0BV2N47DV B0BV2N47DV FOCO Men's NCAA College Team Logo Floral Lifeguard Beach Straw Sun Hat\n",
      "[{\"user_id\":\"AH6LSFADKK56ZXNWKN32R2HPR2FA\",\"rating\":5}]\n",
      "B0BVC7RVTP B0BVC7RVTP 90 Degree By Reflex High Waist Fleece Lined Leggings - Yoga Pants\n",
      "[{\"user_id\":\"AEEZXJJJZMYYUHBQJ3E6Y5GYLD5Q\",\"rating\":5}]\n",
      "B0BVCKS4M3 B0BVCKS4M3 90 Degree By Reflex High Waist Fleece Lined Leggings with Side Pocket - Yoga Pants\n",
      "[{\"user_id\":\"AFDMZ4TRX3HXQQUGWAHJQTIF65BQ\",\"rating\":4},{\"user_id\":\"AEDTZCI4QCLKRFL5DA53JL47Z5UQ\",\"rating\":2}]\n",
      "B0BVNXXKZY B0BVNXXKZY Airhead Water Otter Elite Life Jacket | Flotation Devices for Kids | Multiple Colors Available\n",
      "[{\"user_id\":\"AEICZD35OTDYVWA2KPYWN4PDZ2SA\",\"rating\":4}]\n",
      "B0BX7CN9HC B0BX7CN9HC EAR BAND-IT Ultra Swimming Headband - Best Swimmer's Headband - Keep Water Out, Hold Earplugs in - Doctor Recommended - Secure Ear Plugs - Invented by ENT Physician - Small (See Size Chart)\n",
      "[{\"user_id\":\"AHOYOL27CCQ3YNONLAYGU2U7HM3A\",\"rating\":1},{\"user_id\":\"AHOYOL27CCQ3YNONLAYGU2U7HM3A\",\"rating\":1}]\n",
      "B0BXM64MQ4 B0BXM64MQ4 YouTheFan NFL Buffalo Bills Boasters\n",
      "[{\"user_id\":\"AGXRCFQ6CDA7ZSATOJHLJRZFPEYQ\",\"rating\":5},{\"user_id\":\"AFAEB5DJ54EJSKH4FNYRFEFJP4TQ\",\"rating\":5}]\n",
      "B0BXPRMHHM B0BXPRMHHM Modvel Ankle Brace for Women & Men - 1 Pair of Ankle Support Sleeve & Ankle Wrap - Compression Ankle Brace for Sprained Ankle, Achilles Tendonitis, Plantar Fasciitis, & Injured Foot\n",
      "[{\"user_id\":\"AHP72JXZGI7BXLCNOMT4G23YW6HQ\",\"rating\":1}]\n",
      "B0BYFLBC89 B0BYFLBC89 Reaction Tackle Braided Fishing Line - Pro Grade Power Performance for Saltwater or Freshwater - Colored Diamond Braid for Extra Visibility\n",
      "[{\"user_id\":\"AEDWRRZADBQDUTW7HBIWH4QSMUPQ\",\"rating\":5}]\n",
      "B0BYLNYZJX B0BYLNYZJX Nite Ize S-Biner Dual Carabiner\n",
      "[{\"user_id\":\"AE3VSUJHP2KB42ZW6RYEL2ZL2Z4Q\",\"rating\":5}]\n",
      "B0C15J77JL B0C15J77JL Champion Men's T-Shirt, Classic Tee for Men, Men's T-Shirt, Men's Tee (Reg. Or Big & Tall)\n",
      "[{\"user_id\":\"AFB7U3WZKWVHVRMROW6IJT4ZOLMQ\",\"rating\":2},{\"user_id\":\"AF25UMM5L3RFKFFJCQWFYH4DWM7A\",\"rating\":5},{\"user_id\":\"AFWRGOGF4AI2IHRX7KZ2IYL63RXA\",\"rating\":1},{\"user_id\":\"AFNVK27QX4RCTYKRFMLSGGCRAIIA\",\"rating\":5}]\n",
      "B0C1HN2MP3 B0C1HN2MP3 Schwinn Cruiser-Bicycles Mikko Huron Adult Beach Cruiser Bike\n",
      "[{\"user_id\":\"AFAIJYOUO3NAWLBDIKTQSC3DASWA\",\"rating\":5},{\"user_id\":\"AFPTVMYVXZNH3U4FFDNSSUXSDPNA\",\"rating\":2}]\n",
      "B0C51VB7X3 B0C51VB7X3 Speedo\n",
      "[{\"user_id\":\"AFCV25KA7XSAJGTZRDML5B7UYOVQ\",\"rating\":5},{\"user_id\":\"AFRFWDOOO3YXIEPZU5MMKSOK422A\",\"rating\":5}]\n",
      "B0C5MD619H B0C5MD619H XDX Kids Swim Goggles, 4/2 Pack Kids Goggles With UV Protection, Anti Fog Swimming Goggles for Boys Girls Teens 4-14\n",
      "[{\"user_id\":\"AFJBKPK5W56XWSNPQU2WW66ISWYQ\",\"rating\":5}]\n",
      "B0C5NR1ZB6 B0C5NR1ZB6 Polar Bottle Breakaway Insulated Bike Water Bottle - BPA Free, Cycling & Sports Squeeze Bottle (Bolt - Charcoal & Silver, 20 oz), Black Bolt\n",
      "[{\"user_id\":\"AHPFHP43AXWRYZZ4HPNCW7I7J3ZQ\",\"rating\":4},{\"user_id\":\"AEUAL3EJKUSTNB4YY6STLYGTJALA\",\"rating\":4}]\n",
      "B0C655KXW4 B0C655KXW4 Skateboard Bike Helmet Kids Teenagers CPSC Certified with Knee Pads Elbow Pads Wrist Guards Protective Gear Set Adjustable Helmet for Bicycle Helmet Scooter Roller\n",
      "[{\"user_id\":\"AGZMKHWSCB3UXDGFUPFRZSL4EAWQ\",\"rating\":5}]\n"
     ]
    }
   ],
   "source": [
    "# import json\n",
    "# from json import JSONEncoder\n",
    "# import numpy\n",
    "# class NumpyArrayEncoder(JSONEncoder):\n",
    "#     def default(self, obj):\n",
    "#         if isinstance(obj, numpy.ndarray):\n",
    "#             return obj.tolist()\n",
    "#         return JSONEncoder.default(self, obj)\n",
    "        \n",
    "for parent_asin, frame in grouped_df:\n",
    "    print(parent_asin, frame.iloc[0, frame.columns.get_loc('parent_asin')], frame.iloc[0, frame.columns.get_loc('title_x')], )\n",
    "    print(frame[['user_id', 'rating']].to_json(orient='records'))"
   ]
  },
  {
   "cell_type": "code",
   "execution_count": 56,
   "id": "7e7146ca-fbaf-44ef-90bd-7030b6ae6bb7",
   "metadata": {},
   "outputs": [],
   "source": [
    "import json\n",
    "import yaml\n",
    "from elasticsearch import Elasticsearch, helpers\n",
    "from sentence_transformers import SentenceTransformer"
   ]
  },
  {
   "cell_type": "code",
   "execution_count": 80,
   "id": "316724a3-5a3d-4b11-8947-b1229dcc2e71",
   "metadata": {},
   "outputs": [],
   "source": [
    "def get_client_es():\n",
    "    \"\"\"\n",
    "    Initializes Elasticsearch client using cloud_id and api_key from config.yml\n",
    "    \"\"\"\n",
    "    with open(\"config.yml\", \"r\") as file:\n",
    "        config = yaml.safe_load(file)\n",
    "    return Elasticsearch(config[\"cloud_url\"], api_key=config[\"api_key\"])"
   ]
  },
  {
   "cell_type": "code",
   "execution_count": 96,
   "id": "404c5db6-a5e0-4117-a3fa-e1dd18abf0c8",
   "metadata": {},
   "outputs": [],
   "source": [
    "def generate_bulk_actions(index_name, grouped_df):\n",
    "    \"\"\"\n",
    "    Generates bulk actions for Elasticsearch from data batches.\n",
    "    Adds 'description_embeddings' by encoding the 'description' field.\n",
    "    \"\"\"\n",
    "    for parent_asin, frame in grouped_df:\n",
    "        document_id = parent_asin\n",
    "        item_record = frame.iloc[0][['main_category', 'title_x']]\n",
    "        item_record['reviews'] = frame[['user_id', 'rating']].to_json(orient='records')\n",
    "        item_text = item_record.to_json(orient='columns')\n",
    "        #item = {'parent_asin': parent_asin}\n",
    "        # item[\"description_embeddings\"] = get_text_vector(item[\"description\"])\n",
    "        yield {\"_index\": index_name, \"_id\": document_id, \"_source\": item_text}"
   ]
  },
  {
   "cell_type": "code",
   "execution_count": 97,
   "id": "acfe838d-5c24-4181-ad05-ad1897b9798e",
   "metadata": {},
   "outputs": [
    {
     "name": "stdout",
     "output_type": "stream",
     "text": [
      "    _index         _id                                            _source\n",
      "0      foo  B000069K78  {\"main_category\":\"Sports & Outdoors\",\"title_x\"...\n",
      "1      foo  B000HZGKVG  {\"main_category\":\"Sports & Outdoors\",\"title_x\"...\n",
      "2      foo  B00142MD62  {\"main_category\":\"Sports & Outdoors\",\"title_x\"...\n",
      "3      foo  B001Q3LTXC  {\"main_category\":\"Sports & Outdoors\",\"title_x\"...\n",
      "4      foo  B0029VOR0M  {\"main_category\":\"Sports & Outdoors\",\"title_x\"...\n",
      "..     ...         ...                                                ...\n",
      "238    foo  B0C1HN2MP3  {\"main_category\":\"Sports & Outdoors\",\"title_x\"...\n",
      "239    foo  B0C51VB7X3  {\"main_category\":\"Sports & Outdoors\",\"title_x\"...\n",
      "240    foo  B0C5MD619H  {\"main_category\":\"AMAZON FASHION\",\"title_x\":\"X...\n",
      "241    foo  B0C5NR1ZB6  {\"main_category\":\"Sports & Outdoors\",\"title_x\"...\n",
      "242    foo  B0C655KXW4  {\"main_category\":\"Sports & Outdoors\",\"title_x\"...\n",
      "\n",
      "[243 rows x 3 columns]\n"
     ]
    }
   ],
   "source": [
    "df = pd.DataFrame(list(generate_bulk_actions(\"foo\", grouped_df)))\n",
    "print(df)"
   ]
  },
  {
   "cell_type": "code",
   "execution_count": 73,
   "id": "7e0defd7-95bd-43ee-96aa-88d74183bd9e",
   "metadata": {},
   "outputs": [],
   "source": [
    "def index_grouped_df(grouped_df, index_name):\n",
    "    \"\"\"\n",
    "    Indexes data from the JSON file in batches using Elasticsearch helpers.bulk.\n",
    "    \"\"\"\n",
    "    actions = generate_bulk_actions(index_name, grouped_df)\n",
    "    success, failed = helpers.bulk(get_client_es(), actions)\n",
    "    print(f\"Batch indexed: {success} successful, {failed} failed\")"
   ]
  },
  {
   "cell_type": "code",
   "execution_count": 98,
   "id": "640ba1cc-3901-453b-a666-c1c7cc354556",
   "metadata": {},
   "outputs": [
    {
     "name": "stdout",
     "output_type": "stream",
     "text": [
      "Batch indexed: 243 successful, [] failed\n"
     ]
    }
   ],
   "source": [
    "index_grouped_df(grouped_df, \"gear_products\")"
   ]
  },
  {
   "cell_type": "code",
   "execution_count": 35,
   "id": "8e288583-e04e-4f8d-bb58-a17047ecaaf0",
   "metadata": {
    "collapsed": true,
    "jupyter": {
     "outputs_hidden": true,
     "source_hidden": true
    },
    "scrolled": true
   },
   "outputs": [
    {
     "name": "stdout",
     "output_type": "stream",
     "text": [
      "parent_asin\n",
      "B000069K78                         AEBYEWLSJLC7OEDDSRZEQWY5WAZA\n",
      "B000HZGKVG                         AEK7VZMQTZU7BFZQQDYXNNJ2NMUA\n",
      "B00142MD62                         AGCI7FAH4GL5FI65HYLKWTMFZ2CQ\n",
      "B001Q3LTXC                         AGDLD6R6Z6WB5KNG6Z2L6LNRMLZQ\n",
      "B0029VOR0M                         AEU47A5R7NFWXCQLJMZA34AM63EA\n",
      "                                    ...                        \n",
      "B0C1HN2MP3    AFAIJYOUO3NAWLBDIKTQSC3DASWA, AFPTVMYVXZNH3U4F...\n",
      "B0C51VB7X3    AFCV25KA7XSAJGTZRDML5B7UYOVQ, AFRFWDOOO3YXIEPZ...\n",
      "B0C5MD619H                         AFJBKPK5W56XWSNPQU2WW66ISWYQ\n",
      "B0C5NR1ZB6    AHPFHP43AXWRYZZ4HPNCW7I7J3ZQ, AEUAL3EJKUSTNB4Y...\n",
      "B0C655KXW4                         AGZMKHWSCB3UXDGFUPFRZSL4EAWQ\n",
      "Name: user_id, Length: 243, dtype: object\n"
     ]
    }
   ],
   "source": [
    "denorm_df = merged_df.groupby('parent_asin')['user_id'].agg(lambda x: ', '.join(x))\n",
    "print(denorm_df)"
   ]
  },
  {
   "cell_type": "code",
   "execution_count": 6,
   "id": "3376ea61",
   "metadata": {
    "jupyter": {
     "source_hidden": true
    },
    "papermill": {
     "duration": 0.439343,
     "end_time": "2024-06-04T03:11:37.590831",
     "exception": false,
     "start_time": "2024-06-04T03:11:37.151488",
     "status": "completed"
    },
    "tags": []
   },
   "outputs": [],
   "source": [
    "# Loại bỏ các hàng có giá trị NaN trong cột 'title'\n",
    "merged_df.dropna(subset=['title'], inplace=True)"
   ]
  },
  {
   "cell_type": "code",
   "execution_count": null,
   "id": "6f84edb5-c224-4fcc-846f-d108387b2093",
   "metadata": {
    "jupyter": {
     "source_hidden": true
    },
    "scrolled": true
   },
   "outputs": [],
   "source": [
    "unique_values = merged_df['category_name'].unique().tolist()\n",
    "print(unique_values)"
   ]
  },
  {
   "cell_type": "code",
   "execution_count": 15,
   "id": "30e5bb5d-16ec-4790-bf7f-7e97ea123e02",
   "metadata": {
    "collapsed": true,
    "jupyter": {
     "outputs_hidden": true,
     "source_hidden": true
    }
   },
   "outputs": [
    {
     "name": "stdout",
     "output_type": "stream",
     "text": [
      "Boys' Clothing\n"
     ]
    }
   ],
   "source": [
    "cats_to_filter = [\n",
    "\"Boys' Clothing\",\n",
    "\"Boys' Shoes\",\n",
    "\"Boys' Watches\",\n",
    "\"Girls' Clothing\",\n",
    "\"Girls' Shoes\",\n",
    "\"Girls' Watches\",\n",
    "\"Men's Shoes\",\n",
    "\"Women's Shoes\",\n",
    "'Backpacks',\n",
    "'Electrical Equipment',\n",
    "'Electronic Components',\n",
    "'Gift Cards',\n",
    "'Headphones & Earbuds',\n",
    "'Luggage',\n",
    "'Outdoor Recreation',\n",
    "'Portable Audio & Video',\n",
    "'Safety & Security',\n",
    "'Sports & Fitness',\n",
    "'Sports & Outdoor Play Toys',\n",
    "'Sports & Outdoors',\n",
    "'Sports Nutrition Products',\n",
    "'Travel Accessories',\n",
    "'Travel Duffel Bags',\n",
    "'Travel Tote Bags',\n",
    "'Vehicle Electronics',\n",
    "'Wearable Technology',\n",
    "'Wellness & Relaxation Products'\n",
    "]\n",
    "print(cats_to_filter[0])"
   ]
  },
  {
   "cell_type": "code",
   "execution_count": 16,
   "id": "46dd9701-660f-40ef-8148-c50ad9e9a7bb",
   "metadata": {
    "collapsed": true,
    "jupyter": {
     "outputs_hidden": true,
     "source_hidden": true
    }
   },
   "outputs": [
    {
     "name": "stdout",
     "output_type": "stream",
     "text": [
      "             asin                                              title  \\\n",
      "21427  B01NCNMEV6  American Heritage 8” Moc Toe Work Boots For Me...   \n",
      "21428  B07CZ221PW             Men's Speedcross 5 Trail Running Shoes   \n",
      "21429  B09VCJ7PGR           Women's Terrex AX4 Sneaker - Hiking Shoe   \n",
      "21430  B01BPL5UAM                                           mens Hvc   \n",
      "21431  B091ZGPRCW            Unisex-Adult Adilette Clog Slide Sandal   \n",
      "\n",
      "                                                  imgUrl  \\\n",
      "21427  https://m.media-amazon.com/images/I/71fCpf+5k0...   \n",
      "21428  https://m.media-amazon.com/images/I/71nJ48O6aF...   \n",
      "21429  https://m.media-amazon.com/images/I/81IusNGNYB...   \n",
      "21430  https://m.media-amazon.com/images/I/51R8w-Wqxj...   \n",
      "21431  https://m.media-amazon.com/images/I/61DouGlK6m...   \n",
      "\n",
      "                                 productURL  stars  reviews   price  \\\n",
      "21427  https://www.amazon.com/dp/B01NCNMEV6    4.4        0  253.85   \n",
      "21428  https://www.amazon.com/dp/B07CZ221PW    4.7        0  139.95   \n",
      "21429  https://www.amazon.com/dp/B09VCJ7PGR    4.3        0   49.93   \n",
      "21430  https://www.amazon.com/dp/B01BPL5UAM    4.6        0   57.99   \n",
      "21431  https://www.amazon.com/dp/B091ZGPRCW    4.6        0   49.99   \n",
      "\n",
      "       listPrice  isBestSeller  boughtInLastMonth   id category_name  \n",
      "21427        0.0         False                  0  114   Men's Shoes  \n",
      "21428        0.0         False                 50  114   Men's Shoes  \n",
      "21429      120.0         False                100  114   Men's Shoes  \n",
      "21430        0.0         False                200  114   Men's Shoes  \n",
      "21431        0.0         False                400  114   Men's Shoes  \n"
     ]
    }
   ],
   "source": [
    "filtered_df = merged_df.loc[merged_df['category_name'].isin(cats_to_filter)]\n",
    "print(filtered_df.head())"
   ]
  },
  {
   "cell_type": "code",
   "execution_count": 7,
   "id": "c01f08e0",
   "metadata": {
    "execution": {
     "iopub.execute_input": "2024-06-04T03:11:37.603087Z",
     "iopub.status.busy": "2024-06-04T03:11:37.602759Z",
     "iopub.status.idle": "2024-06-04T03:11:37.606914Z",
     "shell.execute_reply": "2024-06-04T03:11:37.606077Z"
    },
    "jupyter": {
     "source_hidden": true
    },
    "papermill": {
     "duration": 0.012519,
     "end_time": "2024-06-04T03:11:37.608843",
     "exception": false,
     "start_time": "2024-06-04T03:11:37.596324",
     "status": "completed"
    },
    "tags": []
   },
   "outputs": [],
   "source": [
    "# Chọn các cột cần thiết cho mô hình\n",
    "product_titles = merged_df['title']"
   ]
  },
  {
   "cell_type": "code",
   "execution_count": 8,
   "id": "f7f28f2a",
   "metadata": {
    "execution": {
     "iopub.execute_input": "2024-06-04T03:11:37.620535Z",
     "iopub.status.busy": "2024-06-04T03:11:37.620251Z",
     "iopub.status.idle": "2024-06-04T03:12:15.784585Z",
     "shell.execute_reply": "2024-06-04T03:12:15.783706Z"
    },
    "jupyter": {
     "source_hidden": true
    },
    "papermill": {
     "duration": 38.172857,
     "end_time": "2024-06-04T03:12:15.786982",
     "exception": false,
     "start_time": "2024-06-04T03:11:37.614125",
     "status": "completed"
    },
    "tags": []
   },
   "outputs": [],
   "source": [
    "# Bước 1: Chuẩn bị dữ liệu với TF-IDF\n",
    "vectorizer = TfidfVectorizer(stop_words='english')\n",
    "tfidf_matrix = vectorizer.fit_transform(product_titles)\n"
   ]
  },
  {
   "cell_type": "code",
   "execution_count": 9,
   "id": "5c3dd638",
   "metadata": {
    "collapsed": true,
    "execution": {
     "iopub.execute_input": "2024-06-04T03:12:15.799253Z",
     "iopub.status.busy": "2024-06-04T03:12:15.798970Z",
     "iopub.status.idle": "2024-06-04T03:12:15.803274Z",
     "shell.execute_reply": "2024-06-04T03:12:15.802464Z"
    },
    "jupyter": {
     "outputs_hidden": true,
     "source_hidden": true
    },
    "papermill": {
     "duration": 0.012838,
     "end_time": "2024-06-04T03:12:15.805549",
     "exception": false,
     "start_time": "2024-06-04T03:12:15.792711",
     "status": "completed"
    },
    "tags": []
   },
   "outputs": [
    {
     "name": "stdout",
     "output_type": "stream",
     "text": [
      "TF-IDF matrix shape: (1426336, 428801)\n"
     ]
    }
   ],
   "source": [
    "print(\"TF-IDF matrix shape:\", tfidf_matrix.shape)\n"
   ]
  },
  {
   "cell_type": "code",
   "execution_count": 10,
   "id": "75262a65",
   "metadata": {
    "collapsed": true,
    "execution": {
     "iopub.execute_input": "2024-06-04T03:12:15.816959Z",
     "iopub.status.busy": "2024-06-04T03:12:15.816725Z",
     "iopub.status.idle": "2024-06-04T03:12:15.931691Z",
     "shell.execute_reply": "2024-06-04T03:12:15.930818Z"
    },
    "jupyter": {
     "outputs_hidden": true,
     "source_hidden": true
    },
    "papermill": {
     "duration": 0.123073,
     "end_time": "2024-06-04T03:12:15.933782",
     "exception": false,
     "start_time": "2024-06-04T03:12:15.810709",
     "status": "completed"
    },
    "tags": []
   },
   "outputs": [
    {
     "data": {
      "text/html": [
       "<style>#sk-container-id-1 {color: black;background-color: white;}#sk-container-id-1 pre{padding: 0;}#sk-container-id-1 div.sk-toggleable {background-color: white;}#sk-container-id-1 label.sk-toggleable__label {cursor: pointer;display: block;width: 100%;margin-bottom: 0;padding: 0.3em;box-sizing: border-box;text-align: center;}#sk-container-id-1 label.sk-toggleable__label-arrow:before {content: \"▸\";float: left;margin-right: 0.25em;color: #696969;}#sk-container-id-1 label.sk-toggleable__label-arrow:hover:before {color: black;}#sk-container-id-1 div.sk-estimator:hover label.sk-toggleable__label-arrow:before {color: black;}#sk-container-id-1 div.sk-toggleable__content {max-height: 0;max-width: 0;overflow: hidden;text-align: left;background-color: #f0f8ff;}#sk-container-id-1 div.sk-toggleable__content pre {margin: 0.2em;color: black;border-radius: 0.25em;background-color: #f0f8ff;}#sk-container-id-1 input.sk-toggleable__control:checked~div.sk-toggleable__content {max-height: 200px;max-width: 100%;overflow: auto;}#sk-container-id-1 input.sk-toggleable__control:checked~label.sk-toggleable__label-arrow:before {content: \"▾\";}#sk-container-id-1 div.sk-estimator input.sk-toggleable__control:checked~label.sk-toggleable__label {background-color: #d4ebff;}#sk-container-id-1 div.sk-label input.sk-toggleable__control:checked~label.sk-toggleable__label {background-color: #d4ebff;}#sk-container-id-1 input.sk-hidden--visually {border: 0;clip: rect(1px 1px 1px 1px);clip: rect(1px, 1px, 1px, 1px);height: 1px;margin: -1px;overflow: hidden;padding: 0;position: absolute;width: 1px;}#sk-container-id-1 div.sk-estimator {font-family: monospace;background-color: #f0f8ff;border: 1px dotted black;border-radius: 0.25em;box-sizing: border-box;margin-bottom: 0.5em;}#sk-container-id-1 div.sk-estimator:hover {background-color: #d4ebff;}#sk-container-id-1 div.sk-parallel-item::after {content: \"\";width: 100%;border-bottom: 1px solid gray;flex-grow: 1;}#sk-container-id-1 div.sk-label:hover label.sk-toggleable__label {background-color: #d4ebff;}#sk-container-id-1 div.sk-serial::before {content: \"\";position: absolute;border-left: 1px solid gray;box-sizing: border-box;top: 0;bottom: 0;left: 50%;z-index: 0;}#sk-container-id-1 div.sk-serial {display: flex;flex-direction: column;align-items: center;background-color: white;padding-right: 0.2em;padding-left: 0.2em;position: relative;}#sk-container-id-1 div.sk-item {position: relative;z-index: 1;}#sk-container-id-1 div.sk-parallel {display: flex;align-items: stretch;justify-content: center;background-color: white;position: relative;}#sk-container-id-1 div.sk-item::before, #sk-container-id-1 div.sk-parallel-item::before {content: \"\";position: absolute;border-left: 1px solid gray;box-sizing: border-box;top: 0;bottom: 0;left: 50%;z-index: -1;}#sk-container-id-1 div.sk-parallel-item {display: flex;flex-direction: column;z-index: 1;position: relative;background-color: white;}#sk-container-id-1 div.sk-parallel-item:first-child::after {align-self: flex-end;width: 50%;}#sk-container-id-1 div.sk-parallel-item:last-child::after {align-self: flex-start;width: 50%;}#sk-container-id-1 div.sk-parallel-item:only-child::after {width: 0;}#sk-container-id-1 div.sk-dashed-wrapped {border: 1px dashed gray;margin: 0 0.4em 0.5em 0.4em;box-sizing: border-box;padding-bottom: 0.4em;background-color: white;}#sk-container-id-1 div.sk-label label {font-family: monospace;font-weight: bold;display: inline-block;line-height: 1.2em;}#sk-container-id-1 div.sk-label-container {text-align: center;}#sk-container-id-1 div.sk-container {/* jupyter's `normalize.less` sets `[hidden] { display: none; }` but bootstrap.min.css set `[hidden] { display: none !important; }` so we also need the `!important` here to be able to override the default hidden behavior on the sphinx rendered scikit-learn.org. See: https://github.com/scikit-learn/scikit-learn/issues/21755 */display: inline-block !important;position: relative;}#sk-container-id-1 div.sk-text-repr-fallback {display: none;}</style><div id=\"sk-container-id-1\" class=\"sk-top-container\"><div class=\"sk-text-repr-fallback\"><pre>NearestNeighbors(algorithm=&#x27;brute&#x27;, metric=&#x27;cosine&#x27;)</pre><b>In a Jupyter environment, please rerun this cell to show the HTML representation or trust the notebook. <br />On GitHub, the HTML representation is unable to render, please try loading this page with nbviewer.org.</b></div><div class=\"sk-container\" hidden><div class=\"sk-item\"><div class=\"sk-estimator sk-toggleable\"><input class=\"sk-toggleable__control sk-hidden--visually\" id=\"sk-estimator-id-1\" type=\"checkbox\" checked><label for=\"sk-estimator-id-1\" class=\"sk-toggleable__label sk-toggleable__label-arrow\">NearestNeighbors</label><div class=\"sk-toggleable__content\"><pre>NearestNeighbors(algorithm=&#x27;brute&#x27;, metric=&#x27;cosine&#x27;)</pre></div></div></div></div></div>"
      ],
      "text/plain": [
       "NearestNeighbors(algorithm='brute', metric='cosine')"
      ]
     },
     "execution_count": 10,
     "metadata": {},
     "output_type": "execute_result"
    }
   ],
   "source": [
    "# Bước 2: Huấn luyện mô hình NearestNeighbors\n",
    "nn_model = NearestNeighbors(metric='cosine', algorithm='brute')\n",
    "nn_model.fit(tfidf_matrix)"
   ]
  },
  {
   "cell_type": "code",
   "execution_count": 11,
   "id": "8b3f0845",
   "metadata": {
    "execution": {
     "iopub.execute_input": "2024-06-04T03:12:15.946565Z",
     "iopub.status.busy": "2024-06-04T03:12:15.946293Z",
     "iopub.status.idle": "2024-06-04T03:12:15.951841Z",
     "shell.execute_reply": "2024-06-04T03:12:15.950983Z"
    },
    "jupyter": {
     "source_hidden": true
    },
    "papermill": {
     "duration": 0.014235,
     "end_time": "2024-06-04T03:12:15.953843",
     "exception": false,
     "start_time": "2024-06-04T03:12:15.939608",
     "status": "completed"
    },
    "tags": []
   },
   "outputs": [],
   "source": [
    "# Bước 3: Tạo hàm gợi ý sản phẩm\n",
    "def recommend_products(product_name, num_recommendations=5):\n",
    "    # Chuyển đổi tên sản phẩm sang vector TF-IDF\n",
    "    query_vector = vectorizer.transform([product_name])\n",
    "    \n",
    "    # Tìm kiếm các sản phẩm tương tự\n",
    "    distances, indices = nn_model.kneighbors(query_vector, n_neighbors=num_recommendations)\n",
    "    \n",
    "    # Lấy thông tin các sản phẩm được gợi ý\n",
    "    recommendations = merged_df.iloc[indices[0]].copy()\n",
    "    recommendations['distance'] = distances[0]\n",
    "    \n",
    "    return recommendations[['title', 'stars', 'price', 'category_name', 'distance']]\n"
   ]
  },
  {
   "cell_type": "code",
   "execution_count": 12,
   "id": "c7ead154",
   "metadata": {
    "collapsed": true,
    "execution": {
     "iopub.execute_input": "2024-06-04T03:12:15.966666Z",
     "iopub.status.busy": "2024-06-04T03:12:15.965869Z",
     "iopub.status.idle": "2024-06-04T03:12:16.577512Z",
     "shell.execute_reply": "2024-06-04T03:12:16.576223Z"
    },
    "jupyter": {
     "outputs_hidden": true,
     "source_hidden": true
    },
    "papermill": {
     "duration": 0.620091,
     "end_time": "2024-06-04T03:12:16.579533",
     "exception": false,
     "start_time": "2024-06-04T03:12:15.959442",
     "status": "completed"
    },
    "tags": []
   },
   "outputs": [
    {
     "name": "stdout",
     "output_type": "stream",
     "text": [
      "                                                    title  stars  price  \\\n",
      "373016  Xpedition 30 Inch Multi-Pocket Upright Rolling...    4.3  31.84   \n",
      "14      Xpedition 30 Inch Multi-Pocket Upright Rolling...    4.3  42.00   \n",
      "373208        8 Pocket Rolling Duffel Bag, Black, 22 inch    4.5  64.09   \n",
      "373299              Rolling Duffel Bag, Charcoal, 30-Inch    4.0  35.49   \n",
      "372997                                 Rolling Duffel Bag    4.2  20.49   \n",
      "\n",
      "             category_name  distance  \n",
      "373016  Travel Duffel Bags  0.000000  \n",
      "14               Suitcases  0.000000  \n",
      "373208  Travel Duffel Bags  0.441438  \n",
      "373299  Travel Duffel Bags  0.450364  \n",
      "372997  Travel Duffel Bags  0.452113  \n"
     ]
    }
   ],
   "source": [
    "# Thử nghiệm hàm gợi ý sản phẩm\n",
    "product_name = \"Xpedition 30 Inch Multi-Pocket Upright Rolling Duffel Bag \"\n",
    "recommended_products = recommend_products(product_name, num_recommendations=5)\n",
    "print(recommended_products)"
   ]
  },
  {
   "cell_type": "code",
   "execution_count": 13,
   "id": "7edabcb9",
   "metadata": {
    "execution": {
     "iopub.execute_input": "2024-06-04T03:12:16.593793Z",
     "iopub.status.busy": "2024-06-04T03:12:16.593493Z",
     "iopub.status.idle": "2024-06-04T03:12:16.599786Z",
     "shell.execute_reply": "2024-06-04T03:12:16.598932Z"
    },
    "jupyter": {
     "source_hidden": true
    },
    "papermill": {
     "duration": 0.014848,
     "end_time": "2024-06-04T03:12:16.601683",
     "exception": false,
     "start_time": "2024-06-04T03:12:16.586835",
     "status": "completed"
    },
    "tags": []
   },
   "outputs": [],
   "source": [
    "# Bước 3: Tạo hàm gợi ý sản phẩm theo ID và kèm theo hình ảnh\n",
    "def recommend_products_by_id(product_id, num_recommendations=5):\n",
    "    # Lấy tên sản phẩm từ ID\n",
    "    product_name = merged_df.loc[merged_df['asin'] == product_id, 'title'].values[0]\n",
    "    \n",
    "    # Chuyển đổi tên sản phẩm sang vector TF-IDF\n",
    "    query_vector = vectorizer.transform([product_name])\n",
    "    \n",
    "    # Tìm kiếm các sản phẩm tương tự\n",
    "    distances, indices = nn_model.kneighbors(query_vector, n_neighbors=num_recommendations)\n",
    "    \n",
    "    # Lấy thông tin các sản phẩm được gợi ý\n",
    "    recommendations = merged_df.iloc[indices[0]].copy()\n",
    "    recommendations['distance'] = distances[0]\n",
    "    \n",
    "    return recommendations[['title', 'stars', 'price', 'category_name', 'imgUrl', 'distance']]\n",
    "\n"
   ]
  },
  {
   "cell_type": "code",
   "execution_count": 14,
   "id": "a19aea40",
   "metadata": {
    "execution": {
     "iopub.execute_input": "2024-06-04T03:12:16.614385Z",
     "iopub.status.busy": "2024-06-04T03:12:16.614108Z",
     "iopub.status.idle": "2024-06-04T03:12:16.621709Z",
     "shell.execute_reply": "2024-06-04T03:12:16.620888Z"
    },
    "jupyter": {
     "source_hidden": true
    },
    "papermill": {
     "duration": 0.016187,
     "end_time": "2024-06-04T03:12:16.623628",
     "exception": false,
     "start_time": "2024-06-04T03:12:16.607441",
     "status": "completed"
    },
    "tags": []
   },
   "outputs": [],
   "source": [
    "from IPython.display import display, HTML\n",
    "\n",
    "def recommend_products_by_id(product_id, num_recommendations=5):\n",
    "    # Lấy tên sản phẩm từ ID\n",
    "    product_name = merged_df.loc[merged_df['asin'] == product_id, 'title'].values[0]\n",
    "    \n",
    "    # Chuyển đổi tên sản phẩm sang vector TF-IDF\n",
    "    query_vector = vectorizer.transform([product_name])\n",
    "    \n",
    "    # Tìm kiếm các sản phẩm tương tự\n",
    "    distances, indices = nn_model.kneighbors(query_vector, n_neighbors=num_recommendations)\n",
    "    \n",
    "    # Lấy thông tin các sản phẩm được gợi ý\n",
    "    recommendations = merged_df.iloc[indices[0]].copy()\n",
    "    recommendations['distance'] = distances[0]\n",
    "    \n",
    "    # Hiển thị thông tin sản phẩm và hình ảnh\n",
    "    for index, row in recommendations.iterrows():\n",
    "        display(HTML(f\"<div style='border: 1px solid #ccc; border-radius: 5px; padding: 10px; margin-bottom: 20px;'>\"))\n",
    "        display(HTML(f\"<h3>{row['title']}</h3>\"))\n",
    "        display(HTML(f\"<p><b>Stars:</b> {row['stars']}</p>\"))\n",
    "        display(HTML(f\"<p><b>Price:</b> ${row['price']}</p>\"))\n",
    "        display(HTML(f\"<p><b>Category:</b> {row['category_name']}</p>\"))\n",
    "        display(HTML(f'<img src=\"{row[\"imgUrl\"]}\" alt=\"{row[\"title\"]}\" style=\"width:200px;height:200px; margin-top: 10px;\">'))\n",
    "        display(HTML(f\"<p style='margin-top: 10px;'><b>Distance:</b> {row['distance']}</p>\"))\n",
    "        display(HTML(\"</div>\"))\n"
   ]
  },
  {
   "cell_type": "code",
   "execution_count": 15,
   "id": "ec39c2fb",
   "metadata": {
    "collapsed": true,
    "execution": {
     "iopub.execute_input": "2024-06-04T03:12:16.636395Z",
     "iopub.status.busy": "2024-06-04T03:12:16.636118Z",
     "iopub.status.idle": "2024-06-04T03:12:17.573776Z",
     "shell.execute_reply": "2024-06-04T03:12:17.571580Z"
    },
    "jupyter": {
     "outputs_hidden": true,
     "source_hidden": true
    },
    "papermill": {
     "duration": 0.947025,
     "end_time": "2024-06-04T03:12:17.576396",
     "exception": false,
     "start_time": "2024-06-04T03:12:16.629371",
     "status": "completed"
    },
    "scrolled": true,
    "tags": []
   },
   "outputs": [
    {
     "data": {
      "text/html": [
       "<div style='border: 1px solid #ccc; border-radius: 5px; padding: 10px; margin-bottom: 20px;'>"
      ],
      "text/plain": [
       "<IPython.core.display.HTML object>"
      ]
     },
     "metadata": {},
     "output_type": "display_data"
    },
    {
     "data": {
      "text/html": [
       "<h3>Winfield 2 Hardside Expandable Luggage with Spinner Wheels, Checked-Large 28-Inch, Deep Blue</h3>"
      ],
      "text/plain": [
       "<IPython.core.display.HTML object>"
      ]
     },
     "metadata": {},
     "output_type": "display_data"
    },
    {
     "data": {
      "text/html": [
       "<p><b>Stars:</b> 4.5</p>"
      ],
      "text/plain": [
       "<IPython.core.display.HTML object>"
      ]
     },
     "metadata": {},
     "output_type": "display_data"
    },
    {
     "data": {
      "text/html": [
       "<p><b>Price:</b> $174.99</p>"
      ],
      "text/plain": [
       "<IPython.core.display.HTML object>"
      ]
     },
     "metadata": {},
     "output_type": "display_data"
    },
    {
     "data": {
      "text/html": [
       "<p><b>Category:</b> Suitcases</p>"
      ],
      "text/plain": [
       "<IPython.core.display.HTML object>"
      ]
     },
     "metadata": {},
     "output_type": "display_data"
    },
    {
     "data": {
      "text/html": [
       "<img src=\"https://m.media-amazon.com/images/I/61NJoaZcP9L._AC_UL320_.jpg\" alt=\"Winfield 2 Hardside Expandable Luggage with Spinner Wheels, Checked-Large 28-Inch, Deep Blue\" style=\"width:200px;height:200px; margin-top: 10px;\">"
      ],
      "text/plain": [
       "<IPython.core.display.HTML object>"
      ]
     },
     "metadata": {},
     "output_type": "display_data"
    },
    {
     "data": {
      "text/html": [
       "<p style='margin-top: 10px;'><b>Distance:</b> 0.0</p>"
      ],
      "text/plain": [
       "<IPython.core.display.HTML object>"
      ]
     },
     "metadata": {},
     "output_type": "display_data"
    },
    {
     "data": {
      "text/html": [
       "</div>"
      ],
      "text/plain": [
       "<IPython.core.display.HTML object>"
      ]
     },
     "metadata": {},
     "output_type": "display_data"
    },
    {
     "data": {
      "text/html": [
       "<div style='border: 1px solid #ccc; border-radius: 5px; padding: 10px; margin-bottom: 20px;'>"
      ],
      "text/plain": [
       "<IPython.core.display.HTML object>"
      ]
     },
     "metadata": {},
     "output_type": "display_data"
    },
    {
     "data": {
      "text/html": [
       "<h3>Winfield 2 Hardside Expandable Luggage with Spinner Wheels (Teal, 2-Piece Set (20/28))</h3>"
      ],
      "text/plain": [
       "<IPython.core.display.HTML object>"
      ]
     },
     "metadata": {},
     "output_type": "display_data"
    },
    {
     "data": {
      "text/html": [
       "<p><b>Stars:</b> 4.3</p>"
      ],
      "text/plain": [
       "<IPython.core.display.HTML object>"
      ]
     },
     "metadata": {},
     "output_type": "display_data"
    },
    {
     "data": {
      "text/html": [
       "<p><b>Price:</b> $349.99</p>"
      ],
      "text/plain": [
       "<IPython.core.display.HTML object>"
      ]
     },
     "metadata": {},
     "output_type": "display_data"
    },
    {
     "data": {
      "text/html": [
       "<p><b>Category:</b> Luggage</p>"
      ],
      "text/plain": [
       "<IPython.core.display.HTML object>"
      ]
     },
     "metadata": {},
     "output_type": "display_data"
    },
    {
     "data": {
      "text/html": [
       "<img src=\"https://m.media-amazon.com/images/I/71EuU16FC-L._AC_UL320_.jpg\" alt=\"Winfield 2 Hardside Expandable Luggage with Spinner Wheels (Teal, 2-Piece Set (20/28))\" style=\"width:200px;height:200px; margin-top: 10px;\">"
      ],
      "text/plain": [
       "<IPython.core.display.HTML object>"
      ]
     },
     "metadata": {},
     "output_type": "display_data"
    },
    {
     "data": {
      "text/html": [
       "<p style='margin-top: 10px;'><b>Distance:</b> 0.24254115924454323</p>"
      ],
      "text/plain": [
       "<IPython.core.display.HTML object>"
      ]
     },
     "metadata": {},
     "output_type": "display_data"
    },
    {
     "data": {
      "text/html": [
       "</div>"
      ],
      "text/plain": [
       "<IPython.core.display.HTML object>"
      ]
     },
     "metadata": {},
     "output_type": "display_data"
    },
    {
     "data": {
      "text/html": [
       "<div style='border: 1px solid #ccc; border-radius: 5px; padding: 10px; margin-bottom: 20px;'>"
      ],
      "text/plain": [
       "<IPython.core.display.HTML object>"
      ]
     },
     "metadata": {},
     "output_type": "display_data"
    },
    {
     "data": {
      "text/html": [
       "<h3>Centric Hardside Expandable Luggage with Spinner Wheels, Black, Checked-Large 28-Inch</h3>"
      ],
      "text/plain": [
       "<IPython.core.display.HTML object>"
      ]
     },
     "metadata": {},
     "output_type": "display_data"
    },
    {
     "data": {
      "text/html": [
       "<p><b>Stars:</b> 4.5</p>"
      ],
      "text/plain": [
       "<IPython.core.display.HTML object>"
      ]
     },
     "metadata": {},
     "output_type": "display_data"
    },
    {
     "data": {
      "text/html": [
       "<p><b>Price:</b> $169.99</p>"
      ],
      "text/plain": [
       "<IPython.core.display.HTML object>"
      ]
     },
     "metadata": {},
     "output_type": "display_data"
    },
    {
     "data": {
      "text/html": [
       "<p><b>Category:</b> Luggage</p>"
      ],
      "text/plain": [
       "<IPython.core.display.HTML object>"
      ]
     },
     "metadata": {},
     "output_type": "display_data"
    },
    {
     "data": {
      "text/html": [
       "<img src=\"https://m.media-amazon.com/images/I/71ngO-fIn2L._AC_UL320_.jpg\" alt=\"Centric Hardside Expandable Luggage with Spinner Wheels, Black, Checked-Large 28-Inch\" style=\"width:200px;height:200px; margin-top: 10px;\">"
      ],
      "text/plain": [
       "<IPython.core.display.HTML object>"
      ]
     },
     "metadata": {},
     "output_type": "display_data"
    },
    {
     "data": {
      "text/html": [
       "<p style='margin-top: 10px;'><b>Distance:</b> 0.287622678748336</p>"
      ],
      "text/plain": [
       "<IPython.core.display.HTML object>"
      ]
     },
     "metadata": {},
     "output_type": "display_data"
    },
    {
     "data": {
      "text/html": [
       "</div>"
      ],
      "text/plain": [
       "<IPython.core.display.HTML object>"
      ]
     },
     "metadata": {},
     "output_type": "display_data"
    },
    {
     "data": {
      "text/html": [
       "<div style='border: 1px solid #ccc; border-radius: 5px; padding: 10px; margin-bottom: 20px;'>"
      ],
      "text/plain": [
       "<IPython.core.display.HTML object>"
      ]
     },
     "metadata": {},
     "output_type": "display_data"
    },
    {
     "data": {
      "text/html": [
       "<h3>Margot Hardside Expandable Luggage with Spinner Wheels, Black, Checked Large 28 Inch</h3>"
      ],
      "text/plain": [
       "<IPython.core.display.HTML object>"
      ]
     },
     "metadata": {},
     "output_type": "display_data"
    },
    {
     "data": {
      "text/html": [
       "<p><b>Stars:</b> 3.0</p>"
      ],
      "text/plain": [
       "<IPython.core.display.HTML object>"
      ]
     },
     "metadata": {},
     "output_type": "display_data"
    },
    {
     "data": {
      "text/html": [
       "<p><b>Price:</b> $169.99</p>"
      ],
      "text/plain": [
       "<IPython.core.display.HTML object>"
      ]
     },
     "metadata": {},
     "output_type": "display_data"
    },
    {
     "data": {
      "text/html": [
       "<p><b>Category:</b> Suitcases</p>"
      ],
      "text/plain": [
       "<IPython.core.display.HTML object>"
      ]
     },
     "metadata": {},
     "output_type": "display_data"
    },
    {
     "data": {
      "text/html": [
       "<img src=\"https://m.media-amazon.com/images/I/81hTnu9aQkL._AC_UL320_.jpg\" alt=\"Margot Hardside Expandable Luggage with Spinner Wheels, Black, Checked Large 28 Inch\" style=\"width:200px;height:200px; margin-top: 10px;\">"
      ],
      "text/plain": [
       "<IPython.core.display.HTML object>"
      ]
     },
     "metadata": {},
     "output_type": "display_data"
    },
    {
     "data": {
      "text/html": [
       "<p style='margin-top: 10px;'><b>Distance:</b> 0.3157184309103498</p>"
      ],
      "text/plain": [
       "<IPython.core.display.HTML object>"
      ]
     },
     "metadata": {},
     "output_type": "display_data"
    },
    {
     "data": {
      "text/html": [
       "</div>"
      ],
      "text/plain": [
       "<IPython.core.display.HTML object>"
      ]
     },
     "metadata": {},
     "output_type": "display_data"
    },
    {
     "data": {
      "text/html": [
       "<div style='border: 1px solid #ccc; border-radius: 5px; padding: 10px; margin-bottom: 20px;'>"
      ],
      "text/plain": [
       "<IPython.core.display.HTML object>"
      ]
     },
     "metadata": {},
     "output_type": "display_data"
    },
    {
     "data": {
      "text/html": [
       "<h3>Moonlight Hardside Expandable Luggage with Spinner Wheels, Black Marble, Checked-Large 28-Inch</h3>"
      ],
      "text/plain": [
       "<IPython.core.display.HTML object>"
      ]
     },
     "metadata": {},
     "output_type": "display_data"
    },
    {
     "data": {
      "text/html": [
       "<p><b>Stars:</b> 4.5</p>"
      ],
      "text/plain": [
       "<IPython.core.display.HTML object>"
      ]
     },
     "metadata": {},
     "output_type": "display_data"
    },
    {
     "data": {
      "text/html": [
       "<p><b>Price:</b> $139.99</p>"
      ],
      "text/plain": [
       "<IPython.core.display.HTML object>"
      ]
     },
     "metadata": {},
     "output_type": "display_data"
    },
    {
     "data": {
      "text/html": [
       "<p><b>Category:</b> Suitcases</p>"
      ],
      "text/plain": [
       "<IPython.core.display.HTML object>"
      ]
     },
     "metadata": {},
     "output_type": "display_data"
    },
    {
     "data": {
      "text/html": [
       "<img src=\"https://m.media-amazon.com/images/I/71kmLlCMzWL._AC_UL320_.jpg\" alt=\"Moonlight Hardside Expandable Luggage with Spinner Wheels, Black Marble, Checked-Large 28-Inch\" style=\"width:200px;height:200px; margin-top: 10px;\">"
      ],
      "text/plain": [
       "<IPython.core.display.HTML object>"
      ]
     },
     "metadata": {},
     "output_type": "display_data"
    },
    {
     "data": {
      "text/html": [
       "<p style='margin-top: 10px;'><b>Distance:</b> 0.3261613831700547</p>"
      ],
      "text/plain": [
       "<IPython.core.display.HTML object>"
      ]
     },
     "metadata": {},
     "output_type": "display_data"
    },
    {
     "data": {
      "text/html": [
       "</div>"
      ],
      "text/plain": [
       "<IPython.core.display.HTML object>"
      ]
     },
     "metadata": {},
     "output_type": "display_data"
    }
   ],
   "source": [
    "\n",
    "# Thử nghiệm hàm gợi ý sản phẩm theo ID\n",
    "product_id = \"B01DJLKZBA\"  # Thay thế bằng ID sản phẩm cụ thể\n",
    "recommend_products_by_id(product_id, num_recommendations=5)\n"
   ]
  },
  {
   "cell_type": "code",
   "execution_count": 16,
   "id": "b7f60120",
   "metadata": {
    "execution": {
     "iopub.execute_input": "2024-06-04T03:12:17.603210Z",
     "iopub.status.busy": "2024-06-04T03:12:17.602917Z",
     "iopub.status.idle": "2024-06-04T03:12:17.610484Z",
     "shell.execute_reply": "2024-06-04T03:12:17.609666Z"
    },
    "jupyter": {
     "source_hidden": true
    },
    "papermill": {
     "duration": 0.021377,
     "end_time": "2024-06-04T03:12:17.612393",
     "exception": false,
     "start_time": "2024-06-04T03:12:17.591016",
     "status": "completed"
    },
    "tags": []
   },
   "outputs": [],
   "source": [
    "from IPython.display import display, HTML\n",
    "\n",
    "def recommend_products_by_name(product_name, num_recommendations=5):\n",
    "    # Chuyển đổi tên sản phẩm sang vector TF-IDF\n",
    "    query_vector = vectorizer.transform([product_name])\n",
    "    \n",
    "    # Tìm kiếm các sản phẩm tương tự\n",
    "    distances, indices = nn_model.kneighbors(query_vector, n_neighbors=num_recommendations)\n",
    "    \n",
    "    # Lấy thông tin các sản phẩm được gợi ý\n",
    "    recommendations = merged_df.iloc[indices[0]].copy()\n",
    "    recommendations['distance'] = distances[0]\n",
    "    \n",
    "    # Hiển thị thông tin sản phẩm và hình ảnh\n",
    "    for index, row in recommendations.iterrows():\n",
    "        display(HTML(f\"<div style='border: 1px solid #ccc; border-radius: 5px; padding: 10px; margin-bottom: 20px;'>\"))\n",
    "        display(HTML(f\"<h3>{row['title']}</h3>\"))\n",
    "        display(HTML(f\"<p><b>Stars:</b> {row['stars']}</p>\"))\n",
    "        display(HTML(f\"<p><b>Price:</b> ${row['price']}</p>\"))\n",
    "        display(HTML(f\"<p><b>Category:</b> {row['category_name']}</p>\"))\n",
    "        display(HTML(f'<img src=\"{row[\"imgUrl\"]}\" alt=\"{row[\"title\"]}\" style=\"width:200px;height:200px; margin-top: 10px;\">'))\n",
    "        display(HTML(f\"<p style='margin-top: 10px;'><b>Distance:</b> {row['distance']}</p>\"))\n",
    "        display(HTML(\"</div>\"))\n",
    "\n"
   ]
  },
  {
   "cell_type": "code",
   "execution_count": 17,
   "id": "b23fdce9",
   "metadata": {
    "collapsed": true,
    "execution": {
     "iopub.execute_input": "2024-06-04T03:12:17.635505Z",
     "iopub.status.busy": "2024-06-04T03:12:17.635253Z",
     "iopub.status.idle": "2024-06-04T03:12:18.307980Z",
     "shell.execute_reply": "2024-06-04T03:12:18.307143Z"
    },
    "jupyter": {
     "outputs_hidden": true,
     "source_hidden": true
    },
    "papermill": {
     "duration": 0.68824,
     "end_time": "2024-06-04T03:12:18.311638",
     "exception": false,
     "start_time": "2024-06-04T03:12:17.623398",
     "status": "completed"
    },
    "tags": []
   },
   "outputs": [
    {
     "data": {
      "text/html": [
       "<div style='border: 1px solid #ccc; border-radius: 5px; padding: 10px; margin-bottom: 20px;'>"
      ],
      "text/plain": [
       "<IPython.core.display.HTML object>"
      ]
     },
     "metadata": {},
     "output_type": "display_data"
    },
    {
     "data": {
      "text/html": [
       "<h3>Xpedition 30 Inch Multi-Pocket Upright Rolling Duffel Bag</h3>"
      ],
      "text/plain": [
       "<IPython.core.display.HTML object>"
      ]
     },
     "metadata": {},
     "output_type": "display_data"
    },
    {
     "data": {
      "text/html": [
       "<p><b>Stars:</b> 4.3</p>"
      ],
      "text/plain": [
       "<IPython.core.display.HTML object>"
      ]
     },
     "metadata": {},
     "output_type": "display_data"
    },
    {
     "data": {
      "text/html": [
       "<p><b>Price:</b> $31.84</p>"
      ],
      "text/plain": [
       "<IPython.core.display.HTML object>"
      ]
     },
     "metadata": {},
     "output_type": "display_data"
    },
    {
     "data": {
      "text/html": [
       "<p><b>Category:</b> Travel Duffel Bags</p>"
      ],
      "text/plain": [
       "<IPython.core.display.HTML object>"
      ]
     },
     "metadata": {},
     "output_type": "display_data"
    },
    {
     "data": {
      "text/html": [
       "<img src=\"https://m.media-amazon.com/images/I/71cr0xT-TaL._AC_UL320_.jpg\" alt=\"Xpedition 30 Inch Multi-Pocket Upright Rolling Duffel Bag\" style=\"width:200px;height:200px; margin-top: 10px;\">"
      ],
      "text/plain": [
       "<IPython.core.display.HTML object>"
      ]
     },
     "metadata": {},
     "output_type": "display_data"
    },
    {
     "data": {
      "text/html": [
       "<p style='margin-top: 10px;'><b>Distance:</b> 0.0</p>"
      ],
      "text/plain": [
       "<IPython.core.display.HTML object>"
      ]
     },
     "metadata": {},
     "output_type": "display_data"
    },
    {
     "data": {
      "text/html": [
       "</div>"
      ],
      "text/plain": [
       "<IPython.core.display.HTML object>"
      ]
     },
     "metadata": {},
     "output_type": "display_data"
    },
    {
     "data": {
      "text/html": [
       "<div style='border: 1px solid #ccc; border-radius: 5px; padding: 10px; margin-bottom: 20px;'>"
      ],
      "text/plain": [
       "<IPython.core.display.HTML object>"
      ]
     },
     "metadata": {},
     "output_type": "display_data"
    },
    {
     "data": {
      "text/html": [
       "<h3>Xpedition 30 Inch Multi-Pocket Upright Rolling Duffel Bag</h3>"
      ],
      "text/plain": [
       "<IPython.core.display.HTML object>"
      ]
     },
     "metadata": {},
     "output_type": "display_data"
    },
    {
     "data": {
      "text/html": [
       "<p><b>Stars:</b> 4.3</p>"
      ],
      "text/plain": [
       "<IPython.core.display.HTML object>"
      ]
     },
     "metadata": {},
     "output_type": "display_data"
    },
    {
     "data": {
      "text/html": [
       "<p><b>Price:</b> $42.0</p>"
      ],
      "text/plain": [
       "<IPython.core.display.HTML object>"
      ]
     },
     "metadata": {},
     "output_type": "display_data"
    },
    {
     "data": {
      "text/html": [
       "<p><b>Category:</b> Suitcases</p>"
      ],
      "text/plain": [
       "<IPython.core.display.HTML object>"
      ]
     },
     "metadata": {},
     "output_type": "display_data"
    },
    {
     "data": {
      "text/html": [
       "<img src=\"https://m.media-amazon.com/images/I/81QKjgbsq4L._AC_UL320_.jpg\" alt=\"Xpedition 30 Inch Multi-Pocket Upright Rolling Duffel Bag\" style=\"width:200px;height:200px; margin-top: 10px;\">"
      ],
      "text/plain": [
       "<IPython.core.display.HTML object>"
      ]
     },
     "metadata": {},
     "output_type": "display_data"
    },
    {
     "data": {
      "text/html": [
       "<p style='margin-top: 10px;'><b>Distance:</b> 0.0</p>"
      ],
      "text/plain": [
       "<IPython.core.display.HTML object>"
      ]
     },
     "metadata": {},
     "output_type": "display_data"
    },
    {
     "data": {
      "text/html": [
       "</div>"
      ],
      "text/plain": [
       "<IPython.core.display.HTML object>"
      ]
     },
     "metadata": {},
     "output_type": "display_data"
    },
    {
     "data": {
      "text/html": [
       "<div style='border: 1px solid #ccc; border-radius: 5px; padding: 10px; margin-bottom: 20px;'>"
      ],
      "text/plain": [
       "<IPython.core.display.HTML object>"
      ]
     },
     "metadata": {},
     "output_type": "display_data"
    },
    {
     "data": {
      "text/html": [
       "<h3>8 Pocket Rolling Duffel Bag, Black, 22 inch</h3>"
      ],
      "text/plain": [
       "<IPython.core.display.HTML object>"
      ]
     },
     "metadata": {},
     "output_type": "display_data"
    },
    {
     "data": {
      "text/html": [
       "<p><b>Stars:</b> 4.5</p>"
      ],
      "text/plain": [
       "<IPython.core.display.HTML object>"
      ]
     },
     "metadata": {},
     "output_type": "display_data"
    },
    {
     "data": {
      "text/html": [
       "<p><b>Price:</b> $64.09</p>"
      ],
      "text/plain": [
       "<IPython.core.display.HTML object>"
      ]
     },
     "metadata": {},
     "output_type": "display_data"
    },
    {
     "data": {
      "text/html": [
       "<p><b>Category:</b> Travel Duffel Bags</p>"
      ],
      "text/plain": [
       "<IPython.core.display.HTML object>"
      ]
     },
     "metadata": {},
     "output_type": "display_data"
    },
    {
     "data": {
      "text/html": [
       "<img src=\"https://m.media-amazon.com/images/I/61bj7FT9C5L._AC_UL320_.jpg\" alt=\"8 Pocket Rolling Duffel Bag, Black, 22 inch\" style=\"width:200px;height:200px; margin-top: 10px;\">"
      ],
      "text/plain": [
       "<IPython.core.display.HTML object>"
      ]
     },
     "metadata": {},
     "output_type": "display_data"
    },
    {
     "data": {
      "text/html": [
       "<p style='margin-top: 10px;'><b>Distance:</b> 0.4414375259077685</p>"
      ],
      "text/plain": [
       "<IPython.core.display.HTML object>"
      ]
     },
     "metadata": {},
     "output_type": "display_data"
    },
    {
     "data": {
      "text/html": [
       "</div>"
      ],
      "text/plain": [
       "<IPython.core.display.HTML object>"
      ]
     },
     "metadata": {},
     "output_type": "display_data"
    },
    {
     "data": {
      "text/html": [
       "<div style='border: 1px solid #ccc; border-radius: 5px; padding: 10px; margin-bottom: 20px;'>"
      ],
      "text/plain": [
       "<IPython.core.display.HTML object>"
      ]
     },
     "metadata": {},
     "output_type": "display_data"
    },
    {
     "data": {
      "text/html": [
       "<h3>Rolling Duffel Bag, Charcoal, 30-Inch</h3>"
      ],
      "text/plain": [
       "<IPython.core.display.HTML object>"
      ]
     },
     "metadata": {},
     "output_type": "display_data"
    },
    {
     "data": {
      "text/html": [
       "<p><b>Stars:</b> 4.0</p>"
      ],
      "text/plain": [
       "<IPython.core.display.HTML object>"
      ]
     },
     "metadata": {},
     "output_type": "display_data"
    },
    {
     "data": {
      "text/html": [
       "<p><b>Price:</b> $35.49</p>"
      ],
      "text/plain": [
       "<IPython.core.display.HTML object>"
      ]
     },
     "metadata": {},
     "output_type": "display_data"
    },
    {
     "data": {
      "text/html": [
       "<p><b>Category:</b> Travel Duffel Bags</p>"
      ],
      "text/plain": [
       "<IPython.core.display.HTML object>"
      ]
     },
     "metadata": {},
     "output_type": "display_data"
    },
    {
     "data": {
      "text/html": [
       "<img src=\"https://m.media-amazon.com/images/I/81ZUsE7ctOL._AC_UL320_.jpg\" alt=\"Rolling Duffel Bag, Charcoal, 30-Inch\" style=\"width:200px;height:200px; margin-top: 10px;\">"
      ],
      "text/plain": [
       "<IPython.core.display.HTML object>"
      ]
     },
     "metadata": {},
     "output_type": "display_data"
    },
    {
     "data": {
      "text/html": [
       "<p style='margin-top: 10px;'><b>Distance:</b> 0.45036372007615766</p>"
      ],
      "text/plain": [
       "<IPython.core.display.HTML object>"
      ]
     },
     "metadata": {},
     "output_type": "display_data"
    },
    {
     "data": {
      "text/html": [
       "</div>"
      ],
      "text/plain": [
       "<IPython.core.display.HTML object>"
      ]
     },
     "metadata": {},
     "output_type": "display_data"
    },
    {
     "data": {
      "text/html": [
       "<div style='border: 1px solid #ccc; border-radius: 5px; padding: 10px; margin-bottom: 20px;'>"
      ],
      "text/plain": [
       "<IPython.core.display.HTML object>"
      ]
     },
     "metadata": {},
     "output_type": "display_data"
    },
    {
     "data": {
      "text/html": [
       "<h3>Rolling Duffel Bag</h3>"
      ],
      "text/plain": [
       "<IPython.core.display.HTML object>"
      ]
     },
     "metadata": {},
     "output_type": "display_data"
    },
    {
     "data": {
      "text/html": [
       "<p><b>Stars:</b> 4.2</p>"
      ],
      "text/plain": [
       "<IPython.core.display.HTML object>"
      ]
     },
     "metadata": {},
     "output_type": "display_data"
    },
    {
     "data": {
      "text/html": [
       "<p><b>Price:</b> $20.49</p>"
      ],
      "text/plain": [
       "<IPython.core.display.HTML object>"
      ]
     },
     "metadata": {},
     "output_type": "display_data"
    },
    {
     "data": {
      "text/html": [
       "<p><b>Category:</b> Travel Duffel Bags</p>"
      ],
      "text/plain": [
       "<IPython.core.display.HTML object>"
      ]
     },
     "metadata": {},
     "output_type": "display_data"
    },
    {
     "data": {
      "text/html": [
       "<img src=\"https://m.media-amazon.com/images/I/71P6GKzNS6L._AC_UL320_.jpg\" alt=\"Rolling Duffel Bag\" style=\"width:200px;height:200px; margin-top: 10px;\">"
      ],
      "text/plain": [
       "<IPython.core.display.HTML object>"
      ]
     },
     "metadata": {},
     "output_type": "display_data"
    },
    {
     "data": {
      "text/html": [
       "<p style='margin-top: 10px;'><b>Distance:</b> 0.4521129239862657</p>"
      ],
      "text/plain": [
       "<IPython.core.display.HTML object>"
      ]
     },
     "metadata": {},
     "output_type": "display_data"
    },
    {
     "data": {
      "text/html": [
       "</div>"
      ],
      "text/plain": [
       "<IPython.core.display.HTML object>"
      ]
     },
     "metadata": {},
     "output_type": "display_data"
    }
   ],
   "source": [
    "# Sử dụng hàm với tên sản phẩm cụ thể\n",
    "product_name = \"Xpedition 30 Inch Multi-Pocket Upright Rolling Duffel Bag\"  # Thay thế bằng tên sản phẩm cụ thể\n",
    "recommend_products_by_name(product_name, num_recommendations=5)\n"
   ]
  }
 ],
 "metadata": {
  "kaggle": {
   "accelerator": "gpu",
   "dataSources": [
    {
     "datasetId": 3798081,
     "sourceId": 7643327,
     "sourceType": "datasetVersion"
    }
   ],
   "dockerImageVersionId": 30716,
   "isGpuEnabled": true,
   "isInternetEnabled": true,
   "language": "python",
   "sourceType": "notebook"
  },
  "kernelspec": {
   "display_name": "Python [conda env:base] *",
   "language": "python",
   "name": "conda-base-py"
  },
  "language_info": {
   "codemirror_mode": {
    "name": "ipython",
    "version": 3
   },
   "file_extension": ".py",
   "mimetype": "text/x-python",
   "name": "python",
   "nbconvert_exporter": "python",
   "pygments_lexer": "ipython3",
   "version": "3.12.7"
  },
  "papermill": {
   "default_parameters": {},
   "duration": 58.505176,
   "end_time": "2024-06-04T03:12:19.049927",
   "environment_variables": {},
   "exception": null,
   "input_path": "__notebook__.ipynb",
   "output_path": "__notebook__.ipynb",
   "parameters": {},
   "start_time": "2024-06-04T03:11:20.544751",
   "version": "2.5.0"
  }
 },
 "nbformat": 4,
 "nbformat_minor": 5
}
