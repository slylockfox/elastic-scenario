{
 "cells": [
  {
   "cell_type": "code",
   "execution_count": 1,
   "id": "1d2e2456",
   "metadata": {
    "_cell_guid": "b1076dfc-b9ad-4769-8c92-a6c4dae69d19",
    "_uuid": "8f2839f25d086af736a60e9eeb907d3b93b6e0e5",
    "execution": {
     "iopub.execute_input": "2024-06-04T03:11:23.444298Z",
     "iopub.status.busy": "2024-06-04T03:11:23.443910Z",
     "iopub.status.idle": "2024-06-04T03:11:25.484755Z",
     "shell.execute_reply": "2024-06-04T03:11:25.483732Z"
    },
    "papermill": {
     "duration": 2.050165,
     "end_time": "2024-06-04T03:11:25.487165",
     "exception": false,
     "start_time": "2024-06-04T03:11:23.437000",
     "status": "completed"
    },
    "tags": []
   },
   "outputs": [],
   "source": [
    "import pandas as pd\n",
    "from sklearn.feature_extraction.text import TfidfVectorizer\n",
    "from sklearn.neighbors import NearestNeighbors"
   ]
  },
  {
   "cell_type": "code",
   "execution_count": 2,
   "id": "c0561179",
   "metadata": {
    "execution": {
     "iopub.execute_input": "2024-06-04T03:11:25.499036Z",
     "iopub.status.busy": "2024-06-04T03:11:25.498600Z",
     "iopub.status.idle": "2024-06-04T03:11:36.643666Z",
     "shell.execute_reply": "2024-06-04T03:11:36.642530Z"
    },
    "papermill": {
     "duration": 11.153745,
     "end_time": "2024-06-04T03:11:36.646371",
     "exception": false,
     "start_time": "2024-06-04T03:11:25.492626",
     "status": "completed"
    },
    "tags": []
   },
   "outputs": [],
   "source": [
    "products_df = pd.read_csv('/kaggle/input/amazon-products-dataset-2023-1-4m-products/amazon_products.csv')\n",
    "categories_df = pd.read_csv('/kaggle/input/amazon-products-dataset-2023-1-4m-products/amazon_categories.csv')\n"
   ]
  },
  {
   "cell_type": "code",
   "execution_count": 3,
   "id": "437cc8d3",
   "metadata": {
    "execution": {
     "iopub.execute_input": "2024-06-04T03:11:36.659158Z",
     "iopub.status.busy": "2024-06-04T03:11:36.658756Z",
     "iopub.status.idle": "2024-06-04T03:11:37.100328Z",
     "shell.execute_reply": "2024-06-04T03:11:37.099557Z"
    },
    "papermill": {
     "duration": 0.450527,
     "end_time": "2024-06-04T03:11:37.102660",
     "exception": false,
     "start_time": "2024-06-04T03:11:36.652133",
     "status": "completed"
    },
    "tags": []
   },
   "outputs": [],
   "source": [
    "# Kết hợp dữ liệu từ hai DataFrame bằng cột category_id và id\n",
    "merged_df = pd.merge(products_df, categories_df, left_on='category_id', right_on='id')\n",
    "\n",
    "# Xóa cột 'category_id' cuối cùng\n",
    "merged_df.drop(columns=['category_id'], inplace=True)"
   ]
  },
  {
   "cell_type": "code",
   "execution_count": 4,
   "id": "e61e63fc",
   "metadata": {
    "execution": {
     "iopub.execute_input": "2024-06-04T03:11:37.114110Z",
     "iopub.status.busy": "2024-06-04T03:11:37.113818Z",
     "iopub.status.idle": "2024-06-04T03:11:37.118613Z",
     "shell.execute_reply": "2024-06-04T03:11:37.117794Z"
    },
    "papermill": {
     "duration": 0.013028,
     "end_time": "2024-06-04T03:11:37.120943",
     "exception": false,
     "start_time": "2024-06-04T03:11:37.107915",
     "status": "completed"
    },
    "tags": []
   },
   "outputs": [
    {
     "name": "stdout",
     "output_type": "stream",
     "text": [
      "Index(['asin', 'title', 'imgUrl', 'productURL', 'stars', 'reviews', 'price',\n",
      "       'listPrice', 'isBestSeller', 'boughtInLastMonth', 'id',\n",
      "       'category_name'],\n",
      "      dtype='object')\n"
     ]
    }
   ],
   "source": [
    "print(merged_df.columns)\n"
   ]
  },
  {
   "cell_type": "code",
   "execution_count": 5,
   "id": "a72d5ff4",
   "metadata": {
    "execution": {
     "iopub.execute_input": "2024-06-04T03:11:37.132233Z",
     "iopub.status.busy": "2024-06-04T03:11:37.131962Z",
     "iopub.status.idle": "2024-06-04T03:11:37.144370Z",
     "shell.execute_reply": "2024-06-04T03:11:37.143319Z"
    },
    "papermill": {
     "duration": 0.020255,
     "end_time": "2024-06-04T03:11:37.146249",
     "exception": false,
     "start_time": "2024-06-04T03:11:37.125994",
     "status": "completed"
    },
    "tags": []
   },
   "outputs": [
    {
     "name": "stdout",
     "output_type": "stream",
     "text": [
      "         asin                                              title  \\\n",
      "0  B014TMV5YE  Sion Softside Expandable Roller Luggage, Black...   \n",
      "1  B07GDLCQXV  Luggage Sets Expandable PC+ABS Durable Suitcas...   \n",
      "2  B07XSCCZYG  Platinum Elite Softside Expandable Checked Lug...   \n",
      "3  B08MVFKGJM  Freeform Hardside Expandable with Double Spinn...   \n",
      "4  B01DJLKZBA  Winfield 2 Hardside Expandable Luggage with Sp...   \n",
      "\n",
      "                                              imgUrl  \\\n",
      "0  https://m.media-amazon.com/images/I/815dLQKYIY...   \n",
      "1  https://m.media-amazon.com/images/I/81bQlm7vf6...   \n",
      "2  https://m.media-amazon.com/images/I/71EA35zvJB...   \n",
      "3  https://m.media-amazon.com/images/I/91k6NYLQyI...   \n",
      "4  https://m.media-amazon.com/images/I/61NJoaZcP9...   \n",
      "\n",
      "                             productURL  stars  reviews   price  listPrice  \\\n",
      "0  https://www.amazon.com/dp/B014TMV5YE    4.5        0  139.99       0.00   \n",
      "1  https://www.amazon.com/dp/B07GDLCQXV    4.5        0  169.99     209.99   \n",
      "2  https://www.amazon.com/dp/B07XSCCZYG    4.6        0  365.49     429.99   \n",
      "3  https://www.amazon.com/dp/B08MVFKGJM    4.6        0  291.59     354.37   \n",
      "4  https://www.amazon.com/dp/B01DJLKZBA    4.5        0  174.99     309.99   \n",
      "\n",
      "   isBestSeller  boughtInLastMonth   id category_name  \n",
      "0         False               2000  104     Suitcases  \n",
      "1         False               1000  104     Suitcases  \n",
      "2         False                300  104     Suitcases  \n",
      "3         False                400  104     Suitcases  \n",
      "4         False                400  104     Suitcases  \n"
     ]
    }
   ],
   "source": [
    "print(merged_df.head())\n"
   ]
  },
  {
   "cell_type": "code",
   "execution_count": 6,
   "id": "3376ea61",
   "metadata": {
    "execution": {
     "iopub.execute_input": "2024-06-04T03:11:37.157759Z",
     "iopub.status.busy": "2024-06-04T03:11:37.157494Z",
     "iopub.status.idle": "2024-06-04T03:11:37.588537Z",
     "shell.execute_reply": "2024-06-04T03:11:37.587673Z"
    },
    "papermill": {
     "duration": 0.439343,
     "end_time": "2024-06-04T03:11:37.590831",
     "exception": false,
     "start_time": "2024-06-04T03:11:37.151488",
     "status": "completed"
    },
    "tags": []
   },
   "outputs": [],
   "source": [
    "# Loại bỏ các hàng có giá trị NaN trong cột 'title'\n",
    "merged_df.dropna(subset=['title'], inplace=True)"
   ]
  },
  {
   "cell_type": "code",
   "execution_count": 7,
   "id": "c01f08e0",
   "metadata": {
    "execution": {
     "iopub.execute_input": "2024-06-04T03:11:37.603087Z",
     "iopub.status.busy": "2024-06-04T03:11:37.602759Z",
     "iopub.status.idle": "2024-06-04T03:11:37.606914Z",
     "shell.execute_reply": "2024-06-04T03:11:37.606077Z"
    },
    "papermill": {
     "duration": 0.012519,
     "end_time": "2024-06-04T03:11:37.608843",
     "exception": false,
     "start_time": "2024-06-04T03:11:37.596324",
     "status": "completed"
    },
    "tags": []
   },
   "outputs": [],
   "source": [
    "# Chọn các cột cần thiết cho mô hình\n",
    "product_titles = merged_df['title']"
   ]
  },
  {
   "cell_type": "code",
   "execution_count": 8,
   "id": "f7f28f2a",
   "metadata": {
    "execution": {
     "iopub.execute_input": "2024-06-04T03:11:37.620535Z",
     "iopub.status.busy": "2024-06-04T03:11:37.620251Z",
     "iopub.status.idle": "2024-06-04T03:12:15.784585Z",
     "shell.execute_reply": "2024-06-04T03:12:15.783706Z"
    },
    "papermill": {
     "duration": 38.172857,
     "end_time": "2024-06-04T03:12:15.786982",
     "exception": false,
     "start_time": "2024-06-04T03:11:37.614125",
     "status": "completed"
    },
    "tags": []
   },
   "outputs": [],
   "source": [
    "# Bước 1: Chuẩn bị dữ liệu với TF-IDF\n",
    "vectorizer = TfidfVectorizer(stop_words='english')\n",
    "tfidf_matrix = vectorizer.fit_transform(product_titles)\n"
   ]
  },
  {
   "cell_type": "code",
   "execution_count": 9,
   "id": "5c3dd638",
   "metadata": {
    "execution": {
     "iopub.execute_input": "2024-06-04T03:12:15.799253Z",
     "iopub.status.busy": "2024-06-04T03:12:15.798970Z",
     "iopub.status.idle": "2024-06-04T03:12:15.803274Z",
     "shell.execute_reply": "2024-06-04T03:12:15.802464Z"
    },
    "papermill": {
     "duration": 0.012838,
     "end_time": "2024-06-04T03:12:15.805549",
     "exception": false,
     "start_time": "2024-06-04T03:12:15.792711",
     "status": "completed"
    },
    "tags": []
   },
   "outputs": [
    {
     "name": "stdout",
     "output_type": "stream",
     "text": [
      "TF-IDF matrix shape: (1426336, 428801)\n"
     ]
    }
   ],
   "source": [
    "print(\"TF-IDF matrix shape:\", tfidf_matrix.shape)\n"
   ]
  },
  {
   "cell_type": "code",
   "execution_count": 10,
   "id": "75262a65",
   "metadata": {
    "execution": {
     "iopub.execute_input": "2024-06-04T03:12:15.816959Z",
     "iopub.status.busy": "2024-06-04T03:12:15.816725Z",
     "iopub.status.idle": "2024-06-04T03:12:15.931691Z",
     "shell.execute_reply": "2024-06-04T03:12:15.930818Z"
    },
    "papermill": {
     "duration": 0.123073,
     "end_time": "2024-06-04T03:12:15.933782",
     "exception": false,
     "start_time": "2024-06-04T03:12:15.810709",
     "status": "completed"
    },
    "tags": []
   },
   "outputs": [
    {
     "data": {
      "text/html": [
       "<style>#sk-container-id-1 {color: black;background-color: white;}#sk-container-id-1 pre{padding: 0;}#sk-container-id-1 div.sk-toggleable {background-color: white;}#sk-container-id-1 label.sk-toggleable__label {cursor: pointer;display: block;width: 100%;margin-bottom: 0;padding: 0.3em;box-sizing: border-box;text-align: center;}#sk-container-id-1 label.sk-toggleable__label-arrow:before {content: \"▸\";float: left;margin-right: 0.25em;color: #696969;}#sk-container-id-1 label.sk-toggleable__label-arrow:hover:before {color: black;}#sk-container-id-1 div.sk-estimator:hover label.sk-toggleable__label-arrow:before {color: black;}#sk-container-id-1 div.sk-toggleable__content {max-height: 0;max-width: 0;overflow: hidden;text-align: left;background-color: #f0f8ff;}#sk-container-id-1 div.sk-toggleable__content pre {margin: 0.2em;color: black;border-radius: 0.25em;background-color: #f0f8ff;}#sk-container-id-1 input.sk-toggleable__control:checked~div.sk-toggleable__content {max-height: 200px;max-width: 100%;overflow: auto;}#sk-container-id-1 input.sk-toggleable__control:checked~label.sk-toggleable__label-arrow:before {content: \"▾\";}#sk-container-id-1 div.sk-estimator input.sk-toggleable__control:checked~label.sk-toggleable__label {background-color: #d4ebff;}#sk-container-id-1 div.sk-label input.sk-toggleable__control:checked~label.sk-toggleable__label {background-color: #d4ebff;}#sk-container-id-1 input.sk-hidden--visually {border: 0;clip: rect(1px 1px 1px 1px);clip: rect(1px, 1px, 1px, 1px);height: 1px;margin: -1px;overflow: hidden;padding: 0;position: absolute;width: 1px;}#sk-container-id-1 div.sk-estimator {font-family: monospace;background-color: #f0f8ff;border: 1px dotted black;border-radius: 0.25em;box-sizing: border-box;margin-bottom: 0.5em;}#sk-container-id-1 div.sk-estimator:hover {background-color: #d4ebff;}#sk-container-id-1 div.sk-parallel-item::after {content: \"\";width: 100%;border-bottom: 1px solid gray;flex-grow: 1;}#sk-container-id-1 div.sk-label:hover label.sk-toggleable__label {background-color: #d4ebff;}#sk-container-id-1 div.sk-serial::before {content: \"\";position: absolute;border-left: 1px solid gray;box-sizing: border-box;top: 0;bottom: 0;left: 50%;z-index: 0;}#sk-container-id-1 div.sk-serial {display: flex;flex-direction: column;align-items: center;background-color: white;padding-right: 0.2em;padding-left: 0.2em;position: relative;}#sk-container-id-1 div.sk-item {position: relative;z-index: 1;}#sk-container-id-1 div.sk-parallel {display: flex;align-items: stretch;justify-content: center;background-color: white;position: relative;}#sk-container-id-1 div.sk-item::before, #sk-container-id-1 div.sk-parallel-item::before {content: \"\";position: absolute;border-left: 1px solid gray;box-sizing: border-box;top: 0;bottom: 0;left: 50%;z-index: -1;}#sk-container-id-1 div.sk-parallel-item {display: flex;flex-direction: column;z-index: 1;position: relative;background-color: white;}#sk-container-id-1 div.sk-parallel-item:first-child::after {align-self: flex-end;width: 50%;}#sk-container-id-1 div.sk-parallel-item:last-child::after {align-self: flex-start;width: 50%;}#sk-container-id-1 div.sk-parallel-item:only-child::after {width: 0;}#sk-container-id-1 div.sk-dashed-wrapped {border: 1px dashed gray;margin: 0 0.4em 0.5em 0.4em;box-sizing: border-box;padding-bottom: 0.4em;background-color: white;}#sk-container-id-1 div.sk-label label {font-family: monospace;font-weight: bold;display: inline-block;line-height: 1.2em;}#sk-container-id-1 div.sk-label-container {text-align: center;}#sk-container-id-1 div.sk-container {/* jupyter's `normalize.less` sets `[hidden] { display: none; }` but bootstrap.min.css set `[hidden] { display: none !important; }` so we also need the `!important` here to be able to override the default hidden behavior on the sphinx rendered scikit-learn.org. See: https://github.com/scikit-learn/scikit-learn/issues/21755 */display: inline-block !important;position: relative;}#sk-container-id-1 div.sk-text-repr-fallback {display: none;}</style><div id=\"sk-container-id-1\" class=\"sk-top-container\"><div class=\"sk-text-repr-fallback\"><pre>NearestNeighbors(algorithm=&#x27;brute&#x27;, metric=&#x27;cosine&#x27;)</pre><b>In a Jupyter environment, please rerun this cell to show the HTML representation or trust the notebook. <br />On GitHub, the HTML representation is unable to render, please try loading this page with nbviewer.org.</b></div><div class=\"sk-container\" hidden><div class=\"sk-item\"><div class=\"sk-estimator sk-toggleable\"><input class=\"sk-toggleable__control sk-hidden--visually\" id=\"sk-estimator-id-1\" type=\"checkbox\" checked><label for=\"sk-estimator-id-1\" class=\"sk-toggleable__label sk-toggleable__label-arrow\">NearestNeighbors</label><div class=\"sk-toggleable__content\"><pre>NearestNeighbors(algorithm=&#x27;brute&#x27;, metric=&#x27;cosine&#x27;)</pre></div></div></div></div></div>"
      ],
      "text/plain": [
       "NearestNeighbors(algorithm='brute', metric='cosine')"
      ]
     },
     "execution_count": 10,
     "metadata": {},
     "output_type": "execute_result"
    }
   ],
   "source": [
    "# Bước 2: Huấn luyện mô hình NearestNeighbors\n",
    "nn_model = NearestNeighbors(metric='cosine', algorithm='brute')\n",
    "nn_model.fit(tfidf_matrix)"
   ]
  },
  {
   "cell_type": "code",
   "execution_count": 11,
   "id": "8b3f0845",
   "metadata": {
    "execution": {
     "iopub.execute_input": "2024-06-04T03:12:15.946565Z",
     "iopub.status.busy": "2024-06-04T03:12:15.946293Z",
     "iopub.status.idle": "2024-06-04T03:12:15.951841Z",
     "shell.execute_reply": "2024-06-04T03:12:15.950983Z"
    },
    "papermill": {
     "duration": 0.014235,
     "end_time": "2024-06-04T03:12:15.953843",
     "exception": false,
     "start_time": "2024-06-04T03:12:15.939608",
     "status": "completed"
    },
    "tags": []
   },
   "outputs": [],
   "source": [
    "# Bước 3: Tạo hàm gợi ý sản phẩm\n",
    "def recommend_products(product_name, num_recommendations=5):\n",
    "    # Chuyển đổi tên sản phẩm sang vector TF-IDF\n",
    "    query_vector = vectorizer.transform([product_name])\n",
    "    \n",
    "    # Tìm kiếm các sản phẩm tương tự\n",
    "    distances, indices = nn_model.kneighbors(query_vector, n_neighbors=num_recommendations)\n",
    "    \n",
    "    # Lấy thông tin các sản phẩm được gợi ý\n",
    "    recommendations = merged_df.iloc[indices[0]].copy()\n",
    "    recommendations['distance'] = distances[0]\n",
    "    \n",
    "    return recommendations[['title', 'stars', 'price', 'category_name', 'distance']]\n"
   ]
  },
  {
   "cell_type": "code",
   "execution_count": 12,
   "id": "c7ead154",
   "metadata": {
    "execution": {
     "iopub.execute_input": "2024-06-04T03:12:15.966666Z",
     "iopub.status.busy": "2024-06-04T03:12:15.965869Z",
     "iopub.status.idle": "2024-06-04T03:12:16.577512Z",
     "shell.execute_reply": "2024-06-04T03:12:16.576223Z"
    },
    "papermill": {
     "duration": 0.620091,
     "end_time": "2024-06-04T03:12:16.579533",
     "exception": false,
     "start_time": "2024-06-04T03:12:15.959442",
     "status": "completed"
    },
    "tags": []
   },
   "outputs": [
    {
     "name": "stdout",
     "output_type": "stream",
     "text": [
      "                                                    title  stars  price  \\\n",
      "373016  Xpedition 30 Inch Multi-Pocket Upright Rolling...    4.3  31.84   \n",
      "14      Xpedition 30 Inch Multi-Pocket Upright Rolling...    4.3  42.00   \n",
      "373208        8 Pocket Rolling Duffel Bag, Black, 22 inch    4.5  64.09   \n",
      "373299              Rolling Duffel Bag, Charcoal, 30-Inch    4.0  35.49   \n",
      "372997                                 Rolling Duffel Bag    4.2  20.49   \n",
      "\n",
      "             category_name  distance  \n",
      "373016  Travel Duffel Bags  0.000000  \n",
      "14               Suitcases  0.000000  \n",
      "373208  Travel Duffel Bags  0.441438  \n",
      "373299  Travel Duffel Bags  0.450364  \n",
      "372997  Travel Duffel Bags  0.452113  \n"
     ]
    }
   ],
   "source": [
    "# Thử nghiệm hàm gợi ý sản phẩm\n",
    "product_name = \"Xpedition 30 Inch Multi-Pocket Upright Rolling Duffel Bag \"\n",
    "recommended_products = recommend_products(product_name, num_recommendations=5)\n",
    "print(recommended_products)"
   ]
  },
  {
   "cell_type": "code",
   "execution_count": 13,
   "id": "7edabcb9",
   "metadata": {
    "execution": {
     "iopub.execute_input": "2024-06-04T03:12:16.593793Z",
     "iopub.status.busy": "2024-06-04T03:12:16.593493Z",
     "iopub.status.idle": "2024-06-04T03:12:16.599786Z",
     "shell.execute_reply": "2024-06-04T03:12:16.598932Z"
    },
    "papermill": {
     "duration": 0.014848,
     "end_time": "2024-06-04T03:12:16.601683",
     "exception": false,
     "start_time": "2024-06-04T03:12:16.586835",
     "status": "completed"
    },
    "tags": []
   },
   "outputs": [],
   "source": [
    "# Bước 3: Tạo hàm gợi ý sản phẩm theo ID và kèm theo hình ảnh\n",
    "def recommend_products_by_id(product_id, num_recommendations=5):\n",
    "    # Lấy tên sản phẩm từ ID\n",
    "    product_name = merged_df.loc[merged_df['asin'] == product_id, 'title'].values[0]\n",
    "    \n",
    "    # Chuyển đổi tên sản phẩm sang vector TF-IDF\n",
    "    query_vector = vectorizer.transform([product_name])\n",
    "    \n",
    "    # Tìm kiếm các sản phẩm tương tự\n",
    "    distances, indices = nn_model.kneighbors(query_vector, n_neighbors=num_recommendations)\n",
    "    \n",
    "    # Lấy thông tin các sản phẩm được gợi ý\n",
    "    recommendations = merged_df.iloc[indices[0]].copy()\n",
    "    recommendations['distance'] = distances[0]\n",
    "    \n",
    "    return recommendations[['title', 'stars', 'price', 'category_name', 'imgUrl', 'distance']]\n",
    "\n"
   ]
  },
  {
   "cell_type": "code",
   "execution_count": 14,
   "id": "a19aea40",
   "metadata": {
    "execution": {
     "iopub.execute_input": "2024-06-04T03:12:16.614385Z",
     "iopub.status.busy": "2024-06-04T03:12:16.614108Z",
     "iopub.status.idle": "2024-06-04T03:12:16.621709Z",
     "shell.execute_reply": "2024-06-04T03:12:16.620888Z"
    },
    "papermill": {
     "duration": 0.016187,
     "end_time": "2024-06-04T03:12:16.623628",
     "exception": false,
     "start_time": "2024-06-04T03:12:16.607441",
     "status": "completed"
    },
    "tags": []
   },
   "outputs": [],
   "source": [
    "from IPython.display import display, HTML\n",
    "\n",
    "def recommend_products_by_id(product_id, num_recommendations=5):\n",
    "    # Lấy tên sản phẩm từ ID\n",
    "    product_name = merged_df.loc[merged_df['asin'] == product_id, 'title'].values[0]\n",
    "    \n",
    "    # Chuyển đổi tên sản phẩm sang vector TF-IDF\n",
    "    query_vector = vectorizer.transform([product_name])\n",
    "    \n",
    "    # Tìm kiếm các sản phẩm tương tự\n",
    "    distances, indices = nn_model.kneighbors(query_vector, n_neighbors=num_recommendations)\n",
    "    \n",
    "    # Lấy thông tin các sản phẩm được gợi ý\n",
    "    recommendations = merged_df.iloc[indices[0]].copy()\n",
    "    recommendations['distance'] = distances[0]\n",
    "    \n",
    "    # Hiển thị thông tin sản phẩm và hình ảnh\n",
    "    for index, row in recommendations.iterrows():\n",
    "        display(HTML(f\"<div style='border: 1px solid #ccc; border-radius: 5px; padding: 10px; margin-bottom: 20px;'>\"))\n",
    "        display(HTML(f\"<h3>{row['title']}</h3>\"))\n",
    "        display(HTML(f\"<p><b>Stars:</b> {row['stars']}</p>\"))\n",
    "        display(HTML(f\"<p><b>Price:</b> ${row['price']}</p>\"))\n",
    "        display(HTML(f\"<p><b>Category:</b> {row['category_name']}</p>\"))\n",
    "        display(HTML(f'<img src=\"{row[\"imgUrl\"]}\" alt=\"{row[\"title\"]}\" style=\"width:200px;height:200px; margin-top: 10px;\">'))\n",
    "        display(HTML(f\"<p style='margin-top: 10px;'><b>Distance:</b> {row['distance']}</p>\"))\n",
    "        display(HTML(\"</div>\"))\n"
   ]
  },
  {
   "cell_type": "code",
   "execution_count": 15,
   "id": "ec39c2fb",
   "metadata": {
    "execution": {
     "iopub.execute_input": "2024-06-04T03:12:16.636395Z",
     "iopub.status.busy": "2024-06-04T03:12:16.636118Z",
     "iopub.status.idle": "2024-06-04T03:12:17.573776Z",
     "shell.execute_reply": "2024-06-04T03:12:17.571580Z"
    },
    "papermill": {
     "duration": 0.947025,
     "end_time": "2024-06-04T03:12:17.576396",
     "exception": false,
     "start_time": "2024-06-04T03:12:16.629371",
     "status": "completed"
    },
    "tags": []
   },
   "outputs": [
    {
     "data": {
      "text/html": [
       "<div style='border: 1px solid #ccc; border-radius: 5px; padding: 10px; margin-bottom: 20px;'>"
      ],
      "text/plain": [
       "<IPython.core.display.HTML object>"
      ]
     },
     "metadata": {},
     "output_type": "display_data"
    },
    {
     "data": {
      "text/html": [
       "<h3>Winfield 2 Hardside Expandable Luggage with Spinner Wheels, Checked-Large 28-Inch, Deep Blue</h3>"
      ],
      "text/plain": [
       "<IPython.core.display.HTML object>"
      ]
     },
     "metadata": {},
     "output_type": "display_data"
    },
    {
     "data": {
      "text/html": [
       "<p><b>Stars:</b> 4.5</p>"
      ],
      "text/plain": [
       "<IPython.core.display.HTML object>"
      ]
     },
     "metadata": {},
     "output_type": "display_data"
    },
    {
     "data": {
      "text/html": [
       "<p><b>Price:</b> $174.99</p>"
      ],
      "text/plain": [
       "<IPython.core.display.HTML object>"
      ]
     },
     "metadata": {},
     "output_type": "display_data"
    },
    {
     "data": {
      "text/html": [
       "<p><b>Category:</b> Suitcases</p>"
      ],
      "text/plain": [
       "<IPython.core.display.HTML object>"
      ]
     },
     "metadata": {},
     "output_type": "display_data"
    },
    {
     "data": {
      "text/html": [
       "<img src=\"https://m.media-amazon.com/images/I/61NJoaZcP9L._AC_UL320_.jpg\" alt=\"Winfield 2 Hardside Expandable Luggage with Spinner Wheels, Checked-Large 28-Inch, Deep Blue\" style=\"width:200px;height:200px; margin-top: 10px;\">"
      ],
      "text/plain": [
       "<IPython.core.display.HTML object>"
      ]
     },
     "metadata": {},
     "output_type": "display_data"
    },
    {
     "data": {
      "text/html": [
       "<p style='margin-top: 10px;'><b>Distance:</b> 0.0</p>"
      ],
      "text/plain": [
       "<IPython.core.display.HTML object>"
      ]
     },
     "metadata": {},
     "output_type": "display_data"
    },
    {
     "data": {
      "text/html": [
       "</div>"
      ],
      "text/plain": [
       "<IPython.core.display.HTML object>"
      ]
     },
     "metadata": {},
     "output_type": "display_data"
    },
    {
     "data": {
      "text/html": [
       "<div style='border: 1px solid #ccc; border-radius: 5px; padding: 10px; margin-bottom: 20px;'>"
      ],
      "text/plain": [
       "<IPython.core.display.HTML object>"
      ]
     },
     "metadata": {},
     "output_type": "display_data"
    },
    {
     "data": {
      "text/html": [
       "<h3>Winfield 2 Hardside Expandable Luggage with Spinner Wheels (Teal, 2-Piece Set (20/28))</h3>"
      ],
      "text/plain": [
       "<IPython.core.display.HTML object>"
      ]
     },
     "metadata": {},
     "output_type": "display_data"
    },
    {
     "data": {
      "text/html": [
       "<p><b>Stars:</b> 4.3</p>"
      ],
      "text/plain": [
       "<IPython.core.display.HTML object>"
      ]
     },
     "metadata": {},
     "output_type": "display_data"
    },
    {
     "data": {
      "text/html": [
       "<p><b>Price:</b> $349.99</p>"
      ],
      "text/plain": [
       "<IPython.core.display.HTML object>"
      ]
     },
     "metadata": {},
     "output_type": "display_data"
    },
    {
     "data": {
      "text/html": [
       "<p><b>Category:</b> Luggage</p>"
      ],
      "text/plain": [
       "<IPython.core.display.HTML object>"
      ]
     },
     "metadata": {},
     "output_type": "display_data"
    },
    {
     "data": {
      "text/html": [
       "<img src=\"https://m.media-amazon.com/images/I/71EuU16FC-L._AC_UL320_.jpg\" alt=\"Winfield 2 Hardside Expandable Luggage with Spinner Wheels (Teal, 2-Piece Set (20/28))\" style=\"width:200px;height:200px; margin-top: 10px;\">"
      ],
      "text/plain": [
       "<IPython.core.display.HTML object>"
      ]
     },
     "metadata": {},
     "output_type": "display_data"
    },
    {
     "data": {
      "text/html": [
       "<p style='margin-top: 10px;'><b>Distance:</b> 0.24254115924454323</p>"
      ],
      "text/plain": [
       "<IPython.core.display.HTML object>"
      ]
     },
     "metadata": {},
     "output_type": "display_data"
    },
    {
     "data": {
      "text/html": [
       "</div>"
      ],
      "text/plain": [
       "<IPython.core.display.HTML object>"
      ]
     },
     "metadata": {},
     "output_type": "display_data"
    },
    {
     "data": {
      "text/html": [
       "<div style='border: 1px solid #ccc; border-radius: 5px; padding: 10px; margin-bottom: 20px;'>"
      ],
      "text/plain": [
       "<IPython.core.display.HTML object>"
      ]
     },
     "metadata": {},
     "output_type": "display_data"
    },
    {
     "data": {
      "text/html": [
       "<h3>Centric Hardside Expandable Luggage with Spinner Wheels, Black, Checked-Large 28-Inch</h3>"
      ],
      "text/plain": [
       "<IPython.core.display.HTML object>"
      ]
     },
     "metadata": {},
     "output_type": "display_data"
    },
    {
     "data": {
      "text/html": [
       "<p><b>Stars:</b> 4.5</p>"
      ],
      "text/plain": [
       "<IPython.core.display.HTML object>"
      ]
     },
     "metadata": {},
     "output_type": "display_data"
    },
    {
     "data": {
      "text/html": [
       "<p><b>Price:</b> $169.99</p>"
      ],
      "text/plain": [
       "<IPython.core.display.HTML object>"
      ]
     },
     "metadata": {},
     "output_type": "display_data"
    },
    {
     "data": {
      "text/html": [
       "<p><b>Category:</b> Luggage</p>"
      ],
      "text/plain": [
       "<IPython.core.display.HTML object>"
      ]
     },
     "metadata": {},
     "output_type": "display_data"
    },
    {
     "data": {
      "text/html": [
       "<img src=\"https://m.media-amazon.com/images/I/71ngO-fIn2L._AC_UL320_.jpg\" alt=\"Centric Hardside Expandable Luggage with Spinner Wheels, Black, Checked-Large 28-Inch\" style=\"width:200px;height:200px; margin-top: 10px;\">"
      ],
      "text/plain": [
       "<IPython.core.display.HTML object>"
      ]
     },
     "metadata": {},
     "output_type": "display_data"
    },
    {
     "data": {
      "text/html": [
       "<p style='margin-top: 10px;'><b>Distance:</b> 0.287622678748336</p>"
      ],
      "text/plain": [
       "<IPython.core.display.HTML object>"
      ]
     },
     "metadata": {},
     "output_type": "display_data"
    },
    {
     "data": {
      "text/html": [
       "</div>"
      ],
      "text/plain": [
       "<IPython.core.display.HTML object>"
      ]
     },
     "metadata": {},
     "output_type": "display_data"
    },
    {
     "data": {
      "text/html": [
       "<div style='border: 1px solid #ccc; border-radius: 5px; padding: 10px; margin-bottom: 20px;'>"
      ],
      "text/plain": [
       "<IPython.core.display.HTML object>"
      ]
     },
     "metadata": {},
     "output_type": "display_data"
    },
    {
     "data": {
      "text/html": [
       "<h3>Margot Hardside Expandable Luggage with Spinner Wheels, Black, Checked Large 28 Inch</h3>"
      ],
      "text/plain": [
       "<IPython.core.display.HTML object>"
      ]
     },
     "metadata": {},
     "output_type": "display_data"
    },
    {
     "data": {
      "text/html": [
       "<p><b>Stars:</b> 3.0</p>"
      ],
      "text/plain": [
       "<IPython.core.display.HTML object>"
      ]
     },
     "metadata": {},
     "output_type": "display_data"
    },
    {
     "data": {
      "text/html": [
       "<p><b>Price:</b> $169.99</p>"
      ],
      "text/plain": [
       "<IPython.core.display.HTML object>"
      ]
     },
     "metadata": {},
     "output_type": "display_data"
    },
    {
     "data": {
      "text/html": [
       "<p><b>Category:</b> Suitcases</p>"
      ],
      "text/plain": [
       "<IPython.core.display.HTML object>"
      ]
     },
     "metadata": {},
     "output_type": "display_data"
    },
    {
     "data": {
      "text/html": [
       "<img src=\"https://m.media-amazon.com/images/I/81hTnu9aQkL._AC_UL320_.jpg\" alt=\"Margot Hardside Expandable Luggage with Spinner Wheels, Black, Checked Large 28 Inch\" style=\"width:200px;height:200px; margin-top: 10px;\">"
      ],
      "text/plain": [
       "<IPython.core.display.HTML object>"
      ]
     },
     "metadata": {},
     "output_type": "display_data"
    },
    {
     "data": {
      "text/html": [
       "<p style='margin-top: 10px;'><b>Distance:</b> 0.3157184309103498</p>"
      ],
      "text/plain": [
       "<IPython.core.display.HTML object>"
      ]
     },
     "metadata": {},
     "output_type": "display_data"
    },
    {
     "data": {
      "text/html": [
       "</div>"
      ],
      "text/plain": [
       "<IPython.core.display.HTML object>"
      ]
     },
     "metadata": {},
     "output_type": "display_data"
    },
    {
     "data": {
      "text/html": [
       "<div style='border: 1px solid #ccc; border-radius: 5px; padding: 10px; margin-bottom: 20px;'>"
      ],
      "text/plain": [
       "<IPython.core.display.HTML object>"
      ]
     },
     "metadata": {},
     "output_type": "display_data"
    },
    {
     "data": {
      "text/html": [
       "<h3>Moonlight Hardside Expandable Luggage with Spinner Wheels, Black Marble, Checked-Large 28-Inch</h3>"
      ],
      "text/plain": [
       "<IPython.core.display.HTML object>"
      ]
     },
     "metadata": {},
     "output_type": "display_data"
    },
    {
     "data": {
      "text/html": [
       "<p><b>Stars:</b> 4.5</p>"
      ],
      "text/plain": [
       "<IPython.core.display.HTML object>"
      ]
     },
     "metadata": {},
     "output_type": "display_data"
    },
    {
     "data": {
      "text/html": [
       "<p><b>Price:</b> $139.99</p>"
      ],
      "text/plain": [
       "<IPython.core.display.HTML object>"
      ]
     },
     "metadata": {},
     "output_type": "display_data"
    },
    {
     "data": {
      "text/html": [
       "<p><b>Category:</b> Suitcases</p>"
      ],
      "text/plain": [
       "<IPython.core.display.HTML object>"
      ]
     },
     "metadata": {},
     "output_type": "display_data"
    },
    {
     "data": {
      "text/html": [
       "<img src=\"https://m.media-amazon.com/images/I/71kmLlCMzWL._AC_UL320_.jpg\" alt=\"Moonlight Hardside Expandable Luggage with Spinner Wheels, Black Marble, Checked-Large 28-Inch\" style=\"width:200px;height:200px; margin-top: 10px;\">"
      ],
      "text/plain": [
       "<IPython.core.display.HTML object>"
      ]
     },
     "metadata": {},
     "output_type": "display_data"
    },
    {
     "data": {
      "text/html": [
       "<p style='margin-top: 10px;'><b>Distance:</b> 0.3261613831700547</p>"
      ],
      "text/plain": [
       "<IPython.core.display.HTML object>"
      ]
     },
     "metadata": {},
     "output_type": "display_data"
    },
    {
     "data": {
      "text/html": [
       "</div>"
      ],
      "text/plain": [
       "<IPython.core.display.HTML object>"
      ]
     },
     "metadata": {},
     "output_type": "display_data"
    }
   ],
   "source": [
    "\n",
    "# Thử nghiệm hàm gợi ý sản phẩm theo ID\n",
    "product_id = \"B01DJLKZBA\"  # Thay thế bằng ID sản phẩm cụ thể\n",
    "recommend_products_by_id(product_id, num_recommendations=5)\n"
   ]
  },
  {
   "cell_type": "code",
   "execution_count": 16,
   "id": "b7f60120",
   "metadata": {
    "execution": {
     "iopub.execute_input": "2024-06-04T03:12:17.603210Z",
     "iopub.status.busy": "2024-06-04T03:12:17.602917Z",
     "iopub.status.idle": "2024-06-04T03:12:17.610484Z",
     "shell.execute_reply": "2024-06-04T03:12:17.609666Z"
    },
    "papermill": {
     "duration": 0.021377,
     "end_time": "2024-06-04T03:12:17.612393",
     "exception": false,
     "start_time": "2024-06-04T03:12:17.591016",
     "status": "completed"
    },
    "tags": []
   },
   "outputs": [],
   "source": [
    "from IPython.display import display, HTML\n",
    "\n",
    "def recommend_products_by_name(product_name, num_recommendations=5):\n",
    "    # Chuyển đổi tên sản phẩm sang vector TF-IDF\n",
    "    query_vector = vectorizer.transform([product_name])\n",
    "    \n",
    "    # Tìm kiếm các sản phẩm tương tự\n",
    "    distances, indices = nn_model.kneighbors(query_vector, n_neighbors=num_recommendations)\n",
    "    \n",
    "    # Lấy thông tin các sản phẩm được gợi ý\n",
    "    recommendations = merged_df.iloc[indices[0]].copy()\n",
    "    recommendations['distance'] = distances[0]\n",
    "    \n",
    "    # Hiển thị thông tin sản phẩm và hình ảnh\n",
    "    for index, row in recommendations.iterrows():\n",
    "        display(HTML(f\"<div style='border: 1px solid #ccc; border-radius: 5px; padding: 10px; margin-bottom: 20px;'>\"))\n",
    "        display(HTML(f\"<h3>{row['title']}</h3>\"))\n",
    "        display(HTML(f\"<p><b>Stars:</b> {row['stars']}</p>\"))\n",
    "        display(HTML(f\"<p><b>Price:</b> ${row['price']}</p>\"))\n",
    "        display(HTML(f\"<p><b>Category:</b> {row['category_name']}</p>\"))\n",
    "        display(HTML(f'<img src=\"{row[\"imgUrl\"]}\" alt=\"{row[\"title\"]}\" style=\"width:200px;height:200px; margin-top: 10px;\">'))\n",
    "        display(HTML(f\"<p style='margin-top: 10px;'><b>Distance:</b> {row['distance']}</p>\"))\n",
    "        display(HTML(\"</div>\"))\n",
    "\n"
   ]
  },
  {
   "cell_type": "code",
   "execution_count": 17,
   "id": "b23fdce9",
   "metadata": {
    "execution": {
     "iopub.execute_input": "2024-06-04T03:12:17.635505Z",
     "iopub.status.busy": "2024-06-04T03:12:17.635253Z",
     "iopub.status.idle": "2024-06-04T03:12:18.307980Z",
     "shell.execute_reply": "2024-06-04T03:12:18.307143Z"
    },
    "papermill": {
     "duration": 0.68824,
     "end_time": "2024-06-04T03:12:18.311638",
     "exception": false,
     "start_time": "2024-06-04T03:12:17.623398",
     "status": "completed"
    },
    "tags": []
   },
   "outputs": [
    {
     "data": {
      "text/html": [
       "<div style='border: 1px solid #ccc; border-radius: 5px; padding: 10px; margin-bottom: 20px;'>"
      ],
      "text/plain": [
       "<IPython.core.display.HTML object>"
      ]
     },
     "metadata": {},
     "output_type": "display_data"
    },
    {
     "data": {
      "text/html": [
       "<h3>Xpedition 30 Inch Multi-Pocket Upright Rolling Duffel Bag</h3>"
      ],
      "text/plain": [
       "<IPython.core.display.HTML object>"
      ]
     },
     "metadata": {},
     "output_type": "display_data"
    },
    {
     "data": {
      "text/html": [
       "<p><b>Stars:</b> 4.3</p>"
      ],
      "text/plain": [
       "<IPython.core.display.HTML object>"
      ]
     },
     "metadata": {},
     "output_type": "display_data"
    },
    {
     "data": {
      "text/html": [
       "<p><b>Price:</b> $31.84</p>"
      ],
      "text/plain": [
       "<IPython.core.display.HTML object>"
      ]
     },
     "metadata": {},
     "output_type": "display_data"
    },
    {
     "data": {
      "text/html": [
       "<p><b>Category:</b> Travel Duffel Bags</p>"
      ],
      "text/plain": [
       "<IPython.core.display.HTML object>"
      ]
     },
     "metadata": {},
     "output_type": "display_data"
    },
    {
     "data": {
      "text/html": [
       "<img src=\"https://m.media-amazon.com/images/I/71cr0xT-TaL._AC_UL320_.jpg\" alt=\"Xpedition 30 Inch Multi-Pocket Upright Rolling Duffel Bag\" style=\"width:200px;height:200px; margin-top: 10px;\">"
      ],
      "text/plain": [
       "<IPython.core.display.HTML object>"
      ]
     },
     "metadata": {},
     "output_type": "display_data"
    },
    {
     "data": {
      "text/html": [
       "<p style='margin-top: 10px;'><b>Distance:</b> 0.0</p>"
      ],
      "text/plain": [
       "<IPython.core.display.HTML object>"
      ]
     },
     "metadata": {},
     "output_type": "display_data"
    },
    {
     "data": {
      "text/html": [
       "</div>"
      ],
      "text/plain": [
       "<IPython.core.display.HTML object>"
      ]
     },
     "metadata": {},
     "output_type": "display_data"
    },
    {
     "data": {
      "text/html": [
       "<div style='border: 1px solid #ccc; border-radius: 5px; padding: 10px; margin-bottom: 20px;'>"
      ],
      "text/plain": [
       "<IPython.core.display.HTML object>"
      ]
     },
     "metadata": {},
     "output_type": "display_data"
    },
    {
     "data": {
      "text/html": [
       "<h3>Xpedition 30 Inch Multi-Pocket Upright Rolling Duffel Bag</h3>"
      ],
      "text/plain": [
       "<IPython.core.display.HTML object>"
      ]
     },
     "metadata": {},
     "output_type": "display_data"
    },
    {
     "data": {
      "text/html": [
       "<p><b>Stars:</b> 4.3</p>"
      ],
      "text/plain": [
       "<IPython.core.display.HTML object>"
      ]
     },
     "metadata": {},
     "output_type": "display_data"
    },
    {
     "data": {
      "text/html": [
       "<p><b>Price:</b> $42.0</p>"
      ],
      "text/plain": [
       "<IPython.core.display.HTML object>"
      ]
     },
     "metadata": {},
     "output_type": "display_data"
    },
    {
     "data": {
      "text/html": [
       "<p><b>Category:</b> Suitcases</p>"
      ],
      "text/plain": [
       "<IPython.core.display.HTML object>"
      ]
     },
     "metadata": {},
     "output_type": "display_data"
    },
    {
     "data": {
      "text/html": [
       "<img src=\"https://m.media-amazon.com/images/I/81QKjgbsq4L._AC_UL320_.jpg\" alt=\"Xpedition 30 Inch Multi-Pocket Upright Rolling Duffel Bag\" style=\"width:200px;height:200px; margin-top: 10px;\">"
      ],
      "text/plain": [
       "<IPython.core.display.HTML object>"
      ]
     },
     "metadata": {},
     "output_type": "display_data"
    },
    {
     "data": {
      "text/html": [
       "<p style='margin-top: 10px;'><b>Distance:</b> 0.0</p>"
      ],
      "text/plain": [
       "<IPython.core.display.HTML object>"
      ]
     },
     "metadata": {},
     "output_type": "display_data"
    },
    {
     "data": {
      "text/html": [
       "</div>"
      ],
      "text/plain": [
       "<IPython.core.display.HTML object>"
      ]
     },
     "metadata": {},
     "output_type": "display_data"
    },
    {
     "data": {
      "text/html": [
       "<div style='border: 1px solid #ccc; border-radius: 5px; padding: 10px; margin-bottom: 20px;'>"
      ],
      "text/plain": [
       "<IPython.core.display.HTML object>"
      ]
     },
     "metadata": {},
     "output_type": "display_data"
    },
    {
     "data": {
      "text/html": [
       "<h3>8 Pocket Rolling Duffel Bag, Black, 22 inch</h3>"
      ],
      "text/plain": [
       "<IPython.core.display.HTML object>"
      ]
     },
     "metadata": {},
     "output_type": "display_data"
    },
    {
     "data": {
      "text/html": [
       "<p><b>Stars:</b> 4.5</p>"
      ],
      "text/plain": [
       "<IPython.core.display.HTML object>"
      ]
     },
     "metadata": {},
     "output_type": "display_data"
    },
    {
     "data": {
      "text/html": [
       "<p><b>Price:</b> $64.09</p>"
      ],
      "text/plain": [
       "<IPython.core.display.HTML object>"
      ]
     },
     "metadata": {},
     "output_type": "display_data"
    },
    {
     "data": {
      "text/html": [
       "<p><b>Category:</b> Travel Duffel Bags</p>"
      ],
      "text/plain": [
       "<IPython.core.display.HTML object>"
      ]
     },
     "metadata": {},
     "output_type": "display_data"
    },
    {
     "data": {
      "text/html": [
       "<img src=\"https://m.media-amazon.com/images/I/61bj7FT9C5L._AC_UL320_.jpg\" alt=\"8 Pocket Rolling Duffel Bag, Black, 22 inch\" style=\"width:200px;height:200px; margin-top: 10px;\">"
      ],
      "text/plain": [
       "<IPython.core.display.HTML object>"
      ]
     },
     "metadata": {},
     "output_type": "display_data"
    },
    {
     "data": {
      "text/html": [
       "<p style='margin-top: 10px;'><b>Distance:</b> 0.4414375259077685</p>"
      ],
      "text/plain": [
       "<IPython.core.display.HTML object>"
      ]
     },
     "metadata": {},
     "output_type": "display_data"
    },
    {
     "data": {
      "text/html": [
       "</div>"
      ],
      "text/plain": [
       "<IPython.core.display.HTML object>"
      ]
     },
     "metadata": {},
     "output_type": "display_data"
    },
    {
     "data": {
      "text/html": [
       "<div style='border: 1px solid #ccc; border-radius: 5px; padding: 10px; margin-bottom: 20px;'>"
      ],
      "text/plain": [
       "<IPython.core.display.HTML object>"
      ]
     },
     "metadata": {},
     "output_type": "display_data"
    },
    {
     "data": {
      "text/html": [
       "<h3>Rolling Duffel Bag, Charcoal, 30-Inch</h3>"
      ],
      "text/plain": [
       "<IPython.core.display.HTML object>"
      ]
     },
     "metadata": {},
     "output_type": "display_data"
    },
    {
     "data": {
      "text/html": [
       "<p><b>Stars:</b> 4.0</p>"
      ],
      "text/plain": [
       "<IPython.core.display.HTML object>"
      ]
     },
     "metadata": {},
     "output_type": "display_data"
    },
    {
     "data": {
      "text/html": [
       "<p><b>Price:</b> $35.49</p>"
      ],
      "text/plain": [
       "<IPython.core.display.HTML object>"
      ]
     },
     "metadata": {},
     "output_type": "display_data"
    },
    {
     "data": {
      "text/html": [
       "<p><b>Category:</b> Travel Duffel Bags</p>"
      ],
      "text/plain": [
       "<IPython.core.display.HTML object>"
      ]
     },
     "metadata": {},
     "output_type": "display_data"
    },
    {
     "data": {
      "text/html": [
       "<img src=\"https://m.media-amazon.com/images/I/81ZUsE7ctOL._AC_UL320_.jpg\" alt=\"Rolling Duffel Bag, Charcoal, 30-Inch\" style=\"width:200px;height:200px; margin-top: 10px;\">"
      ],
      "text/plain": [
       "<IPython.core.display.HTML object>"
      ]
     },
     "metadata": {},
     "output_type": "display_data"
    },
    {
     "data": {
      "text/html": [
       "<p style='margin-top: 10px;'><b>Distance:</b> 0.45036372007615766</p>"
      ],
      "text/plain": [
       "<IPython.core.display.HTML object>"
      ]
     },
     "metadata": {},
     "output_type": "display_data"
    },
    {
     "data": {
      "text/html": [
       "</div>"
      ],
      "text/plain": [
       "<IPython.core.display.HTML object>"
      ]
     },
     "metadata": {},
     "output_type": "display_data"
    },
    {
     "data": {
      "text/html": [
       "<div style='border: 1px solid #ccc; border-radius: 5px; padding: 10px; margin-bottom: 20px;'>"
      ],
      "text/plain": [
       "<IPython.core.display.HTML object>"
      ]
     },
     "metadata": {},
     "output_type": "display_data"
    },
    {
     "data": {
      "text/html": [
       "<h3>Rolling Duffel Bag</h3>"
      ],
      "text/plain": [
       "<IPython.core.display.HTML object>"
      ]
     },
     "metadata": {},
     "output_type": "display_data"
    },
    {
     "data": {
      "text/html": [
       "<p><b>Stars:</b> 4.2</p>"
      ],
      "text/plain": [
       "<IPython.core.display.HTML object>"
      ]
     },
     "metadata": {},
     "output_type": "display_data"
    },
    {
     "data": {
      "text/html": [
       "<p><b>Price:</b> $20.49</p>"
      ],
      "text/plain": [
       "<IPython.core.display.HTML object>"
      ]
     },
     "metadata": {},
     "output_type": "display_data"
    },
    {
     "data": {
      "text/html": [
       "<p><b>Category:</b> Travel Duffel Bags</p>"
      ],
      "text/plain": [
       "<IPython.core.display.HTML object>"
      ]
     },
     "metadata": {},
     "output_type": "display_data"
    },
    {
     "data": {
      "text/html": [
       "<img src=\"https://m.media-amazon.com/images/I/71P6GKzNS6L._AC_UL320_.jpg\" alt=\"Rolling Duffel Bag\" style=\"width:200px;height:200px; margin-top: 10px;\">"
      ],
      "text/plain": [
       "<IPython.core.display.HTML object>"
      ]
     },
     "metadata": {},
     "output_type": "display_data"
    },
    {
     "data": {
      "text/html": [
       "<p style='margin-top: 10px;'><b>Distance:</b> 0.4521129239862657</p>"
      ],
      "text/plain": [
       "<IPython.core.display.HTML object>"
      ]
     },
     "metadata": {},
     "output_type": "display_data"
    },
    {
     "data": {
      "text/html": [
       "</div>"
      ],
      "text/plain": [
       "<IPython.core.display.HTML object>"
      ]
     },
     "metadata": {},
     "output_type": "display_data"
    }
   ],
   "source": [
    "# Sử dụng hàm với tên sản phẩm cụ thể\n",
    "product_name = \"Xpedition 30 Inch Multi-Pocket Upright Rolling Duffel Bag\"  # Thay thế bằng tên sản phẩm cụ thể\n",
    "recommend_products_by_name(product_name, num_recommendations=5)\n"
   ]
  }
 ],
 "metadata": {
  "kaggle": {
   "accelerator": "gpu",
   "dataSources": [
    {
     "datasetId": 3798081,
     "sourceId": 7643327,
     "sourceType": "datasetVersion"
    }
   ],
   "dockerImageVersionId": 30716,
   "isGpuEnabled": true,
   "isInternetEnabled": true,
   "language": "python",
   "sourceType": "notebook"
  },
  "kernelspec": {
   "display_name": "Python [conda env:base] *",
   "language": "python",
   "name": "conda-base-py"
  },
  "language_info": {
   "codemirror_mode": {
    "name": "ipython",
    "version": 3
   },
   "file_extension": ".py",
   "mimetype": "text/x-python",
   "name": "python",
   "nbconvert_exporter": "python",
   "pygments_lexer": "ipython3",
   "version": "3.12.7"
  },
  "papermill": {
   "default_parameters": {},
   "duration": 58.505176,
   "end_time": "2024-06-04T03:12:19.049927",
   "environment_variables": {},
   "exception": null,
   "input_path": "__notebook__.ipynb",
   "output_path": "__notebook__.ipynb",
   "parameters": {},
   "start_time": "2024-06-04T03:11:20.544751",
   "version": "2.5.0"
  }
 },
 "nbformat": 4,
 "nbformat_minor": 5
}
